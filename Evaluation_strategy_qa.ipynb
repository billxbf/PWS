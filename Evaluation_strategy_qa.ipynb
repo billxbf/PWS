{
 "cells": [
  {
   "cell_type": "code",
   "execution_count": 1,
   "outputs": [],
   "source": [
    "import os\n",
    "\n",
    "import pandas as pd\n",
    "\n",
    "with open(\"/home/billxbf/Documents/myks/openai.key\", \"r\") as f:\n",
    "    keys = f.readlines()\n",
    "    os.environ[\"OPENAI_API_KEY\"] = keys[0].strip()\n",
    "with open(\"/home/billxbf/Documents/myks/serpapi.key\", \"r\") as f:\n",
    "    keys = f.readlines()\n",
    "    os.environ[\"SERPAPI_API_KEY\"] = keys[0].strip()\n",
    "with open(\"/home/billxbf/Documents/myks/wolfram.key\", \"r\") as f:\n",
    "    keys = f.readlines()\n",
    "    os.environ[\"WOLFRAM_ALPHA_APPID\"] = keys[0].strip()"
   ],
   "metadata": {
    "collapsed": false,
    "ExecuteTime": {
     "start_time": "2023-04-30T15:46:13.243311Z",
     "end_time": "2023-04-30T15:46:13.369806Z"
    }
   }
  },
  {
   "cell_type": "code",
   "execution_count": 1,
   "outputs": [],
   "source": [],
   "metadata": {
    "collapsed": false,
    "ExecuteTime": {
     "start_time": "2023-04-30T15:46:13.407597Z",
     "end_time": "2023-04-30T15:46:13.459033Z"
    }
   }
  },
  {
   "cell_type": "code",
   "execution_count": 2,
   "outputs": [],
   "source": [
    "from utils.DataLoader import DataLoader\n",
    "from utils.Evaluator import Evaluator\n",
    "from algos.PWS import *\n",
    "from algos.react import ReactBase, ReactExtraTool\n",
    "from algos.notool import IO, CoT\n",
    "from prompts import fewshots, solver, planner"
   ],
   "metadata": {
    "collapsed": false,
    "ExecuteTime": {
     "start_time": "2023-04-30T15:46:13.575140Z",
     "end_time": "2023-04-30T15:46:14.048419Z"
    }
   }
  },
  {
   "cell_type": "code",
   "execution_count": 3,
   "outputs": [],
   "source": [
    "def save_data(dataset, data, save_path):\n",
    "    dataset[\"label\"] = data[\"label\"]\n",
    "    dataset[\"preds\"] = data[\"preds\"]\n",
    "    dataset[\"em\"]  = data[\"em\"]\n",
    "    dataset[\"f1\"] = data[\"f1\"]\n",
    "    dataset[\"acc\"] = data[\"acc\"]\n",
    "    dataset[\"wall_time\"] = data[\"wall_time\"]\n",
    "    dataset[\"total_tokens\"] = data[\"total_tokens\"]\n",
    "    dataset[\"steps\"] = data[\"steps\"]\n",
    "    dataset[\"tool_cost\"] = data[\"tool_cost\"]\n",
    "    dataset[\"token_cost\"] = data[\"token_cost\"]\n",
    "    dataset[\"total_cost\"] = data[\"total_cost\"]\n",
    "    dataset.to_csv(save_path, index=False)\n",
    "    return dataset"
   ],
   "metadata": {
    "collapsed": false,
    "ExecuteTime": {
     "start_time": "2023-04-30T15:46:14.052248Z",
     "end_time": "2023-04-30T15:46:14.099417Z"
    }
   }
  },
  {
   "cell_type": "code",
   "execution_count": 4,
   "outputs": [],
   "source": [
    "EVAL_LLM = \"gpt-3.5-turbo\"\n",
    "EVAL_DATASET = \"strategy_qa\"\n",
    "SEED = 2024\n",
    "SAVE_DIR = \"results/strategy_qa_{}_{}.csv\""
   ],
   "metadata": {
    "collapsed": false,
    "ExecuteTime": {
     "start_time": "2023-04-30T15:46:14.386430Z",
     "end_time": "2023-04-30T15:46:14.394749Z"
    }
   }
  },
  {
   "cell_type": "markdown",
   "source": [
    "## Standard IO"
   ],
   "metadata": {
    "collapsed": false
   }
  },
  {
   "cell_type": "code",
   "execution_count": 11,
   "outputs": [],
   "source": [
    "dataset = DataLoader(EVAL_DATASET, seed=SEED).load(sample_size=300)\n",
    "io = IO(model_name=EVAL_LLM)\n",
    "eval = Evaluator(task=EVAL_DATASET, dataset=dataset, algo=io)"
   ],
   "metadata": {
    "collapsed": false,
    "ExecuteTime": {
     "start_time": "2023-04-30T16:11:04.864320Z",
     "end_time": "2023-04-30T16:11:04.873845Z"
    }
   }
  },
  {
   "cell_type": "code",
   "execution_count": 12,
   "outputs": [
    {
     "name": "stdout",
     "output_type": "stream",
     "text": [
      "\n",
      "******************* Start Evaluation *******************\n",
      "\n"
     ]
    },
    {
     "name": "stderr",
     "output_type": "stream",
     "text": [
      "100%|██████████| 300/300 [11:57<00:00,  2.39s/it]\n"
     ]
    },
    {
     "data": {
      "text/plain": "{'avg_em': 0.6533333333333333,\n 'avg_f1': 0.6533333333333333,\n 'avg_acc': 0.6566666666666666,\n 'avg_wall_time': 0.6874453552563985,\n 'avg_total_tokens': 44.25,\n 'avg_total_cost': 8.85e-05,\n 'avg_steps': 1.0,\n 'avg_token_cost': 8.85e-05,\n 'avg_tool_cost': 0.0}"
     },
     "execution_count": 12,
     "metadata": {},
     "output_type": "execute_result"
    }
   ],
   "source": [
    "response, data = eval.run()\n",
    "df = save_data(dataset, data, SAVE_DIR.format(\"io\", EVAL_LLM))\n",
    "response"
   ],
   "metadata": {
    "collapsed": false,
    "ExecuteTime": {
     "start_time": "2023-04-30T16:11:08.475620Z",
     "end_time": "2023-04-30T16:23:06.410248Z"
    }
   }
  },
  {
   "cell_type": "code",
   "execution_count": 21,
   "outputs": [
    {
     "data": {
      "text/plain": "                                               input target label  \\\n0  Answer with Yes or No: Can you use the T-Mobil...     No    No   \n1  Answer with Yes or No: Is the Holy Land import...     No    No   \n2  Answer with Yes or No: Could  jockey win Tripl...     No    No   \n3  Answer with Yes or No: Do Star Wars fans say \"...     No    No   \n4  Answer with Yes or No: Would a Durian be dange...    Yes   Yes   \n\n                                               preds     em   f1  acc  \\\n0                                                No.   True  1.0    1   \n1                                               Yes.  False  0.0    0   \n2  I'm sorry, as an AI language model, I cannot p...  False  0.0    0   \n3                                                No.   True  1.0    1   \n4                                               Yes.   True  1.0    1   \n\n   wall_time  total_tokens  steps  tool_cost  token_cost  total_cost  \n0   0.739054            46      1          0    0.000092    0.000092  \n1   0.682858            36      1          0    0.000072    0.000072  \n2   2.380594            75      1          0    0.000150    0.000150  \n3   0.722619            39      1          0    0.000078    0.000078  \n4   0.404635            40      1          0    0.000080    0.000080  ",
      "text/html": "<div>\n<style scoped>\n    .dataframe tbody tr th:only-of-type {\n        vertical-align: middle;\n    }\n\n    .dataframe tbody tr th {\n        vertical-align: top;\n    }\n\n    .dataframe thead th {\n        text-align: right;\n    }\n</style>\n<table border=\"1\" class=\"dataframe\">\n  <thead>\n    <tr style=\"text-align: right;\">\n      <th></th>\n      <th>input</th>\n      <th>target</th>\n      <th>label</th>\n      <th>preds</th>\n      <th>em</th>\n      <th>f1</th>\n      <th>acc</th>\n      <th>wall_time</th>\n      <th>total_tokens</th>\n      <th>steps</th>\n      <th>tool_cost</th>\n      <th>token_cost</th>\n      <th>total_cost</th>\n    </tr>\n  </thead>\n  <tbody>\n    <tr>\n      <th>0</th>\n      <td>Answer with Yes or No: Can you use the T-Mobil...</td>\n      <td>No</td>\n      <td>No</td>\n      <td>No.</td>\n      <td>True</td>\n      <td>1.0</td>\n      <td>1</td>\n      <td>0.739054</td>\n      <td>46</td>\n      <td>1</td>\n      <td>0</td>\n      <td>0.000092</td>\n      <td>0.000092</td>\n    </tr>\n    <tr>\n      <th>1</th>\n      <td>Answer with Yes or No: Is the Holy Land import...</td>\n      <td>No</td>\n      <td>No</td>\n      <td>Yes.</td>\n      <td>False</td>\n      <td>0.0</td>\n      <td>0</td>\n      <td>0.682858</td>\n      <td>36</td>\n      <td>1</td>\n      <td>0</td>\n      <td>0.000072</td>\n      <td>0.000072</td>\n    </tr>\n    <tr>\n      <th>2</th>\n      <td>Answer with Yes or No: Could  jockey win Tripl...</td>\n      <td>No</td>\n      <td>No</td>\n      <td>I'm sorry, as an AI language model, I cannot p...</td>\n      <td>False</td>\n      <td>0.0</td>\n      <td>0</td>\n      <td>2.380594</td>\n      <td>75</td>\n      <td>1</td>\n      <td>0</td>\n      <td>0.000150</td>\n      <td>0.000150</td>\n    </tr>\n    <tr>\n      <th>3</th>\n      <td>Answer with Yes or No: Do Star Wars fans say \"...</td>\n      <td>No</td>\n      <td>No</td>\n      <td>No.</td>\n      <td>True</td>\n      <td>1.0</td>\n      <td>1</td>\n      <td>0.722619</td>\n      <td>39</td>\n      <td>1</td>\n      <td>0</td>\n      <td>0.000078</td>\n      <td>0.000078</td>\n    </tr>\n    <tr>\n      <th>4</th>\n      <td>Answer with Yes or No: Would a Durian be dange...</td>\n      <td>Yes</td>\n      <td>Yes</td>\n      <td>Yes.</td>\n      <td>True</td>\n      <td>1.0</td>\n      <td>1</td>\n      <td>0.404635</td>\n      <td>40</td>\n      <td>1</td>\n      <td>0</td>\n      <td>0.000080</td>\n      <td>0.000080</td>\n    </tr>\n  </tbody>\n</table>\n</div>"
     },
     "execution_count": 21,
     "metadata": {},
     "output_type": "execute_result"
    }
   ],
   "source": [
    "df.head()"
   ],
   "metadata": {
    "collapsed": false,
    "ExecuteTime": {
     "start_time": "2023-04-30T03:09:46.515251Z",
     "end_time": "2023-04-30T03:09:46.516949Z"
    }
   }
  },
  {
   "cell_type": "markdown",
   "source": [
    "## CoT"
   ],
   "metadata": {
    "collapsed": false
   }
  },
  {
   "cell_type": "code",
   "execution_count": 7,
   "outputs": [],
   "source": [
    "dataset = DataLoader(EVAL_DATASET, seed=SEED).load(150)\n",
    "cot = CoT(fewshot=fewshots.TRIVIAQA_COT, model_name=EVAL_LLM)\n",
    "eval = Evaluator(task=EVAL_DATASET, dataset=dataset, algo=cot)"
   ],
   "metadata": {
    "collapsed": false,
    "ExecuteTime": {
     "start_time": "2023-04-30T13:27:18.788212Z",
     "end_time": "2023-04-30T13:27:18.795050Z"
    }
   }
  },
  {
   "cell_type": "code",
   "execution_count": 23,
   "outputs": [
    {
     "name": "stdout",
     "output_type": "stream",
     "text": [
      "\n",
      "******************* Start Evaluation *******************\n",
      "\n"
     ]
    },
    {
     "name": "stderr",
     "output_type": "stream",
     "text": [
      "100%|██████████| 150/150 [11:46<00:00,  4.71s/it]\n"
     ]
    },
    {
     "data": {
      "text/plain": "{'avg_em': 0.5066666666666667,\n 'avg_f1': 0.5066666666666667,\n 'avg_acc': 0.56,\n 'avg_wall_time': 2.8668559885025022,\n 'avg_total_tokens': 170.56666666666666,\n 'avg_total_cost': 0.0003411333333333333,\n 'avg_steps': 0.8533333333333334,\n 'avg_token_cost': 0.0003411333333333333,\n 'avg_tool_cost': 0.0}"
     },
     "execution_count": 23,
     "metadata": {},
     "output_type": "execute_result"
    }
   ],
   "source": [
    "response, data = eval.run()\n",
    "df = save_data(dataset, data, SAVE_DIR.format(\"cot\", EVAL_LLM))\n",
    "response"
   ],
   "metadata": {
    "collapsed": false,
    "ExecuteTime": {
     "start_time": "2023-04-30T03:14:23.281372Z",
     "end_time": "2023-04-30T03:26:10.215493Z"
    }
   }
  },
  {
   "cell_type": "code",
   "execution_count": null,
   "outputs": [],
   "source": [
    "df.head()"
   ],
   "metadata": {
    "collapsed": false,
    "ExecuteTime": {
     "start_time": "2023-04-28T03:43:26.665970Z",
     "end_time": "2023-04-28T03:43:26.668651Z"
    }
   }
  },
  {
   "cell_type": "code",
   "execution_count": 11,
   "outputs": [
    {
     "data": {
      "text/plain": "{'wall_time': 0.677175760269165,\n 'input': \"Answer following questions. Let's think step by step. Give your reasoning process, and then answer the question in a new line directly with no extra words.\\nWhat is the name of the river on which Bakewell stands?\\nStep 1: Identify the location of Bakewell.\\nBakewell is a small town in Derbyshire, England.\\nStep 2: Search for the river that passes through Bakewell.\\nThe River Wye flows through the town.\\nAnswer: River Wye\\nAnswer with Yes or No: Can you use the T-Mobile tuesdays app if you aren't a T-Mobile customer?\\n\",\n 'output': 'No',\n 'prompt_tokens': 131,\n 'completion_tokens': 1,\n 'total_tokens': 132,\n 'token_cost': 0.0026400000000000004,\n 'tool_cost': 0,\n 'total_cost': 0.0026400000000000004,\n 'steps': 0}"
     },
     "execution_count": 11,
     "metadata": {},
     "output_type": "execute_result"
    }
   ],
   "source": [
    "cot = CoT(fewshot=fewshots.TRIVIAQA_COT, model_name=\"text-davinci-003\")\n",
    "cot.run(dataset[\"input\"][0])"
   ],
   "metadata": {
    "collapsed": false,
    "ExecuteTime": {
     "start_time": "2023-04-30T13:30:48.853277Z",
     "end_time": "2023-04-30T13:30:49.531766Z"
    }
   }
  },
  {
   "cell_type": "code",
   "execution_count": null,
   "outputs": [],
   "source": [],
   "metadata": {
    "collapsed": false
   }
  },
  {
   "cell_type": "markdown",
   "source": [
    "## REACT"
   ],
   "metadata": {
    "collapsed": false
   }
  },
  {
   "cell_type": "markdown",
   "source": [],
   "metadata": {
    "collapsed": false
   }
  },
  {
   "cell_type": "code",
   "execution_count": 17,
   "outputs": [
    {
     "data": {
      "text/plain": "                                               input     target      label  \\\n0  Determine the plausibility of the following st...  plausible  plausible   \n\n         preds     em  f1  acc  wall_time  total_tokens  steps  tool_cost  \\\n0  Implausible  False   0    0   4.431216          1931      3          0   \n\n   token_cost  total_cost  \n0     0.03862     0.03862  ",
      "text/html": "<div>\n<style scoped>\n    .dataframe tbody tr th:only-of-type {\n        vertical-align: middle;\n    }\n\n    .dataframe tbody tr th {\n        vertical-align: top;\n    }\n\n    .dataframe thead th {\n        text-align: right;\n    }\n</style>\n<table border=\"1\" class=\"dataframe\">\n  <thead>\n    <tr style=\"text-align: right;\">\n      <th></th>\n      <th>input</th>\n      <th>target</th>\n      <th>label</th>\n      <th>preds</th>\n      <th>em</th>\n      <th>f1</th>\n      <th>acc</th>\n      <th>wall_time</th>\n      <th>total_tokens</th>\n      <th>steps</th>\n      <th>tool_cost</th>\n      <th>token_cost</th>\n      <th>total_cost</th>\n    </tr>\n  </thead>\n  <tbody>\n    <tr>\n      <th>0</th>\n      <td>Determine the plausibility of the following st...</td>\n      <td>plausible</td>\n      <td>plausible</td>\n      <td>Implausible</td>\n      <td>False</td>\n      <td>0</td>\n      <td>0</td>\n      <td>4.431216</td>\n      <td>1931</td>\n      <td>3</td>\n      <td>0</td>\n      <td>0.03862</td>\n      <td>0.03862</td>\n    </tr>\n  </tbody>\n</table>\n</div>"
     },
     "execution_count": 17,
     "metadata": {},
     "output_type": "execute_result"
    }
   ],
   "source": [
    "dataset"
   ],
   "metadata": {
    "collapsed": false,
    "ExecuteTime": {
     "start_time": "2023-04-30T15:44:17.469073Z",
     "end_time": "2023-04-30T15:44:17.474679Z"
    }
   }
  },
  {
   "cell_type": "code",
   "execution_count": 7,
   "outputs": [],
   "source": [
    "dataset = DataLoader(EVAL_DATASET, seed=SEED).load(150)\n",
    "react = ReactExtraTool(model_name=\"text-davinci-003\", available_tools=[\"Google\", \"Wikipedia\", \"WolframAlpha\", \"Calculator\", \"LLM\"], fewshot=fewshots.GSM8K_REACT, verbose=False)\n",
    "eval = Evaluator(task=EVAL_DATASET, dataset=dataset, algo=react)"
   ],
   "metadata": {
    "collapsed": false,
    "ExecuteTime": {
     "start_time": "2023-04-30T15:46:42.733632Z",
     "end_time": "2023-04-30T15:46:42.743308Z"
    }
   }
  },
  {
   "cell_type": "code",
   "execution_count": 8,
   "outputs": [
    {
     "name": "stdout",
     "output_type": "stream",
     "text": [
      "\n",
      "******************* Start Evaluation *******************\n",
      "\n"
     ]
    },
    {
     "name": "stderr",
     "output_type": "stream",
     "text": [
      "100%|██████████| 150/150 [22:07<00:00,  8.85s/it]\n"
     ]
    },
    {
     "data": {
      "text/plain": "{'avg_em': 0.6466666666666666,\n 'avg_f1': 0.6466666666666666,\n 'avg_acc': 0.6466666666666666,\n 'avg_wall_time': 7.106342790921529,\n 'avg_total_tokens': 1686.32,\n 'avg_total_cost': 0.03372064,\n 'avg_steps': 2.5866666666666664,\n 'avg_token_cost': 0.03372064,\n 'avg_tool_cost': 0.0}"
     },
     "execution_count": 8,
     "metadata": {},
     "output_type": "execute_result"
    }
   ],
   "source": [
    "response, data = eval.run()\n",
    "df = save_data(dataset, data, SAVE_DIR.format(\"react\", EVAL_LLM))\n",
    "response"
   ],
   "metadata": {
    "collapsed": false,
    "ExecuteTime": {
     "start_time": "2023-04-30T15:46:42.947137Z",
     "end_time": "2023-04-30T16:08:50.219581Z"
    }
   }
  },
  {
   "cell_type": "code",
   "execution_count": 9,
   "outputs": [
    {
     "data": {
      "text/plain": "                                               input target label preds  \\\n0  Answer with 'Yes' or 'No': Can you use the T-M...     No    No    No   \n1  Answer with 'Yes' or 'No': Is the Holy Land im...     No    No   Yes   \n2  Answer with 'Yes' or 'No': Could  jockey win T...     No    No    No   \n3  Answer with 'Yes' or 'No': Do Star Wars fans s...     No    No    No   \n4  Answer with 'Yes' or 'No': Would a Durian be d...    Yes   Yes   Yes   \n\n      em   f1  acc  wall_time  total_tokens  steps  tool_cost  token_cost  \\\n0   True  1.0    1   3.935129          1279      2          0     0.02558   \n1  False  0.0    0   6.141816          1179      2          0     0.02358   \n2   True  1.0    1   6.688570          1204      2          0     0.02408   \n3   True  1.0    1   4.330515          1209      2          0     0.02418   \n4   True  1.0    1   3.417613          1194      2          0     0.02388   \n\n   total_cost  \n0     0.02558  \n1     0.02358  \n2     0.02408  \n3     0.02418  \n4     0.02388  ",
      "text/html": "<div>\n<style scoped>\n    .dataframe tbody tr th:only-of-type {\n        vertical-align: middle;\n    }\n\n    .dataframe tbody tr th {\n        vertical-align: top;\n    }\n\n    .dataframe thead th {\n        text-align: right;\n    }\n</style>\n<table border=\"1\" class=\"dataframe\">\n  <thead>\n    <tr style=\"text-align: right;\">\n      <th></th>\n      <th>input</th>\n      <th>target</th>\n      <th>label</th>\n      <th>preds</th>\n      <th>em</th>\n      <th>f1</th>\n      <th>acc</th>\n      <th>wall_time</th>\n      <th>total_tokens</th>\n      <th>steps</th>\n      <th>tool_cost</th>\n      <th>token_cost</th>\n      <th>total_cost</th>\n    </tr>\n  </thead>\n  <tbody>\n    <tr>\n      <th>0</th>\n      <td>Answer with 'Yes' or 'No': Can you use the T-M...</td>\n      <td>No</td>\n      <td>No</td>\n      <td>No</td>\n      <td>True</td>\n      <td>1.0</td>\n      <td>1</td>\n      <td>3.935129</td>\n      <td>1279</td>\n      <td>2</td>\n      <td>0</td>\n      <td>0.02558</td>\n      <td>0.02558</td>\n    </tr>\n    <tr>\n      <th>1</th>\n      <td>Answer with 'Yes' or 'No': Is the Holy Land im...</td>\n      <td>No</td>\n      <td>No</td>\n      <td>Yes</td>\n      <td>False</td>\n      <td>0.0</td>\n      <td>0</td>\n      <td>6.141816</td>\n      <td>1179</td>\n      <td>2</td>\n      <td>0</td>\n      <td>0.02358</td>\n      <td>0.02358</td>\n    </tr>\n    <tr>\n      <th>2</th>\n      <td>Answer with 'Yes' or 'No': Could  jockey win T...</td>\n      <td>No</td>\n      <td>No</td>\n      <td>No</td>\n      <td>True</td>\n      <td>1.0</td>\n      <td>1</td>\n      <td>6.688570</td>\n      <td>1204</td>\n      <td>2</td>\n      <td>0</td>\n      <td>0.02408</td>\n      <td>0.02408</td>\n    </tr>\n    <tr>\n      <th>3</th>\n      <td>Answer with 'Yes' or 'No': Do Star Wars fans s...</td>\n      <td>No</td>\n      <td>No</td>\n      <td>No</td>\n      <td>True</td>\n      <td>1.0</td>\n      <td>1</td>\n      <td>4.330515</td>\n      <td>1209</td>\n      <td>2</td>\n      <td>0</td>\n      <td>0.02418</td>\n      <td>0.02418</td>\n    </tr>\n    <tr>\n      <th>4</th>\n      <td>Answer with 'Yes' or 'No': Would a Durian be d...</td>\n      <td>Yes</td>\n      <td>Yes</td>\n      <td>Yes</td>\n      <td>True</td>\n      <td>1.0</td>\n      <td>1</td>\n      <td>3.417613</td>\n      <td>1194</td>\n      <td>2</td>\n      <td>0</td>\n      <td>0.02388</td>\n      <td>0.02388</td>\n    </tr>\n  </tbody>\n</table>\n</div>"
     },
     "execution_count": 9,
     "metadata": {},
     "output_type": "execute_result"
    }
   ],
   "source": [
    "df.head()"
   ],
   "metadata": {
    "collapsed": false,
    "ExecuteTime": {
     "start_time": "2023-04-30T16:09:49.305298Z",
     "end_time": "2023-04-30T16:09:49.351492Z"
    }
   }
  },
  {
   "cell_type": "markdown",
   "source": [
    " ## PWSBase"
   ],
   "metadata": {
    "collapsed": false
   }
  },
  {
   "cell_type": "code",
   "execution_count": 16,
   "outputs": [],
   "source": [
    "dataset = DataLoader(EVAL_DATASET, seed=SEED).load(150)\n",
    "pws = PWS_Base(available_tools=[\"Google\", \"Wikipedia\", \"WolframAlpha\", \"Calculator\", \"LLM\"], fewshot=fewshots.TRIVIAQA_PWS, planner_model=\"text-davinci-003\", solver_model=EVAL_LLM)\n",
    "eval = Evaluator(task=EVAL_DATASET, dataset=dataset, algo=pws)"
   ],
   "metadata": {
    "collapsed": false,
    "ExecuteTime": {
     "start_time": "2023-04-30T18:37:20.783553Z",
     "end_time": "2023-04-30T18:37:20.831854Z"
    }
   }
  },
  {
   "cell_type": "code",
   "execution_count": 16,
   "outputs": [],
   "source": [],
   "metadata": {
    "collapsed": false,
    "ExecuteTime": {
     "start_time": "2023-04-30T18:37:21.011552Z",
     "end_time": "2023-04-30T18:37:21.055872Z"
    }
   }
  },
  {
   "cell_type": "code",
   "execution_count": 17,
   "outputs": [
    {
     "name": "stdout",
     "output_type": "stream",
     "text": [
      "\n",
      "******************* Start Evaluation *******************\n",
      "\n"
     ]
    },
    {
     "name": "stderr",
     "output_type": "stream",
     "text": [
      "  1%|▏         | 2/150 [00:17<21:33,  8.74s/it]/home/billxbf/anaconda3/lib/python3.9/site-packages/wikipedia/wikipedia.py:389: GuessedAtParserWarning: No parser was explicitly specified, so I'm using the best available HTML parser for this system (\"lxml\"). This usually isn't a problem, but if you run this code on another system, or in a different virtual environment, it may use a different parser and behave differently.\n",
      "\n",
      "The code that caused this warning is on line 389 of the file /home/billxbf/anaconda3/lib/python3.9/site-packages/wikipedia/wikipedia.py. To get rid of this warning, pass the additional argument 'features=\"lxml\"' to the BeautifulSoup constructor.\n",
      "\n",
      "  lis = BeautifulSoup(html).find_all('li')\n",
      "100%|██████████| 150/150 [22:22<00:00,  8.95s/it]\n"
     ]
    },
    {
     "data": {
      "text/plain": "{'avg_em': 0.66,\n 'avg_f1': 0.66,\n 'avg_acc': 0.66,\n 'avg_wall_time': 7.068437215487163,\n 'avg_total_tokens': 1287.0266666666666,\n 'avg_total_cost': 0.024350040000000003,\n 'avg_steps': 3.2,\n 'avg_token_cost': 0.017683373333333335,\n 'avg_tool_cost': 0.006666666666666667}"
     },
     "execution_count": 17,
     "metadata": {},
     "output_type": "execute_result"
    }
   ],
   "source": [
    "response, data = eval.run()\n",
    "df = save_data(dataset, data, SAVE_DIR.format(\"pws\", EVAL_LLM))\n",
    "response"
   ],
   "metadata": {
    "collapsed": false,
    "ExecuteTime": {
     "start_time": "2023-04-30T18:37:21.920766Z",
     "end_time": "2023-04-30T18:59:44.115535Z"
    }
   }
  },
  {
   "cell_type": "code",
   "execution_count": 17,
   "outputs": [
    {
     "data": {
      "text/plain": "                                            question  \\\n0  Gary manages two Amazon distribution centers. ...   \n1  The square footage of the two bedrooms in the ...   \n2  Thomas, Toby, and Rebecca worked a total of 15...   \n3  Two-thirds of the class have brown eyes. Half ...   \n4  Jackie spends 8 hours working, 3 hours of exer...   \n5  If Layla scored 104 goals in four hockey games...   \n6  Bugs are thriving in a garden of 30 plants. Th...   \n7  A family is going to the amusement park. The a...   \n8  A retailer sells any shirt for the same price ...   \n9  Half of Taylor's house guests like weak coffee...   \n\n                                              answer  label  \\\n0  First find how many packages the second center...  14000   \n1  Let M be the number of square feet in Matha's ...    120   \n2  Toby: 2x-10\\nRebecca: (2x-10)-8=2x-18\\nTotal:2...     56   \n3  There are 6 * 2 = <<6*2=12>>12 students with b...     18   \n4  Jackie spends a total of 8 + 8 + 3 = <<8+8+3=1...      5   \n5  If Layla scored 104 goals in four hockey games...     92   \n6  The bugs ate enough plants for there to be 30-...      4   \n7  To solve this problem you can set up an equati...     58   \n8  If I paid $120 and I was refunded 25% for all ...     45   \n9  He uses 1 tablespoon for weak coffee and doubl...     36   \n\n                                               preds     em        f1  acc  \\\n0                                            14000.0  False  0.000000    0   \n1               Martha's bedroom is 120 square feet.  False  0.285714    1   \n2                                           9 hours.  False  0.000000    0   \n3                    There are 18 students in total.  False  0.285714    1   \n4                                           5 hours.  False  0.666667    1   \n5                                              212.0  False  0.000000    0   \n6                                  10 plants remain.  False  0.000000    0   \n7                                                $58   True  1.000000    1   \n8         The price of 1 shirt at this place is $45.  False  0.200000    1   \n9  [60.0, 120.0] (total number of tablespoons of ...  False  0.000000    0   \n\n   wall_time  total_tokens  steps  tool_cost  token_cost  total_cost  \n0   5.534352           884      2        0.0    0.004018    0.004018  \n1   5.540370           803      3        0.0    0.001768    0.001768  \n2   6.390907           842      3        0.0    0.001882    0.001882  \n3   7.168095          1030      3        0.0    0.006488    0.006488  \n4   7.389826           954      3        0.0    0.006084    0.006084  \n5   6.634716           992      3        0.0    0.006250    0.006250  \n6   7.885642          1194      2        0.0    0.009264    0.009264  \n7   8.923775          1124      2        0.0    0.008512    0.008512  \n8   6.289263          1069      3        0.0    0.004316    0.004316  \n9  11.993834          1299      4        0.0    0.009168    0.009168  ",
      "text/html": "<div>\n<style scoped>\n    .dataframe tbody tr th:only-of-type {\n        vertical-align: middle;\n    }\n\n    .dataframe tbody tr th {\n        vertical-align: top;\n    }\n\n    .dataframe thead th {\n        text-align: right;\n    }\n</style>\n<table border=\"1\" class=\"dataframe\">\n  <thead>\n    <tr style=\"text-align: right;\">\n      <th></th>\n      <th>question</th>\n      <th>answer</th>\n      <th>label</th>\n      <th>preds</th>\n      <th>em</th>\n      <th>f1</th>\n      <th>acc</th>\n      <th>wall_time</th>\n      <th>total_tokens</th>\n      <th>steps</th>\n      <th>tool_cost</th>\n      <th>token_cost</th>\n      <th>total_cost</th>\n    </tr>\n  </thead>\n  <tbody>\n    <tr>\n      <th>0</th>\n      <td>Gary manages two Amazon distribution centers. ...</td>\n      <td>First find how many packages the second center...</td>\n      <td>14000</td>\n      <td>14000.0</td>\n      <td>False</td>\n      <td>0.000000</td>\n      <td>0</td>\n      <td>5.534352</td>\n      <td>884</td>\n      <td>2</td>\n      <td>0.0</td>\n      <td>0.004018</td>\n      <td>0.004018</td>\n    </tr>\n    <tr>\n      <th>1</th>\n      <td>The square footage of the two bedrooms in the ...</td>\n      <td>Let M be the number of square feet in Matha's ...</td>\n      <td>120</td>\n      <td>Martha's bedroom is 120 square feet.</td>\n      <td>False</td>\n      <td>0.285714</td>\n      <td>1</td>\n      <td>5.540370</td>\n      <td>803</td>\n      <td>3</td>\n      <td>0.0</td>\n      <td>0.001768</td>\n      <td>0.001768</td>\n    </tr>\n    <tr>\n      <th>2</th>\n      <td>Thomas, Toby, and Rebecca worked a total of 15...</td>\n      <td>Toby: 2x-10\\nRebecca: (2x-10)-8=2x-18\\nTotal:2...</td>\n      <td>56</td>\n      <td>9 hours.</td>\n      <td>False</td>\n      <td>0.000000</td>\n      <td>0</td>\n      <td>6.390907</td>\n      <td>842</td>\n      <td>3</td>\n      <td>0.0</td>\n      <td>0.001882</td>\n      <td>0.001882</td>\n    </tr>\n    <tr>\n      <th>3</th>\n      <td>Two-thirds of the class have brown eyes. Half ...</td>\n      <td>There are 6 * 2 = &lt;&lt;6*2=12&gt;&gt;12 students with b...</td>\n      <td>18</td>\n      <td>There are 18 students in total.</td>\n      <td>False</td>\n      <td>0.285714</td>\n      <td>1</td>\n      <td>7.168095</td>\n      <td>1030</td>\n      <td>3</td>\n      <td>0.0</td>\n      <td>0.006488</td>\n      <td>0.006488</td>\n    </tr>\n    <tr>\n      <th>4</th>\n      <td>Jackie spends 8 hours working, 3 hours of exer...</td>\n      <td>Jackie spends a total of 8 + 8 + 3 = &lt;&lt;8+8+3=1...</td>\n      <td>5</td>\n      <td>5 hours.</td>\n      <td>False</td>\n      <td>0.666667</td>\n      <td>1</td>\n      <td>7.389826</td>\n      <td>954</td>\n      <td>3</td>\n      <td>0.0</td>\n      <td>0.006084</td>\n      <td>0.006084</td>\n    </tr>\n    <tr>\n      <th>5</th>\n      <td>If Layla scored 104 goals in four hockey games...</td>\n      <td>If Layla scored 104 goals in four hockey games...</td>\n      <td>92</td>\n      <td>212.0</td>\n      <td>False</td>\n      <td>0.000000</td>\n      <td>0</td>\n      <td>6.634716</td>\n      <td>992</td>\n      <td>3</td>\n      <td>0.0</td>\n      <td>0.006250</td>\n      <td>0.006250</td>\n    </tr>\n    <tr>\n      <th>6</th>\n      <td>Bugs are thriving in a garden of 30 plants. Th...</td>\n      <td>The bugs ate enough plants for there to be 30-...</td>\n      <td>4</td>\n      <td>10 plants remain.</td>\n      <td>False</td>\n      <td>0.000000</td>\n      <td>0</td>\n      <td>7.885642</td>\n      <td>1194</td>\n      <td>2</td>\n      <td>0.0</td>\n      <td>0.009264</td>\n      <td>0.009264</td>\n    </tr>\n    <tr>\n      <th>7</th>\n      <td>A family is going to the amusement park. The a...</td>\n      <td>To solve this problem you can set up an equati...</td>\n      <td>58</td>\n      <td>$58</td>\n      <td>True</td>\n      <td>1.000000</td>\n      <td>1</td>\n      <td>8.923775</td>\n      <td>1124</td>\n      <td>2</td>\n      <td>0.0</td>\n      <td>0.008512</td>\n      <td>0.008512</td>\n    </tr>\n    <tr>\n      <th>8</th>\n      <td>A retailer sells any shirt for the same price ...</td>\n      <td>If I paid $120 and I was refunded 25% for all ...</td>\n      <td>45</td>\n      <td>The price of 1 shirt at this place is $45.</td>\n      <td>False</td>\n      <td>0.200000</td>\n      <td>1</td>\n      <td>6.289263</td>\n      <td>1069</td>\n      <td>3</td>\n      <td>0.0</td>\n      <td>0.004316</td>\n      <td>0.004316</td>\n    </tr>\n    <tr>\n      <th>9</th>\n      <td>Half of Taylor's house guests like weak coffee...</td>\n      <td>He uses 1 tablespoon for weak coffee and doubl...</td>\n      <td>36</td>\n      <td>[60.0, 120.0] (total number of tablespoons of ...</td>\n      <td>False</td>\n      <td>0.000000</td>\n      <td>0</td>\n      <td>11.993834</td>\n      <td>1299</td>\n      <td>4</td>\n      <td>0.0</td>\n      <td>0.009168</td>\n      <td>0.009168</td>\n    </tr>\n  </tbody>\n</table>\n</div>"
     },
     "execution_count": 17,
     "metadata": {},
     "output_type": "execute_result"
    }
   ],
   "source": [
    "df.head(10)"
   ],
   "metadata": {
    "collapsed": false,
    "ExecuteTime": {
     "start_time": "2023-04-29T19:39:40.471599Z",
     "end_time": "2023-04-29T19:39:40.516137Z"
    }
   }
  },
  {
   "cell_type": "code",
   "execution_count": 5,
   "outputs": [
    {
     "ename": "NameError",
     "evalue": "name 'dataset' is not defined",
     "output_type": "error",
     "traceback": [
      "\u001B[0;31m---------------------------------------------------------------------------\u001B[0m",
      "\u001B[0;31mNameError\u001B[0m                                 Traceback (most recent call last)",
      "\u001B[0;32m/tmp/ipykernel_769373/637805885.py\u001B[0m in \u001B[0;36m<module>\u001B[0;34m\u001B[0m\n\u001B[0;32m----> 1\u001B[0;31m \u001B[0mdataset\u001B[0m\u001B[0;34m[\u001B[0m\u001B[0;34m\"question\"\u001B[0m\u001B[0;34m]\u001B[0m\u001B[0;34m[\u001B[0m\u001B[0;36m6\u001B[0m\u001B[0;34m]\u001B[0m\u001B[0;34m\u001B[0m\u001B[0;34m\u001B[0m\u001B[0m\n\u001B[0m",
      "\u001B[0;31mNameError\u001B[0m: name 'dataset' is not defined"
     ]
    }
   ],
   "source": [
    "dataset[\"question\"][6]"
   ],
   "metadata": {
    "collapsed": false,
    "ExecuteTime": {
     "start_time": "2023-04-29T19:40:11.110998Z",
     "end_time": "2023-04-29T19:40:11.120919Z"
    }
   }
  },
  {
   "cell_type": "code",
   "execution_count": 9,
   "outputs": [],
   "source": [
    "response = pwsbase.run(dataset[\"question\"][6])"
   ],
   "metadata": {
    "collapsed": false,
    "ExecuteTime": {
     "start_time": "2023-04-29T19:42:55.531670Z",
     "end_time": "2023-04-29T19:43:00.666416Z"
    }
   }
  },
  {
   "cell_type": "code",
   "execution_count": 10,
   "outputs": [
    {
     "name": "stdout",
     "output_type": "stream",
     "text": [
      "For the following tasks, make plans that can solve the problem step-by-step. For each plan, indicate which external tool together with tool input to retrieve evidence. You can store the evidence into a variable #E (#E1, #E2, ...) that can be called by later tools.\n",
      "\n",
      "Tools can be one of the following:\n",
      "WolframAlpha[input]: A WolframAlpha search engine. Useful when you need to solve a complicated Mathematical or Algebraic equation. Input should be an equation or function.\n",
      "Calculator[input]: A calculator that can compute arithmetic expressions. Useful when you need to perform math calculations. Input should be a mathematical expression\n",
      "LLM[input]: A pretrained LLM like yourself. Useful when you need to act with general world knowledge and common sense. Prioritize it when you are confident in solving the problem yourself. Input can be any instruction.\n",
      "\n",
      "For Example:\n",
      "Thomas, Toby, and Rebecca worked a total of 157 hours in one week.  Thomas worked x hours.  Toby worked 10 hours less than twice what Thomas worked, and Rebecca worked 8 hours less than Toby.  How many hours did Rebecca work?\n",
      "Plan: Given Thomas worked x hours, translate the problem into algebraic expressions and solve with Wolfram Alpha.\n",
      "#E1 = WolframAlpha[Solve x + (2x - 10) + ((2x - 10) - 8) = 157]\n",
      "Plan: Find out the number of hours Rebecca worked.\n",
      "#E3 = LLM[What is (2x - 10) - 8, given #E2]\n",
      "\n",
      "Gary manages two Amazon distribution centers. The first center processes 10000 packages per day, and the second center processes three times that volume. If Amazon makes 5 cents of profit per package, how much profit per week do the two centers make combined?\n",
      "Plan: Calculate the total number of packages processed per week by both centers.\n",
      "#E1 = Calculator[(10000 * 7) + (3 * 10000 * 7)]\n",
      "Plan: Calculate the total profit per week made by both centers.\n",
      "#E2 = Calculator[#E1 * 0.05]\n",
      "\n",
      "Begin! Make as few plans as possible if it can solve the problem. Give one Plan and one #E in an interleaved way.\n",
      "\n",
      "Bugs are thriving in a garden of 30 plants. The bugs are very hungry today and completely ate 20 plants. The next day, they were still full and only ate half of the remaining plants. After that, they ate only 1 of the plants that were left. How many plants remain?\n",
      "Plan: Calculate the number of plants left after each day and subtract the number of plants eaten.\n",
      "#E1 = Calculator[30 - 20] #E2 = Calculator[#E1 / 2] #E3 = Calculator[#E2 - 1] #E4 = Calculator[#E3]\n"
     ]
    }
   ],
   "source": [
    "print(response[\"planner_log\"])"
   ],
   "metadata": {
    "collapsed": false,
    "ExecuteTime": {
     "start_time": "2023-04-29T19:43:00.662934Z",
     "end_time": "2023-04-29T19:43:00.666549Z"
    }
   }
  },
  {
   "cell_type": "code",
   "execution_count": 12,
   "outputs": [
    {
     "name": "stdout",
     "output_type": "stream",
     "text": [
      "Solve the following task or problem. To assist you, we provide some plans and corresponding evidences that might be helpful. Notice that some of these information contain noise so you should trust them with caution.\n",
      "\n",
      "Bugs are thriving in a garden of 30 plants. The bugs are very hungry today and completely ate 20 plants. The next day, they were still full and only ate half of the remaining plants. After that, they ate only 1 of the plants that were left. How many plants remain?\n",
      "Plan: Calculate the number of plants left after each day and subtract the number of plants eaten.\n",
      "Evidence:\n",
      "19\n",
      "\n",
      "Now begin to solve the task or problem. Respond with the answer directly with no extra words.\n",
      "\n",
      "Bugs are thriving in a garden of 30 plants. The bugs are very hungry today and completely ate 20 plants. The next day, they were still full and only ate half of the remaining plants. After that, they ate only 1 of the plants that were left. How many plants remain?\n",
      "8 plants remain.\n"
     ]
    }
   ],
   "source": [
    "print(response[\"solver_log\"])"
   ],
   "metadata": {
    "collapsed": false,
    "ExecuteTime": {
     "start_time": "2023-04-29T19:43:56.543484Z",
     "end_time": "2023-04-29T19:43:56.546670Z"
    }
   }
  },
  {
   "cell_type": "code",
   "execution_count": null,
   "outputs": [],
   "source": [],
   "metadata": {
    "collapsed": false
   }
  }
 ],
 "metadata": {
  "kernelspec": {
   "display_name": "Python 3",
   "language": "python",
   "name": "python3"
  },
  "language_info": {
   "codemirror_mode": {
    "name": "ipython",
    "version": 2
   },
   "file_extension": ".py",
   "mimetype": "text/x-python",
   "name": "python",
   "nbconvert_exporter": "python",
   "pygments_lexer": "ipython2",
   "version": "2.7.6"
  }
 },
 "nbformat": 4,
 "nbformat_minor": 0
}
