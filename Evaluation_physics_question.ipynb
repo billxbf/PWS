{
 "cells": [
  {
   "cell_type": "code",
   "execution_count": 8,
   "outputs": [],
   "source": [
    "import os\n",
    "with open(\"/home/billxbf/Documents/myks/openai.key\", \"r\") as f:\n",
    "    keys = f.readlines()\n",
    "    os.environ[\"OPENAI_API_KEY\"] = keys[0].strip()\n",
    "with open(\"/home/billxbf/Documents/myks/serpapi.key\", \"r\") as f:\n",
    "    keys = f.readlines()\n",
    "    os.environ[\"SERPAPI_API_KEY\"] = keys[0].strip()\n",
    "with open(\"/home/billxbf/Documents/myks/wolfram.key\", \"r\") as f:\n",
    "    keys = f.readlines()\n",
    "    os.environ[\"WOLFRAM_ALPHA_APPID\"] = keys[0].strip()"
   ],
   "metadata": {
    "collapsed": false,
    "ExecuteTime": {
     "start_time": "2023-05-01T13:09:46.744971Z",
     "end_time": "2023-05-01T13:09:46.760287Z"
    }
   }
  },
  {
   "cell_type": "code",
   "execution_count": 9,
   "outputs": [],
   "source": [
    "from utils.DataLoader import DataLoader\n",
    "from utils.Evaluator import Evaluator\n",
    "from algos.PWS import *\n",
    "from algos.react import ReactBase, ReactExtraTool\n",
    "from algos.notool import IO, CoT\n",
    "from prompts import fewshots"
   ],
   "metadata": {
    "collapsed": false,
    "ExecuteTime": {
     "start_time": "2023-05-01T13:09:46.946611Z",
     "end_time": "2023-05-01T13:09:47.594376Z"
    }
   }
  },
  {
   "cell_type": "code",
   "execution_count": 10,
   "outputs": [],
   "source": [
    "def save_data(dataset, data, save_path):\n",
    "    dataset[\"label\"] = data[\"label\"]\n",
    "    dataset[\"preds\"] = data[\"preds\"]\n",
    "    dataset[\"em\"]  = data[\"em\"]\n",
    "    dataset[\"f1\"] = data[\"f1\"]\n",
    "    dataset[\"acc\"] = data[\"acc\"]\n",
    "    dataset[\"wall_time\"] = data[\"wall_time\"]\n",
    "    dataset[\"total_tokens\"] = data[\"total_tokens\"]\n",
    "    dataset[\"steps\"] = data[\"steps\"]\n",
    "    dataset[\"tool_cost\"] = data[\"tool_cost\"]\n",
    "    dataset[\"token_cost\"] = data[\"token_cost\"]\n",
    "    dataset[\"total_cost\"] = data[\"total_cost\"]\n",
    "    dataset.to_csv(save_path, index=False)\n",
    "    return dataset"
   ],
   "metadata": {
    "collapsed": false,
    "ExecuteTime": {
     "start_time": "2023-05-01T13:09:47.595429Z",
     "end_time": "2023-05-01T13:09:47.639506Z"
    }
   }
  },
  {
   "cell_type": "code",
   "execution_count": 11,
   "outputs": [],
   "source": [
    "EVAL_LLM = \"text-davinci-003\"\n",
    "EVAL_DATASET = \"physics_question\"\n",
    "SEED = 2024\n",
    "SAVE_DIR = \"results/physics_question_{}_{}.csv\""
   ],
   "metadata": {
    "collapsed": false,
    "ExecuteTime": {
     "start_time": "2023-05-01T13:09:47.639384Z",
     "end_time": "2023-05-01T13:09:47.639749Z"
    }
   }
  },
  {
   "cell_type": "markdown",
   "source": [
    "## Standard IO"
   ],
   "metadata": {
    "collapsed": false
   }
  },
  {
   "cell_type": "code",
   "execution_count": 45,
   "outputs": [],
   "source": [
    "dataset = DataLoader(EVAL_DATASET, seed=SEED).load(sample_size=None)\n",
    "io = IO(model_name=EVAL_LLM)\n",
    "eval = Evaluator(task=EVAL_DATASET, dataset=dataset, algo=io)"
   ],
   "metadata": {
    "collapsed": false,
    "ExecuteTime": {
     "start_time": "2023-04-30T03:06:20.746165Z",
     "end_time": "2023-04-30T03:06:20.755271Z"
    }
   }
  },
  {
   "cell_type": "code",
   "execution_count": 46,
   "outputs": [
    {
     "name": "stdout",
     "output_type": "stream",
     "text": [
      "\n",
      "******************* Start Evaluation *******************\n",
      "\n"
     ]
    },
    {
     "name": "stderr",
     "output_type": "stream",
     "text": [
      "100%|██████████| 53/53 [02:15<00:00,  2.56s/it]\n"
     ]
    },
    {
     "data": {
      "text/plain": "{'avg_em': 0.0,\n 'avg_f1': 0.15125786163522012,\n 'avg_acc': 0.5094339622641509,\n 'avg_wall_time': 0.7276954425955718,\n 'avg_total_tokens': 90.47169811320755,\n 'avg_total_cost': 0.001809433962264151,\n 'avg_steps': 1.0,\n 'avg_token_cost': 0.001809433962264151,\n 'avg_tool_cost': 0.0}"
     },
     "execution_count": 46,
     "metadata": {},
     "output_type": "execute_result"
    }
   ],
   "source": [
    "response, data = eval.run()\n",
    "df = save_data(dataset, data, SAVE_DIR.format(\"io\", EVAL_LLM))\n",
    "response"
   ],
   "metadata": {
    "collapsed": false,
    "ExecuteTime": {
     "start_time": "2023-04-30T03:06:35.202079Z",
     "end_time": "2023-04-30T03:08:50.997885Z"
    }
   }
  },
  {
   "cell_type": "code",
   "execution_count": 47,
   "outputs": [
    {
     "data": {
      "text/plain": "                                               input  \\\n0  During a recent morning run, Ken averaged a sp...   \n1  Determine the momentum of a 360,000-kg passeng...   \n2  The historic Stanley Center for the Arts in Ut...   \n3  A fire breaks out on a high rise building and ...   \n4  Joss is parasailing. She sits in a seat harnes...   \n\n                                              target  \\\n0                   Can be one of ['7187 m', '7 km']   \n1                    Can be one of ['540000 kg*m/s']   \n2                           Can be one of ['7974 N']   \n3  Can be one of ['0.257 m/s/s', '0.26 m/s/s', '0...   \n4                 Can be one of ['133 N', '133.0 N']   \n\n                                               label               preds  \\\n0                   Can be one of ['7187 m', '7 km']            118.45 m   \n1                    Can be one of ['540000 kg*m/s']      540,000 kg m/s   \n2                           Can be one of ['7974 N']  Tension = 8062.9 N   \n3  Can be one of ['0.257 m/s/s', '0.26 m/s/s', '0...           2.6 m/s^2   \n4                 Can be one of ['133 N', '133.0 N']            162.88 N   \n\n      em        f1  acc  wall_time  total_tokens  steps  tool_cost  \\\n0  False  0.200000    1   0.582923            74      1          0   \n1  False  0.222222    1   0.704528            48      1          0   \n2  False  0.222222    0   0.689390           100      1          0   \n3  False  0.000000    0   0.870070           161      1          0   \n4  False  0.200000    1   0.767975            72      1          0   \n\n   token_cost  total_cost  \n0     0.00148     0.00148  \n1     0.00096     0.00096  \n2     0.00200     0.00200  \n3     0.00322     0.00322  \n4     0.00144     0.00144  ",
      "text/html": "<div>\n<style scoped>\n    .dataframe tbody tr th:only-of-type {\n        vertical-align: middle;\n    }\n\n    .dataframe tbody tr th {\n        vertical-align: top;\n    }\n\n    .dataframe thead th {\n        text-align: right;\n    }\n</style>\n<table border=\"1\" class=\"dataframe\">\n  <thead>\n    <tr style=\"text-align: right;\">\n      <th></th>\n      <th>input</th>\n      <th>target</th>\n      <th>label</th>\n      <th>preds</th>\n      <th>em</th>\n      <th>f1</th>\n      <th>acc</th>\n      <th>wall_time</th>\n      <th>total_tokens</th>\n      <th>steps</th>\n      <th>tool_cost</th>\n      <th>token_cost</th>\n      <th>total_cost</th>\n    </tr>\n  </thead>\n  <tbody>\n    <tr>\n      <th>0</th>\n      <td>During a recent morning run, Ken averaged a sp...</td>\n      <td>Can be one of ['7187 m', '7 km']</td>\n      <td>Can be one of ['7187 m', '7 km']</td>\n      <td>118.45 m</td>\n      <td>False</td>\n      <td>0.200000</td>\n      <td>1</td>\n      <td>0.582923</td>\n      <td>74</td>\n      <td>1</td>\n      <td>0</td>\n      <td>0.00148</td>\n      <td>0.00148</td>\n    </tr>\n    <tr>\n      <th>1</th>\n      <td>Determine the momentum of a 360,000-kg passeng...</td>\n      <td>Can be one of ['540000 kg*m/s']</td>\n      <td>Can be one of ['540000 kg*m/s']</td>\n      <td>540,000 kg m/s</td>\n      <td>False</td>\n      <td>0.222222</td>\n      <td>1</td>\n      <td>0.704528</td>\n      <td>48</td>\n      <td>1</td>\n      <td>0</td>\n      <td>0.00096</td>\n      <td>0.00096</td>\n    </tr>\n    <tr>\n      <th>2</th>\n      <td>The historic Stanley Center for the Arts in Ut...</td>\n      <td>Can be one of ['7974 N']</td>\n      <td>Can be one of ['7974 N']</td>\n      <td>Tension = 8062.9 N</td>\n      <td>False</td>\n      <td>0.222222</td>\n      <td>0</td>\n      <td>0.689390</td>\n      <td>100</td>\n      <td>1</td>\n      <td>0</td>\n      <td>0.00200</td>\n      <td>0.00200</td>\n    </tr>\n    <tr>\n      <th>3</th>\n      <td>A fire breaks out on a high rise building and ...</td>\n      <td>Can be one of ['0.257 m/s/s', '0.26 m/s/s', '0...</td>\n      <td>Can be one of ['0.257 m/s/s', '0.26 m/s/s', '0...</td>\n      <td>2.6 m/s^2</td>\n      <td>False</td>\n      <td>0.000000</td>\n      <td>0</td>\n      <td>0.870070</td>\n      <td>161</td>\n      <td>1</td>\n      <td>0</td>\n      <td>0.00322</td>\n      <td>0.00322</td>\n    </tr>\n    <tr>\n      <th>4</th>\n      <td>Joss is parasailing. She sits in a seat harnes...</td>\n      <td>Can be one of ['133 N', '133.0 N']</td>\n      <td>Can be one of ['133 N', '133.0 N']</td>\n      <td>162.88 N</td>\n      <td>False</td>\n      <td>0.200000</td>\n      <td>1</td>\n      <td>0.767975</td>\n      <td>72</td>\n      <td>1</td>\n      <td>0</td>\n      <td>0.00144</td>\n      <td>0.00144</td>\n    </tr>\n  </tbody>\n</table>\n</div>"
     },
     "execution_count": 47,
     "metadata": {},
     "output_type": "execute_result"
    }
   ],
   "source": [
    "df.head()"
   ],
   "metadata": {
    "collapsed": false,
    "ExecuteTime": {
     "start_time": "2023-04-30T03:09:55.054098Z",
     "end_time": "2023-04-30T03:09:55.064718Z"
    }
   }
  },
  {
   "cell_type": "markdown",
   "source": [
    "## CoT"
   ],
   "metadata": {
    "collapsed": false
   }
  },
  {
   "cell_type": "code",
   "execution_count": 6,
   "outputs": [
    {
     "data": {
      "text/plain": "129.75"
     },
     "execution_count": 6,
     "metadata": {},
     "output_type": "execute_result"
    }
   ],
   "source": [
    "len('''Solve a question answering task with interleaving Thought, Action, Observation steps. Thought can reason about the current situation, and Action can be three types:\n",
    "(1) Search[entity], which searches the exact entity on Wikipedia and returns the first paragraph if it exists. If not, it will return some similar entities to search.\n",
    "(2) Lookup[keyword], which returns the next sentence containing keyword in the current passage.\n",
    "(3) Finish[answer], which returns the answer and finishes the task.\n",
    "Here are some examples.''') /4"
   ],
   "metadata": {
    "collapsed": false,
    "ExecuteTime": {
     "start_time": "2023-05-01T12:03:58.448384Z",
     "end_time": "2023-05-01T12:03:58.452529Z"
    }
   }
  },
  {
   "cell_type": "code",
   "execution_count": 5,
   "outputs": [
    {
     "data": {
      "text/plain": "1473.25"
     },
     "execution_count": 5,
     "metadata": {},
     "output_type": "execute_result"
    }
   ],
   "source": [
    "import json\n",
    "with open(\"data/prompts_naive.json\") as f:\n",
    "    prompts = json.load(f)\n",
    "len(prompts[\"webthink_simple6\"]) / 4"
   ],
   "metadata": {
    "collapsed": false,
    "ExecuteTime": {
     "start_time": "2023-05-01T12:03:54.926495Z",
     "end_time": "2023-05-01T12:03:54.933398Z"
    }
   }
  },
  {
   "cell_type": "code",
   "execution_count": 2,
   "outputs": [
    {
     "data": {
      "text/plain": "6338"
     },
     "execution_count": 2,
     "metadata": {},
     "output_type": "execute_result"
    }
   ],
   "source": [
    "from prompts import fewshots\n",
    "len(fewshots.HOTPOTQA_REACT)"
   ],
   "metadata": {
    "collapsed": false,
    "ExecuteTime": {
     "start_time": "2023-05-01T11:53:40.619406Z",
     "end_time": "2023-05-01T11:53:41.305210Z"
    }
   }
  },
  {
   "cell_type": "code",
   "execution_count": 50,
   "outputs": [],
   "source": [
    "dataset = DataLoader(EVAL_DATASET, seed=SEED).load(None)\n",
    "cot = CoT(fewshot=fewshots.TRIVIAQA_COT, model_name=EVAL_LLM)\n",
    "eval = Evaluator(task=EVAL_DATASET, dataset=dataset, algo=cot)"
   ],
   "metadata": {
    "collapsed": false,
    "ExecuteTime": {
     "start_time": "2023-04-30T03:10:23.599688Z",
     "end_time": "2023-04-30T03:10:23.609317Z"
    }
   }
  },
  {
   "cell_type": "code",
   "execution_count": 51,
   "outputs": [
    {
     "name": "stdout",
     "output_type": "stream",
     "text": [
      "\n",
      "******************* Start Evaluation *******************\n",
      "\n"
     ]
    },
    {
     "name": "stderr",
     "output_type": "stream",
     "text": [
      "100%|██████████| 53/53 [06:00<00:00,  6.81s/it]\n"
     ]
    },
    {
     "data": {
      "text/plain": "{'avg_em': 0.0,\n 'avg_f1': 0.1687992978780992,\n 'avg_acc': 0.5849056603773585,\n 'avg_wall_time': 5.126167553775716,\n 'avg_total_tokens': 273.45283018867923,\n 'avg_total_cost': 0.005469056603773585,\n 'avg_steps': 2.3773584905660377,\n 'avg_token_cost': 0.005469056603773585,\n 'avg_tool_cost': 0.0}"
     },
     "execution_count": 51,
     "metadata": {},
     "output_type": "execute_result"
    }
   ],
   "source": [
    "response, data = eval.run()\n",
    "df = save_data(dataset, data, SAVE_DIR.format(\"cot\", EVAL_LLM))\n",
    "response"
   ],
   "metadata": {
    "collapsed": false,
    "ExecuteTime": {
     "start_time": "2023-04-30T03:10:23.899323Z",
     "end_time": "2023-04-30T03:16:24.612571Z"
    }
   }
  },
  {
   "cell_type": "code",
   "execution_count": 25,
   "outputs": [
    {
     "data": {
      "text/plain": "                                               input  \\\n0  A massive light hangs over the table in Jeremy...   \n1  Aaron Agin nodded off while driving home from ...   \n2  A California Condor is approaching its nest wi...   \n3  While playing basketball in PE class, Logan lo...   \n4  Renatta Gass is out with her friends. Misfortu...   \n\n                                           target  \\\n0  Can be one of ['11.46 kg', '11.5 kg', '12 kg']   \n1           Can be one of ['7.91 m/s', '7.9 m/s']   \n2                      Can be one of ['31.3 m/s']   \n3                        Can be one of ['3120 N']   \n4                       Can be one of ['97680 J']   \n\n                                            label  \\\n0  Can be one of ['11.46 kg', '11.5 kg', '12 kg']   \n1           Can be one of ['7.91 m/s', '7.9 m/s']   \n2                      Can be one of ['31.3 m/s']   \n3                        Can be one of ['3120 N']   \n4                       Can be one of ['97680 J']   \n\n                                               preds     em        f1  acc  \\\n0                  The mass of the light is 11.0 kg.  False  0.250000    1   \n1                       vfinal = (1650 kg * 18.5 m/s  False  0.153846    0   \n2   The speed of the carrion upon hitting the out...  False  0.266667    0   \n3   -40 m/s^2 (negative sign indicates deceleration)  False  0.000000    0   \n4                                           97,680 J  False  0.500000    1   \n\n   wall_time  total_tokens  steps  tool_cost  token_cost  total_cost  \n0  13.610541           398      3          0    0.000796    0.000796  \n1  14.639971           469      3          0    0.000938    0.000938  \n2   9.287838           350      2          0    0.000700    0.000700  \n3   7.399226           285      2          0    0.000570    0.000570  \n4   4.352521           233      3          0    0.000466    0.000466  ",
      "text/html": "<div>\n<style scoped>\n    .dataframe tbody tr th:only-of-type {\n        vertical-align: middle;\n    }\n\n    .dataframe tbody tr th {\n        vertical-align: top;\n    }\n\n    .dataframe thead th {\n        text-align: right;\n    }\n</style>\n<table border=\"1\" class=\"dataframe\">\n  <thead>\n    <tr style=\"text-align: right;\">\n      <th></th>\n      <th>input</th>\n      <th>target</th>\n      <th>label</th>\n      <th>preds</th>\n      <th>em</th>\n      <th>f1</th>\n      <th>acc</th>\n      <th>wall_time</th>\n      <th>total_tokens</th>\n      <th>steps</th>\n      <th>tool_cost</th>\n      <th>token_cost</th>\n      <th>total_cost</th>\n    </tr>\n  </thead>\n  <tbody>\n    <tr>\n      <th>0</th>\n      <td>A massive light hangs over the table in Jeremy...</td>\n      <td>Can be one of ['11.46 kg', '11.5 kg', '12 kg']</td>\n      <td>Can be one of ['11.46 kg', '11.5 kg', '12 kg']</td>\n      <td>The mass of the light is 11.0 kg.</td>\n      <td>False</td>\n      <td>0.250000</td>\n      <td>1</td>\n      <td>13.610541</td>\n      <td>398</td>\n      <td>3</td>\n      <td>0</td>\n      <td>0.000796</td>\n      <td>0.000796</td>\n    </tr>\n    <tr>\n      <th>1</th>\n      <td>Aaron Agin nodded off while driving home from ...</td>\n      <td>Can be one of ['7.91 m/s', '7.9 m/s']</td>\n      <td>Can be one of ['7.91 m/s', '7.9 m/s']</td>\n      <td>vfinal = (1650 kg * 18.5 m/s</td>\n      <td>False</td>\n      <td>0.153846</td>\n      <td>0</td>\n      <td>14.639971</td>\n      <td>469</td>\n      <td>3</td>\n      <td>0</td>\n      <td>0.000938</td>\n      <td>0.000938</td>\n    </tr>\n    <tr>\n      <th>2</th>\n      <td>A California Condor is approaching its nest wi...</td>\n      <td>Can be one of ['31.3 m/s']</td>\n      <td>Can be one of ['31.3 m/s']</td>\n      <td>The speed of the carrion upon hitting the out...</td>\n      <td>False</td>\n      <td>0.266667</td>\n      <td>0</td>\n      <td>9.287838</td>\n      <td>350</td>\n      <td>2</td>\n      <td>0</td>\n      <td>0.000700</td>\n      <td>0.000700</td>\n    </tr>\n    <tr>\n      <th>3</th>\n      <td>While playing basketball in PE class, Logan lo...</td>\n      <td>Can be one of ['3120 N']</td>\n      <td>Can be one of ['3120 N']</td>\n      <td>-40 m/s^2 (negative sign indicates deceleration)</td>\n      <td>False</td>\n      <td>0.000000</td>\n      <td>0</td>\n      <td>7.399226</td>\n      <td>285</td>\n      <td>2</td>\n      <td>0</td>\n      <td>0.000570</td>\n      <td>0.000570</td>\n    </tr>\n    <tr>\n      <th>4</th>\n      <td>Renatta Gass is out with her friends. Misfortu...</td>\n      <td>Can be one of ['97680 J']</td>\n      <td>Can be one of ['97680 J']</td>\n      <td>97,680 J</td>\n      <td>False</td>\n      <td>0.500000</td>\n      <td>1</td>\n      <td>4.352521</td>\n      <td>233</td>\n      <td>3</td>\n      <td>0</td>\n      <td>0.000466</td>\n      <td>0.000466</td>\n    </tr>\n  </tbody>\n</table>\n</div>"
     },
     "execution_count": 25,
     "metadata": {},
     "output_type": "execute_result"
    }
   ],
   "source": [
    "df.head()"
   ],
   "metadata": {
    "collapsed": false,
    "ExecuteTime": {
     "start_time": "2023-04-30T02:02:29.684300Z",
     "end_time": "2023-04-30T02:02:29.727639Z"
    }
   }
  },
  {
   "cell_type": "markdown",
   "source": [
    "## REACT"
   ],
   "metadata": {
    "collapsed": false
   }
  },
  {
   "cell_type": "code",
   "execution_count": 52,
   "outputs": [],
   "source": [
    "dataset = DataLoader(EVAL_DATASET, seed=SEED).load(None)\n",
    "react = ReactExtraTool(model_name=EVAL_LLM, available_tools=[\"Google\", \"Wikipedia\", \"WolframAlpha\", \"Calculator\", \"LLM\"], fewshot=fewshots.GSM8K_REACT, verbose=False)\n",
    "eval = Evaluator(task=EVAL_DATASET, dataset=dataset, algo=react)"
   ],
   "metadata": {
    "collapsed": false,
    "ExecuteTime": {
     "start_time": "2023-04-30T14:25:24.345315Z",
     "end_time": "2023-04-30T14:25:24.387333Z"
    }
   }
  },
  {
   "cell_type": "code",
   "execution_count": 53,
   "outputs": [
    {
     "name": "stdout",
     "output_type": "stream",
     "text": [
      "\n",
      "******************* Start Evaluation *******************\n",
      "\n"
     ]
    },
    {
     "name": "stderr",
     "output_type": "stream",
     "text": [
      "100%|██████████| 53/53 [08:49<00:00,  9.99s/it]\n"
     ]
    },
    {
     "data": {
      "text/plain": "{'avg_em': 0.0,\n 'avg_f1': 0.1578707593851586,\n 'avg_acc': 0.5849056603773585,\n 'avg_wall_time': 8.246861795209488,\n 'avg_total_tokens': 1874.188679245283,\n 'avg_total_cost': 0.03732449056603774,\n 'avg_steps': 2.547169811320755,\n 'avg_token_cost': 0.03732449056603774,\n 'avg_tool_cost': 0.0}"
     },
     "execution_count": 53,
     "metadata": {},
     "output_type": "execute_result"
    }
   ],
   "source": [
    "response, data = eval.run()\n",
    "df = save_data(dataset, data, SAVE_DIR.format(\"react\", EVAL_LLM))\n",
    "response"
   ],
   "metadata": {
    "collapsed": false,
    "ExecuteTime": {
     "start_time": "2023-04-30T14:25:26.528684Z",
     "end_time": "2023-04-30T14:34:15.887511Z"
    }
   }
  },
  {
   "cell_type": "code",
   "execution_count": 9,
   "outputs": [
    {
     "data": {
      "text/plain": "                                            question  \\\n0  In what city and state was the vocalist for  E...   \n1  What was the birth date of the director of \"Th...   \n2  What is the name of the cognac house that make...   \n3  The Wisconsin Badgers football team has had a ...   \n4  Which film director is older, Jan Troell or Ag...   \n5  Foshan Lingnan Mingzhu Gymnasium, where Boxing...   \n6  In between Parenting and Cook's Illustrated wh...   \n7  In the year 2016, how many passengers used the...   \n8  What was the nationality of Robert Kardashian'...   \n9  In what Ohio city does the highway which the n...   \n\n                     answer  \\\n0  Redwood City, California   \n1    December 28, 1888March   \n2        Jas Hennessy & Co.   \n3            The Iron Horse   \n4               Agnès Varda   \n5                      2006   \n6                 Parenting   \n7             11.04 million   \n8                  American   \n9                Cincinnati   \n\n                                               preds     em        f1  acc  \\\n0                                                nan  False  0.000000    0   \n1                                                nan  False  0.000000    0   \n2                                           Hennessy  False  0.500000    1   \n3                        the Iron Horse or the Horse  False  0.666667    0   \n4                                         Jan Troell  False  0.000000    0   \n5                                               2006   True  1.000000    1   \n6                                          Parenting   True  1.000000    1   \n7  Agent stopped due to iteration limit or time l...  False  0.000000    0   \n8  Agent stopped due to iteration limit or time l...  False  0.000000    0   \n9  Agent stopped due to iteration limit or time l...  False  0.000000    0   \n\n   wall_time  total_tokens  steps  tool_cost  token_cost  total_cost  \n0        NaN           NaN    NaN        NaN         NaN         NaN  \n1        NaN           NaN    NaN        NaN         NaN         NaN  \n2   8.891754        5092.0    3.0        0.0    0.010184    0.010184  \n3  12.183595        7105.0    4.0        0.0    0.014210    0.014210  \n4   9.318587        5263.0    3.0        0.0    0.010526    0.010526  \n5   7.464730        3284.0    2.0        0.0    0.006568    0.006568  \n6  10.895709        7210.0    4.0        0.0    0.014420    0.014420  \n7  33.010987       21835.0    9.0        0.0    0.043670    0.043670  \n8  21.680504       14876.0    9.0        0.0    0.029752    0.029752  \n9  30.278475       17950.0    9.0        0.0    0.035900    0.035900  ",
      "text/html": "<div>\n<style scoped>\n    .dataframe tbody tr th:only-of-type {\n        vertical-align: middle;\n    }\n\n    .dataframe tbody tr th {\n        vertical-align: top;\n    }\n\n    .dataframe thead th {\n        text-align: right;\n    }\n</style>\n<table border=\"1\" class=\"dataframe\">\n  <thead>\n    <tr style=\"text-align: right;\">\n      <th></th>\n      <th>question</th>\n      <th>answer</th>\n      <th>preds</th>\n      <th>em</th>\n      <th>f1</th>\n      <th>acc</th>\n      <th>wall_time</th>\n      <th>total_tokens</th>\n      <th>steps</th>\n      <th>tool_cost</th>\n      <th>token_cost</th>\n      <th>total_cost</th>\n    </tr>\n  </thead>\n  <tbody>\n    <tr>\n      <th>0</th>\n      <td>In what city and state was the vocalist for  E...</td>\n      <td>Redwood City, California</td>\n      <td>nan</td>\n      <td>False</td>\n      <td>0.000000</td>\n      <td>0</td>\n      <td>NaN</td>\n      <td>NaN</td>\n      <td>NaN</td>\n      <td>NaN</td>\n      <td>NaN</td>\n      <td>NaN</td>\n    </tr>\n    <tr>\n      <th>1</th>\n      <td>What was the birth date of the director of \"Th...</td>\n      <td>December 28, 1888March</td>\n      <td>nan</td>\n      <td>False</td>\n      <td>0.000000</td>\n      <td>0</td>\n      <td>NaN</td>\n      <td>NaN</td>\n      <td>NaN</td>\n      <td>NaN</td>\n      <td>NaN</td>\n      <td>NaN</td>\n    </tr>\n    <tr>\n      <th>2</th>\n      <td>What is the name of the cognac house that make...</td>\n      <td>Jas Hennessy &amp; Co.</td>\n      <td>Hennessy</td>\n      <td>False</td>\n      <td>0.500000</td>\n      <td>1</td>\n      <td>8.891754</td>\n      <td>5092.0</td>\n      <td>3.0</td>\n      <td>0.0</td>\n      <td>0.010184</td>\n      <td>0.010184</td>\n    </tr>\n    <tr>\n      <th>3</th>\n      <td>The Wisconsin Badgers football team has had a ...</td>\n      <td>The Iron Horse</td>\n      <td>the Iron Horse or the Horse</td>\n      <td>False</td>\n      <td>0.666667</td>\n      <td>0</td>\n      <td>12.183595</td>\n      <td>7105.0</td>\n      <td>4.0</td>\n      <td>0.0</td>\n      <td>0.014210</td>\n      <td>0.014210</td>\n    </tr>\n    <tr>\n      <th>4</th>\n      <td>Which film director is older, Jan Troell or Ag...</td>\n      <td>Agnès Varda</td>\n      <td>Jan Troell</td>\n      <td>False</td>\n      <td>0.000000</td>\n      <td>0</td>\n      <td>9.318587</td>\n      <td>5263.0</td>\n      <td>3.0</td>\n      <td>0.0</td>\n      <td>0.010526</td>\n      <td>0.010526</td>\n    </tr>\n    <tr>\n      <th>5</th>\n      <td>Foshan Lingnan Mingzhu Gymnasium, where Boxing...</td>\n      <td>2006</td>\n      <td>2006</td>\n      <td>True</td>\n      <td>1.000000</td>\n      <td>1</td>\n      <td>7.464730</td>\n      <td>3284.0</td>\n      <td>2.0</td>\n      <td>0.0</td>\n      <td>0.006568</td>\n      <td>0.006568</td>\n    </tr>\n    <tr>\n      <th>6</th>\n      <td>In between Parenting and Cook's Illustrated wh...</td>\n      <td>Parenting</td>\n      <td>Parenting</td>\n      <td>True</td>\n      <td>1.000000</td>\n      <td>1</td>\n      <td>10.895709</td>\n      <td>7210.0</td>\n      <td>4.0</td>\n      <td>0.0</td>\n      <td>0.014420</td>\n      <td>0.014420</td>\n    </tr>\n    <tr>\n      <th>7</th>\n      <td>In the year 2016, how many passengers used the...</td>\n      <td>11.04 million</td>\n      <td>Agent stopped due to iteration limit or time l...</td>\n      <td>False</td>\n      <td>0.000000</td>\n      <td>0</td>\n      <td>33.010987</td>\n      <td>21835.0</td>\n      <td>9.0</td>\n      <td>0.0</td>\n      <td>0.043670</td>\n      <td>0.043670</td>\n    </tr>\n    <tr>\n      <th>8</th>\n      <td>What was the nationality of Robert Kardashian'...</td>\n      <td>American</td>\n      <td>Agent stopped due to iteration limit or time l...</td>\n      <td>False</td>\n      <td>0.000000</td>\n      <td>0</td>\n      <td>21.680504</td>\n      <td>14876.0</td>\n      <td>9.0</td>\n      <td>0.0</td>\n      <td>0.029752</td>\n      <td>0.029752</td>\n    </tr>\n    <tr>\n      <th>9</th>\n      <td>In what Ohio city does the highway which the n...</td>\n      <td>Cincinnati</td>\n      <td>Agent stopped due to iteration limit or time l...</td>\n      <td>False</td>\n      <td>0.000000</td>\n      <td>0</td>\n      <td>30.278475</td>\n      <td>17950.0</td>\n      <td>9.0</td>\n      <td>0.0</td>\n      <td>0.035900</td>\n      <td>0.035900</td>\n    </tr>\n  </tbody>\n</table>\n</div>"
     },
     "execution_count": 9,
     "metadata": {},
     "output_type": "execute_result"
    }
   ],
   "source": [
    "df.head(10)"
   ],
   "metadata": {
    "collapsed": false,
    "ExecuteTime": {
     "start_time": "2023-04-23T19:13:33.905387Z",
     "end_time": "2023-04-23T19:13:33.910506Z"
    }
   }
  },
  {
   "cell_type": "markdown",
   "source": [
    "## PWSBase"
   ],
   "metadata": {
    "collapsed": false
   }
  },
  {
   "cell_type": "code",
   "execution_count": 12,
   "outputs": [],
   "source": [
    "dataset = DataLoader(EVAL_DATASET, seed=SEED).load(None)\n",
    "pws = PWS_Base(available_tools=[\"Google\", \"Wikipedia\", \"WolframAlpha\", \"Calculator\", \"LLM\"], fewshot=fewshots.GSM8K_PWS, planner_model=EVAL_LLM, solver_model=EVAL_LLM)\n",
    "eval = Evaluator(task=EVAL_DATASET, dataset=dataset, algo=pws)"
   ],
   "metadata": {
    "collapsed": false,
    "ExecuteTime": {
     "start_time": "2023-05-01T13:09:53.554910Z",
     "end_time": "2023-05-01T13:09:53.558487Z"
    }
   }
  },
  {
   "cell_type": "code",
   "execution_count": 13,
   "outputs": [
    {
     "name": "stdout",
     "output_type": "stream",
     "text": [
      "Solve the following task or problem. To assist you, we provide some plans and corresponding evidences that might be helpful. Notice that some of these information contain noise so you should trust them with caution.\n",
      "\n",
      "During a recent morning run, Ken averaged a speed of 5.9 m/s for 14.9 minutes. Ken then averaged a speed of 6.25 m/s for 5.1 minutes. Determine the total distance which Ken ran during his 20 minute jog.\n",
      "Plan: Calculate the total distance ran by multiplying the average speed by the total time.\n",
      "Evidence:\n",
      "119.78500000000001\n",
      "\n",
      "Now begin to solve the task or problem. Respond with the answer directly with no extra words.\n",
      "\n",
      "During a recent morning run, Ken averaged a speed of 5.9 m/s for 14.9 minutes. Ken then averaged a speed of 6.25 m/s for 5.1 minutes. Determine the total distance which Ken ran during his 20 minute jog.\n",
      "\n",
      "119.78500000000001\n"
     ]
    }
   ],
   "source": [
    "print(pws.run(dataset.input[0])[\"solver_log\"])"
   ],
   "metadata": {
    "collapsed": false,
    "ExecuteTime": {
     "start_time": "2023-05-01T13:10:17.745356Z",
     "end_time": "2023-05-01T13:10:24.853803Z"
    }
   }
  },
  {
   "cell_type": "code",
   "execution_count": 43,
   "outputs": [
    {
     "name": "stdout",
     "output_type": "stream",
     "text": [
      "\n",
      "******************* Start Evaluation *******************\n",
      "\n"
     ]
    },
    {
     "name": "stderr",
     "output_type": "stream",
     "text": [
      "100%|██████████| 53/53 [10:56<00:00, 12.38s/it]\n"
     ]
    },
    {
     "data": {
      "text/plain": "{'avg_em': 0.0,\n 'avg_f1': 0.14031239139452237,\n 'avg_acc': 0.660377358490566,\n 'avg_wall_time': 10.084138060515782,\n 'avg_total_tokens': 1225.754716981132,\n 'avg_total_cost': 0.00706698113207547,\n 'avg_steps': 2.5660377358490565,\n 'avg_token_cost': 0.00706698113207547,\n 'avg_tool_cost': 0.0}"
     },
     "execution_count": 43,
     "metadata": {},
     "output_type": "execute_result"
    }
   ],
   "source": [
    "response, data = eval.run()\n",
    "df = save_data(dataset, data, SAVE_DIR.format(\"pws\", EVAL_LLM))\n",
    "response"
   ],
   "metadata": {
    "collapsed": false,
    "ExecuteTime": {
     "start_time": "2023-04-30T02:51:45.815431Z",
     "end_time": "2023-04-30T03:02:42.222516Z"
    }
   }
  },
  {
   "cell_type": "code",
   "execution_count": 13,
   "outputs": [
    {
     "data": {
      "text/plain": "                                            question  \\\n0  Noble is a 2014 film written and directed by S...   \n1  Who was the English clergyman and Archbishop o...   \n2  Which fictional character in the Harry Potter ...   \n3  What Classification is the album by UK band Se...   \n4  What actor from The Imitation Game also starre...   \n\n                     answer                                          preds  \\\n0  The Cripple of Inishmaan                    Normal People (miniseries).   \n1            Henry Beaufort  Otto von Ziegenhain led the Battle of Tachov.   \n2             Rubeus Hagrid                                 Rubeus Hagrid.   \n3                  Trip hop                                       Britpop.   \n4               Mark Strong                           Benedict Cumberbatch   \n\n      em   f1  acc  wall_time  total_tokens  steps  tool_cost  token_cost  \\\n0  False  0.0    0   7.235505          1206      4        0.0     0.02412   \n1  False  0.0    0   9.427552          1235      5        0.0     0.02470   \n2   True  1.0    1   5.455595          1460      3        0.0     0.02920   \n3  False  0.0    0   6.557354          1226      4        0.0     0.02452   \n4  False  0.0    0  16.167417          2319      6        0.0     0.04638   \n\n   total_cost  \n0     0.02412  \n1     0.02470  \n2     0.02920  \n3     0.02452  \n4     0.04638  ",
      "text/html": "<div>\n<style scoped>\n    .dataframe tbody tr th:only-of-type {\n        vertical-align: middle;\n    }\n\n    .dataframe tbody tr th {\n        vertical-align: top;\n    }\n\n    .dataframe thead th {\n        text-align: right;\n    }\n</style>\n<table border=\"1\" class=\"dataframe\">\n  <thead>\n    <tr style=\"text-align: right;\">\n      <th></th>\n      <th>question</th>\n      <th>answer</th>\n      <th>preds</th>\n      <th>em</th>\n      <th>f1</th>\n      <th>acc</th>\n      <th>wall_time</th>\n      <th>total_tokens</th>\n      <th>steps</th>\n      <th>tool_cost</th>\n      <th>token_cost</th>\n      <th>total_cost</th>\n    </tr>\n  </thead>\n  <tbody>\n    <tr>\n      <th>0</th>\n      <td>Noble is a 2014 film written and directed by S...</td>\n      <td>The Cripple of Inishmaan</td>\n      <td>Normal People (miniseries).</td>\n      <td>False</td>\n      <td>0.0</td>\n      <td>0</td>\n      <td>7.235505</td>\n      <td>1206</td>\n      <td>4</td>\n      <td>0.0</td>\n      <td>0.02412</td>\n      <td>0.02412</td>\n    </tr>\n    <tr>\n      <th>1</th>\n      <td>Who was the English clergyman and Archbishop o...</td>\n      <td>Henry Beaufort</td>\n      <td>Otto von Ziegenhain led the Battle of Tachov.</td>\n      <td>False</td>\n      <td>0.0</td>\n      <td>0</td>\n      <td>9.427552</td>\n      <td>1235</td>\n      <td>5</td>\n      <td>0.0</td>\n      <td>0.02470</td>\n      <td>0.02470</td>\n    </tr>\n    <tr>\n      <th>2</th>\n      <td>Which fictional character in the Harry Potter ...</td>\n      <td>Rubeus Hagrid</td>\n      <td>Rubeus Hagrid.</td>\n      <td>True</td>\n      <td>1.0</td>\n      <td>1</td>\n      <td>5.455595</td>\n      <td>1460</td>\n      <td>3</td>\n      <td>0.0</td>\n      <td>0.02920</td>\n      <td>0.02920</td>\n    </tr>\n    <tr>\n      <th>3</th>\n      <td>What Classification is the album by UK band Se...</td>\n      <td>Trip hop</td>\n      <td>Britpop.</td>\n      <td>False</td>\n      <td>0.0</td>\n      <td>0</td>\n      <td>6.557354</td>\n      <td>1226</td>\n      <td>4</td>\n      <td>0.0</td>\n      <td>0.02452</td>\n      <td>0.02452</td>\n    </tr>\n    <tr>\n      <th>4</th>\n      <td>What actor from The Imitation Game also starre...</td>\n      <td>Mark Strong</td>\n      <td>Benedict Cumberbatch</td>\n      <td>False</td>\n      <td>0.0</td>\n      <td>0</td>\n      <td>16.167417</td>\n      <td>2319</td>\n      <td>6</td>\n      <td>0.0</td>\n      <td>0.04638</td>\n      <td>0.04638</td>\n    </tr>\n  </tbody>\n</table>\n</div>"
     },
     "execution_count": 12,
     "metadata": {},
     "output_type": "execute_result"
    },
    {
     "data": {
      "text/plain": "                                            question  \\\n0  Noble is a 2014 film written and directed by S...   \n1  Who was the English clergyman and Archbishop o...   \n2  Which fictional character in the Harry Potter ...   \n3  What Classification is the album by UK band Se...   \n4  What actor from The Imitation Game also starre...   \n5  This 2006 Iowa Hawkeyes football coach played ...   \n6  Ikivo Animator integrates with a software appl...   \n7  What American actress born in 1912 did the vio...   \n8  Which plant has more species, Teucrium or Atal...   \n9  When was the British-American journalist and e...   \n\n                     answer  \\\n0  The Cripple of Inishmaan   \n1            Henry Beaufort   \n2             Rubeus Hagrid   \n3                  Trip hop   \n4               Mark Strong   \n5              Kirk Ferentz   \n6             Adobe Systems   \n7             Marta Eggerth   \n8                  Teucrium   \n9           3 November 1949   \n\n                                               preds     em        f1  acc  \\\n0                        Normal People (miniseries).  False  0.000000    0   \n1      Otto von Ziegenhain led the Battle of Tachov.  False  0.000000    0   \n2                                     Rubeus Hagrid.   True  1.000000    1   \n3                                           Britpop.  False  0.000000    0   \n4                               Benedict Cumberbatch  False  0.000000    0   \n5  Yes, Kirk Ferentz played linebacker for the Un...  False  0.307692    1   \n6                                        Hypermedia.  False  0.000000    0   \n7                                     Mary Pickford.  False  0.000000    0   \n8                         Teucrium has more species.  False  0.400000    1   \n9                                           Unknown.  False  0.000000    0   \n\n   wall_time  total_tokens  steps  tool_cost  token_cost  total_cost  \n0   7.235505          1206      4        0.0     0.02412     0.02412  \n1   9.427552          1235      5        0.0     0.02470     0.02470  \n2   5.455595          1460      3        0.0     0.02920     0.02920  \n3   6.557354          1226      4        0.0     0.02452     0.02452  \n4  16.167417          2319      6        0.0     0.04638     0.04638  \n5   9.570546          1998      5        0.0     0.03996     0.03996  \n6   4.108220           723      3        0.0     0.01446     0.01446  \n7  11.671225          2403      5        0.0     0.04806     0.04806  \n8   6.937577          1497      4        0.0     0.02994     0.02994  \n9   8.877709          1484      5        0.0     0.02968     0.02968  ",
      "text/html": "<div>\n<style scoped>\n    .dataframe tbody tr th:only-of-type {\n        vertical-align: middle;\n    }\n\n    .dataframe tbody tr th {\n        vertical-align: top;\n    }\n\n    .dataframe thead th {\n        text-align: right;\n    }\n</style>\n<table border=\"1\" class=\"dataframe\">\n  <thead>\n    <tr style=\"text-align: right;\">\n      <th></th>\n      <th>question</th>\n      <th>answer</th>\n      <th>preds</th>\n      <th>em</th>\n      <th>f1</th>\n      <th>acc</th>\n      <th>wall_time</th>\n      <th>total_tokens</th>\n      <th>steps</th>\n      <th>tool_cost</th>\n      <th>token_cost</th>\n      <th>total_cost</th>\n    </tr>\n  </thead>\n  <tbody>\n    <tr>\n      <th>0</th>\n      <td>Noble is a 2014 film written and directed by S...</td>\n      <td>The Cripple of Inishmaan</td>\n      <td>Normal People (miniseries).</td>\n      <td>False</td>\n      <td>0.000000</td>\n      <td>0</td>\n      <td>7.235505</td>\n      <td>1206</td>\n      <td>4</td>\n      <td>0.0</td>\n      <td>0.02412</td>\n      <td>0.02412</td>\n    </tr>\n    <tr>\n      <th>1</th>\n      <td>Who was the English clergyman and Archbishop o...</td>\n      <td>Henry Beaufort</td>\n      <td>Otto von Ziegenhain led the Battle of Tachov.</td>\n      <td>False</td>\n      <td>0.000000</td>\n      <td>0</td>\n      <td>9.427552</td>\n      <td>1235</td>\n      <td>5</td>\n      <td>0.0</td>\n      <td>0.02470</td>\n      <td>0.02470</td>\n    </tr>\n    <tr>\n      <th>2</th>\n      <td>Which fictional character in the Harry Potter ...</td>\n      <td>Rubeus Hagrid</td>\n      <td>Rubeus Hagrid.</td>\n      <td>True</td>\n      <td>1.000000</td>\n      <td>1</td>\n      <td>5.455595</td>\n      <td>1460</td>\n      <td>3</td>\n      <td>0.0</td>\n      <td>0.02920</td>\n      <td>0.02920</td>\n    </tr>\n    <tr>\n      <th>3</th>\n      <td>What Classification is the album by UK band Se...</td>\n      <td>Trip hop</td>\n      <td>Britpop.</td>\n      <td>False</td>\n      <td>0.000000</td>\n      <td>0</td>\n      <td>6.557354</td>\n      <td>1226</td>\n      <td>4</td>\n      <td>0.0</td>\n      <td>0.02452</td>\n      <td>0.02452</td>\n    </tr>\n    <tr>\n      <th>4</th>\n      <td>What actor from The Imitation Game also starre...</td>\n      <td>Mark Strong</td>\n      <td>Benedict Cumberbatch</td>\n      <td>False</td>\n      <td>0.000000</td>\n      <td>0</td>\n      <td>16.167417</td>\n      <td>2319</td>\n      <td>6</td>\n      <td>0.0</td>\n      <td>0.04638</td>\n      <td>0.04638</td>\n    </tr>\n    <tr>\n      <th>5</th>\n      <td>This 2006 Iowa Hawkeyes football coach played ...</td>\n      <td>Kirk Ferentz</td>\n      <td>Yes, Kirk Ferentz played linebacker for the Un...</td>\n      <td>False</td>\n      <td>0.307692</td>\n      <td>1</td>\n      <td>9.570546</td>\n      <td>1998</td>\n      <td>5</td>\n      <td>0.0</td>\n      <td>0.03996</td>\n      <td>0.03996</td>\n    </tr>\n    <tr>\n      <th>6</th>\n      <td>Ikivo Animator integrates with a software appl...</td>\n      <td>Adobe Systems</td>\n      <td>Hypermedia.</td>\n      <td>False</td>\n      <td>0.000000</td>\n      <td>0</td>\n      <td>4.108220</td>\n      <td>723</td>\n      <td>3</td>\n      <td>0.0</td>\n      <td>0.01446</td>\n      <td>0.01446</td>\n    </tr>\n    <tr>\n      <th>7</th>\n      <td>What American actress born in 1912 did the vio...</td>\n      <td>Marta Eggerth</td>\n      <td>Mary Pickford.</td>\n      <td>False</td>\n      <td>0.000000</td>\n      <td>0</td>\n      <td>11.671225</td>\n      <td>2403</td>\n      <td>5</td>\n      <td>0.0</td>\n      <td>0.04806</td>\n      <td>0.04806</td>\n    </tr>\n    <tr>\n      <th>8</th>\n      <td>Which plant has more species, Teucrium or Atal...</td>\n      <td>Teucrium</td>\n      <td>Teucrium has more species.</td>\n      <td>False</td>\n      <td>0.400000</td>\n      <td>1</td>\n      <td>6.937577</td>\n      <td>1497</td>\n      <td>4</td>\n      <td>0.0</td>\n      <td>0.02994</td>\n      <td>0.02994</td>\n    </tr>\n    <tr>\n      <th>9</th>\n      <td>When was the British-American journalist and e...</td>\n      <td>3 November 1949</td>\n      <td>Unknown.</td>\n      <td>False</td>\n      <td>0.000000</td>\n      <td>0</td>\n      <td>8.877709</td>\n      <td>1484</td>\n      <td>5</td>\n      <td>0.0</td>\n      <td>0.02968</td>\n      <td>0.02968</td>\n    </tr>\n  </tbody>\n</table>\n</div>"
     },
     "execution_count": 13,
     "metadata": {},
     "output_type": "execute_result"
    }
   ],
   "source": [
    "df.head(10)"
   ],
   "metadata": {
    "collapsed": false,
    "ExecuteTime": {
     "start_time": "2023-04-24T19:48:14.455989Z",
     "end_time": "2023-04-24T19:48:14.487495Z"
    }
   }
  },
  {
   "cell_type": "code",
   "execution_count": null,
   "outputs": [],
   "source": [],
   "metadata": {
    "collapsed": false
   }
  }
 ],
 "metadata": {
  "kernelspec": {
   "display_name": "Python 3",
   "language": "python",
   "name": "python3"
  },
  "language_info": {
   "codemirror_mode": {
    "name": "ipython",
    "version": 2
   },
   "file_extension": ".py",
   "mimetype": "text/x-python",
   "name": "python",
   "nbconvert_exporter": "python",
   "pygments_lexer": "ipython2",
   "version": "2.7.6"
  }
 },
 "nbformat": 4,
 "nbformat_minor": 0
}
