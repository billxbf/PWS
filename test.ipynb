{
 "cells": [
  {
   "cell_type": "markdown",
   "source": [],
   "metadata": {
    "collapsed": false
   }
  },
  {
   "cell_type": "code",
   "execution_count": 1,
   "outputs": [],
   "source": [
    "import os\n",
    "with open(\"/home/billxbf/Documents/myks/openai.key\", \"r\") as f:\n",
    "    keys = f.readlines()\n",
    "    os.environ[\"OPENAI_API_KEY\"] = keys[0].strip()\n",
    "with open(\"/home/billxbf/Documents/myks/serpapi.key\", \"r\") as f:\n",
    "    keys = f.readlines()\n",
    "    os.environ[\"SERPAPI_API_KEY\"] = keys[0].strip()\n",
    "with open(\"/home/billxbf/Documents/myks/wolfram.key\", \"r\") as f:\n",
    "    keys = f.readlines()\n",
    "    os.environ[\"WOLFRAM_ALPHA_APPID\"] = keys[0].strip()"
   ],
   "metadata": {
    "collapsed": false,
    "ExecuteTime": {
     "start_time": "2023-04-28T21:18:00.755364Z",
     "end_time": "2023-04-28T21:18:00.755511Z"
    }
   }
  },
  {
   "cell_type": "code",
   "execution_count": 2,
   "outputs": [],
   "source": [
    "from algos.PWS import *\n",
    "from algos.react import ReactBase, ReactZeroShot\n",
    "from algos.notool import CoT, IO\n",
    "from prompts import fewshots"
   ],
   "metadata": {
    "collapsed": false,
    "ExecuteTime": {
     "start_time": "2023-04-28T21:18:00.890004Z",
     "end_time": "2023-04-28T21:18:01.364468Z"
    }
   }
  },
  {
   "cell_type": "markdown",
   "source": [
    "## REACT BASE"
   ],
   "metadata": {
    "collapsed": false
   }
  },
  {
   "cell_type": "code",
   "execution_count": 3,
   "outputs": [
    {
     "data": {
      "text/plain": "8"
     },
     "execution_count": 3,
     "metadata": {},
     "output_type": "execute_result"
    }
   ],
   "source": [
    "reactbase = ReactBase(fewshot=fewshots.HOTPOTQA_REACT,model_name=\"gpt-3.5-turbo\",verbose=True)\n",
    "reactbase.agent.max_iterations"
   ],
   "metadata": {
    "collapsed": false,
    "ExecuteTime": {
     "start_time": "2023-04-21T21:38:51.400017Z",
     "end_time": "2023-04-21T21:38:51.465631Z"
    }
   }
  },
  {
   "cell_type": "code",
   "execution_count": 4,
   "outputs": [
    {
     "name": "stdout",
     "output_type": "stream",
     "text": [
      "\n",
      "\n",
      "\u001B[1m> Entering new AgentExecutor chain...\u001B[0m\n",
      "\u001B[32;1m\u001B[1;3mThought: I need to search for The Hennchata and find out which cognac house makes the main ingredient.\n",
      "Action: Search[The Hennchata]\u001B[0m\n",
      "Observation: \u001B[36;1m\u001B[1;3mThe Hennchata is a cocktail consisting of Hennessy cognac and Mexican rice horchata agua fresca. It was invented in 2013 by Jorge Sánchez at his Chaco's Mexican restaurant in San Jose, California.\u001B[0m\n",
      "Thought:\u001B[32;1m\u001B[1;3mThe Hennchata contains Hennessy cognac, so I need to search for the cognac house Hennessy and confirm if it is the one that makes the main ingredient.\n",
      "Action: Search[Hennessy cognac]\u001B[0m\n",
      "Observation: \u001B[36;1m\u001B[1;3mJas Hennessy & Co., commonly known simply as Hennessy (French pronunciation: ​[ɛnɛsi]), is a French producer of cognac, which has its headquarters in Cognac, France.\n",
      "It is one of the \"big four\" cognac houses, along with Martell, Courvoisier, and Rémy Martin, who together make around 85% of the world's cognac. Hennessy sells approximately 102 million bottles of its cognacs per year, making it the world's largest cognac producer, and in 2017 its sales represented around 60% of the US cognac market. As well as distilling cognac eaux-de-vie itself, the company also acts as a negociant.The brand is owned by Moët Hennessy since a champagne & cognac merger in the early seventies, which is in turn owned by LVMH (66%) and Diageo (34%), Diageo acting as a non-controlling shareholder. Hennessy pioneered several industry-standard practices in the world of cognac, and its association with luxury has made it a regular point of reference in popular culture, especially in hip hop.\u001B[0m\n",
      "Thought:\u001B[32;1m\u001B[1;3mHennessy is the cognac house that makes the main ingredient in The Hennchata. \n",
      "Action: Finish[Hennessy]\u001B[0m\n",
      "\n",
      "\u001B[1m> Finished chain.\u001B[0m\n"
     ]
    }
   ],
   "source": [
    "response = reactbase.run(\"What is the name of the cognac house that makes the main ingredient in The Hennchata?\")"
   ],
   "metadata": {
    "collapsed": false,
    "ExecuteTime": {
     "start_time": "2023-04-21T21:38:53.821711Z",
     "end_time": "2023-04-21T21:39:02.681565Z"
    }
   }
  },
  {
   "cell_type": "code",
   "execution_count": 5,
   "outputs": [
    {
     "data": {
      "text/plain": "{'wall_time': 8.863192796707153,\n 'input': 'What is the name of the cognac house that makes the main ingredient in The Hennchata?',\n 'output': 'Hennessy',\n 'intermediate_steps': [(AgentAction(tool='Search', tool_input='The Hennchata', log='Thought: I need to search for The Hennchata and find out which cognac house makes the main ingredient.\\nAction: Search[The Hennchata]'),\n   \"The Hennchata is a cocktail consisting of Hennessy cognac and Mexican rice horchata agua fresca. It was invented in 2013 by Jorge Sánchez at his Chaco's Mexican restaurant in San Jose, California.\"),\n  (AgentAction(tool='Search', tool_input='Hennessy cognac', log='The Hennchata contains Hennessy cognac, so I need to search for the cognac house Hennessy and confirm if it is the one that makes the main ingredient.\\nAction: Search[Hennessy cognac]'),\n   'Jas Hennessy & Co., commonly known simply as Hennessy (French pronunciation: \\u200b[ɛnɛsi]), is a French producer of cognac, which has its headquarters in Cognac, France.\\nIt is one of the \"big four\" cognac houses, along with Martell, Courvoisier, and Rémy Martin, who together make around 85% of the world\\'s cognac. Hennessy sells approximately 102 million bottles of its cognacs per year, making it the world\\'s largest cognac producer, and in 2017 its sales represented around 60% of the US cognac market. As well as distilling cognac eaux-de-vie itself, the company also acts as a negociant.The brand is owned by Moët Hennessy since a champagne & cognac merger in the early seventies, which is in turn owned by LVMH (66%) and Diageo (34%), Diageo acting as a non-controlling shareholder. Hennessy pioneered several industry-standard practices in the world of cognac, and its association with luxury has made it a regular point of reference in popular culture, especially in hip hop.')],\n 'tool_usage': {'search': 2, 'lookup': 0},\n 'total_tokens': 4764,\n 'prompt_tokens': 4653,\n 'completion_tokens': 111,\n 'total_cost': 0.009528,\n 'steps': 3,\n 'token_cost': 0.009528,\n 'tool_cost': 0}"
     },
     "execution_count": 5,
     "metadata": {},
     "output_type": "execute_result"
    }
   ],
   "source": [
    "response"
   ],
   "metadata": {
    "collapsed": false,
    "ExecuteTime": {
     "start_time": "2023-04-21T21:39:07.345794Z",
     "end_time": "2023-04-21T21:39:07.347907Z"
    }
   }
  },
  {
   "cell_type": "markdown",
   "source": [
    "## REACT ZERO SHOT"
   ],
   "metadata": {
    "collapsed": false
   }
  },
  {
   "cell_type": "code",
   "execution_count": 1,
   "outputs": [
    {
     "ename": "NameError",
     "evalue": "name 'ReactZeroShot' is not defined",
     "output_type": "error",
     "traceback": [
      "\u001B[0;31m---------------------------------------------------------------------------\u001B[0m",
      "\u001B[0;31mNameError\u001B[0m                                 Traceback (most recent call last)",
      "\u001B[0;32m/tmp/ipykernel_508940/1881762375.py\u001B[0m in \u001B[0;36m<module>\u001B[0;34m\u001B[0m\n\u001B[0;32m----> 1\u001B[0;31m \u001B[0mreactzero\u001B[0m \u001B[0;34m=\u001B[0m \u001B[0mReactZeroShot\u001B[0m\u001B[0;34m(\u001B[0m\u001B[0mverbose\u001B[0m\u001B[0;34m=\u001B[0m\u001B[0;32mTrue\u001B[0m\u001B[0;34m)\u001B[0m\u001B[0;34m\u001B[0m\u001B[0;34m\u001B[0m\u001B[0m\n\u001B[0m\u001B[1;32m      2\u001B[0m \u001B[0mresponse2\u001B[0m \u001B[0;34m=\u001B[0m \u001B[0mreactzero\u001B[0m\u001B[0;34m.\u001B[0m\u001B[0mrun\u001B[0m\u001B[0;34m(\u001B[0m\u001B[0;34m\"Who is the director of the 2003 film which has scenes in it filmed at the Quality Cafe in Los Angeles?\"\u001B[0m\u001B[0;34m)\u001B[0m\u001B[0;34m\u001B[0m\u001B[0;34m\u001B[0m\u001B[0m\n",
      "\u001B[0;31mNameError\u001B[0m: name 'ReactZeroShot' is not defined"
     ]
    }
   ],
   "source": [
    "reactzero = ReactZeroShot(verbose=True)\n",
    "response2 = reactzero.run(\"Who is the director of the 2003 film which has scenes in it filmed at the Quality Cafe in Los Angeles?\")"
   ],
   "metadata": {
    "collapsed": false,
    "ExecuteTime": {
     "start_time": "2023-04-17T04:11:43.280861Z",
     "end_time": "2023-04-17T04:11:50.057706Z"
    }
   }
  },
  {
   "cell_type": "markdown",
   "source": [],
   "metadata": {
    "collapsed": false
   }
  },
  {
   "cell_type": "code",
   "execution_count": 4,
   "outputs": [
    {
     "data": {
      "text/plain": "{'wall_time': 8.320967435836792,\n 'input': 'Musician and satirist Allie Goertz wrote a song about the \"The Simpsons\" character Milhouse, who Matt Groening named after who?',\n 'output': 'Richard Nixon',\n 'intermediate_steps': [(AgentAction(tool='Search', tool_input='Matt Groening Milhouse', log=' I need to find out who Matt Groening named Milhouse after.\\nAction: Search\\nAction Input: \"Matt Groening Milhouse\"'),\n   'Milhouse Mussolini Van Houten is a recurring character in the Fox animated television series The Simpsons voiced by Pamela Hayden and created by Matt Groening.'),\n  (AgentAction(tool='Search', tool_input='Matt Groening Milhouse origin', log=' I need to find out who Matt Groening named Milhouse after.\\nAction: Search\\nAction Input: \"Matt Groening Milhouse origin\"'),\n   'Creation. Milhouse was designed by Matt Groening for a planned series on NBC, which was abandoned. The design was then used for a Butterfinger commercial, and it was decided to use the character in the series. Milhouse was named after U.S. president Richard Nixon, whose middle name was Milhous.')],\n 'tool_usage': {'serpapi': 2, 'llm-math_token': 0},\n 'total_tokens': 932,\n 'prompt_tokens': 860,\n 'completion_tokens': 72,\n 'total_cost': 0.03864}"
     },
     "execution_count": 4,
     "metadata": {},
     "output_type": "execute_result"
    }
   ],
   "source": [
    "response2"
   ],
   "metadata": {
    "collapsed": false,
    "ExecuteTime": {
     "start_time": "2023-04-17T03:59:47.908567Z",
     "end_time": "2023-04-17T03:59:47.911943Z"
    }
   }
  },
  {
   "cell_type": "markdown",
   "source": [
    "## PWS"
   ],
   "metadata": {
    "collapsed": false
   }
  },
  {
   "cell_type": "code",
   "execution_count": 7,
   "outputs": [],
   "source": [
    "pws = PWS_Base()\n",
    "response3 = pws.run(\"What is the name of the cognac house that makes the main ingredient in The Hennchata?\")"
   ],
   "metadata": {
    "collapsed": false,
    "ExecuteTime": {
     "start_time": "2023-04-21T21:41:30.079810Z",
     "end_time": "2023-04-21T21:41:37.141476Z"
    }
   }
  },
  {
   "cell_type": "code",
   "execution_count": 8,
   "outputs": [
    {
     "data": {
      "text/plain": "{'wall_time': 7.061087608337402,\n 'input': 'What is the name of the cognac house that makes the main ingredient in The Hennchata?',\n 'output': 'Hennessy.',\n 'planner_log': \"For the following tasks, make plans that can solve the problem step-by-step. For each plan, indicate which external tool together with tool input to retrieve evidence. You can store the evidence into a variable #E (#E1, #E2, ...) that can be called by later tools. Available tools are: \\n\\nTools can be one of the following:\\nWikipedia[input]: Worker that search for similar page contents from Wikipedia. Useful when you need to get holistic knowledge about people, places, companies, historical events, or other subjects. The response are long and might contain some irrelevant information. Input should be a search query.\\nLLM[input]: A pretrained LLM like yourself. Useful when you need to act with general world knowledge and common sense. Prioritize it when you are confident in solving the problem yourself. Input can be any instruction.\\n\\nBegin! Describe your plans with rich details.\\n\\nQuestion: What is the elevation range for the area that the eastern sector of the Colorado orogeny extends into?\\nPlan: Search for more information about Colorado orogeny.\\n#E1 = Wikipedia[Colorado orogeny]\\nPlan: Find out the area that eastern sector of the Colorado orogeny extends into.\\n#E2 = LLM[What is the name of the area that eastern sector of Colorado extends into? Given context: #E1]\\nPlan: Search for more information about the area.\\n#E3 = Wikipedia[#E2]\\nPlan: Find out the elevation range for the area.\\n#E4 = LLM[What is elevation range for the area #E2? Given context: #E3]\\n\\nQuestion: Which magazine was started first Arthur's Magazine or First for Women?\\nPlan: Search for more information about Arthur's Magazine.\\n#E1 = Wikipedia[Arthur's Magazine]\\nPlan: Search for more information about First for Women.\\n#E2 = Wikipedia[First for Women]\\nPlan: Compare the two start dates and determine which magazine was started first.\\n#E3 = LLM[Which magazine was started first Arthur's Magazine or First for Women? Given context: #E1, #E2]\\nWhat is the name of the cognac house that makes the main ingredient in The Hennchata?\\nPlan: Search for more information about The Hennchata.\\n#E1 = Wikipedia[The Hennchata]\\nPlan: Find out the name of the cognac house that makes the main ingredient in The Hennchata.\\n#E2 = LLM[What is the name of the cognac house that makes the main ingredient in The Hennchata? Given context: #E1]\",\n 'worker_log': \"Plan: Search for more information about The Hennchata.\\nEvidence:\\nThe Hennchata is a cocktail consisting of Hennessy cognac and Mexican rice horchata agua fresca. It was invented in 2013 by Jorge Sánchez at his Chaco's Mexican restaurant in San Jose, California.\\nPlan: Find out the name of the cognac house that makes the main ingredient in The Hennchata.\\nEvidence:\\nHennessy.\\n\",\n 'solver_log': \"Solve the following task or problem. To assist you, we provide some plans and corresponding evidences that might be helpful. Notice that some of these information contain noise so you should trust them with caution.\\n\\nWhat is the name of the cognac house that makes the main ingredient in The Hennchata?\\nPlan: Search for more information about The Hennchata.\\nEvidence:\\nThe Hennchata is a cocktail consisting of Hennessy cognac and Mexican rice horchata agua fresca. It was invented in 2013 by Jorge Sánchez at his Chaco's Mexican restaurant in San Jose, California.\\nPlan: Find out the name of the cognac house that makes the main ingredient in The Hennchata.\\nEvidence:\\nHennessy.\\n\\nNow begin to solve the task or problem. Respond directly with no extra words.\\nWhat is the name of the cognac house that makes the main ingredient in The Hennchata?\\nHennessy.\",\n 'tool_usage': {'LLM_token': 77},\n 'steps': 3,\n 'total_tokens': 857,\n 'token_cost': 0.017140000000000002,\n 'tool_cost': 0.0,\n 'total_cost': 0.017140000000000002}"
     },
     "execution_count": 8,
     "metadata": {},
     "output_type": "execute_result"
    }
   ],
   "source": [
    "response3"
   ],
   "metadata": {
    "collapsed": false,
    "ExecuteTime": {
     "start_time": "2023-04-21T21:41:59.477974Z",
     "end_time": "2023-04-21T21:41:59.486365Z"
    }
   }
  },
  {
   "cell_type": "code",
   "execution_count": 10,
   "outputs": [
    {
     "name": "stdout",
     "output_type": "stream",
     "text": [
      "Solve the following task or problem. To assist you, we provide some plans and corresponding evidences that might be helpful. Notice that some of these information contain noise so you should trust them with caution.\n",
      "\n",
      "Are both The New Pornographers and Kings of Leon American rock bands?\n",
      "Plan: Find out if The New Pornographers is an American rock band.\n",
      "Evidence:\n",
      "The New Pornographers are a Canadian indie rock band, formed in 1997 in Vancouver.\n",
      "Plan: Find out if Kings of Leon is an American rock band.\n",
      "Evidence:\n",
      "Kings of Leon is an American rock band formed in Nashville, Tennessee, in 1999. The band is composed of brothers Caleb, Nathan and Jared Followill, and their cousin Matthew Followill.\n",
      "\n",
      "Now begin to solve the task or problem. Repond directly with no extra words.\n",
      "Are both The New Pornographers and Kings of Leon American rock bands?\n",
      "Yes.\n"
     ]
    }
   ],
   "source": [
    "print(response3[\"solver_log\"])"
   ],
   "metadata": {
    "collapsed": false,
    "ExecuteTime": {
     "start_time": "2023-04-17T04:09:18.035380Z",
     "end_time": "2023-04-17T04:09:18.035682Z"
    }
   }
  },
  {
   "cell_type": "code",
   "execution_count": null,
   "outputs": [],
   "source": [
    "from nodes.Worker import WikipediaWorker, DocStoreLookUpWorker\n",
    "from utils.CustomDocstoreExplorer import CustomDocstoreExplorer\n",
    "from langchain import Wikipedia\n",
    "docstore = CustomDocstoreExplorer(Wikipedia())"
   ],
   "metadata": {
    "collapsed": false
   }
  },
  {
   "cell_type": "code",
   "execution_count": 17,
   "outputs": [],
   "source": [
    "import json\n",
    "with open(\"prompts/prompts_naive.json\") as f:\n",
    "    data = json.load(f)"
   ],
   "metadata": {
    "collapsed": false,
    "ExecuteTime": {
     "start_time": "2023-04-17T01:43:31.661130Z",
     "end_time": "2023-04-17T01:43:31.663047Z"
    }
   }
  },
  {
   "cell_type": "code",
   "execution_count": 22,
   "outputs": [
    {
     "data": {
      "text/plain": "\"Question: What is the elevation range for the area that the eastern sector of the Colorado orogeny extends into?\\nPlan: Search for more information about Colorado orogeny.\\n#E1 = Wikipedia[Colorado orogeny]\\nPlan: Look up for key information about eastern sector in search result.\\n#E2 = LookUp[eastern sector]\\nPlan: Find out the area that eastern sector of the Colorado orogeny extends into.\\n#E4 = LLM[What is the name of the area that eastern sector of Colorado extends into? Given context: #E2]\\nPlan: Search for more information about the area.\\n#E5 = Wikipedia[#E4]\\nPlan: Look up for the key information about elevation in search result.\\n#E6 = LookUp[elevation]\\nPlan: Find out the elevation range for the area.\\n#E7 = LLM[What is elevation range for the area [#E4]? Given context: #E5]\\n\\nQuestion: Which magazine was started first Arthur's Magazine or First for Women?\\nPlan: Search for more information about Arthur's Magazine.\\n#E1 = Wikipedia[Arthur's Magazine] \\nPlan: Look up for key information about founding date in search result.\\n#E2 = LookUp[found] \\nPlan: Search for more information about First for Women.\\n#E3 = Wikipedia[First for Women] \\nPlan: Look up for key information about founding date in search result.\\n#E4 = LookUp[found]\\nPlan: Compare the founding date of the two magazines.\\n#E5 = LLM[Which magazine was started first [Arthur's Magazine] or [First for Women]? Given context: #E2 and #E4]\""
     },
     "execution_count": 22,
     "metadata": {},
     "output_type": "execute_result"
    }
   ],
   "source": [
    "a"
   ],
   "metadata": {
    "collapsed": false,
    "ExecuteTime": {
     "start_time": "2023-04-17T03:17:15.996030Z",
     "end_time": "2023-04-17T03:17:16.000651Z"
    }
   }
  },
  {
   "cell_type": "code",
   "execution_count": 2,
   "outputs": [
    {
     "data": {
      "text/plain": "\"Question: What is the elevation range for the area that the eastern sector of the Colorado orogeny extends into?\\nPlan: Search for more information about Colorado orogeny.\\n#E1 = Wikipedia[Colorado orogeny]\\nPlan: Look up for key information about eastern sector in search result.\\n#E2 = LookUp[eastern sector]\\nPlan: Find out the area that eastern sector of the Colorado orogeny extends into.\\n#E4 = LLM[What is the name of the area that eastern sector of Colorado extends into? Given context: #E2]\\nPlan: Search for more information about the area.\\n#E5 = Wikipedia[#E4]\\nPlan: Look up for the key information about elevation in search result.\\n#E6 = LookUp[elevation]\\nPlan: Find out the elevation range for the area.\\n#E7 = LLM[What is elevation range for the area [#E4]? Given context: #E5]\\n\\nQuestion: Which magazine was started first Arthur's Magazine or First for Women?\\nPlan: Search for more information about Arthur's Magazine.\\n#E1 = Wikipedia[Arthur's Magazine] \\nPlan: Look up for key information about founding date in search result.\\n#E2 = LookUp[found] \\nPlan: Search for more information about First for Women.\\n#E3 = Wikipedia[First for Women] \\nPlan: Look up for key information about founding date in search result.\\n#E4 = LookUp[found]\\nPlan: Compare the founding date of the two magazines.\\n#E5 = LLM[Which magazine was started first [Arthur's Magazine] or [First for Women]? Given context: #E2 and #E4]\\n\""
     },
     "execution_count": 2,
     "metadata": {},
     "output_type": "execute_result"
    }
   ],
   "source": [
    "from prompts import fewshots\n",
    "fewshots.HOTPOTQA_PWS_BASE"
   ],
   "metadata": {
    "collapsed": false,
    "ExecuteTime": {
     "start_time": "2023-04-17T03:32:47.134617Z",
     "end_time": "2023-04-17T03:32:47.140611Z"
    }
   }
  },
  {
   "cell_type": "code",
   "execution_count": 5,
   "outputs": [
    {
     "data": {
      "text/plain": "\"Arthur's Magazine.\""
     },
     "execution_count": 5,
     "metadata": {},
     "output_type": "execute_result"
    }
   ],
   "source": [
    "from nodes.Worker import LLMWorker\n",
    "\n",
    "tool = LLMWorker()\n",
    "tool.run(\"Which magazine was started first Arthur's Magazine or First for Women? \")"
   ],
   "metadata": {
    "collapsed": false,
    "ExecuteTime": {
     "start_time": "2023-04-17T03:36:35.359034Z",
     "end_time": "2023-04-17T03:36:35.756787Z"
    }
   }
  },
  {
   "cell_type": "code",
   "execution_count": null,
   "outputs": [],
   "source": [],
   "metadata": {
    "collapsed": false
   }
  },
  {
   "cell_type": "code",
   "execution_count": 6,
   "outputs": [
    {
     "name": "stdout",
     "output_type": "stream",
     "text": [
      "For the following tasks, make plans that can solve the problem step-by-step. For each plan, indicate which external tool together with tool input to retrieve evidence. You can store the evidence into a variable #E (#E1, #E2, ...) that can be called by later tools. Available tools are: \n",
      "\n",
      "\n"
     ]
    }
   ],
   "source": [
    "print(\"For the following tasks, make plans that can solve the problem step-by-step. For each plan, indicate which external tool together with tool input to retrieve evidence. You can store the evidence into a variable #E (#E1, #E2, ...) that can be called by later tools. Available tools are: \\n\\n\")"
   ],
   "metadata": {
    "collapsed": false,
    "ExecuteTime": {
     "start_time": "2023-04-17T03:39:20.933216Z",
     "end_time": "2023-04-17T03:39:20.937524Z"
    }
   }
  },
  {
   "cell_type": "markdown",
   "source": [
    "## CoT"
   ],
   "metadata": {
    "collapsed": false
   }
  },
  {
   "cell_type": "code",
   "execution_count": 3,
   "outputs": [
    {
     "data": {
      "text/plain": "{'wall_time': 4.111898183822632,\n 'input': \"Answer following questions. Let's think step by step. Give your reasoning process, and then answer the question in a new line directly with no extra words.\\nWhat is the elevation range for the area that the eastern sector of the Colorado orogeny extends into?\\nStep 1: Identify the eastern sector of the Colorado Orogeny\\nThe Colorado Orogeny refers to a series of mountain-building events that occurred in the Rocky Mountains, primarily in the present-day U.S. state of Colorado. The eastern sector of the Colorado Orogeny likely refers to the easternmost part of this mountain range, which includes the Front Range, Wet Mountains, and the Sangre de Cristo Mountains.\\nStep 2: Determine the elevation range of the eastern sector\\nThe Front Range, Wet Mountains, and Sangre de Cristo Mountains have varying elevations. The Front Range has elevations ranging from around 5,000 feet to over 14,000 feet (1,500 meters to 4,300 meters). The Wet Mountains have elevations ranging from about 6,000 feet to over 12,000 feet (1,800 meters to 3,700 meters). The Sangre de Cristo Mountains have elevations ranging from approximately 7,000 feet to over 14,000 feet (2,100 meters to 4,300 meters).\\nStep 3: Combine the elevation ranges\\nConsidering the elevation ranges of the three mountain ranges in the eastern sector of the Colorado Orogeny, the overall elevation range for the area extends from around 5,000 feet (1,500 meters) to over 14,000 feet (4,300 meters).\\nAnswer: 5,000 feet to 4,000 feet\\nWhich magazine was started first Arthur's Magazine or First for Women?\\n\",\n 'output': \"Step 1: Research the magazines\\nArthur's Magazine was a monthly magazine for children that was founded in 1888. First for Women is a women's lifestyle magazine that was founded in 1937.\\nStep 2: Determine which magazine was founded first\\nArthur's Magazine was founded in 1888, while First for Women was founded in 1937.\\n\\nAnswer: Arthur's Magazine\",\n 'prompt_tokens': 358,\n 'completion_tokens': 73,\n 'total_tokens': 431,\n 'total_cost': 0.008620000000000001}"
     },
     "execution_count": 3,
     "metadata": {},
     "output_type": "execute_result"
    }
   ],
   "source": [
    "cot = CoT(fewshot=fewshots.HOTPOTQA_COT)\n",
    "cot.run(\"Which magazine was started first Arthur's Magazine or First for Women?\")"
   ],
   "metadata": {
    "collapsed": false,
    "ExecuteTime": {
     "start_time": "2023-04-20T18:32:20.660413Z",
     "end_time": "2023-04-20T18:32:24.770937Z"
    }
   }
  },
  {
   "cell_type": "markdown",
   "source": [
    "## IO"
   ],
   "metadata": {
    "collapsed": false
   }
  },
  {
   "cell_type": "code",
   "execution_count": 7,
   "outputs": [
    {
     "data": {
      "text/plain": "{'wall_time': 0.8477969169616699,\n 'input': 'Answer following questions. Respond directly with no extra words.\\n\\nIn what city and state was the vocalist for  El Grupo Nuevo de Omar Rodriguez Lopez born?\\n',\n 'output': '\\nSan Juan, Puerto Rico',\n 'prompt_tokens': 37,\n 'completion_tokens': 6,\n 'total_tokens': 43,\n 'total_cost': 0.0008600000000000001}"
     },
     "execution_count": 7,
     "metadata": {},
     "output_type": "execute_result"
    }
   ],
   "source": [
    "io = IO()\n",
    "io.run('In what city and state was the vocalist for  El Grupo Nuevo de Omar Rodriguez Lopez born?')"
   ],
   "metadata": {
    "collapsed": false,
    "ExecuteTime": {
     "start_time": "2023-04-20T19:24:48.664102Z",
     "end_time": "2023-04-20T19:24:49.509555Z"
    }
   }
  },
  {
   "cell_type": "code",
   "execution_count": 11,
   "outputs": [
    {
     "data": {
      "text/plain": "Downloading readme:   0%|          | 0.00/21.0 [00:00<?, ?B/s]",
      "application/vnd.jupyter.widget-view+json": {
       "version_major": 2,
       "version_minor": 0,
       "model_id": "e018e856698c4737bdcac0eed064aacb"
      }
     },
     "metadata": {},
     "output_type": "display_data"
    },
    {
     "name": "stdout",
     "output_type": "stream",
     "text": [
      "Downloading and preparing dataset json/LangChainDatasets--question-answering-state-of-the-union to /home/billxbf/.cache/huggingface/datasets/LangChainDatasets___json/LangChainDatasets--question-answering-state-of-the-union-a7e5a3b2db4f440d/0.0.0/fe5dd6ea2639a6df622901539cb550cf8797e5a6b2dd7af1cf934bed8e233e6e...\n"
     ]
    },
    {
     "data": {
      "text/plain": "Downloading data files:   0%|          | 0/1 [00:00<?, ?it/s]",
      "application/vnd.jupyter.widget-view+json": {
       "version_major": 2,
       "version_minor": 0,
       "model_id": "1a3c62ce03b04cadbb4660382138a9e8"
      }
     },
     "metadata": {},
     "output_type": "display_data"
    },
    {
     "data": {
      "text/plain": "Downloading data:   0%|          | 0.00/2.90k [00:00<?, ?B/s]",
      "application/vnd.jupyter.widget-view+json": {
       "version_major": 2,
       "version_minor": 0,
       "model_id": "d7bd43897f46476c89b9abd021890426"
      }
     },
     "metadata": {},
     "output_type": "display_data"
    },
    {
     "data": {
      "text/plain": "Extracting data files:   0%|          | 0/1 [00:00<?, ?it/s]",
      "application/vnd.jupyter.widget-view+json": {
       "version_major": 2,
       "version_minor": 0,
       "model_id": "c4b0d8ffbe04451f966a8828e3a77929"
      }
     },
     "metadata": {},
     "output_type": "display_data"
    },
    {
     "data": {
      "text/plain": "Generating train split: 0 examples [00:00, ? examples/s]",
      "application/vnd.jupyter.widget-view+json": {
       "version_major": 2,
       "version_minor": 0,
       "model_id": "97c054175ef646a28c84a9629ed47cef"
      }
     },
     "metadata": {},
     "output_type": "display_data"
    },
    {
     "name": "stdout",
     "output_type": "stream",
     "text": [
      "Dataset json downloaded and prepared to /home/billxbf/.cache/huggingface/datasets/LangChainDatasets___json/LangChainDatasets--question-answering-state-of-the-union-a7e5a3b2db4f440d/0.0.0/fe5dd6ea2639a6df622901539cb550cf8797e5a6b2dd7af1cf934bed8e233e6e. Subsequent calls will reuse this data.\n"
     ]
    },
    {
     "data": {
      "text/plain": "  0%|          | 0/1 [00:00<?, ?it/s]",
      "application/vnd.jupyter.widget-view+json": {
       "version_major": 2,
       "version_minor": 0,
       "model_id": "f982e45060744245866b2d2c67014f54"
      }
     },
     "metadata": {},
     "output_type": "display_data"
    }
   ],
   "source": [
    "from langchain.evaluation.loading import load_dataset\n",
    "dataset = load_dataset(\"question-answering-state-of-the-union\")"
   ],
   "metadata": {
    "collapsed": false,
    "ExecuteTime": {
     "start_time": "2023-04-23T15:24:26.995752Z",
     "end_time": "2023-04-23T15:24:28.448773Z"
    }
   }
  },
  {
   "cell_type": "code",
   "execution_count": 13,
   "outputs": [
    {
     "data": {
      "text/plain": "11"
     },
     "execution_count": 13,
     "metadata": {},
     "output_type": "execute_result"
    }
   ],
   "source": [
    "len(dataset)"
   ],
   "metadata": {
    "collapsed": false,
    "ExecuteTime": {
     "start_time": "2023-04-23T15:24:38.065595Z",
     "end_time": "2023-04-23T15:24:38.071091Z"
    }
   }
  },
  {
   "cell_type": "code",
   "execution_count": 8,
   "outputs": [],
   "source": [
    "from langchain import OpenAI, SQLDatabase, SQLDatabaseChain\n",
    "db = SQLDatabase.from_uri(\"sqlite:///../../../notebooks/Chinook.db\")\n",
    "llm = OpenAI(temperature=0)\n",
    "chain = SQLDatabaseChain(llm=llm, database=db, input_key=\"question\")"
   ],
   "metadata": {
    "collapsed": false,
    "ExecuteTime": {
     "start_time": "2023-04-23T14:19:26.132579Z",
     "end_time": "2023-04-23T14:19:26.186632Z"
    }
   }
  },
  {
   "cell_type": "markdown",
   "source": [
    "## State of the Union"
   ],
   "metadata": {
    "collapsed": false
   }
  },
  {
   "cell_type": "code",
   "execution_count": 16,
   "outputs": [],
   "source": [
    "from langchain.document_loaders import TextLoader\n",
    "loader = TextLoader(\"data/docs/state_of_the_union.txt\")"
   ],
   "metadata": {
    "collapsed": false,
    "ExecuteTime": {
     "start_time": "2023-04-23T15:57:21.095837Z",
     "end_time": "2023-04-23T15:57:21.109089Z"
    }
   }
  },
  {
   "cell_type": "code",
   "execution_count": 18,
   "outputs": [
    {
     "name": "stderr",
     "output_type": "stream",
     "text": [
      "Using embedded DuckDB without persistence: data will be transient\n"
     ]
    }
   ],
   "source": [
    "from langchain.indexes import VectorstoreIndexCreator\n",
    "vectorstore = VectorstoreIndexCreator().from_loaders([loader]).vectorstore"
   ],
   "metadata": {
    "collapsed": false,
    "ExecuteTime": {
     "start_time": "2023-04-23T15:57:51.604974Z",
     "end_time": "2023-04-23T15:57:52.932569Z"
    }
   }
  },
  {
   "cell_type": "code",
   "execution_count": 19,
   "outputs": [],
   "source": [
    "from langchain.chains import RetrievalQA\n",
    "from langchain.llms import OpenAI"
   ],
   "metadata": {
    "collapsed": false,
    "ExecuteTime": {
     "start_time": "2023-04-23T15:58:25.291000Z",
     "end_time": "2023-04-23T15:58:25.332960Z"
    }
   }
  },
  {
   "cell_type": "code",
   "execution_count": 20,
   "outputs": [],
   "source": [
    "chain = RetrievalQA.from_chain_type(llm=OpenAI(), chain_type=\"stuff\", retriever=vectorstore.as_retriever(), input_key=\"question\")"
   ],
   "metadata": {
    "collapsed": false,
    "ExecuteTime": {
     "start_time": "2023-04-23T15:59:08.305542Z",
     "end_time": "2023-04-23T15:59:08.347426Z"
    }
   }
  },
  {
   "cell_type": "code",
   "execution_count": 21,
   "outputs": [
    {
     "data": {
      "text/plain": "RetrievalQA(memory=None, callback_manager=<langchain.callbacks.shared.SharedCallbackManager object at 0x7fc265b082e0>, verbose=False, combine_documents_chain=StuffDocumentsChain(memory=None, callback_manager=<langchain.callbacks.shared.SharedCallbackManager object at 0x7fc265b082e0>, verbose=False, input_key='input_documents', output_key='output_text', llm_chain=LLMChain(memory=None, callback_manager=<langchain.callbacks.shared.SharedCallbackManager object at 0x7fc265b082e0>, verbose=False, prompt=PromptTemplate(input_variables=['context', 'question'], output_parser=None, partial_variables={}, template=\"Use the following pieces of context to answer the question at the end. If you don't know the answer, just say that you don't know, don't try to make up an answer.\\n\\n{context}\\n\\nQuestion: {question}\\nHelpful Answer:\", template_format='f-string', validate_template=True), llm=OpenAI(cache=None, verbose=False, callback_manager=<langchain.callbacks.shared.SharedCallbackManager object at 0x7fc265b082e0>, client=<class 'openai.api_resources.completion.Completion'>, model_name='text-davinci-003', temperature=0.7, max_tokens=256, top_p=1, frequency_penalty=0, presence_penalty=0, n=1, best_of=1, model_kwargs={}, openai_api_key=None, openai_organization=None, batch_size=20, request_timeout=None, logit_bias={}, max_retries=6, streaming=False), output_key='text'), document_prompt=PromptTemplate(input_variables=['page_content'], output_parser=None, partial_variables={}, template='{page_content}', template_format='f-string', validate_template=True), document_variable_name='context'), input_key='question', output_key='result', return_source_documents=False, retriever=VectorStoreRetriever(vectorstore=<langchain.vectorstores.chroma.Chroma object at 0x7fc25ebe85b0>, search_type='similarity', search_kwargs={}))"
     },
     "execution_count": 21,
     "metadata": {},
     "output_type": "execute_result"
    }
   ],
   "source": [
    "chain"
   ],
   "metadata": {
    "collapsed": false,
    "ExecuteTime": {
     "start_time": "2023-04-23T15:59:09.975436Z",
     "end_time": "2023-04-23T15:59:09.984262Z"
    }
   }
  },
  {
   "cell_type": "code",
   "execution_count": 25,
   "outputs": [],
   "source": [
    "predictions = chain.apply(dataset)"
   ],
   "metadata": {
    "collapsed": false,
    "ExecuteTime": {
     "start_time": "2023-04-23T16:01:51.543999Z",
     "end_time": "2023-04-23T16:02:22.393083Z"
    }
   }
  },
  {
   "cell_type": "code",
   "execution_count": 24,
   "outputs": [],
   "source": [
    "from langchain.evaluation.qa import QAEvalChain"
   ],
   "metadata": {
    "collapsed": false,
    "ExecuteTime": {
     "start_time": "2023-04-23T16:01:34.005042Z",
     "end_time": "2023-04-23T16:01:34.013755Z"
    }
   }
  },
  {
   "cell_type": "code",
   "execution_count": 26,
   "outputs": [],
   "source": [
    "llm = OpenAI(temperature=0)\n",
    "eval_chain = QAEvalChain.from_llm(llm)\n",
    "graded_outputs = eval_chain.evaluate(dataset, predictions, question_key=\"question\", prediction_key=\"result\")"
   ],
   "metadata": {
    "collapsed": false,
    "ExecuteTime": {
     "start_time": "2023-04-23T16:02:31.510378Z",
     "end_time": "2023-04-23T16:02:32.367103Z"
    }
   }
  },
  {
   "cell_type": "code",
   "execution_count": 27,
   "outputs": [],
   "source": [
    "for i, prediction in enumerate(predictions):\n",
    "    prediction['grade'] = graded_outputs[i]['text']"
   ],
   "metadata": {
    "collapsed": false,
    "ExecuteTime": {
     "start_time": "2023-04-23T16:02:52.301274Z",
     "end_time": "2023-04-23T16:02:52.343580Z"
    }
   }
  },
  {
   "cell_type": "code",
   "execution_count": 36,
   "outputs": [
    {
     "data": {
      "text/plain": "[{'question': 'What is the purpose of the NATO Alliance?',\n  'answer': 'The purpose of the NATO Alliance is to secure peace and stability in Europe after World War 2.',\n  'result': ' The purpose of the NATO Alliance is to secure peace and stability in Europe after World War 2.',\n  'grade': ' CORRECT'},\n {'question': 'What is the U.S. Department of Justice doing to combat the crimes of Russian oligarchs?',\n  'answer': 'The U.S. Department of Justice is assembling a dedicated task force to go after the crimes of Russian oligarchs.',\n  'result': \" The U.S. Department of Justice is assembling a dedicated task force to go after the crimes of Russian oligarchs. They are also joining with European allies to find and seize the oligarchs' yachts, luxury apartments, and private jets, and going after criminals who stole billions in relief money meant for small businesses and millions of Americans.\",\n  'grade': ' INCORRECT'},\n {'question': 'What is the American Rescue Plan and how did it help Americans?',\n  'answer': 'The American Rescue Plan is a piece of legislation that provided immediate economic relief for tens of millions of Americans. It helped put food on their table, keep a roof over their heads, and cut the cost of health insurance. It created jobs and left no one behind.',\n  'result': \" The American Rescue Plan is a $2 Trillion tax cut passed in the previous administration that helped working people and left no one behind. It created jobs, boosted economic growth, delivered immediate economic relief for tens of millions of Americans, put food on their table, kept a roof over their heads, and cut the cost of health insurance. It also provided investments and tax credits to weatherize homes and businesses to be energy efficient, doubled America's clean energy production, lowered the price of electric vehicles, increased funding for prevention, treatment, harm reduction, and recovery for addiction, provided schools with money to hire teachers and help students make up for lost learning, and supported efforts to combat bullying, violence, trauma, and the harms of social media.\",\n  'grade': ' INCORRECT'},\n {'question': 'What is the purpose of the Bipartisan Innovation Act mentioned in the text?',\n  'answer': 'The Bipartisan Innovation Act will make record investments in emerging technologies and American manufacturing to level the playing field with China and other competitors.',\n  'result': ' The purpose of the Bipartisan Innovation Act is to make record investments in emerging technologies and American manufacturing.',\n  'grade': ' CORRECT'},\n {'question': \"What is Joe Biden's plan to fight inflation?\",\n  'answer': \"Joe Biden's plan to fight inflation is to lower costs, not wages, by making more goods in America, increasing the productive capacity of the economy, and cutting the cost of prescription drugs, energy, and child care.\",\n  'result': \" Joe Biden's plan to fight inflation involves lowering costs, not wages, making more cars and semiconductors in America, investing in infrastructure and innovation in America, improving goods transportation in America, creating more jobs with good wages in America, and avoiding reliance on foreign supply chains. He also proposes cutting the cost of prescription drugs and closing loopholes so the wealthy pay the same tax rate as teachers and firefighters. He also wants to confirm his Federal Reserve nominees to help fight inflation.\",\n  'grade': ' CORRECT'},\n {'question': 'What is the proposed minimum tax rate for corporations under the plan?',\n  'answer': 'The proposed minimum tax rate for corporations is 15%.',\n  'result': ' 15%',\n  'grade': ' CORRECT'},\n {'question': 'What are the four common sense steps that the author suggests to move forward safely?',\n  'answer': 'The four common sense steps suggested by the author to move forward safely are: stay protected with vaccines and treatments, prepare for new variants, end the shutdown of schools and businesses, and stay vigilant.',\n  'result': ' The four common sense steps that the author suggests to move forward safely are: 1) Stay protected with vaccines and treatments; 2) Take on mental health; 3) Crack down on gun trafficking and ghost guns; and 4) Pass the PRO Act.',\n  'grade': ' INCORRECT'},\n {'question': 'What is the purpose of the American Rescue Plan?',\n  'answer': 'The purpose of the American Rescue Plan is to provide $350 Billion that cities, states, and counties can use to hire more police and invest in proven strategies like community violence interruption.',\n  'result': ' The purpose of the American Rescue Plan is to provide economic relief for tens of millions of Americans, fuel efforts to vaccinate the nation and combat COVID-19, and provide funding for prevention, treatment, harm reduction, and recovery.',\n  'grade': ' INCORRECT'},\n {'question': 'What measures does the speaker ask Congress to pass to reduce gun violence?',\n  'answer': 'The speaker asks Congress to pass universal background checks, ban assault weapons and high-capacity magazines, and repeal the liability shield that makes gun manufacturers the only industry in America that can’t be sued.',\n  'result': \" The speaker asks Congress to pass universal background checks, ban assault weapons and high-capacity magazines, and repeal the liability shield that makes gun manufacturers the only industry in America that can't be sued.\",\n  'grade': ' CORRECT'},\n {'question': 'What is the Unity Agenda for the Nation that the President is offering?',\n  'answer': 'The Unity Agenda for the Nation includes four big things that can be done together: beat the opioid epidemic, take on mental health, support veterans, and strengthen the Violence Against Women Act.',\n  'result': ' The Unity Agenda for the Nation is four big things that the President believes we can do together: beat the opioid epidemic, protect freedom and liberty, expand fairness and opportunity, and save democracy. He also plans to modernize roads, airports, ports, and waterways, build a national network of 500,000 electric vehicle charging stations, replace poisonous lead pipes, provide affordable high-speed internet, and fix over 65,000 miles of highway and 1,500 bridges.',\n  'grade': ' INCORRECT'},\n {'question': 'What is the purpose of ARPA-H?',\n  'answer': 'ARPA-H will have a singular purpose—to drive breakthroughs in cancer, Alzheimer’s, diabetes, and more.',\n  'result': \" The purpose of ARPA-H is to drive breakthroughs in cancer, Alzheimer's, diabetes, and more.\",\n  'grade': ' CORRECT'}]"
     },
     "execution_count": 36,
     "metadata": {},
     "output_type": "execute_result"
    }
   ],
   "source": [
    "predictions"
   ],
   "metadata": {
    "collapsed": false,
    "ExecuteTime": {
     "start_time": "2023-04-23T17:40:51.519944Z",
     "end_time": "2023-04-23T17:40:51.569376Z"
    }
   }
  },
  {
   "cell_type": "code",
   "execution_count": 44,
   "outputs": [
    {
     "data": {
      "text/plain": "0"
     },
     "execution_count": 44,
     "metadata": {},
     "output_type": "execute_result"
    }
   ],
   "source": [
    "llm_accuracy_score(\"What is the name of the cognac house that makes the main ingredient in The Hennchata?\", \"Hennessy\", \"FUCK\")"
   ],
   "metadata": {
    "collapsed": false,
    "ExecuteTime": {
     "start_time": "2023-04-23T17:43:31.999457Z",
     "end_time": "2023-04-23T17:43:32.529902Z"
    }
   }
  },
  {
   "cell_type": "code",
   "execution_count": 30,
   "outputs": [
    {
     "data": {
      "text/plain": "QAEvalChain(memory=None, callback_manager=<langchain.callbacks.shared.SharedCallbackManager object at 0x7fc265b082e0>, verbose=False, prompt=PromptTemplate(input_variables=['query', 'result', 'answer'], output_parser=None, partial_variables={}, template=\"You are a teacher grading a quiz.\\nYou are given a question, the student's answer, and the true answer, and are asked to score it as either CORRECT or INCORRECT.\\n\\nExample Format:\\nQUESTION: question here\\nSTUDENT ANSWER: student's answer here\\nTRUE ANSWER: true answer here\\nGRADE: CORRECT or INCORRECT here\\n\\nPlease remember to grade them based on being factually accurate. Begin!\\n\\nQUESTION: {query}\\nSTUDENT ANSWER: {result}\\nTRUE ANSWER: {answer}\\nGRADE:\", template_format='f-string', validate_template=True), llm=OpenAI(cache=None, verbose=False, callback_manager=<langchain.callbacks.shared.SharedCallbackManager object at 0x7fc265b082e0>, client=<class 'openai.api_resources.completion.Completion'>, model_name='text-davinci-003', temperature=0.0, max_tokens=256, top_p=1, frequency_penalty=0, presence_penalty=0, n=1, best_of=1, model_kwargs={}, openai_api_key=None, openai_organization=None, batch_size=20, request_timeout=None, logit_bias={}, max_retries=6, streaming=False), output_key='text')"
     },
     "execution_count": 30,
     "metadata": {},
     "output_type": "execute_result"
    }
   ],
   "source": [
    "eval_chain"
   ],
   "metadata": {
    "collapsed": false,
    "ExecuteTime": {
     "start_time": "2023-04-23T16:03:27.998882Z",
     "end_time": "2023-04-23T16:03:28.002034Z"
    }
   }
  },
  {
   "cell_type": "code",
   "execution_count": 32,
   "outputs": [
    {
     "data": {
      "text/plain": "[{'question': 'What is the purpose of the NATO Alliance?',\n  'answer': 'The purpose of the NATO Alliance is to secure peace and stability in Europe after World War 2.',\n  'result': ' The purpose of the NATO Alliance is to secure peace and stability in Europe after World War 2.',\n  'grade': ' CORRECT'},\n {'question': 'What is the U.S. Department of Justice doing to combat the crimes of Russian oligarchs?',\n  'answer': 'The U.S. Department of Justice is assembling a dedicated task force to go after the crimes of Russian oligarchs.',\n  'result': \" The U.S. Department of Justice is assembling a dedicated task force to go after the crimes of Russian oligarchs. They are also joining with European allies to find and seize the oligarchs' yachts, luxury apartments, and private jets, and going after criminals who stole billions in relief money meant for small businesses and millions of Americans.\",\n  'grade': ' INCORRECT'},\n {'question': 'What is the American Rescue Plan and how did it help Americans?',\n  'answer': 'The American Rescue Plan is a piece of legislation that provided immediate economic relief for tens of millions of Americans. It helped put food on their table, keep a roof over their heads, and cut the cost of health insurance. It created jobs and left no one behind.',\n  'result': \" The American Rescue Plan is a $2 Trillion tax cut passed in the previous administration that helped working people and left no one behind. It created jobs, boosted economic growth, delivered immediate economic relief for tens of millions of Americans, put food on their table, kept a roof over their heads, and cut the cost of health insurance. It also provided investments and tax credits to weatherize homes and businesses to be energy efficient, doubled America's clean energy production, lowered the price of electric vehicles, increased funding for prevention, treatment, harm reduction, and recovery for addiction, provided schools with money to hire teachers and help students make up for lost learning, and supported efforts to combat bullying, violence, trauma, and the harms of social media.\",\n  'grade': ' INCORRECT'},\n {'question': 'What is the purpose of the Bipartisan Innovation Act mentioned in the text?',\n  'answer': 'The Bipartisan Innovation Act will make record investments in emerging technologies and American manufacturing to level the playing field with China and other competitors.',\n  'result': ' The purpose of the Bipartisan Innovation Act is to make record investments in emerging technologies and American manufacturing.',\n  'grade': ' CORRECT'},\n {'question': \"What is Joe Biden's plan to fight inflation?\",\n  'answer': \"Joe Biden's plan to fight inflation is to lower costs, not wages, by making more goods in America, increasing the productive capacity of the economy, and cutting the cost of prescription drugs, energy, and child care.\",\n  'result': \" Joe Biden's plan to fight inflation involves lowering costs, not wages, making more cars and semiconductors in America, investing in infrastructure and innovation in America, improving goods transportation in America, creating more jobs with good wages in America, and avoiding reliance on foreign supply chains. He also proposes cutting the cost of prescription drugs and closing loopholes so the wealthy pay the same tax rate as teachers and firefighters. He also wants to confirm his Federal Reserve nominees to help fight inflation.\",\n  'grade': ' CORRECT'},\n {'question': 'What is the proposed minimum tax rate for corporations under the plan?',\n  'answer': 'The proposed minimum tax rate for corporations is 15%.',\n  'result': ' 15%',\n  'grade': ' CORRECT'},\n {'question': 'What are the four common sense steps that the author suggests to move forward safely?',\n  'answer': 'The four common sense steps suggested by the author to move forward safely are: stay protected with vaccines and treatments, prepare for new variants, end the shutdown of schools and businesses, and stay vigilant.',\n  'result': ' The four common sense steps that the author suggests to move forward safely are: 1) Stay protected with vaccines and treatments; 2) Take on mental health; 3) Crack down on gun trafficking and ghost guns; and 4) Pass the PRO Act.',\n  'grade': ' INCORRECT'},\n {'question': 'What is the purpose of the American Rescue Plan?',\n  'answer': 'The purpose of the American Rescue Plan is to provide $350 Billion that cities, states, and counties can use to hire more police and invest in proven strategies like community violence interruption.',\n  'result': ' The purpose of the American Rescue Plan is to provide economic relief for tens of millions of Americans, fuel efforts to vaccinate the nation and combat COVID-19, and provide funding for prevention, treatment, harm reduction, and recovery.',\n  'grade': ' INCORRECT'},\n {'question': 'What measures does the speaker ask Congress to pass to reduce gun violence?',\n  'answer': 'The speaker asks Congress to pass universal background checks, ban assault weapons and high-capacity magazines, and repeal the liability shield that makes gun manufacturers the only industry in America that can’t be sued.',\n  'result': \" The speaker asks Congress to pass universal background checks, ban assault weapons and high-capacity magazines, and repeal the liability shield that makes gun manufacturers the only industry in America that can't be sued.\",\n  'grade': ' CORRECT'},\n {'question': 'What is the Unity Agenda for the Nation that the President is offering?',\n  'answer': 'The Unity Agenda for the Nation includes four big things that can be done together: beat the opioid epidemic, take on mental health, support veterans, and strengthen the Violence Against Women Act.',\n  'result': ' The Unity Agenda for the Nation is four big things that the President believes we can do together: beat the opioid epidemic, protect freedom and liberty, expand fairness and opportunity, and save democracy. He also plans to modernize roads, airports, ports, and waterways, build a national network of 500,000 electric vehicle charging stations, replace poisonous lead pipes, provide affordable high-speed internet, and fix over 65,000 miles of highway and 1,500 bridges.',\n  'grade': ' INCORRECT'},\n {'question': 'What is the purpose of ARPA-H?',\n  'answer': 'ARPA-H will have a singular purpose—to drive breakthroughs in cancer, Alzheimer’s, diabetes, and more.',\n  'result': \" The purpose of ARPA-H is to drive breakthroughs in cancer, Alzheimer's, diabetes, and more.\",\n  'grade': ' CORRECT'}]"
     },
     "execution_count": 32,
     "metadata": {},
     "output_type": "execute_result"
    }
   ],
   "source": [
    "predictions"
   ],
   "metadata": {
    "collapsed": false,
    "ExecuteTime": {
     "start_time": "2023-04-23T16:04:56.223994Z",
     "end_time": "2023-04-23T16:04:56.229046Z"
    }
   }
  },
  {
   "cell_type": "code",
   "execution_count": 10,
   "outputs": [
    {
     "data": {
      "text/plain": "{'wall_time': 5.717400312423706,\n 'input': 'Pibb Xtra and Pet, Inc., are made in which country?',\n 'output': 'USA.',\n 'planner_log': \"For the following tasks, make plans that can solve the problem step-by-step. For each plan, indicate which external tool together with tool input to retrieve evidence. You can store the evidence into a variable #E (#E1, #E2, ...) that can be called by later tools. Available tools are: \\n\\nTools can be one of the following:\\nWikipedia[input]: Worker that search for similar page contents from Wikipedia. Useful when you need to get holistic knowledge about people, places, companies, historical events, or other subjects. The response are long and might contain some irrelevant information. Input should be a search query.\\nLLM[input]: A pretrained LLM like yourself. Useful when you need to act with general world knowledge and common sense. Prioritize it when you are confident in solving the problem yourself. Input can be any instruction.\\n\\nBegin! Describe your plans with rich details.\\n\\nQuestion: What is the elevation range for the area that the eastern sector of the Colorado orogeny extends into?\\nPlan: Search for more information about Colorado orogeny.\\n#E1 = Wikipedia[Colorado orogeny]\\nPlan: Find out the area that eastern sector of the Colorado orogeny extends into.\\n#E2 = LLM[What is the name of the area that eastern sector of Colorado extends into? Given context: #E1]\\nPlan: Search for more information about the area.\\n#E3 = Wikipedia[#E2]\\nPlan: Find out the elevation range for the area.\\n#E4 = LLM[What is elevation range for the area #E2? Given context: #E3]\\n\\nQuestion: Which magazine was started first Arthur's Magazine or First for Women?\\nPlan: Search for more information about Arthur's Magazine.\\n#E1 = Wikipedia[Arthur's Magazine]\\nPlan: Search for more information about First for Women.\\n#E2 = Wikipedia[First for Women]\\nPlan: Compare the two start dates and determine which magazine was started first.\\n#E3 = LLM[Which magazine was started first Arthur's Magazine or First for Women? Given context: #E1, #E2]\\nPibb Xtra and Pet, Inc., are made in which country?\\n\\nPlan: Search for more information about Pibb Xtra and Pet, Inc.\\n#E1 = Wikipedia[Pibb Xtra and Pet, Inc.]\\nPlan: Find out the country in which Pibb Xtra and Pet, Inc. are made.\\n#E2 = LLM[In which country are Pibb Xtra and Pet, Inc. made? Given context: #E1]\",\n 'worker_log': 'Plan: Search for more information about Pibb Xtra and Pet, Inc.\\nEvidence:\\nVault was a sweetened carbonated beverage that was released by The Coca-Cola Company in June 2005 and marketed until December 2011. It was touted as an artificially flavored hybrid energy soda. Coca-Cola was marketing Vault as a combination with the slogan \"Drinks like a soda, kicks like an energy drink,\" as well as \"The Taste. The Quench. The Kick.\" \"Get it done, and then some,\" \"Chug & Charge,\" and \"Get to it!\"\\nPlan: Find out the country in which Pibb Xtra and Pet, Inc. are made.\\nEvidence:\\nUSA.\\n',\n 'solver_log': 'Solve the following task or problem. To assist you, we provide some plans and corresponding evidences that might be helpful. Notice that some of these information contain noise so you should trust them with caution.\\n\\nPibb Xtra and Pet, Inc., are made in which country?\\nPlan: Search for more information about Pibb Xtra and Pet, Inc.\\nEvidence:\\nVault was a sweetened carbonated beverage that was released by The Coca-Cola Company in June 2005 and marketed until December 2011. It was touted as an artificially flavored hybrid energy soda. Coca-Cola was marketing Vault as a combination with the slogan \"Drinks like a soda, kicks like an energy drink,\" as well as \"The Taste. The Quench. The Kick.\" \"Get it done, and then some,\" \"Chug & Charge,\" and \"Get to it!\"\\nPlan: Find out the country in which Pibb Xtra and Pet, Inc. are made.\\nEvidence:\\nUSA.\\n\\nNow begin to solve the task or problem. Respond directly with no extra words.\\nPibb Xtra and Pet, Inc., are made in which country?\\nUSA.',\n 'tool_usage': {'LLM_token': 122},\n 'steps': 3,\n 'total_tokens': 935,\n 'token_cost': 0.0187,\n 'tool_cost': 0.0,\n 'total_cost': 0.0187}"
     },
     "execution_count": 10,
     "metadata": {},
     "output_type": "execute_result"
    }
   ],
   "source": [
    "agent = PWS_Base(fewshot=fewshots.HOTPOTQA_PWS_BASE)\n",
    "agent.run(\"Pibb Xtra and Pet, Inc., are made in which country?\")"
   ],
   "metadata": {
    "collapsed": false,
    "ExecuteTime": {
     "start_time": "2023-04-23T20:03:45.052297Z",
     "end_time": "2023-04-23T20:03:50.776926Z"
    }
   }
  },
  {
   "cell_type": "code",
   "execution_count": 12,
   "outputs": [
    {
     "data": {
      "text/plain": "\"Leonardo Wilhelm DiCaprio (, ; Italian: [diˈkaːprjo]; born November 11, 1974) is an American actor and film producer. Known for his work in biographical and period films, he is the recipient of numerous accolades, including an Academy Award, a British Academy Film Award and three Golden Globe Awards. As of 2019, his films have grossed over $7.2 billion worldwide, and he has been placed eight times in annual rankings of the world's highest-paid actors.\\nBorn in Los Angeles, DiCaprio began his career in the late 1980s by appearing in television commercials. In the early 1990s, he had recurring roles in various television shows, such as the sitcom Parenthood, and had his first major film part as author Tobias Wolff in This Boy's Life (1993). He received critical acclaim and his first Academy Award and Golden Globe Award nominations for his performance as a developmentally disabled boy in What's Eating Gilbert Grape (1993). DiCaprio achieved international stardom with the star-crossed romances Romeo + Juliet (1996) and Titanic (1997). After the latter became the highest-grossing film at the time, he reduced his workload for a few years. In an attempt to shed his image of a romantic hero, DiCaprio sought roles in other genres, including the 2002 crime dramas Catch Me If You Can and Gangs of New York; the latter marked the first of his many successful collaborations with director Martin Scorsese.\\nDiCaprio earned Golden Globe nominations for his performances in the biopic The Aviator (2004), the political thriller Blood Diamond (2006), the crime drama The Departed (2006) and the romantic drama Revolutionary Road (2008). In the 2010s, he made environmental documentaries and starred in several high-profile directors' successful projects, including the action thriller Inception (2010), the western Django Unchained (2012), the biopic The Wolf of Wall Street (2013), the survival drama The Revenant (2015)—for which he won the Academy Award for Best Actor—and the comedy-drama Once Upon a Time in Hollywood (2019).\\nDiCaprio is the founder of Appian Way Productions—a production company that has made some of his films and the documentary series Greensburg (2008–2010)—and the Leonardo DiCaprio Foundation, a nonprofit organization devoted to promoting environmental awareness. A United Nations Messenger of Peace, he regularly supports charitable causes. In 2005, he was named a Commander of the Ordre des Arts et des Lettres for his contributions to the arts, and in 2016, he appeared in Time magazine's 100 most influential people in the world. DiCaprio was voted one of the 50 greatest actors of all time in a 2022 readers' poll by Empire.\""
     },
     "execution_count": 12,
     "metadata": {},
     "output_type": "execute_result"
    }
   ],
   "source": [
    "from nodes.Worker import WikipediaWorker\n",
    "worker = WikipediaWorker()\n",
    "worker.run(\"Leo Decaprio\")"
   ],
   "metadata": {
    "collapsed": false,
    "ExecuteTime": {
     "start_time": "2023-04-23T20:12:31.922697Z",
     "end_time": "2023-04-23T20:12:32.651908Z"
    }
   }
  },
  {
   "cell_type": "code",
   "execution_count": 4,
   "outputs": [
    {
     "data": {
      "text/plain": "{'wall_time': 10.688284158706665,\n 'input': \"Which magazine was started first Arthur's Magazine or First for Women?\",\n 'output': \"Arthur's Home Magazine began in 1861, so it was started first.\",\n 'planner_log': \"For the following tasks, make plans that can solve the problem step-by-step. For each plan, indicate which external tool together with tool input to retrieve evidence. You can store the evidence into a variable #E (#E1, #E2, ...) that can be called by later tools.\\n\\nTools can be one of the following:\\nLLM[input]: A pretrained LLM like yourself. Useful when you need to act with general world knowledge and common sense. Prioritize it when you are confident in solving the problem yourself. Input can be any instruction.\\nGoogle[input]: Worker that searches results from Google. Useful when you need to find short and general answers about a specific topic. Input should be a search query.\\nCalculator[input]: A calculator that can compute arithmetic expressions. Useful when you need to perform math calculations. Input should be a mathematical expression\\n\\nBegin! Describe your plans with rich details.\\n\\nQuestion: What is Leo Dicaprio's girlfriend's age to the power of 0.34? \\nPlan: Find out the name of Leo Dicaprio's girlfriend.\\n#E1 = Google[name of Leo Dicaprio's girlfriend] \\nPlan: Find out the age of Leo Dicaprio's girlfriend.\\n#E2 = Google[age of #E1]\\nPlan: Calculate her age to the power of 0.34.\\n#E3 = Calculator[#E2^0.34] \\nWhich magazine was started first Arthur's Magazine or First for Women?\\nPlan: Find out the year of the first issue of Arthur's Magazine.\\n#E1 = Google[year of the first issue of Arthur's Magazine] \\nPlan: Find out the year of the first issue of First for Women.\\n#E2 = Google[year of the first issue of First for Women] \\nPlan: Compare the years and determine which magazine was started first.\\n#E3 = LLM[compare #E1 and #E2]\",\n 'worker_log': \"Plan: Find out the year of the first issue of Arthur's Magazine.\\nEvidence:\\nArthur's Home Magazine began in 1861, succeeding The Ladies' Home Magazine and continuing its volume numbering.\\nPlan: Find out the year of the first issue of First for Women.\\nEvidence:\\nShop current and back issues from First for Women magazine for the best natural health, diet and wellbeing advice for women over 45.\\nPlan: Compare the years and determine which magazine was started first.\\nEvidence:\\nArthur's Home Magazine began in 1861 and Shop First for Women magazine began later for women over 45.\\n\",\n 'solver_log': \"Solve the following task or problem. To assist you, we provide some plans and corresponding evidences that might be helpful. Notice that some of these information contain noise so you should trust them with caution.\\n\\nWhich magazine was started first Arthur's Magazine or First for Women?\\nPlan: Find out the year of the first issue of Arthur's Magazine.\\nEvidence:\\nArthur's Home Magazine began in 1861, succeeding The Ladies' Home Magazine and continuing its volume numbering.\\nPlan: Find out the year of the first issue of First for Women.\\nEvidence:\\nShop current and back issues from First for Women magazine for the best natural health, diet and wellbeing advice for women over 45.\\nPlan: Compare the years and determine which magazine was started first.\\nEvidence:\\nArthur's Home Magazine began in 1861 and Shop First for Women magazine began later for women over 45.\\n\\nNow begin to solve the task or problem. Respond directly with no extra words.\\nWhich magazine was started first Arthur's Magazine or First for Women?\\nArthur's Home Magazine began in 1861, so it was started first.\",\n 'tool_usage': {'Google': 2, 'LLM_token': 90},\n 'steps': 4,\n 'total_tokens': 744,\n 'token_cost': 0.01488,\n 'tool_cost': 0.02,\n 'total_cost': 0.03488}"
     },
     "execution_count": 4,
     "metadata": {},
     "output_type": "execute_result"
    }
   ],
   "source": [
    "agent.run(\"Which magazine was started first Arthur's Magazine or First for Women?\")"
   ],
   "metadata": {
    "collapsed": false,
    "ExecuteTime": {
     "start_time": "2023-04-23T22:25:52.965911Z",
     "end_time": "2023-04-23T22:26:03.657473Z"
    }
   }
  },
  {
   "cell_type": "code",
   "execution_count": 7,
   "outputs": [],
   "source": [
    "agent = PWS_Extra(fewshot=fewshots.HOTPOTQA_PWS_EXTRA)\n",
    "response = agent.run(\"Ikivo Animator integrates with a software application developed by which company?\")"
   ],
   "metadata": {
    "collapsed": false,
    "ExecuteTime": {
     "start_time": "2023-04-24T00:38:51.173409Z",
     "end_time": "2023-04-24T00:38:59.781234Z"
    }
   }
  },
  {
   "cell_type": "code",
   "execution_count": 8,
   "outputs": [
    {
     "data": {
      "text/plain": "{'wall_time': 8.608613729476929,\n 'input': 'Ikivo Animator integrates with a software application developed by which company?',\n 'output': 'Hypermedia.',\n 'planner_log': \"For the following tasks, make plans that can solve the problem step-by-step. For each plan, indicate which external tool together with tool input to retrieve evidence. You can store the evidence into a variable #E (#E1, #E2, ...) that can be called by later tools.\\n\\nTools can be one of the following:\\nWikipedia[input]: Worker that search for similar page contents from Wikipedia. Useful when you need to get holistic knowledge about people, places, companies, historical events, or other subjects. The response are long and might contain some irrelevant information. Input should be a search query.\\nGoogle[input]: Worker that searches results from Google. Useful when you need to find short and succinct answers about a specific topic. Input should be a search query.\\nCalculator[input]: A calculator that can compute arithmetic expressions. Useful when you need to perform math calculations. Input should be a mathematical expression\\nLLM[input]: A pretrained LLM like yourself. Useful when you need to act with general world knowledge and common sense. Prioritize it when you are confident in solving the problem yourself. Input can be any instruction.\\n\\nBegin! Describe your plans with rich details.\\n\\nQuestion: What is the elevation range for the area that the eastern sector of the Colorado orogeny extends into?\\nPlan: Search for more information about Colorado orogeny.\\n#E1 = Wikipedia[Colorado orogeny]\\nPlan: Find out the area that eastern sector of the Colorado orogeny extends into.\\n#E2 = LLM[What is the name of the area that eastern sector of Colorado extends into? Given context: #E1]\\nPlan: Search for more information about the area.\\n#E3 = Wikipedia[#E2]\\nPlan: Find out the elevation range for the area.\\n#E4 = LLM[What is elevation range for the area #E2? Given context: #E3]\\nPlan: Check on Google to see if the elevation range is correct.\\n#E5 = Google[Is the elevation range for #E2 #E4?]\\n\\nQuestion: Which magazine was started first Arthur's Magazine or First for Women?\\nPlan: Search for more information about Arthur's Magazine.\\n#E1 = Wikipedia[Arthur's Magazine]\\nPlan: Search for more information about First for Women.\\n#E2 = Wikipedia[First for Women]\\nPlan: Compare the two start dates and determine which magazine was started first.\\n#E3 = LLM[Which magazine was started first Arthur's Magazine or First for Women? Given context: #E1, #E2]\\nPlan: Check on Google for additional check.\\n#E4 = Google[Is #E3 the magazine that was started first among Arthur's Magazine and First for Women?]\\nIkivo Animator integrates with a software application developed by which company?\\n\\nPlan: Search for more information about Ikivo Animator.\\n#E1 = Wikipedia[Ikivo Animator]\\nPlan: Find out the company that developed Ikivo Animator.\\n#E2 = LLM[Which company developed Ikivo Animator? Given context: #E1]\\nPlan: Check on Google to see if the company is correct.\\n#E3 = Google[Is the company #E2 the one that developed Ikivo Animator?]\",\n 'worker_log': \"Plan: Search for more information about Ikivo Animator.\\nEvidence:\\nCould not find [Ikivo Animator]. Similar: ['Hypermedia']\\nPlan: Find out the company that developed Ikivo Animator.\\nEvidence:\\nHypermedia\\nPlan: Check on Google to see if the company is correct.\\nEvidence:\\nSoftware applications, such as Ikivo Animator and Inkscape, simplify the development of hypermedia content based on SVG. Embedded devices, such as the ...\\n\",\n 'solver_log': \"Solve the following task or problem. To assist you, we provide some plans and corresponding evidences that might be helpful. Notice that some of these information contain noise so you should trust them with caution.\\n\\nIkivo Animator integrates with a software application developed by which company?\\nPlan: Search for more information about Ikivo Animator.\\nEvidence:\\nCould not find [Ikivo Animator]. Similar: ['Hypermedia']\\nPlan: Find out the company that developed Ikivo Animator.\\nEvidence:\\nHypermedia\\nPlan: Check on Google to see if the company is correct.\\nEvidence:\\nSoftware applications, such as Ikivo Animator and Inkscape, simplify the development of hypermedia content based on SVG. Embedded devices, such as the ...\\n\\nNow begin to solve the task or problem. Respond directly with no extra words.\\nIkivo Animator integrates with a software application developed by which company?\\nHypermedia.\",\n 'tool_usage': {'LLM_token': 30, 'Google': 1},\n 'steps': 4,\n 'total_tokens': 937,\n 'token_cost': 0.018740000000000003,\n 'tool_cost': 0.01,\n 'total_cost': 0.02874}"
     },
     "execution_count": 8,
     "metadata": {},
     "output_type": "execute_result"
    }
   ],
   "source": [
    "response"
   ],
   "metadata": {
    "collapsed": false,
    "ExecuteTime": {
     "start_time": "2023-04-24T00:38:59.782547Z",
     "end_time": "2023-04-24T00:38:59.823651Z"
    }
   }
  },
  {
   "cell_type": "code",
   "execution_count": 10,
   "outputs": [
    {
     "name": "stdout",
     "output_type": "stream",
     "text": [
      "For the following tasks, make plans that can solve the problem step-by-step. For each plan, indicate which external tool together with tool input to retrieve evidence. You can store the evidence into a variable #E (#E1, #E2, ...) that can be called by later tools.\n",
      "\n",
      "Tools can be one of the following:\n",
      "Wikipedia[input]: Worker that search for similar page contents from Wikipedia. Useful when you need to get holistic knowledge about people, places, companies, historical events, or other subjects. The response are long and might contain some irrelevant information. Input should be a search query.\n",
      "Google[input]: Worker that searches results from Google. Useful when you need to find short and succinct answers about a specific topic. Input should be a search query.\n",
      "Calculator[input]: A calculator that can compute arithmetic expressions. Useful when you need to perform math calculations. Input should be a mathematical expression\n",
      "LLM[input]: A pretrained LLM like yourself. Useful when you need to act with general world knowledge and common sense. Prioritize it when you are confident in solving the problem yourself. Input can be any instruction.\n",
      "\n",
      "Begin! Describe your plans with rich details.\n",
      "\n",
      "Question: What is the elevation range for the area that the eastern sector of the Colorado orogeny extends into?\n",
      "Plan: Search for more information about Colorado orogeny.\n",
      "#E1 = Wikipedia[Colorado orogeny]\n",
      "Plan: Find out the area that eastern sector of the Colorado orogeny extends into.\n",
      "#E2 = LLM[What is the name of the area that eastern sector of Colorado extends into? Given context: #E1]\n",
      "Plan: Search for more information about the area.\n",
      "#E3 = Wikipedia[#E2]\n",
      "Plan: Find out the elevation range for the area.\n",
      "#E4 = LLM[What is elevation range for the area #E2? Given context: #E3]\n",
      "Plan: Check on Google to see if the elevation range is correct.\n",
      "#E5 = Google[Is the elevation range for #E2 #E4?]\n",
      "\n",
      "Question: Which magazine was started first Arthur's Magazine or First for Women?\n",
      "Plan: Search for more information about Arthur's Magazine.\n",
      "#E1 = Wikipedia[Arthur's Magazine]\n",
      "Plan: Search for more information about First for Women.\n",
      "#E2 = Wikipedia[First for Women]\n",
      "Plan: Compare the two start dates and determine which magazine was started first.\n",
      "#E3 = LLM[Which magazine was started first Arthur's Magazine or First for Women? Given context: #E1, #E2]\n",
      "Plan: Check on Google for additional check.\n",
      "#E4 = Google[Is #E3 the magazine that was started first among Arthur's Magazine and First for Women?]\n",
      "Ikivo Animator integrates with a software application developed by which company?\n",
      "\n",
      "Plan: Search for more information about Ikivo Animator.\n",
      "#E1 = Wikipedia[Ikivo Animator]\n",
      "Plan: Find out the company that developed Ikivo Animator.\n",
      "#E2 = LLM[Which company developed Ikivo Animator? Given context: #E1]\n",
      "Plan: Check on Google to see if the company is correct.\n",
      "#E3 = Google[Is the company #E2 the one that developed Ikivo Animator?]\n"
     ]
    }
   ],
   "source": [
    "print(response[\"planner_log\"])"
   ],
   "metadata": {
    "collapsed": false,
    "ExecuteTime": {
     "start_time": "2023-04-24T00:39:35.380407Z",
     "end_time": "2023-04-24T00:39:35.384149Z"
    }
   }
  },
  {
   "cell_type": "code",
   "execution_count": 11,
   "outputs": [
    {
     "name": "stdout",
     "output_type": "stream",
     "text": [
      "Solve the following task or problem. To assist you, we provide some plans and corresponding evidences that might be helpful. Notice that some of these information contain noise so you should trust them with caution.\n",
      "\n",
      "Ikivo Animator integrates with a software application developed by which company?\n",
      "Plan: Search for more information about Ikivo Animator.\n",
      "Evidence:\n",
      "Could not find [Ikivo Animator]. Similar: ['Hypermedia']\n",
      "Plan: Find out the company that developed Ikivo Animator.\n",
      "Evidence:\n",
      "Hypermedia\n",
      "Plan: Check on Google to see if the company is correct.\n",
      "Evidence:\n",
      "Software applications, such as Ikivo Animator and Inkscape, simplify the development of hypermedia content based on SVG. Embedded devices, such as the ...\n",
      "\n",
      "Now begin to solve the task or problem. Respond directly with no extra words.\n",
      "Ikivo Animator integrates with a software application developed by which company?\n",
      "Hypermedia.\n"
     ]
    }
   ],
   "source": [
    "print(response[\"solver_log\"])"
   ],
   "metadata": {
    "collapsed": false,
    "ExecuteTime": {
     "start_time": "2023-04-24T00:40:11.215609Z",
     "end_time": "2023-04-24T00:40:11.262273Z"
    }
   }
  },
  {
   "cell_type": "code",
   "execution_count": null,
   "outputs": [],
   "source": [],
   "metadata": {
    "collapsed": false
   }
  },
  {
   "cell_type": "markdown",
   "source": [
    "## SOTU"
   ],
   "metadata": {
    "collapsed": false
   }
  },
  {
   "cell_type": "code",
   "execution_count": null,
   "outputs": [],
   "source": [],
   "metadata": {
    "collapsed": false
   }
  },
  {
   "cell_type": "code",
   "execution_count": 13,
   "outputs": [
    {
     "name": "stderr",
     "output_type": "stream",
     "text": [
      "Found cached dataset json (/home/billxbf/.cache/huggingface/datasets/LangChainDatasets___json/LangChainDatasets--question-answering-state-of-the-union-a7e5a3b2db4f440d/0.0.0/fe5dd6ea2639a6df622901539cb550cf8797e5a6b2dd7af1cf934bed8e233e6e)\n"
     ]
    },
    {
     "data": {
      "text/plain": "  0%|          | 0/1 [00:00<?, ?it/s]",
      "application/vnd.jupyter.widget-view+json": {
       "version_major": 2,
       "version_minor": 0,
       "model_id": "d25ce7b6229947cc81457487bc23b042"
      }
     },
     "metadata": {},
     "output_type": "display_data"
    }
   ],
   "source": [
    "from langchain.evaluation.loading import load_dataset\n",
    "dataset = load_dataset(\"question-answering-state-of-the-union\")"
   ],
   "metadata": {
    "collapsed": false,
    "ExecuteTime": {
     "start_time": "2023-04-25T08:14:23.148324Z",
     "end_time": "2023-04-25T08:14:36.481569Z"
    }
   }
  },
  {
   "cell_type": "code",
   "execution_count": 16,
   "outputs": [],
   "source": [
    "from langchain.document_loaders import TextLoader\n",
    "loader = TextLoader(\"data/docs/state_of_the_union.txt\")"
   ],
   "metadata": {
    "collapsed": false,
    "ExecuteTime": {
     "start_time": "2023-04-25T09:16:50.987168Z",
     "end_time": "2023-04-25T09:16:51.027578Z"
    }
   }
  },
  {
   "cell_type": "markdown",
   "source": [],
   "metadata": {
    "collapsed": false
   }
  },
  {
   "cell_type": "code",
   "execution_count": 28,
   "outputs": [
    {
     "data": {
      "text/plain": "'Madam Speaker, Madam Vice President, our First Lady and Second Gentleman. Members of Congress and the Cabinet. Justices of the Supreme Court. My fellow Americans.  \\n\\nLast year COVID-19 kept us apart. This year we are finally together again. \\n\\nTonight, we meet as Democrats Republicans and Independents. But most importantly as Americans. \\n\\nWith a duty to one another to the American people to the Constitution. \\n\\nAnd with an unwavering resolve that freedom will always triumph over tyranny. \\n\\nSix days ago, Russia’s Vladimir Putin sought to shake the foundations of the free world thinking he could make it bend to his menacing ways. But he badly miscalculated. \\n\\nHe thought he could roll into Ukraine and the world would roll over. Instead he met a wall of strength he never imagined. \\n\\nHe met the Ukrainian people. \\n\\nFrom President Zelenskyy to every Ukrainian, their fearlessness, their courage, their determination, inspires the world. \\n\\nGroups of citizens blocking tanks with their bodies. Everyone from students to retirees teachers turned soldiers defending their homeland. \\n\\nIn this struggle as President Zelenskyy said in his speech to the European Parliament “Light will win over darkness.” The Ukrainian Ambassador to the United States is here tonight. \\n\\nLet each of us here tonight in this Chamber send an unmistakable signal to Ukraine and to the world. \\n\\nPlease rise if you are able and show that, Yes, we the United States of America stand with the Ukrainian people. \\n\\nThroughout our history we’ve learned this lesson when dictators do not pay a price for their aggression they cause more chaos.   \\n\\nThey keep moving.   \\n\\nAnd the costs and the threats to America and the world keep rising.   \\n\\nThat’s why the NATO Alliance was created to secure peace and stability in Europe after World War 2. \\n\\nThe United States is a member along with 29 other nations. \\n\\nIt matters. American diplomacy matters. American resolve matters. \\n\\nPutin’s latest attack on Ukraine was premeditated and unprovoked. \\n\\nHe rejected repeated efforts at diplomacy. \\n\\nHe thought the West and NATO wouldn’t respond. And he thought he could divide us at home. Putin was wrong. We were ready.  Here is what we did.   \\n\\nWe prepared extensively and carefully. \\n\\nWe spent months building a coalition of other freedom-loving nations from Europe and the Americas to Asia and Africa to confront Putin. \\n\\nI spent countless hours unifying our European allies. We shared with the world in advance what we knew Putin was planning and precisely how he would try to falsely justify his aggression.  \\n\\nWe countered Russia’s lies with truth.   \\n\\nAnd now that he has acted the free world is holding him accountable. \\n\\nAlong with twenty-seven members of the European Union including France, Germany, Italy, as well as countries like the United Kingdom, Canada, Japan, Korea, Australia, New Zealand, and many others, even Switzerland. \\n\\nWe are inflicting pain on Russia and supporting the people of Ukraine. Putin is now isolated from the world more than ever. \\n\\nTogether with our allies –we are right now enforcing powerful economic sanctions. \\n\\nWe are cutting off Russia’s largest banks from the international financial system.  \\n\\nPreventing Russia’s central bank from defending the Russian Ruble making Putin’s $630 Billion “war fund” worthless.   \\n\\nWe are choking off Russia’s access to technology that will sap its economic strength and weaken its military for years to come.  \\n\\nTonight I say to the Russian oligarchs and corrupt leaders who have bilked billions of dollars off this violent regime no more. \\n\\nThe U.S. Department of Justice is assembling a dedicated task force to go after the crimes of Russian oligarchs.  \\n\\nWe are joining with our European allies to find and seize your yachts your luxury apartments your private jets. We are coming for your ill-begotten gains. \\n\\nAnd tonight I am announcing that we will join our allies in closing off American air space to all Russian flights – further isolating Russia – and adding an additional squeeze –on their economy. The Ruble has lost 30% of its value. \\n\\nThe Russian stock market has lost 40% of its value and trading remains suspended. Russia’s economy is reeling and Putin alone is to blame. \\n\\nTogether with our allies we are providing support to the Ukrainians in their fight for freedom. Military assistance. Economic assistance. Humanitarian assistance. \\n\\nWe are giving more than $1 Billion in direct assistance to Ukraine. \\n\\nAnd we will continue to aid the Ukrainian people as they defend their country and to help ease their suffering.  \\n\\nLet me be clear, our forces are not engaged and will not engage in conflict with Russian forces in Ukraine.  \\n\\nOur forces are not going to Europe to fight in Ukraine, but to defend our NATO Allies – in the event that Putin decides to keep moving west.  \\n\\nFor that purpose we’ve mobilized American ground forces, air squadrons, and ship deployments to protect NATO countries including Poland, Romania, Latvia, Lithuania, and Estonia. \\n\\nAs I have made crystal clear the United States and our Allies will defend every inch of territory of NATO countries with the full force of our collective power.  \\n\\nAnd we remain clear-eyed. The Ukrainians are fighting back with pure courage. But the next few days weeks, months, will be hard on them.  \\n\\nPutin has unleashed violence and chaos.  But while he may make gains on the battlefield – he will pay a continuing high price over the long run. \\n\\nAnd a proud Ukrainian people, who have known 30 years  of independence, have repeatedly shown that they will not tolerate anyone who tries to take their country backwards.  \\n\\nTo all Americans, I will be honest with you, as I’ve always promised. A Russian dictator, invading a foreign country, has costs around the world. \\n\\nAnd I’m taking robust action to make sure the pain of our sanctions  is targeted at Russia’s economy. And I will use every tool at our disposal to protect American businesses and consumers. \\n\\nTonight, I can announce that the United States has worked with 30 other countries to release 60 Million barrels of oil from reserves around the world.  \\n\\nAmerica will lead that effort, releasing 30 Million barrels from our own Strategic Petroleum Reserve. And we stand ready to do more if necessary, unified with our allies.  \\n\\nThese steps will help blunt gas prices here at home. And I know the news about what’s happening can seem alarming. \\n\\nBut I want you to know that we are going to be okay. \\n\\nWhen the history of this era is written Putin’s war on Ukraine will have left Russia weaker and the rest of the world stronger. \\n\\nWhile it shouldn’t have taken something so terrible for people around the world to see what’s at stake now everyone sees it clearly. \\n\\nWe see the unity among leaders of nations and a more unified Europe a more unified West. And we see unity among the people who are gathering in cities in large crowds around the world even in Russia to demonstrate their support for Ukraine.  \\n\\nIn the battle between democracy and autocracy, democracies are rising to the moment, and the world is clearly choosing the side of peace and security. \\n\\nThis is a real test. It’s going to take time. So let us continue to draw inspiration from the iron will of the Ukrainian people. \\n\\nTo our fellow Ukrainian Americans who forge a deep bond that connects our two nations we stand with you. \\n\\nPutin may circle Kyiv with tanks, but he will never gain the hearts and souls of the Ukrainian people. \\n\\nHe will never extinguish their love of freedom. He will never weaken the resolve of the free world. \\n\\nWe meet tonight in an America that has lived through two of the hardest years this nation has ever faced. \\n\\nThe pandemic has been punishing. \\n\\nAnd so many families are living paycheck to paycheck, struggling to keep up with the rising cost of food, gas, housing, and so much more. \\n\\nI understand. \\n\\nI remember when my Dad had to leave our home in Scranton, Pennsylvania to find work. I grew up in a family where if the price of food went up, you felt it. \\n\\nThat’s why one of the first things I did as President was fight to pass the American Rescue Plan.  \\n\\nBecause people were hurting. We needed to act, and we did. \\n\\nFew pieces of legislation have done more in a critical moment in our history to lift us out of crisis. \\n\\nIt fueled our efforts to vaccinate the nation and combat COVID-19. It delivered immediate economic relief for tens of millions of Americans.  \\n\\nHelped put food on their table, keep a roof over their heads, and cut the cost of health insurance. \\n\\nAnd as my Dad used to say, it gave people a little breathing room. \\n\\nAnd unlike the $2 Trillion tax cut passed in the previous administration that benefitted the top 1% of Americans, the American Rescue Plan helped working people—and left no one behind. \\n\\nAnd it worked. It created jobs. Lots of jobs. \\n\\nIn fact—our economy created over 6.5 Million new jobs just last year, more jobs created in one year  \\nthan ever before in the history of America. \\n\\nOur economy grew at a rate of 5.7% last year, the strongest growth in nearly 40 years, the first step in bringing fundamental change to an economy that hasn’t worked for the working people of this nation for too long.  \\n\\nFor the past 40 years we were told that if we gave tax breaks to those at the very top, the benefits would trickle down to everyone else. \\n\\nBut that trickle-down theory led to weaker economic growth, lower wages, bigger deficits, and the widest gap between those at the top and everyone else in nearly a century. \\n\\nVice President Harris and I ran for office with a new economic vision for America. \\n\\nInvest in America. Educate Americans. Grow the workforce. Build the economy from the bottom up  \\nand the middle out, not from the top down.  \\n\\nBecause we know that when the middle class grows, the poor have a ladder up and the wealthy do very well. \\n\\nAmerica used to have the best roads, bridges, and airports on Earth. \\n\\nNow our infrastructure is ranked 13th in the world. \\n\\nWe won’t be able to compete for the jobs of the 21st Century if we don’t fix that. \\n\\nThat’s why it was so important to pass the Bipartisan Infrastructure Law—the most sweeping investment to rebuild America in history. \\n\\nThis was a bipartisan effort, and I want to thank the members of both parties who worked to make it happen. \\n\\nWe’re done talking about infrastructure weeks. \\n\\nWe’re going to have an infrastructure decade. \\n\\nIt is going to transform America and put us on a path to win the economic competition of the 21st Century that we face with the rest of the world—particularly with China.  \\n\\nAs I’ve told Xi Jinping, it is never a good bet to bet against the American people. \\n\\nWe’ll create good jobs for millions of Americans, modernizing roads, airports, ports, and waterways all across America. \\n\\nAnd we’ll do it all to withstand the devastating effects of the climate crisis and promote environmental justice. \\n\\nWe’ll build a national network of 500,000 electric vehicle charging stations, begin to replace poisonous lead pipes—so every child—and every American—has clean water to drink at home and at school, provide affordable high-speed internet for every American—urban, suburban, rural, and tribal communities. \\n\\n4,000 projects have already been announced. \\n\\nAnd tonight, I’m announcing that this year we will start fixing over 65,000 miles of highway and 1,500 bridges in disrepair. \\n\\nWhen we use taxpayer dollars to rebuild America – we are going to Buy American: buy American products to support American jobs. \\n\\nThe federal government spends about $600 Billion a year to keep the country safe and secure. \\n\\nThere’s been a law on the books for almost a century \\nto make sure taxpayers’ dollars support American jobs and businesses. \\n\\nEvery Administration says they’ll do it, but we are actually doing it. \\n\\nWe will buy American to make sure everything from the deck of an aircraft carrier to the steel on highway guardrails are made in America. \\n\\nBut to compete for the best jobs of the future, we also need to level the playing field with China and other competitors. \\n\\nThat’s why it is so important to pass the Bipartisan Innovation Act sitting in Congress that will make record investments in emerging technologies and American manufacturing. \\n\\nLet me give you one example of why it’s so important to pass it. \\n\\nIf you travel 20 miles east of Columbus, Ohio, you’ll find 1,000 empty acres of land. \\n\\nIt won’t look like much, but if you stop and look closely, you’ll see a “Field of dreams,” the ground on which America’s future will be built. \\n\\nThis is where Intel, the American company that helped build Silicon Valley, is going to build its $20 billion semiconductor “mega site”. \\n\\nUp to eight state-of-the-art factories in one place. 10,000 new good-paying jobs. \\n\\nSome of the most sophisticated manufacturing in the world to make computer chips the size of a fingertip that power the world and our everyday lives. \\n\\nSmartphones. The Internet. Technology we have yet to invent. \\n\\nBut that’s just the beginning. \\n\\nIntel’s CEO, Pat Gelsinger, who is here tonight, told me they are ready to increase their investment from  \\n$20 billion to $100 billion. \\n\\nThat would be one of the biggest investments in manufacturing in American history. \\n\\nAnd all they’re waiting for is for you to pass this bill. \\n\\nSo let’s not wait any longer. Send it to my desk. I’ll sign it.  \\n\\nAnd we will really take off. \\n\\nAnd Intel is not alone. \\n\\nThere’s something happening in America. \\n\\nJust look around and you’ll see an amazing story. \\n\\nThe rebirth of the pride that comes from stamping products “Made In America.” The revitalization of American manufacturing.   \\n\\nCompanies are choosing to build new factories here, when just a few years ago, they would have built them overseas. \\n\\nThat’s what is happening. Ford is investing $11 billion to build electric vehicles, creating 11,000 jobs across the country. \\n\\nGM is making the largest investment in its history—$7 billion to build electric vehicles, creating 4,000 jobs in Michigan. \\n\\nAll told, we created 369,000 new manufacturing jobs in America just last year. \\n\\nPowered by people I’ve met like JoJo Burgess, from generations of union steelworkers from Pittsburgh, who’s here with us tonight. \\n\\nAs Ohio Senator Sherrod Brown says, “It’s time to bury the label “Rust Belt.” \\n\\nIt’s time. \\n\\nBut with all the bright spots in our economy, record job growth and higher wages, too many families are struggling to keep up with the bills.  \\n\\nInflation is robbing them of the gains they might otherwise feel. \\n\\nI get it. That’s why my top priority is getting prices under control. \\n\\nLook, our economy roared back faster than most predicted, but the pandemic meant that businesses had a hard time hiring enough workers to keep up production in their factories. \\n\\nThe pandemic also disrupted global supply chains. \\n\\nWhen factories close, it takes longer to make goods and get them from the warehouse to the store, and prices go up. \\n\\nLook at cars. \\n\\nLast year, there weren’t enough semiconductors to make all the cars that people wanted to buy. \\n\\nAnd guess what, prices of automobiles went up. \\n\\nSo—we have a choice. \\n\\nOne way to fight inflation is to drive down wages and make Americans poorer.  \\n\\nI have a better plan to fight inflation. \\n\\nLower your costs, not your wages. \\n\\nMake more cars and semiconductors in America. \\n\\nMore infrastructure and innovation in America. \\n\\nMore goods moving faster and cheaper in America. \\n\\nMore jobs where you can earn a good living in America. \\n\\nAnd instead of relying on foreign supply chains, let’s make it in America. \\n\\nEconomists call it “increasing the productive capacity of our economy.” \\n\\nI call it building a better America. \\n\\nMy plan to fight inflation will lower your costs and lower the deficit. \\n\\n17 Nobel laureates in economics say my plan will ease long-term inflationary pressures. Top business leaders and most Americans support my plan. And here’s the plan: \\n\\nFirst – cut the cost of prescription drugs. Just look at insulin. One in ten Americans has diabetes. In Virginia, I met a 13-year-old boy named Joshua Davis.  \\n\\nHe and his Dad both have Type 1 diabetes, which means they need insulin every day. Insulin costs about $10 a vial to make.  \\n\\nBut drug companies charge families like Joshua and his Dad up to 30 times more. I spoke with Joshua’s mom. \\n\\nImagine what it’s like to look at your child who needs insulin and have no idea how you’re going to pay for it.  \\n\\nWhat it does to your dignity, your ability to look your child in the eye, to be the parent you expect to be. \\n\\nJoshua is here with us tonight. Yesterday was his birthday. Happy birthday, buddy.  \\n\\nFor Joshua, and for the 200,000 other young people with Type 1 diabetes, let’s cap the cost of insulin at $35 a month so everyone can afford it.  \\n\\nDrug companies will still do very well. And while we’re at it let Medicare negotiate lower prices for prescription drugs, like the VA already does. \\n\\nLook, the American Rescue Plan is helping millions of families on Affordable Care Act plans save $2,400 a year on their health care premiums. Let’s close the coverage gap and make those savings permanent. \\n\\nSecond – cut energy costs for families an average of $500 a year by combatting climate change.  \\n\\nLet’s provide investments and tax credits to weatherize your homes and businesses to be energy efficient and you get a tax credit; double America’s clean energy production in solar, wind, and so much more;  lower the price of electric vehicles, saving you another $80 a month because you’ll never have to pay at the gas pump again. \\n\\nThird – cut the cost of child care. Many families pay up to $14,000 a year for child care per child.  \\n\\nMiddle-class and working families shouldn’t have to pay more than 7% of their income for care of young children.  \\n\\nMy plan will cut the cost in half for most families and help parents, including millions of women, who left the workforce during the pandemic because they couldn’t afford child care, to be able to get back to work. \\n\\nMy plan doesn’t stop there. It also includes home and long-term care. More affordable housing. And Pre-K for every 3- and 4-year-old.  \\n\\nAll of these will lower costs. \\n\\nAnd under my plan, nobody earning less than $400,000 a year will pay an additional penny in new taxes. Nobody.  \\n\\nThe one thing all Americans agree on is that the tax system is not fair. We have to fix it.  \\n\\nI’m not looking to punish anyone. But let’s make sure corporations and the wealthiest Americans start paying their fair share. \\n\\nJust last year, 55 Fortune 500 corporations earned $40 billion in profits and paid zero dollars in federal income tax.  \\n\\nThat’s simply not fair. That’s why I’ve proposed a 15% minimum tax rate for corporations. \\n\\nWe got more than 130 countries to agree on a global minimum tax rate so companies can’t get out of paying their taxes at home by shipping jobs and factories overseas. \\n\\nThat’s why I’ve proposed closing loopholes so the very wealthy don’t pay a lower tax rate than a teacher or a firefighter.  \\n\\nSo that’s my plan. It will grow the economy and lower costs for families. \\n\\nSo what are we waiting for? Let’s get this done. And while you’re at it, confirm my nominees to the Federal Reserve, which plays a critical role in fighting inflation.  \\n\\nMy plan will not only lower costs to give families a fair shot, it will lower the deficit. \\n\\nThe previous Administration not only ballooned the deficit with tax cuts for the very wealthy and corporations, it undermined the watchdogs whose job was to keep pandemic relief funds from being wasted. \\n\\nBut in my administration, the watchdogs have been welcomed back. \\n\\nWe’re going after the criminals who stole billions in relief money meant for small businesses and millions of Americans.  \\n\\nAnd tonight, I’m announcing that the Justice Department will name a chief prosecutor for pandemic fraud. \\n\\nBy the end of this year, the deficit will be down to less than half what it was before I took office.  \\n\\nThe only president ever to cut the deficit by more than one trillion dollars in a single year. \\n\\nLowering your costs also means demanding more competition. \\n\\nI’m a capitalist, but capitalism without competition isn’t capitalism. \\n\\nIt’s exploitation—and it drives up prices. \\n\\nWhen corporations don’t have to compete, their profits go up, your prices go up, and small businesses and family farmers and ranchers go under. \\n\\nWe see it happening with ocean carriers moving goods in and out of America. \\n\\nDuring the pandemic, these foreign-owned companies raised prices by as much as 1,000% and made record profits. \\n\\nTonight, I’m announcing a crackdown on these companies overcharging American businesses and consumers. \\n\\nAnd as Wall Street firms take over more nursing homes, quality in those homes has gone down and costs have gone up.  \\n\\nThat ends on my watch. \\n\\nMedicare is going to set higher standards for nursing homes and make sure your loved ones get the care they deserve and expect. \\n\\nWe’ll also cut costs and keep the economy going strong by giving workers a fair shot, provide more training and apprenticeships, hire them based on their skills not degrees. \\n\\nLet’s pass the Paycheck Fairness Act and paid leave.  \\n\\nRaise the minimum wage to $15 an hour and extend the Child Tax Credit, so no one has to raise a family in poverty. \\n\\nLet’s increase Pell Grants and increase our historic support of HBCUs, and invest in what Jill—our First Lady who teaches full-time—calls America’s best-kept secret: community colleges. \\n\\nAnd let’s pass the PRO Act when a majority of workers want to form a union—they shouldn’t be stopped.  \\n\\nWhen we invest in our workers, when we build the economy from the bottom up and the middle out together, we can do something we haven’t done in a long time: build a better America. \\n\\nFor more than two years, COVID-19 has impacted every decision in our lives and the life of the nation. \\n\\nAnd I know you’re tired, frustrated, and exhausted. \\n\\nBut I also know this. \\n\\nBecause of the progress we’ve made, because of your resilience and the tools we have, tonight I can say  \\nwe are moving forward safely, back to more normal routines.  \\n\\nWe’ve reached a new moment in the fight against COVID-19, with severe cases down to a level not seen since last July.  \\n\\nJust a few days ago, the Centers for Disease Control and Prevention—the CDC—issued new mask guidelines. \\n\\nUnder these new guidelines, most Americans in most of the country can now be mask free.   \\n\\nAnd based on the projections, more of the country will reach that point across the next couple of weeks. \\n\\nThanks to the progress we have made this past year, COVID-19 need no longer control our lives.  \\n\\nI know some are talking about “living with COVID-19”. Tonight – I say that we will never just accept living with COVID-19. \\n\\nWe will continue to combat the virus as we do other diseases. And because this is a virus that mutates and spreads, we will stay on guard. \\n\\nHere are four common sense steps as we move forward safely.  \\n\\nFirst, stay protected with vaccines and treatments. We know how incredibly effective vaccines are. If you’re vaccinated and boosted you have the highest degree of protection. \\n\\nWe will never give up on vaccinating more Americans. Now, I know parents with kids under 5 are eager to see a vaccine authorized for their children. \\n\\nThe scientists are working hard to get that done and we’ll be ready with plenty of vaccines when they do. \\n\\nWe’re also ready with anti-viral treatments. If you get COVID-19, the Pfizer pill reduces your chances of ending up in the hospital by 90%.  \\n\\nWe’ve ordered more of these pills than anyone in the world. And Pfizer is working overtime to get us 1 Million pills this month and more than double that next month.  \\n\\nAnd we’re launching the “Test to Treat” initiative so people can get tested at a pharmacy, and if they’re positive, receive antiviral pills on the spot at no cost.  \\n\\nIf you’re immunocompromised or have some other vulnerability, we have treatments and free high-quality masks. \\n\\nWe’re leaving no one behind or ignoring anyone’s needs as we move forward. \\n\\nAnd on testing, we have made hundreds of millions of tests available for you to order for free.   \\n\\nEven if you already ordered free tests tonight, I am announcing that you can order more from covidtests.gov starting next week. \\n\\nSecond – we must prepare for new variants. Over the past year, we’ve gotten much better at detecting new variants. \\n\\nIf necessary, we’ll be able to deploy new vaccines within 100 days instead of many more months or years.  \\n\\nAnd, if Congress provides the funds we need, we’ll have new stockpiles of tests, masks, and pills ready if needed. \\n\\nI cannot promise a new variant won’t come. But I can promise you we’ll do everything within our power to be ready if it does.  \\n\\nThird – we can end the shutdown of schools and businesses. We have the tools we need. \\n\\nIt’s time for Americans to get back to work and fill our great downtowns again.  People working from home can feel safe to begin to return to the office.   \\n\\nWe’re doing that here in the federal government. The vast majority of federal workers will once again work in person. \\n\\nOur schools are open. Let’s keep it that way. Our kids need to be in school. \\n\\nAnd with 75% of adult Americans fully vaccinated and hospitalizations down by 77%, most Americans can remove their masks, return to work, stay in the classroom, and move forward safely. \\n\\nWe achieved this because we provided free vaccines, treatments, tests, and masks. \\n\\nOf course, continuing this costs money. \\n\\nI will soon send Congress a request. \\n\\nThe vast majority of Americans have used these tools and may want to again, so I expect Congress to pass it quickly.   \\n\\nFourth, we will continue vaccinating the world.     \\n\\nWe’ve sent 475 Million vaccine doses to 112 countries, more than any other nation. \\n\\nAnd we won’t stop. \\n\\nWe have lost so much to COVID-19. Time with one another. And worst of all, so much loss of life. \\n\\nLet’s use this moment to reset. Let’s stop looking at COVID-19 as a partisan dividing line and see it for what it is: A God-awful disease.  \\n\\nLet’s stop seeing each other as enemies, and start seeing each other for who we really are: Fellow Americans.  \\n\\nWe can’t change how divided we’ve been. But we can change how we move forward—on COVID-19 and other issues we must face together. \\n\\nI recently visited the New York City Police Department days after the funerals of Officer Wilbert Mora and his partner, Officer Jason Rivera. \\n\\nThey were responding to a 9-1-1 call when a man shot and killed them with a stolen gun. \\n\\nOfficer Mora was 27 years old. \\n\\nOfficer Rivera was 22. \\n\\nBoth Dominican Americans who’d grown up on the same streets they later chose to patrol as police officers. \\n\\nI spoke with their families and told them that we are forever in debt for their sacrifice, and we will carry on their mission to restore the trust and safety every community deserves. \\n\\nI’ve worked on these issues a long time. \\n\\nI know what works: Investing in crime preventionand community police officers who’ll walk the beat, who’ll know the neighborhood, and who can restore trust and safety. \\n\\nSo let’s not abandon our streets. Or choose between safety and equal justice. \\n\\nLet’s come together to protect our communities, restore trust, and hold law enforcement accountable. \\n\\nThat’s why the Justice Department required body cameras, banned chokeholds, and restricted no-knock warrants for its officers. \\n\\nThat’s why the American Rescue Plan provided $350 Billion that cities, states, and counties can use to hire more police and invest in proven strategies like community violence interruption—trusted messengers breaking the cycle of violence and trauma and giving young people hope.  \\n\\nWe should all agree: The answer is not to Defund the police. The answer is to FUND the police with the resources and training they need to protect our communities. \\n\\nI ask Democrats and Republicans alike: Pass my budget and keep our neighborhoods safe.  \\n\\nAnd I will keep doing everything in my power to crack down on gun trafficking and ghost guns you can buy online and make at home—they have no serial numbers and can’t be traced. \\n\\nAnd I ask Congress to pass proven measures to reduce gun violence. Pass universal background checks. Why should anyone on a terrorist list be able to purchase a weapon? \\n\\nBan assault weapons and high-capacity magazines. \\n\\nRepeal the liability shield that makes gun manufacturers the only industry in America that can’t be sued. \\n\\nThese laws don’t infringe on the Second Amendment. They save lives. \\n\\nThe most fundamental right in America is the right to vote – and to have it counted. And it’s under assault. \\n\\nIn state after state, new laws have been passed, not only to suppress the vote, but to subvert entire elections. \\n\\nWe cannot let this happen. \\n\\nTonight. I call on the Senate to: Pass the Freedom to Vote Act. Pass the John Lewis Voting Rights Act. And while you’re at it, pass the Disclose Act so Americans can know who is funding our elections. \\n\\nTonight, I’d like to honor someone who has dedicated his life to serve this country: Justice Stephen Breyer—an Army veteran, Constitutional scholar, and retiring Justice of the United States Supreme Court. Justice Breyer, thank you for your service. \\n\\nOne of the most serious constitutional responsibilities a President has is nominating someone to serve on the United States Supreme Court. \\n\\nAnd I did that 4 days ago, when I nominated Circuit Court of Appeals Judge Ketanji Brown Jackson. One of our nation’s top legal minds, who will continue Justice Breyer’s legacy of excellence. \\n\\nA former top litigator in private practice. A former federal public defender. And from a family of public school educators and police officers. A consensus builder. Since she’s been nominated, she’s received a broad range of support—from the Fraternal Order of Police to former judges appointed by Democrats and Republicans. \\n\\nAnd if we are to advance liberty and justice, we need to secure the Border and fix the immigration system. \\n\\nWe can do both. At our border, we’ve installed new technology like cutting-edge scanners to better detect drug smuggling.  \\n\\nWe’ve set up joint patrols with Mexico and Guatemala to catch more human traffickers.  \\n\\nWe’re putting in place dedicated immigration judges so families fleeing persecution and violence can have their cases heard faster. \\n\\nWe’re securing commitments and supporting partners in South and Central America to host more refugees and secure their own borders. \\n\\nWe can do all this while keeping lit the torch of liberty that has led generations of immigrants to this land—my forefathers and so many of yours. \\n\\nProvide a pathway to citizenship for Dreamers, those on temporary status, farm workers, and essential workers. \\n\\nRevise our laws so businesses have the workers they need and families don’t wait decades to reunite. \\n\\nIt’s not only the right thing to do—it’s the economically smart thing to do. \\n\\nThat’s why immigration reform is supported by everyone from labor unions to religious leaders to the U.S. Chamber of Commerce. \\n\\nLet’s get it done once and for all. \\n\\nAdvancing liberty and justice also requires protecting the rights of women. \\n\\nThe constitutional right affirmed in Roe v. Wade—standing precedent for half a century—is under attack as never before. \\n\\nIf we want to go forward—not backward—we must protect access to health care. Preserve a woman’s right to choose. And let’s continue to advance maternal health care in America. \\n\\nAnd for our LGBTQ+ Americans, let’s finally get the bipartisan Equality Act to my desk. The onslaught of state laws targeting transgender Americans and their families is wrong. \\n\\nAs I said last year, especially to our younger transgender Americans, I will always have your back as your President, so you can be yourself and reach your God-given potential. \\n\\nWhile it often appears that we never agree, that isn’t true. I signed 80 bipartisan bills into law last year. From preventing government shutdowns to protecting Asian-Americans from still-too-common hate crimes to reforming military justice. \\n\\nAnd soon, we’ll strengthen the Violence Against Women Act that I first wrote three decades ago. It is important for us to show the nation that we can come together and do big things. \\n\\nSo tonight I’m offering a Unity Agenda for the Nation. Four big things we can do together.  \\n\\nFirst, beat the opioid epidemic. \\n\\nThere is so much we can do. Increase funding for prevention, treatment, harm reduction, and recovery.  \\n\\nGet rid of outdated rules that stop doctors from prescribing treatments. And stop the flow of illicit drugs by working with state and local law enforcement to go after traffickers. \\n\\nIf you’re suffering from addiction, know you are not alone. I believe in recovery, and I celebrate the 23 million Americans in recovery. \\n\\nSecond, let’s take on mental health. Especially among our children, whose lives and education have been turned upside down.  \\n\\nThe American Rescue Plan gave schools money to hire teachers and help students make up for lost learning.  \\n\\nI urge every parent to make sure your school does just that. And we can all play a part—sign up to be a tutor or a mentor. \\n\\nChildren were also struggling before the pandemic. Bullying, violence, trauma, and the harms of social media. \\n\\nAs Frances Haugen, who is here with us tonight, has shown, we must hold social media platforms accountable for the national experiment they’re conducting on our children for profit. \\n\\nIt’s time to strengthen privacy protections, ban targeted advertising to children, demand tech companies stop collecting personal data on our children. \\n\\nAnd let’s get all Americans the mental health services they need. More people they can turn to for help, and full parity between physical and mental health care. \\n\\nThird, support our veterans. \\n\\nVeterans are the best of us. \\n\\nI’ve always believed that we have a sacred obligation to equip all those we send to war and care for them and their families when they come home. \\n\\nMy administration is providing assistance with job training and housing, and now helping lower-income veterans get VA care debt-free.  \\n\\nOur troops in Iraq and Afghanistan faced many dangers. \\n\\nOne was stationed at bases and breathing in toxic smoke from “burn pits” that incinerated wastes of war—medical and hazard material, jet fuel, and more. \\n\\nWhen they came home, many of the world’s fittest and best trained warriors were never the same. \\n\\nHeadaches. Numbness. Dizziness. \\n\\nA cancer that would put them in a flag-draped coffin. \\n\\nI know. \\n\\nOne of those soldiers was my son Major Beau Biden. \\n\\nWe don’t know for sure if a burn pit was the cause of his brain cancer, or the diseases of so many of our troops. \\n\\nBut I’m committed to finding out everything we can. \\n\\nCommitted to military families like Danielle Robinson from Ohio. \\n\\nThe widow of Sergeant First Class Heath Robinson.  \\n\\nHe was born a soldier. Army National Guard. Combat medic in Kosovo and Iraq. \\n\\nStationed near Baghdad, just yards from burn pits the size of football fields. \\n\\nHeath’s widow Danielle is here with us tonight. They loved going to Ohio State football games. He loved building Legos with their daughter. \\n\\nBut cancer from prolonged exposure to burn pits ravaged Heath’s lungs and body. \\n\\nDanielle says Heath was a fighter to the very end. \\n\\nHe didn’t know how to stop fighting, and neither did she. \\n\\nThrough her pain she found purpose to demand we do better. \\n\\nTonight, Danielle—we are. \\n\\nThe VA is pioneering new ways of linking toxic exposures to diseases, already helping more veterans get benefits. \\n\\nAnd tonight, I’m announcing we’re expanding eligibility to veterans suffering from nine respiratory cancers. \\n\\nI’m also calling on Congress: pass a law to make sure veterans devastated by toxic exposures in Iraq and Afghanistan finally get the benefits and comprehensive health care they deserve. \\n\\nAnd fourth, let’s end cancer as we know it. \\n\\nThis is personal to me and Jill, to Kamala, and to so many of you. \\n\\nCancer is the #2 cause of death in America–second only to heart disease. \\n\\nLast month, I announced our plan to supercharge  \\nthe Cancer Moonshot that President Obama asked me to lead six years ago. \\n\\nOur goal is to cut the cancer death rate by at least 50% over the next 25 years, turn more cancers from death sentences into treatable diseases.  \\n\\nMore support for patients and families. \\n\\nTo get there, I call on Congress to fund ARPA-H, the Advanced Research Projects Agency for Health. \\n\\nIt’s based on DARPA—the Defense Department project that led to the Internet, GPS, and so much more.  \\n\\nARPA-H will have a singular purpose—to drive breakthroughs in cancer, Alzheimer’s, diabetes, and more. \\n\\nA unity agenda for the nation. \\n\\nWe can do this. \\n\\nMy fellow Americans—tonight , we have gathered in a sacred space—the citadel of our democracy. \\n\\nIn this Capitol, generation after generation, Americans have debated great questions amid great strife, and have done great things. \\n\\nWe have fought for freedom, expanded liberty, defeated totalitarianism and terror. \\n\\nAnd built the strongest, freest, and most prosperous nation the world has ever known. \\n\\nNow is the hour. \\n\\nOur moment of responsibility. \\n\\nOur test of resolve and conscience, of history itself. \\n\\nIt is in this moment that our character is formed. Our purpose is found. Our future is forged. \\n\\nWell I know this nation.  \\n\\nWe will meet the test. \\n\\nTo protect freedom and liberty, to expand fairness and opportunity. \\n\\nWe will save democracy. \\n\\nAs hard as these times have been, I am more optimistic about America today than I have been my whole life. \\n\\nBecause I see the future that is within our grasp. \\n\\nBecause I know there is simply nothing beyond our capacity. \\n\\nWe are the only nation on Earth that has always turned every crisis we have faced into an opportunity. \\n\\nThe only nation that can be defined by a single word: possibilities. \\n\\nSo on this night, in our 245th year as a nation, I have come to report on the State of the Union. \\n\\nAnd my report is this: the State of the Union is strong—because you, the American people, are strong. \\n\\nWe are stronger today than we were a year ago. \\n\\nAnd we will be stronger a year from now than we are today. \\n\\nNow is our moment to meet and overcome the challenges of our time. \\n\\nAnd we will, as one people. \\n\\nOne America. \\n\\nThe United States of America. \\n\\nMay God bless you all. May God protect our troops.'"
     },
     "execution_count": 28,
     "metadata": {},
     "output_type": "execute_result"
    }
   ],
   "source": [
    "#read state_of_the_union.txt\n",
    "with open(\"data/docs/state_of_the_union.txt\", \"r\") as f:\n",
    "    doc = f.read()\n",
    "doc"
   ],
   "metadata": {
    "collapsed": false,
    "ExecuteTime": {
     "start_time": "2023-04-25T09:37:26.227714Z",
     "end_time": "2023-04-25T09:37:26.278051Z"
    }
   }
  },
  {
   "cell_type": "code",
   "execution_count": null,
   "outputs": [],
   "source": [
    "VectorstoreIndexCreator"
   ],
   "metadata": {
    "collapsed": false
   }
  },
  {
   "cell_type": "code",
   "execution_count": 17,
   "outputs": [
    {
     "name": "stderr",
     "output_type": "stream",
     "text": [
      "Using embedded DuckDB without persistence: data will be transient\n"
     ]
    }
   ],
   "source": [
    "from langchain.indexes import VectorstoreIndexCreator\n",
    "vectorstore = VectorstoreIndexCreator().from_loaders([loader]).vectorstore"
   ],
   "metadata": {
    "collapsed": false,
    "ExecuteTime": {
     "start_time": "2023-04-25T09:16:52.034258Z",
     "end_time": "2023-04-25T09:16:53.008305Z"
    }
   }
  },
  {
   "cell_type": "code",
   "execution_count": 3,
   "outputs": [],
   "source": [
    "from langchain.chains import RetrievalQA\n",
    "from langchain.llms import OpenAI"
   ],
   "metadata": {
    "collapsed": false,
    "ExecuteTime": {
     "start_time": "2023-04-25T19:48:36.592358Z",
     "end_time": "2023-04-25T19:48:36.600702Z"
    }
   }
  },
  {
   "cell_type": "code",
   "execution_count": 20,
   "outputs": [],
   "source": [
    "chain = RetrievalQA.from_chain_type(llm=OpenAI(), chain_type=\"stuff\", retriever=vectorstore.as_retriever(), input_key=\"question\")"
   ],
   "metadata": {
    "collapsed": false,
    "ExecuteTime": {
     "start_time": "2023-04-25T09:18:22.167015Z",
     "end_time": "2023-04-25T09:18:22.169583Z"
    }
   }
  },
  {
   "cell_type": "code",
   "execution_count": 26,
   "outputs": [
    {
     "data": {
      "text/plain": "'Groups of citizens blocking tanks with their bodies. Everyone from students to retirees teachers turned soldiers defending their homeland. \\n\\nIn this struggle as President Zelenskyy said in his speech to the European Parliament “Light will win over darkness.” The Ukrainian Ambassador to the United States is here tonight. \\n\\nLet each of us here tonight in this Chamber send an unmistakable signal to Ukraine and to the world. \\n\\nPlease rise if you are able and show that, Yes, we the United States of America stand with the Ukrainian people. \\n\\nThroughout our history we’ve learned this lesson when dictators do not pay a price for their aggression they cause more chaos.   \\n\\nThey keep moving.   \\n\\nAnd the costs and the threats to America and the world keep rising.   \\n\\nThat’s why the NATO Alliance was created to secure peace and stability in Europe after World War 2. \\n\\nThe United States is a member along with 29 other nations. \\n\\nIt matters. American diplomacy matters. American resolve matters.'"
     },
     "execution_count": 26,
     "metadata": {},
     "output_type": "execute_result"
    }
   ],
   "source": [
    "vectorstore.similarity_search(\"purpose of the NATO alliance\", k=2)[0].page_content"
   ],
   "metadata": {
    "collapsed": false,
    "ExecuteTime": {
     "start_time": "2023-04-25T09:33:46.353947Z",
     "end_time": "2023-04-25T09:33:46.611729Z"
    }
   }
  },
  {
   "cell_type": "code",
   "execution_count": null,
   "outputs": [],
   "source": [],
   "metadata": {
    "collapsed": false
   }
  },
  {
   "cell_type": "code",
   "execution_count": 5,
   "outputs": [],
   "source": [
    "pws = PWS_Extra(fewshot=fewshots.SOTU_PWS_EXTRA, available_tools=[\"Google\", \"Calculator\", \"LLM\", \"SearchSOTU\"])"
   ],
   "metadata": {
    "collapsed": false,
    "ExecuteTime": {
     "start_time": "2023-04-25T20:26:18.730075Z",
     "end_time": "2023-04-25T20:26:18.733615Z"
    }
   }
  },
  {
   "cell_type": "markdown",
   "source": [],
   "metadata": {
    "collapsed": false
   }
  },
  {
   "cell_type": "code",
   "execution_count": 6,
   "outputs": [
    {
     "name": "stderr",
     "output_type": "stream",
     "text": [
      "Using embedded DuckDB without persistence: data will be transient\n"
     ]
    },
    {
     "data": {
      "text/plain": "{'wall_time': 60.99924159049988,\n 'input': 'What are other institutes serving for similar goals as NATO?',\n 'output': 'Other institutes serving similar goals as NATO include the United Nations, the European Union, the Organization for Security and Co-operation in Europe (OSCE), and the North Atlantic Treaty Organization (NATO).',\n 'planner_log': 'For the following tasks, make plans that can solve the problem step-by-step. For each plan, indicate which external tool together with tool input to retrieve evidence. You can store the evidence into a variable #E (#E1, #E2, ...) that can be called by later tools.\\n\\nTools can be one of the following:\\nGoogle[input]: Worker that searches results from Google. Useful when you need to find short and succinct answers about a specific topic. Input should be a search query.\\nCalculator[input]: A calculator that can compute arithmetic expressions. Useful when you need to perform math calculations. Input should be a mathematical expression\\nLLM[input]: A pretrained LLM like yourself. Useful when you need to act with general world knowledge and common sense. Prioritize it when you are confident in solving the problem yourself. Input can be any instruction.\\nSearchSOTU[input]: A vector store that searches for similar and related content in document: state_of_the_union. The result might contain some irrelevant information in response chunk so always use an LLM afterwards to retrieve key knowledge. Input should be a search query.\\n\\nBegin! Describe your plans with rich details.\\n\\nWhat are other institutions serving for similar goals as NATO?\\nPLan: Find out what the goals of NATO are.\\n#E1 = SearchSOTU[goals of NATO]\\nPlan: Summarize the goals of NATO in several words.\\n#E2 = LLM[In several words, summarize the goals of NATO. Given context: #E1]\\nPlan: Search for institutions that serve similar goals.\\n#E3 = Google[institutions that serve for #E2]\\nWhat are other institutes serving for similar goals as NATO?\\nPlan: Find out what the goals of NATO are.\\n#E1 = SearchSOTU[goals of NATO]\\nPlan: Summarize the goals of NATO in several words.\\n#E2 = LLM[In several words, summarize the goals of NATO. Given context: #E1]\\nPlan: Search for institutes that serve similar goals.\\n#E3 = Google[institutes that serve for #E2]',\n 'worker_log': \"Plan: Find out what the goals of NATO are.\\nEvidence:\\nFor that purpose we’ve mobilized American ground forces, air squadrons, and ship deployments to protect NATO countries including Poland, Romania, Latvia, Lithuania, and Estonia. \\n\\nAs I have made crystal clear the United States and our Allies will defend every inch of territory of NATO countries with the full force of our collective power.  \\n\\nAnd we remain clear-eyed. The Ukrainians are fighting back with pure courage. But the next few days weeks, months, will be hard on them.  \\n\\nPutin has unleashed violence and chaos.  But while he may make gains on the battlefield – he will pay a continuing high price over the long run. \\n\\nAnd a proud Ukrainian people, who have known 30 years  of independence, have repeatedly shown that they will not tolerate anyone who tries to take their country backwards.  \\n\\nTo all Americans, I will be honest with you, as I’ve always promised. A Russian dictator, invading a foreign country, has costs around the world.\\nPlan: Summarize the goals of NATO in several words.\\nEvidence:\\nProtect NATO countries; defend territory; oppose Russian aggression.\\nPlan: Search for institutes that serve similar goals.\\nEvidence:\\nNATO condemns in the strongest possible terms Russia's brutal and unprovoked war of aggression against Ukraine - which is an independent, peaceful and ...\\n\",\n 'solver_log': \"Solve the following task or problem. To assist you, we provide some plans and corresponding evidences that might be helpful. Notice that some of these information contain noise so you should trust them with caution.\\n\\nWhat are other institutes serving for similar goals as NATO?\\nPlan: Find out what the goals of NATO are.\\nEvidence:\\nFor that purpose we’ve mobilized American ground forces, air squadrons, and ship deployments to protect NATO countries including Poland, Romania, Latvia, Lithuania, and Estonia. \\n\\nAs I have made crystal clear the United States and our Allies will defend every inch of territory of NATO countries with the full force of our collective power.  \\n\\nAnd we remain clear-eyed. The Ukrainians are fighting back with pure courage. But the next few days weeks, months, will be hard on them.  \\n\\nPutin has unleashed violence and chaos.  But while he may make gains on the battlefield – he will pay a continuing high price over the long run. \\n\\nAnd a proud Ukrainian people, who have known 30 years  of independence, have repeatedly shown that they will not tolerate anyone who tries to take their country backwards.  \\n\\nTo all Americans, I will be honest with you, as I’ve always promised. A Russian dictator, invading a foreign country, has costs around the world.\\nPlan: Summarize the goals of NATO in several words.\\nEvidence:\\nProtect NATO countries; defend territory; oppose Russian aggression.\\nPlan: Search for institutes that serve similar goals.\\nEvidence:\\nNATO condemns in the strongest possible terms Russia's brutal and unprovoked war of aggression against Ukraine - which is an independent, peaceful and ...\\n\\nNow begin to solve the task or problem. Respond directly with no extra words.\\nWhat are other institutes serving for similar goals as NATO?\\nOther institutes serving similar goals as NATO include the United Nations, the European Union, the Organization for Security and Co-operation in Europe (OSCE), and the North Atlantic Treaty Organization (NATO).\",\n 'tool_usage': {'LLM_token': 270, 'Google': 1},\n 'steps': 4,\n 'total_tokens': 1164,\n 'token_cost': 0.023280000000000002,\n 'tool_cost': 0.01,\n 'total_cost': 0.033280000000000004}"
     },
     "execution_count": 6,
     "metadata": {},
     "output_type": "execute_result"
    }
   ],
   "source": [
    "pws.run(\"What are other institutes serving for similar goals as NATO?\")"
   ],
   "metadata": {
    "collapsed": false,
    "ExecuteTime": {
     "start_time": "2023-04-25T20:26:19.101625Z",
     "end_time": "2023-04-25T20:27:20.116138Z"
    }
   }
  },
  {
   "cell_type": "code",
   "execution_count": 8,
   "outputs": [
    {
     "data": {
      "text/plain": "{'#E1': 'For that purpose we’ve mobilized American ground forces, air squadrons, and ship deployments to protect NATO countries including Poland, Romania, Latvia, Lithuania, and Estonia. \\n\\nAs I have made crystal clear the United States and our Allies will defend every inch of territory of NATO countries with the full force of our collective power.  \\n\\nAnd we remain clear-eyed. The Ukrainians are fighting back with pure courage. But the next few days weeks, months, will be hard on them.  \\n\\nPutin has unleashed violence and chaos.  But while he may make gains on the battlefield – he will pay a continuing high price over the long run. \\n\\nAnd a proud Ukrainian people, who have known 30 years  of independence, have repeatedly shown that they will not tolerate anyone who tries to take their country backwards.  \\n\\nTo all Americans, I will be honest with you, as I’ve always promised. A Russian dictator, invading a foreign country, has costs around the world.',\n '#E2': 'Protect NATO countries; defend territory; oppose Russian aggression.',\n '#E3': \"NATO condemns in the strongest possible terms Russia's brutal and unprovoked war of aggression against Ukraine - which is an independent, peaceful and ...\"}"
     },
     "execution_count": 8,
     "metadata": {},
     "output_type": "execute_result"
    }
   ],
   "source": [
    "pws.worker_evidences"
   ],
   "metadata": {
    "collapsed": false,
    "ExecuteTime": {
     "start_time": "2023-04-25T20:27:27.124580Z",
     "end_time": "2023-04-25T20:27:27.128932Z"
    }
   }
  },
  {
   "cell_type": "code",
   "execution_count": 13,
   "outputs": [
    {
     "ename": "ValidationError",
     "evalue": "1 validation error for CustomWolframAlphaAPITool\n__root__\n  Did not find wolfram_alpha_appid, please add an environment variable `WOLFRAM_ALPHA_APPID` which contains it, or pass  `wolfram_alpha_appid` as a named parameter. (type=value_error)",
     "output_type": "error",
     "traceback": [
      "\u001B[0;31m---------------------------------------------------------------------------\u001B[0m",
      "\u001B[0;31mValidationError\u001B[0m                           Traceback (most recent call last)",
      "\u001B[0;32m/tmp/ipykernel_615498/1825421570.py\u001B[0m in \u001B[0;36m<module>\u001B[0;34m\u001B[0m\n\u001B[1;32m      1\u001B[0m \u001B[0;32mfrom\u001B[0m \u001B[0mnodes\u001B[0m\u001B[0;34m.\u001B[0m\u001B[0mWorker\u001B[0m \u001B[0;32mimport\u001B[0m \u001B[0mGoogleWorker\u001B[0m\u001B[0;34m,\u001B[0m \u001B[0mWolframAlphaWorker\u001B[0m\u001B[0;34m\u001B[0m\u001B[0;34m\u001B[0m\u001B[0m\n\u001B[0;32m----> 2\u001B[0;31m \u001B[0mWolframAlphaWorker\u001B[0m\u001B[0;34m(\u001B[0m\u001B[0;34m)\u001B[0m\u001B[0;34m.\u001B[0m\u001B[0mrun\u001B[0m\u001B[0;34m(\u001B[0m\u001B[0;34m\"NCSU\"\u001B[0m\u001B[0;34m)\u001B[0m\u001B[0;34m\u001B[0m\u001B[0;34m\u001B[0m\u001B[0m\n\u001B[0m",
      "\u001B[0;32m~/workspace/PWS/nodes/Worker.py\u001B[0m in \u001B[0;36mrun\u001B[0;34m(self, input, log)\u001B[0m\n\u001B[1;32m    107\u001B[0m     \u001B[0;32mdef\u001B[0m \u001B[0mrun\u001B[0m\u001B[0;34m(\u001B[0m\u001B[0mself\u001B[0m\u001B[0;34m,\u001B[0m \u001B[0minput\u001B[0m\u001B[0;34m,\u001B[0m \u001B[0mlog\u001B[0m\u001B[0;34m=\u001B[0m\u001B[0;32mFalse\u001B[0m\u001B[0;34m)\u001B[0m\u001B[0;34m:\u001B[0m\u001B[0;34m\u001B[0m\u001B[0;34m\u001B[0m\u001B[0m\n\u001B[1;32m    108\u001B[0m         \u001B[0;32massert\u001B[0m \u001B[0misinstance\u001B[0m\u001B[0;34m(\u001B[0m\u001B[0minput\u001B[0m\u001B[0;34m,\u001B[0m \u001B[0mself\u001B[0m\u001B[0;34m.\u001B[0m\u001B[0minput_type\u001B[0m\u001B[0;34m)\u001B[0m\u001B[0;34m\u001B[0m\u001B[0;34m\u001B[0m\u001B[0m\n\u001B[0;32m--> 109\u001B[0;31m         \u001B[0mtool\u001B[0m \u001B[0;34m=\u001B[0m \u001B[0mCustomWolframAlphaAPITool\u001B[0m\u001B[0;34m(\u001B[0m\u001B[0;34m)\u001B[0m\u001B[0;34m\u001B[0m\u001B[0;34m\u001B[0m\u001B[0m\n\u001B[0m\u001B[1;32m    110\u001B[0m         \u001B[0mevidence\u001B[0m \u001B[0;34m=\u001B[0m \u001B[0mtool\u001B[0m\u001B[0;34m.\u001B[0m\u001B[0mrun\u001B[0m\u001B[0;34m(\u001B[0m\u001B[0minput\u001B[0m\u001B[0;34m)\u001B[0m\u001B[0;34m\u001B[0m\u001B[0;34m\u001B[0m\u001B[0m\n\u001B[1;32m    111\u001B[0m         \u001B[0;32massert\u001B[0m \u001B[0misinstance\u001B[0m\u001B[0;34m(\u001B[0m\u001B[0mevidence\u001B[0m\u001B[0;34m,\u001B[0m \u001B[0mself\u001B[0m\u001B[0;34m.\u001B[0m\u001B[0moutput_type\u001B[0m\u001B[0;34m)\u001B[0m\u001B[0;34m\u001B[0m\u001B[0;34m\u001B[0m\u001B[0m\n",
      "\u001B[0;32m~/workspace/PWS/nodes/Worker.py\u001B[0m in \u001B[0;36m__init__\u001B[0;34m(self)\u001B[0m\n\u001B[1;32m     81\u001B[0m \u001B[0;32mclass\u001B[0m \u001B[0mCustomWolframAlphaAPITool\u001B[0m\u001B[0;34m(\u001B[0m\u001B[0mWolframAlphaAPIWrapper\u001B[0m\u001B[0;34m)\u001B[0m\u001B[0;34m:\u001B[0m\u001B[0;34m\u001B[0m\u001B[0;34m\u001B[0m\u001B[0m\n\u001B[1;32m     82\u001B[0m     \u001B[0;32mdef\u001B[0m \u001B[0m__init__\u001B[0m\u001B[0;34m(\u001B[0m\u001B[0mself\u001B[0m\u001B[0;34m)\u001B[0m\u001B[0;34m:\u001B[0m\u001B[0;34m\u001B[0m\u001B[0;34m\u001B[0m\u001B[0m\n\u001B[0;32m---> 83\u001B[0;31m         \u001B[0msuper\u001B[0m\u001B[0;34m(\u001B[0m\u001B[0;34m)\u001B[0m\u001B[0;34m.\u001B[0m\u001B[0m__init__\u001B[0m\u001B[0;34m(\u001B[0m\u001B[0;34m)\u001B[0m\u001B[0;34m\u001B[0m\u001B[0;34m\u001B[0m\u001B[0m\n\u001B[0m\u001B[1;32m     84\u001B[0m \u001B[0;34m\u001B[0m\u001B[0m\n\u001B[1;32m     85\u001B[0m     \u001B[0;32mdef\u001B[0m \u001B[0mrun\u001B[0m\u001B[0;34m(\u001B[0m\u001B[0mself\u001B[0m\u001B[0;34m,\u001B[0m \u001B[0mquery\u001B[0m\u001B[0;34m:\u001B[0m \u001B[0mstr\u001B[0m\u001B[0;34m)\u001B[0m \u001B[0;34m->\u001B[0m \u001B[0mstr\u001B[0m\u001B[0;34m:\u001B[0m\u001B[0;34m\u001B[0m\u001B[0;34m\u001B[0m\u001B[0m\n",
      "\u001B[0;32m~/anaconda3/lib/python3.9/site-packages/pydantic/main.cpython-39-x86_64-linux-gnu.so\u001B[0m in \u001B[0;36mpydantic.main.BaseModel.__init__\u001B[0;34m()\u001B[0m\n",
      "\u001B[0;31mValidationError\u001B[0m: 1 validation error for CustomWolframAlphaAPITool\n__root__\n  Did not find wolfram_alpha_appid, please add an environment variable `WOLFRAM_ALPHA_APPID` which contains it, or pass  `wolfram_alpha_appid` as a named parameter. (type=value_error)"
     ]
    }
   ],
   "source": [
    "from nodes.Worker import GoogleWorker, WolframAlphaWorker\n",
    "WolframAlphaWorker().run(\"NCSU\")"
   ],
   "metadata": {
    "collapsed": false,
    "ExecuteTime": {
     "start_time": "2023-04-25T20:40:43.295843Z",
     "end_time": "2023-04-25T20:40:46.183679Z"
    }
   }
  },
  {
   "cell_type": "code",
   "execution_count": 14,
   "outputs": [],
   "source": [
    "from serpapi import GoogleSearch\n",
    "\n",
    "params = {\n",
    "  \"engine\": \"yelp\",\n",
    "  \"find_desc\": \"Coffee\",\n",
    "  \"find_loc\": \"New York, NY, USA\",\n",
    "  \"api_key\": \"8a158c526d6f258efab645fc935e846655678766f05ec444aa19009eac63989e\"\n",
    "}\n",
    "\n",
    "search = GoogleSearch(params)\n",
    "results = search.get_dict()\n",
    "organic_results = results[\"organic_results\"]"
   ],
   "metadata": {
    "collapsed": false,
    "ExecuteTime": {
     "start_time": "2023-04-25T20:49:34.552728Z",
     "end_time": "2023-04-25T20:49:42.928947Z"
    }
   }
  },
  {
   "cell_type": "code",
   "execution_count": 16,
   "outputs": [
    {
     "data": {
      "text/plain": "[{'position': 1,\n  'place_ids': ['ED7A7vDdg8yLNKJTSVHHmg', 'arabica-brooklyn'],\n  'title': '% Arabica',\n  'link': 'https://www.yelp.com/biz/arabica-brooklyn?osq=Coffee',\n  'reviews_link': 'https://serpapi.com/search.json?engine=yelp_reviews&place_id=ED7A7vDdg8yLNKJTSVHHmg',\n  'categories': [{'title': 'Coffee & Tea',\n    'link': 'https://www.yelp.com/search?find_desc=Coffee+%26+Tea&amp;find_loc=New+York%2C+NY'}],\n  'price': '$$',\n  'rating': 4.5,\n  'reviews': 205,\n  'neighborhoods': 'Brooklyn Heights',\n  'phone': '(718) 865-2551',\n  'snippet': \"If you're looking for a great cup of coffee in Brooklyn, % Arabica is definitely worth checking out.\",\n  'service_options': {'outdoor_seating': True},\n  'thumbnail': 'https://s3-media0.fl.yelpcdn.com/bphoto/_rgLT3xVWG2jni0b6CVY2w/348s.jpg'},\n {'position': 2,\n  'place_ids': ['K6fkejf2ZBUdlsVrm5RbrA', 'koré-coffee-new-york-7'],\n  'title': 'Koré Coffee',\n  'link': 'https://www.yelp.com/biz/kor%C3%A9-coffee-new-york-7?osq=Coffee',\n  'reviews_link': 'https://serpapi.com/search.json?engine=yelp_reviews&place_id=K6fkejf2ZBUdlsVrm5RbrA',\n  'categories': [{'title': 'Coffee & Tea',\n    'link': 'https://www.yelp.com/search?find_desc=Coffee+%26+Tea&amp;find_loc=New+York%2C+NY'}],\n  'price': '$$',\n  'rating': 5.0,\n  'reviews': 152,\n  'neighborhoods': 'Chinatown',\n  'snippet': \"hot coffee is ubiquitous in nyc from the bodega to coffee chains, but it's nice to have those local...\",\n  'service_options': {'outdoor_seating': False,\n   'delivery': False,\n   'takeout': True},\n  'thumbnail': 'https://s3-media0.fl.yelpcdn.com/bphoto/udraUuzY6EpdnaHje_shMg/348s.jpg'},\n {'position': 3,\n  'place_ids': ['pimuUR-TEHIjUla3S3jemQ',\n   'coffee-project-new-york-east-village-new-york'],\n  'title': 'Coffee Project New York | East Village',\n  'link': 'https://www.yelp.com/biz/coffee-project-new-york-east-village-new-york?osq=Coffee',\n  'reviews_link': 'https://serpapi.com/search.json?engine=yelp_reviews&place_id=pimuUR-TEHIjUla3S3jemQ',\n  'categories': [{'title': 'Coffee & Tea',\n    'link': 'https://www.yelp.com/search?find_desc=Coffee+%26+Tea&amp;find_loc=New+York%2C+NY'},\n   {'title': 'Sandwiches',\n    'link': 'https://www.yelp.com/search?find_desc=Sandwiches&amp;find_loc=New+York%2C+NY'}],\n  'price': '$',\n  'rating': 4.5,\n  'reviews': 765,\n  'neighborhoods': 'East Village',\n  'highlights': ['Women-owned & operated', 'Free WiFi'],\n  'phone': '(347) 815-6690',\n  'snippet': 'It is definitely hard to be a coffee shop right now. The coffee: I had a pour over and a cortado.',\n  'service_options': {'outdoor_seating': True,\n   'delivery': False,\n   'takeout': True},\n  'thumbnail': 'https://s3-media0.fl.yelpcdn.com/bphoto/MbROmGvuK3LhRfaaJdFvaA/348s.jpg'},\n {'position': 4,\n  'place_ids': ['bJDU8KNLQMrZG0Ngs4AY0w', 'le-phin-new-york-2'],\n  'title': 'Le Phin',\n  'link': 'https://www.yelp.com/biz/le-phin-new-york-2?osq=Coffee',\n  'reviews_link': 'https://serpapi.com/search.json?engine=yelp_reviews&place_id=bJDU8KNLQMrZG0Ngs4AY0w',\n  'categories': [{'title': 'Coffee & Tea',\n    'link': 'https://www.yelp.com/search?find_desc=Coffee+%26+Tea&amp;find_loc=New+York%2C+NY'}],\n  'price': '$$',\n  'rating': 5.0,\n  'reviews': 101,\n  'neighborhoods': 'East Village',\n  'snippet': 'With both excellent coffee and service, Le Phin is a cafe that I will frequent more often.',\n  'service_options': {'outdoor_seating': True, 'takeout': True},\n  'thumbnail': 'https://s3-media0.fl.yelpcdn.com/bphoto/9ASzwJOANXIAp_Jvt7eChg/348s.jpg'},\n {'position': 5,\n  'place_ids': ['RDxA8WL7wdHiM5YimUQ_XQ', 'now-or-never-coffee-new-york'],\n  'title': 'Now or Never Coffee',\n  'link': 'https://www.yelp.com/biz/now-or-never-coffee-new-york?osq=Coffee',\n  'reviews_link': 'https://serpapi.com/search.json?engine=yelp_reviews&place_id=RDxA8WL7wdHiM5YimUQ_XQ',\n  'categories': [{'title': 'Coffee & Tea',\n    'link': 'https://www.yelp.com/search?find_desc=Coffee+%26+Tea&amp;find_loc=New+York%2C+NY'}],\n  'rating': 4.5,\n  'reviews': 83,\n  'neighborhoods': 'South Village',\n  'phone': '(347) 556-8312',\n  'snippet': 'Most coffee places seem to be still closed due to Covid. But I came across \"Now or Never Coffee\" and...',\n  'service_options': {'outdoor_seating': True,\n   'delivery': True,\n   'takeout': True},\n  'thumbnail': 'https://s3-media0.fl.yelpcdn.com/bphoto/R4ly00OSjx6nV8kiv7U1Mw/348s.jpg'},\n {'position': 6,\n  'place_ids': ['mofGEx6VNSSpZfaOjqUzww', 'café-lyria-new-york'],\n  'title': 'Café Lyria',\n  'link': 'https://www.yelp.com/biz/caf%C3%A9-lyria-new-york?osq=Coffee',\n  'reviews_link': 'https://serpapi.com/search.json?engine=yelp_reviews&place_id=mofGEx6VNSSpZfaOjqUzww',\n  'categories': [{'title': 'Coffee & Tea',\n    'link': 'https://www.yelp.com/search?find_desc=Coffee+%26+Tea&amp;find_loc=New+York%2C+NY'}],\n  'rating': 4.0,\n  'reviews': 13,\n  'neighborhoods': 'NoHo',\n  'snippet': 'The layout of this coffee shop is very interesting. The decor is fun and the vibe is nice, but...',\n  'thumbnail': 'https://s3-media0.fl.yelpcdn.com/bphoto/8_eiyCmvtmWKVfMsGbjIRw/348s.jpg'},\n {'position': 7,\n  'place_ids': ['GmO-vuYIlKO8MexarMmlUA', 'sawada-coffee-new-york'],\n  'title': 'Sawada Coffee',\n  'link': 'https://www.yelp.com/biz/sawada-coffee-new-york?osq=Coffee',\n  'reviews_link': 'https://serpapi.com/search.json?engine=yelp_reviews&place_id=GmO-vuYIlKO8MexarMmlUA',\n  'categories': [{'title': 'Coffee & Tea',\n    'link': 'https://www.yelp.com/search?find_desc=Coffee+%26+Tea&amp;find_loc=New+York%2C+NY'}],\n  'price': '$$',\n  'rating': 4.5,\n  'reviews': 56,\n  'neighborhoods': 'Chinatown',\n  'phone': '(917) 710-6039',\n  'snippet': \"but it's backed up with a very balanced and subtle combination of hojicha and coffee goes together...\",\n  'service_options': {'outdoor_seating': False,\n   'delivery': False,\n   'takeout': True},\n  'thumbnail': 'https://s3-media0.fl.yelpcdn.com/bphoto/l9bQxTBIH7iBG6k8nlEteQ/348s.jpg'},\n {'position': 8,\n  'place_ids': ['xpDp5zKQJHu7Ljgs1PKLJw', 'la-cabra-nyc-new-york'],\n  'title': 'La Cabra NYC',\n  'link': 'https://www.yelp.com/biz/la-cabra-nyc-new-york?osq=Coffee',\n  'reviews_link': 'https://serpapi.com/search.json?engine=yelp_reviews&place_id=xpDp5zKQJHu7Ljgs1PKLJw',\n  'categories': [{'title': 'Bakeries',\n    'link': 'https://www.yelp.com/search?find_desc=Bakeries&amp;find_loc=New+York%2C+NY'},\n   {'title': 'Cafes',\n    'link': 'https://www.yelp.com/search?find_desc=Cafes&amp;find_loc=New+York%2C+NY'},\n   {'title': 'Coffee & Tea',\n    'link': 'https://www.yelp.com/search?find_desc=Coffee+%26+Tea&amp;find_loc=New+York%2C+NY'}],\n  'price': '$',\n  'rating': 4.5,\n  'reviews': 222,\n  'neighborhoods': 'East Village',\n  'snippet': \"Just maybe the best coffee in NYC. I'm not an expert in coffee by any means, however the baristas...\",\n  'service_options': {'outdoor_seating': True},\n  'thumbnail': 'https://s3-media0.fl.yelpcdn.com/bphoto/d3-QKktddFuRDouOCZ1WgA/348s.jpg'},\n {'position': 9,\n  'place_ids': ['56xmEk-5aTHwBiPyQTzMKA', 'dreamers-coffee-house-new-york'],\n  'title': 'Dreamers Coffee House',\n  'link': 'https://www.yelp.com/biz/dreamers-coffee-house-new-york?osq=Coffee',\n  'reviews_link': 'https://serpapi.com/search.json?engine=yelp_reviews&place_id=56xmEk-5aTHwBiPyQTzMKA',\n  'categories': [{'title': 'Coffee & Tea',\n    'link': 'https://www.yelp.com/search?find_desc=Coffee+%26+Tea&amp;find_loc=New+York%2C+NY'}],\n  'rating': 5.0,\n  'reviews': 64,\n  'neighborhoods': 'Two Bridges',\n  'phone': '(202) 905-2088',\n  'snippet': \"The coffee shop is located on an unassuming and empty street, but it's easy to find as there's a...\",\n  'service_options': {'outdoor_seating': True,\n   'delivery': False,\n   'takeout': True},\n  'thumbnail': 'https://s3-media0.fl.yelpcdn.com/bphoto/RG4YVhDc9YN_4G04tlGBXg/348s.jpg'},\n {'position': 10,\n  'place_ids': ['U1exuSaIwTwpjxvlrKeftg', 'ppl-brooklyn'],\n  'title': 'PPL',\n  'link': 'https://www.yelp.com/biz/ppl-brooklyn?osq=Coffee',\n  'reviews_link': 'https://serpapi.com/search.json?engine=yelp_reviews&place_id=U1exuSaIwTwpjxvlrKeftg',\n  'categories': [{'title': 'Coffee & Tea',\n    'link': 'https://www.yelp.com/search?find_desc=Coffee+%26+Tea&amp;find_loc=New+York%2C+NY'}],\n  'rating': 4.5,\n  'reviews': 36,\n  'neighborhoods': 'Williamsburg - South Side',\n  'snippet': 'since I first reviewed it in August from its early beginnings as a mere coffee shop.',\n  'thumbnail': 'https://s3-media0.fl.yelpcdn.com/bphoto/cD8EudFthJBK6F-EBCNzHw/348s.jpg'}]"
     },
     "execution_count": 16,
     "metadata": {},
     "output_type": "execute_result"
    }
   ],
   "source": [
    "organic_results"
   ],
   "metadata": {
    "collapsed": false,
    "ExecuteTime": {
     "start_time": "2023-04-25T20:50:03.762005Z",
     "end_time": "2023-04-25T20:50:03.765471Z"
    }
   }
  },
  {
   "cell_type": "code",
   "execution_count": 1,
   "outputs": [
    {
     "ename": "GeocoderUnavailable",
     "evalue": "HTTPSConnectionPool(host='nominatim.openstreetmap.org', port=443): Max retries exceeded with url: /reverse?lat=40.6687&lon=-74.1143&format=json&addressdetails=1 (Caused by ReadTimeoutError(\"HTTPSConnectionPool(host='nominatim.openstreetmap.org', port=443): Read timed out. (read timeout=1)\"))",
     "output_type": "error",
     "traceback": [
      "\u001B[0;31m---------------------------------------------------------------------------\u001B[0m",
      "\u001B[0;31mtimeout\u001B[0m                                   Traceback (most recent call last)",
      "\u001B[0;32m~/anaconda3/lib/python3.9/site-packages/urllib3/connectionpool.py\u001B[0m in \u001B[0;36m_make_request\u001B[0;34m(self, conn, method, url, timeout, chunked, **httplib_request_kw)\u001B[0m\n\u001B[1;32m    448\u001B[0m                     \u001B[0;31m# Otherwise it looks like a bug in the code.\u001B[0m\u001B[0;34m\u001B[0m\u001B[0;34m\u001B[0m\u001B[0m\n\u001B[0;32m--> 449\u001B[0;31m                     \u001B[0msix\u001B[0m\u001B[0;34m.\u001B[0m\u001B[0mraise_from\u001B[0m\u001B[0;34m(\u001B[0m\u001B[0me\u001B[0m\u001B[0;34m,\u001B[0m \u001B[0;32mNone\u001B[0m\u001B[0;34m)\u001B[0m\u001B[0;34m\u001B[0m\u001B[0;34m\u001B[0m\u001B[0m\n\u001B[0m\u001B[1;32m    450\u001B[0m         \u001B[0;32mexcept\u001B[0m \u001B[0;34m(\u001B[0m\u001B[0mSocketTimeout\u001B[0m\u001B[0;34m,\u001B[0m \u001B[0mBaseSSLError\u001B[0m\u001B[0;34m,\u001B[0m \u001B[0mSocketError\u001B[0m\u001B[0;34m)\u001B[0m \u001B[0;32mas\u001B[0m \u001B[0me\u001B[0m\u001B[0;34m:\u001B[0m\u001B[0;34m\u001B[0m\u001B[0;34m\u001B[0m\u001B[0m\n",
      "\u001B[0;32m~/anaconda3/lib/python3.9/site-packages/urllib3/packages/six.py\u001B[0m in \u001B[0;36mraise_from\u001B[0;34m(value, from_value)\u001B[0m\n",
      "\u001B[0;32m~/anaconda3/lib/python3.9/site-packages/urllib3/connectionpool.py\u001B[0m in \u001B[0;36m_make_request\u001B[0;34m(self, conn, method, url, timeout, chunked, **httplib_request_kw)\u001B[0m\n\u001B[1;32m    443\u001B[0m                 \u001B[0;32mtry\u001B[0m\u001B[0;34m:\u001B[0m\u001B[0;34m\u001B[0m\u001B[0;34m\u001B[0m\u001B[0m\n\u001B[0;32m--> 444\u001B[0;31m                     \u001B[0mhttplib_response\u001B[0m \u001B[0;34m=\u001B[0m \u001B[0mconn\u001B[0m\u001B[0;34m.\u001B[0m\u001B[0mgetresponse\u001B[0m\u001B[0;34m(\u001B[0m\u001B[0;34m)\u001B[0m\u001B[0;34m\u001B[0m\u001B[0;34m\u001B[0m\u001B[0m\n\u001B[0m\u001B[1;32m    445\u001B[0m                 \u001B[0;32mexcept\u001B[0m \u001B[0mBaseException\u001B[0m \u001B[0;32mas\u001B[0m \u001B[0me\u001B[0m\u001B[0;34m:\u001B[0m\u001B[0;34m\u001B[0m\u001B[0;34m\u001B[0m\u001B[0m\n",
      "\u001B[0;32m~/anaconda3/lib/python3.9/http/client.py\u001B[0m in \u001B[0;36mgetresponse\u001B[0;34m(self)\u001B[0m\n\u001B[1;32m   1376\u001B[0m             \u001B[0;32mtry\u001B[0m\u001B[0;34m:\u001B[0m\u001B[0;34m\u001B[0m\u001B[0;34m\u001B[0m\u001B[0m\n\u001B[0;32m-> 1377\u001B[0;31m                 \u001B[0mresponse\u001B[0m\u001B[0;34m.\u001B[0m\u001B[0mbegin\u001B[0m\u001B[0;34m(\u001B[0m\u001B[0;34m)\u001B[0m\u001B[0;34m\u001B[0m\u001B[0;34m\u001B[0m\u001B[0m\n\u001B[0m\u001B[1;32m   1378\u001B[0m             \u001B[0;32mexcept\u001B[0m \u001B[0mConnectionError\u001B[0m\u001B[0;34m:\u001B[0m\u001B[0;34m\u001B[0m\u001B[0;34m\u001B[0m\u001B[0m\n",
      "\u001B[0;32m~/anaconda3/lib/python3.9/http/client.py\u001B[0m in \u001B[0;36mbegin\u001B[0;34m(self)\u001B[0m\n\u001B[1;32m    319\u001B[0m         \u001B[0;32mwhile\u001B[0m \u001B[0;32mTrue\u001B[0m\u001B[0;34m:\u001B[0m\u001B[0;34m\u001B[0m\u001B[0;34m\u001B[0m\u001B[0m\n\u001B[0;32m--> 320\u001B[0;31m             \u001B[0mversion\u001B[0m\u001B[0;34m,\u001B[0m \u001B[0mstatus\u001B[0m\u001B[0;34m,\u001B[0m \u001B[0mreason\u001B[0m \u001B[0;34m=\u001B[0m \u001B[0mself\u001B[0m\u001B[0;34m.\u001B[0m\u001B[0m_read_status\u001B[0m\u001B[0;34m(\u001B[0m\u001B[0;34m)\u001B[0m\u001B[0;34m\u001B[0m\u001B[0;34m\u001B[0m\u001B[0m\n\u001B[0m\u001B[1;32m    321\u001B[0m             \u001B[0;32mif\u001B[0m \u001B[0mstatus\u001B[0m \u001B[0;34m!=\u001B[0m \u001B[0mCONTINUE\u001B[0m\u001B[0;34m:\u001B[0m\u001B[0;34m\u001B[0m\u001B[0;34m\u001B[0m\u001B[0m\n",
      "\u001B[0;32m~/anaconda3/lib/python3.9/http/client.py\u001B[0m in \u001B[0;36m_read_status\u001B[0;34m(self)\u001B[0m\n\u001B[1;32m    280\u001B[0m     \u001B[0;32mdef\u001B[0m \u001B[0m_read_status\u001B[0m\u001B[0;34m(\u001B[0m\u001B[0mself\u001B[0m\u001B[0;34m)\u001B[0m\u001B[0;34m:\u001B[0m\u001B[0;34m\u001B[0m\u001B[0;34m\u001B[0m\u001B[0m\n\u001B[0;32m--> 281\u001B[0;31m         \u001B[0mline\u001B[0m \u001B[0;34m=\u001B[0m \u001B[0mstr\u001B[0m\u001B[0;34m(\u001B[0m\u001B[0mself\u001B[0m\u001B[0;34m.\u001B[0m\u001B[0mfp\u001B[0m\u001B[0;34m.\u001B[0m\u001B[0mreadline\u001B[0m\u001B[0;34m(\u001B[0m\u001B[0m_MAXLINE\u001B[0m \u001B[0;34m+\u001B[0m \u001B[0;36m1\u001B[0m\u001B[0;34m)\u001B[0m\u001B[0;34m,\u001B[0m \u001B[0;34m\"iso-8859-1\"\u001B[0m\u001B[0;34m)\u001B[0m\u001B[0;34m\u001B[0m\u001B[0;34m\u001B[0m\u001B[0m\n\u001B[0m\u001B[1;32m    282\u001B[0m         \u001B[0;32mif\u001B[0m \u001B[0mlen\u001B[0m\u001B[0;34m(\u001B[0m\u001B[0mline\u001B[0m\u001B[0;34m)\u001B[0m \u001B[0;34m>\u001B[0m \u001B[0m_MAXLINE\u001B[0m\u001B[0;34m:\u001B[0m\u001B[0;34m\u001B[0m\u001B[0;34m\u001B[0m\u001B[0m\n",
      "\u001B[0;32m~/anaconda3/lib/python3.9/socket.py\u001B[0m in \u001B[0;36mreadinto\u001B[0;34m(self, b)\u001B[0m\n\u001B[1;32m    703\u001B[0m             \u001B[0;32mtry\u001B[0m\u001B[0;34m:\u001B[0m\u001B[0;34m\u001B[0m\u001B[0;34m\u001B[0m\u001B[0m\n\u001B[0;32m--> 704\u001B[0;31m                 \u001B[0;32mreturn\u001B[0m \u001B[0mself\u001B[0m\u001B[0;34m.\u001B[0m\u001B[0m_sock\u001B[0m\u001B[0;34m.\u001B[0m\u001B[0mrecv_into\u001B[0m\u001B[0;34m(\u001B[0m\u001B[0mb\u001B[0m\u001B[0;34m)\u001B[0m\u001B[0;34m\u001B[0m\u001B[0;34m\u001B[0m\u001B[0m\n\u001B[0m\u001B[1;32m    705\u001B[0m             \u001B[0;32mexcept\u001B[0m \u001B[0mtimeout\u001B[0m\u001B[0;34m:\u001B[0m\u001B[0;34m\u001B[0m\u001B[0;34m\u001B[0m\u001B[0m\n",
      "\u001B[0;32m~/anaconda3/lib/python3.9/ssl.py\u001B[0m in \u001B[0;36mrecv_into\u001B[0;34m(self, buffer, nbytes, flags)\u001B[0m\n\u001B[1;32m   1241\u001B[0m                   self.__class__)\n\u001B[0;32m-> 1242\u001B[0;31m             \u001B[0;32mreturn\u001B[0m \u001B[0mself\u001B[0m\u001B[0;34m.\u001B[0m\u001B[0mread\u001B[0m\u001B[0;34m(\u001B[0m\u001B[0mnbytes\u001B[0m\u001B[0;34m,\u001B[0m \u001B[0mbuffer\u001B[0m\u001B[0;34m)\u001B[0m\u001B[0;34m\u001B[0m\u001B[0;34m\u001B[0m\u001B[0m\n\u001B[0m\u001B[1;32m   1243\u001B[0m         \u001B[0;32melse\u001B[0m\u001B[0;34m:\u001B[0m\u001B[0;34m\u001B[0m\u001B[0;34m\u001B[0m\u001B[0m\n",
      "\u001B[0;32m~/anaconda3/lib/python3.9/ssl.py\u001B[0m in \u001B[0;36mread\u001B[0;34m(self, len, buffer)\u001B[0m\n\u001B[1;32m   1099\u001B[0m             \u001B[0;32mif\u001B[0m \u001B[0mbuffer\u001B[0m \u001B[0;32mis\u001B[0m \u001B[0;32mnot\u001B[0m \u001B[0;32mNone\u001B[0m\u001B[0;34m:\u001B[0m\u001B[0;34m\u001B[0m\u001B[0;34m\u001B[0m\u001B[0m\n\u001B[0;32m-> 1100\u001B[0;31m                 \u001B[0;32mreturn\u001B[0m \u001B[0mself\u001B[0m\u001B[0;34m.\u001B[0m\u001B[0m_sslobj\u001B[0m\u001B[0;34m.\u001B[0m\u001B[0mread\u001B[0m\u001B[0;34m(\u001B[0m\u001B[0mlen\u001B[0m\u001B[0;34m,\u001B[0m \u001B[0mbuffer\u001B[0m\u001B[0;34m)\u001B[0m\u001B[0;34m\u001B[0m\u001B[0;34m\u001B[0m\u001B[0m\n\u001B[0m\u001B[1;32m   1101\u001B[0m             \u001B[0;32melse\u001B[0m\u001B[0;34m:\u001B[0m\u001B[0;34m\u001B[0m\u001B[0;34m\u001B[0m\u001B[0m\n",
      "\u001B[0;31mtimeout\u001B[0m: The read operation timed out",
      "\nDuring handling of the above exception, another exception occurred:\n",
      "\u001B[0;31mReadTimeoutError\u001B[0m                          Traceback (most recent call last)",
      "\u001B[0;32m~/anaconda3/lib/python3.9/site-packages/urllib3/connectionpool.py\u001B[0m in \u001B[0;36murlopen\u001B[0;34m(self, method, url, body, headers, retries, redirect, assert_same_host, timeout, pool_timeout, release_conn, chunked, body_pos, **response_kw)\u001B[0m\n\u001B[1;32m    702\u001B[0m             \u001B[0;31m# Make the request on the httplib connection object.\u001B[0m\u001B[0;34m\u001B[0m\u001B[0;34m\u001B[0m\u001B[0m\n\u001B[0;32m--> 703\u001B[0;31m             httplib_response = self._make_request(\n\u001B[0m\u001B[1;32m    704\u001B[0m                 \u001B[0mconn\u001B[0m\u001B[0;34m,\u001B[0m\u001B[0;34m\u001B[0m\u001B[0;34m\u001B[0m\u001B[0m\n",
      "\u001B[0;32m~/anaconda3/lib/python3.9/site-packages/urllib3/connectionpool.py\u001B[0m in \u001B[0;36m_make_request\u001B[0;34m(self, conn, method, url, timeout, chunked, **httplib_request_kw)\u001B[0m\n\u001B[1;32m    450\u001B[0m         \u001B[0;32mexcept\u001B[0m \u001B[0;34m(\u001B[0m\u001B[0mSocketTimeout\u001B[0m\u001B[0;34m,\u001B[0m \u001B[0mBaseSSLError\u001B[0m\u001B[0;34m,\u001B[0m \u001B[0mSocketError\u001B[0m\u001B[0;34m)\u001B[0m \u001B[0;32mas\u001B[0m \u001B[0me\u001B[0m\u001B[0;34m:\u001B[0m\u001B[0;34m\u001B[0m\u001B[0;34m\u001B[0m\u001B[0m\n\u001B[0;32m--> 451\u001B[0;31m             \u001B[0mself\u001B[0m\u001B[0;34m.\u001B[0m\u001B[0m_raise_timeout\u001B[0m\u001B[0;34m(\u001B[0m\u001B[0merr\u001B[0m\u001B[0;34m=\u001B[0m\u001B[0me\u001B[0m\u001B[0;34m,\u001B[0m \u001B[0murl\u001B[0m\u001B[0;34m=\u001B[0m\u001B[0murl\u001B[0m\u001B[0;34m,\u001B[0m \u001B[0mtimeout_value\u001B[0m\u001B[0;34m=\u001B[0m\u001B[0mread_timeout\u001B[0m\u001B[0;34m)\u001B[0m\u001B[0;34m\u001B[0m\u001B[0;34m\u001B[0m\u001B[0m\n\u001B[0m\u001B[1;32m    452\u001B[0m             \u001B[0;32mraise\u001B[0m\u001B[0;34m\u001B[0m\u001B[0;34m\u001B[0m\u001B[0m\n",
      "\u001B[0;32m~/anaconda3/lib/python3.9/site-packages/urllib3/connectionpool.py\u001B[0m in \u001B[0;36m_raise_timeout\u001B[0;34m(self, err, url, timeout_value)\u001B[0m\n\u001B[1;32m    339\u001B[0m         \u001B[0;32mif\u001B[0m \u001B[0misinstance\u001B[0m\u001B[0;34m(\u001B[0m\u001B[0merr\u001B[0m\u001B[0;34m,\u001B[0m \u001B[0mSocketTimeout\u001B[0m\u001B[0;34m)\u001B[0m\u001B[0;34m:\u001B[0m\u001B[0;34m\u001B[0m\u001B[0;34m\u001B[0m\u001B[0m\n\u001B[0;32m--> 340\u001B[0;31m             raise ReadTimeoutError(\n\u001B[0m\u001B[1;32m    341\u001B[0m                 \u001B[0mself\u001B[0m\u001B[0;34m,\u001B[0m \u001B[0murl\u001B[0m\u001B[0;34m,\u001B[0m \u001B[0;34m\"Read timed out. (read timeout=%s)\"\u001B[0m \u001B[0;34m%\u001B[0m \u001B[0mtimeout_value\u001B[0m\u001B[0;34m\u001B[0m\u001B[0;34m\u001B[0m\u001B[0m\n",
      "\u001B[0;31mReadTimeoutError\u001B[0m: HTTPSConnectionPool(host='nominatim.openstreetmap.org', port=443): Read timed out. (read timeout=1)",
      "\nDuring handling of the above exception, another exception occurred:\n",
      "\u001B[0;31mMaxRetryError\u001B[0m                             Traceback (most recent call last)",
      "\u001B[0;32m~/anaconda3/lib/python3.9/site-packages/requests/adapters.py\u001B[0m in \u001B[0;36msend\u001B[0;34m(self, request, stream, timeout, verify, cert, proxies)\u001B[0m\n\u001B[1;32m    488\u001B[0m             \u001B[0;32mif\u001B[0m \u001B[0;32mnot\u001B[0m \u001B[0mchunked\u001B[0m\u001B[0;34m:\u001B[0m\u001B[0;34m\u001B[0m\u001B[0;34m\u001B[0m\u001B[0m\n\u001B[0;32m--> 489\u001B[0;31m                 resp = conn.urlopen(\n\u001B[0m\u001B[1;32m    490\u001B[0m                     \u001B[0mmethod\u001B[0m\u001B[0;34m=\u001B[0m\u001B[0mrequest\u001B[0m\u001B[0;34m.\u001B[0m\u001B[0mmethod\u001B[0m\u001B[0;34m,\u001B[0m\u001B[0;34m\u001B[0m\u001B[0;34m\u001B[0m\u001B[0m\n",
      "\u001B[0;32m~/anaconda3/lib/python3.9/site-packages/urllib3/connectionpool.py\u001B[0m in \u001B[0;36murlopen\u001B[0;34m(self, method, url, body, headers, retries, redirect, assert_same_host, timeout, pool_timeout, release_conn, chunked, body_pos, **response_kw)\u001B[0m\n\u001B[1;32m    814\u001B[0m             )\n\u001B[0;32m--> 815\u001B[0;31m             return self.urlopen(\n\u001B[0m\u001B[1;32m    816\u001B[0m                 \u001B[0mmethod\u001B[0m\u001B[0;34m,\u001B[0m\u001B[0;34m\u001B[0m\u001B[0;34m\u001B[0m\u001B[0m\n",
      "\u001B[0;32m~/anaconda3/lib/python3.9/site-packages/urllib3/connectionpool.py\u001B[0m in \u001B[0;36murlopen\u001B[0;34m(self, method, url, body, headers, retries, redirect, assert_same_host, timeout, pool_timeout, release_conn, chunked, body_pos, **response_kw)\u001B[0m\n\u001B[1;32m    814\u001B[0m             )\n\u001B[0;32m--> 815\u001B[0;31m             return self.urlopen(\n\u001B[0m\u001B[1;32m    816\u001B[0m                 \u001B[0mmethod\u001B[0m\u001B[0;34m,\u001B[0m\u001B[0;34m\u001B[0m\u001B[0;34m\u001B[0m\u001B[0m\n",
      "\u001B[0;32m~/anaconda3/lib/python3.9/site-packages/urllib3/connectionpool.py\u001B[0m in \u001B[0;36murlopen\u001B[0;34m(self, method, url, body, headers, retries, redirect, assert_same_host, timeout, pool_timeout, release_conn, chunked, body_pos, **response_kw)\u001B[0m\n\u001B[1;32m    786\u001B[0m \u001B[0;34m\u001B[0m\u001B[0m\n\u001B[0;32m--> 787\u001B[0;31m             retries = retries.increment(\n\u001B[0m\u001B[1;32m    788\u001B[0m                 \u001B[0mmethod\u001B[0m\u001B[0;34m,\u001B[0m \u001B[0murl\u001B[0m\u001B[0;34m,\u001B[0m \u001B[0merror\u001B[0m\u001B[0;34m=\u001B[0m\u001B[0me\u001B[0m\u001B[0;34m,\u001B[0m \u001B[0m_pool\u001B[0m\u001B[0;34m=\u001B[0m\u001B[0mself\u001B[0m\u001B[0;34m,\u001B[0m \u001B[0m_stacktrace\u001B[0m\u001B[0;34m=\u001B[0m\u001B[0msys\u001B[0m\u001B[0;34m.\u001B[0m\u001B[0mexc_info\u001B[0m\u001B[0;34m(\u001B[0m\u001B[0;34m)\u001B[0m\u001B[0;34m[\u001B[0m\u001B[0;36m2\u001B[0m\u001B[0;34m]\u001B[0m\u001B[0;34m\u001B[0m\u001B[0;34m\u001B[0m\u001B[0m\n",
      "\u001B[0;32m~/anaconda3/lib/python3.9/site-packages/urllib3/util/retry.py\u001B[0m in \u001B[0;36mincrement\u001B[0;34m(self, method, url, response, error, _pool, _stacktrace)\u001B[0m\n\u001B[1;32m    591\u001B[0m         \u001B[0;32mif\u001B[0m \u001B[0mnew_retry\u001B[0m\u001B[0;34m.\u001B[0m\u001B[0mis_exhausted\u001B[0m\u001B[0;34m(\u001B[0m\u001B[0;34m)\u001B[0m\u001B[0;34m:\u001B[0m\u001B[0;34m\u001B[0m\u001B[0;34m\u001B[0m\u001B[0m\n\u001B[0;32m--> 592\u001B[0;31m             \u001B[0;32mraise\u001B[0m \u001B[0mMaxRetryError\u001B[0m\u001B[0;34m(\u001B[0m\u001B[0m_pool\u001B[0m\u001B[0;34m,\u001B[0m \u001B[0murl\u001B[0m\u001B[0;34m,\u001B[0m \u001B[0merror\u001B[0m \u001B[0;32mor\u001B[0m \u001B[0mResponseError\u001B[0m\u001B[0;34m(\u001B[0m\u001B[0mcause\u001B[0m\u001B[0;34m)\u001B[0m\u001B[0;34m)\u001B[0m\u001B[0;34m\u001B[0m\u001B[0;34m\u001B[0m\u001B[0m\n\u001B[0m\u001B[1;32m    593\u001B[0m \u001B[0;34m\u001B[0m\u001B[0m\n",
      "\u001B[0;31mMaxRetryError\u001B[0m: HTTPSConnectionPool(host='nominatim.openstreetmap.org', port=443): Max retries exceeded with url: /reverse?lat=40.6687&lon=-74.1143&format=json&addressdetails=1 (Caused by ReadTimeoutError(\"HTTPSConnectionPool(host='nominatim.openstreetmap.org', port=443): Read timed out. (read timeout=1)\"))",
      "\nDuring handling of the above exception, another exception occurred:\n",
      "\u001B[0;31mConnectionError\u001B[0m                           Traceback (most recent call last)",
      "\u001B[0;32m~/anaconda3/lib/python3.9/site-packages/geopy/adapters.py\u001B[0m in \u001B[0;36m_request\u001B[0;34m(self, url, timeout, headers)\u001B[0m\n\u001B[1;32m    456\u001B[0m         \u001B[0;32mtry\u001B[0m\u001B[0;34m:\u001B[0m\u001B[0;34m\u001B[0m\u001B[0;34m\u001B[0m\u001B[0m\n\u001B[0;32m--> 457\u001B[0;31m             \u001B[0mresp\u001B[0m \u001B[0;34m=\u001B[0m \u001B[0mself\u001B[0m\u001B[0;34m.\u001B[0m\u001B[0msession\u001B[0m\u001B[0;34m.\u001B[0m\u001B[0mget\u001B[0m\u001B[0;34m(\u001B[0m\u001B[0murl\u001B[0m\u001B[0;34m,\u001B[0m \u001B[0mtimeout\u001B[0m\u001B[0;34m=\u001B[0m\u001B[0mtimeout\u001B[0m\u001B[0;34m,\u001B[0m \u001B[0mheaders\u001B[0m\u001B[0;34m=\u001B[0m\u001B[0mheaders\u001B[0m\u001B[0;34m)\u001B[0m\u001B[0;34m\u001B[0m\u001B[0;34m\u001B[0m\u001B[0m\n\u001B[0m\u001B[1;32m    458\u001B[0m         \u001B[0;32mexcept\u001B[0m \u001B[0mException\u001B[0m \u001B[0;32mas\u001B[0m \u001B[0merror\u001B[0m\u001B[0;34m:\u001B[0m\u001B[0;34m\u001B[0m\u001B[0;34m\u001B[0m\u001B[0m\n",
      "\u001B[0;32m~/anaconda3/lib/python3.9/site-packages/requests/sessions.py\u001B[0m in \u001B[0;36mget\u001B[0;34m(self, url, **kwargs)\u001B[0m\n\u001B[1;32m    599\u001B[0m         \u001B[0mkwargs\u001B[0m\u001B[0;34m.\u001B[0m\u001B[0msetdefault\u001B[0m\u001B[0;34m(\u001B[0m\u001B[0;34m\"allow_redirects\"\u001B[0m\u001B[0;34m,\u001B[0m \u001B[0;32mTrue\u001B[0m\u001B[0;34m)\u001B[0m\u001B[0;34m\u001B[0m\u001B[0;34m\u001B[0m\u001B[0m\n\u001B[0;32m--> 600\u001B[0;31m         \u001B[0;32mreturn\u001B[0m \u001B[0mself\u001B[0m\u001B[0;34m.\u001B[0m\u001B[0mrequest\u001B[0m\u001B[0;34m(\u001B[0m\u001B[0;34m\"GET\"\u001B[0m\u001B[0;34m,\u001B[0m \u001B[0murl\u001B[0m\u001B[0;34m,\u001B[0m \u001B[0;34m**\u001B[0m\u001B[0mkwargs\u001B[0m\u001B[0;34m)\u001B[0m\u001B[0;34m\u001B[0m\u001B[0;34m\u001B[0m\u001B[0m\n\u001B[0m\u001B[1;32m    601\u001B[0m \u001B[0;34m\u001B[0m\u001B[0m\n",
      "\u001B[0;32m~/anaconda3/lib/python3.9/site-packages/requests/sessions.py\u001B[0m in \u001B[0;36mrequest\u001B[0;34m(self, method, url, params, data, headers, cookies, files, auth, timeout, allow_redirects, proxies, hooks, stream, verify, cert, json)\u001B[0m\n\u001B[1;32m    586\u001B[0m         \u001B[0msend_kwargs\u001B[0m\u001B[0;34m.\u001B[0m\u001B[0mupdate\u001B[0m\u001B[0;34m(\u001B[0m\u001B[0msettings\u001B[0m\u001B[0;34m)\u001B[0m\u001B[0;34m\u001B[0m\u001B[0;34m\u001B[0m\u001B[0m\n\u001B[0;32m--> 587\u001B[0;31m         \u001B[0mresp\u001B[0m \u001B[0;34m=\u001B[0m \u001B[0mself\u001B[0m\u001B[0;34m.\u001B[0m\u001B[0msend\u001B[0m\u001B[0;34m(\u001B[0m\u001B[0mprep\u001B[0m\u001B[0;34m,\u001B[0m \u001B[0;34m**\u001B[0m\u001B[0msend_kwargs\u001B[0m\u001B[0;34m)\u001B[0m\u001B[0;34m\u001B[0m\u001B[0;34m\u001B[0m\u001B[0m\n\u001B[0m\u001B[1;32m    588\u001B[0m \u001B[0;34m\u001B[0m\u001B[0m\n",
      "\u001B[0;32m~/anaconda3/lib/python3.9/site-packages/requests/sessions.py\u001B[0m in \u001B[0;36msend\u001B[0;34m(self, request, **kwargs)\u001B[0m\n\u001B[1;32m    700\u001B[0m         \u001B[0;31m# Send the request\u001B[0m\u001B[0;34m\u001B[0m\u001B[0;34m\u001B[0m\u001B[0m\n\u001B[0;32m--> 701\u001B[0;31m         \u001B[0mr\u001B[0m \u001B[0;34m=\u001B[0m \u001B[0madapter\u001B[0m\u001B[0;34m.\u001B[0m\u001B[0msend\u001B[0m\u001B[0;34m(\u001B[0m\u001B[0mrequest\u001B[0m\u001B[0;34m,\u001B[0m \u001B[0;34m**\u001B[0m\u001B[0mkwargs\u001B[0m\u001B[0;34m)\u001B[0m\u001B[0;34m\u001B[0m\u001B[0;34m\u001B[0m\u001B[0m\n\u001B[0m\u001B[1;32m    702\u001B[0m \u001B[0;34m\u001B[0m\u001B[0m\n",
      "\u001B[0;32m~/anaconda3/lib/python3.9/site-packages/requests/adapters.py\u001B[0m in \u001B[0;36msend\u001B[0;34m(self, request, stream, timeout, verify, cert, proxies)\u001B[0m\n\u001B[1;32m    564\u001B[0m \u001B[0;34m\u001B[0m\u001B[0m\n\u001B[0;32m--> 565\u001B[0;31m             \u001B[0;32mraise\u001B[0m \u001B[0mConnectionError\u001B[0m\u001B[0;34m(\u001B[0m\u001B[0me\u001B[0m\u001B[0;34m,\u001B[0m \u001B[0mrequest\u001B[0m\u001B[0;34m=\u001B[0m\u001B[0mrequest\u001B[0m\u001B[0;34m)\u001B[0m\u001B[0;34m\u001B[0m\u001B[0;34m\u001B[0m\u001B[0m\n\u001B[0m\u001B[1;32m    566\u001B[0m \u001B[0;34m\u001B[0m\u001B[0m\n",
      "\u001B[0;31mConnectionError\u001B[0m: HTTPSConnectionPool(host='nominatim.openstreetmap.org', port=443): Max retries exceeded with url: /reverse?lat=40.6687&lon=-74.1143&format=json&addressdetails=1 (Caused by ReadTimeoutError(\"HTTPSConnectionPool(host='nominatim.openstreetmap.org', port=443): Read timed out. (read timeout=1)\"))",
      "\nDuring handling of the above exception, another exception occurred:\n",
      "\u001B[0;31mGeocoderUnavailable\u001B[0m                       Traceback (most recent call last)",
      "\u001B[0;32m/tmp/ipykernel_617061/457548786.py\u001B[0m in \u001B[0;36m<module>\u001B[0;34m\u001B[0m\n\u001B[1;32m      1\u001B[0m \u001B[0;32mfrom\u001B[0m \u001B[0mnodes\u001B[0m\u001B[0;34m.\u001B[0m\u001B[0mWorker\u001B[0m \u001B[0;32mimport\u001B[0m \u001B[0mZipCodeRetriever\u001B[0m\u001B[0;34m\u001B[0m\u001B[0;34m\u001B[0m\u001B[0m\n\u001B[0;32m----> 2\u001B[0;31m \u001B[0mZipCodeRetriever\u001B[0m\u001B[0;34m(\u001B[0m\u001B[0;34m)\u001B[0m\u001B[0;34m.\u001B[0m\u001B[0mrun\u001B[0m\u001B[0;34m(\u001B[0m\u001B[0;34m\"New York, NY, USA\"\u001B[0m\u001B[0;34m)\u001B[0m\u001B[0;34m\u001B[0m\u001B[0;34m\u001B[0m\u001B[0m\n\u001B[0m",
      "\u001B[0;32m~/workspace/PWS/nodes/Worker.py\u001B[0m in \u001B[0;36mrun\u001B[0;34m(self, input)\u001B[0m\n\u001B[1;32m    211\u001B[0m     \u001B[0;32mdef\u001B[0m \u001B[0mrun\u001B[0m\u001B[0;34m(\u001B[0m\u001B[0mself\u001B[0m\u001B[0;34m,\u001B[0m \u001B[0minput\u001B[0m\u001B[0;34m)\u001B[0m\u001B[0;34m:\u001B[0m\u001B[0;34m\u001B[0m\u001B[0;34m\u001B[0m\u001B[0m\n\u001B[1;32m    212\u001B[0m         \u001B[0;32massert\u001B[0m \u001B[0misinstance\u001B[0m\u001B[0;34m(\u001B[0m\u001B[0minput\u001B[0m\u001B[0;34m,\u001B[0m \u001B[0mself\u001B[0m\u001B[0;34m.\u001B[0m\u001B[0minput_type\u001B[0m\u001B[0;34m)\u001B[0m\u001B[0;34m\u001B[0m\u001B[0;34m\u001B[0m\u001B[0m\n\u001B[0;32m--> 213\u001B[0;31m         \u001B[0mevidence\u001B[0m \u001B[0;34m=\u001B[0m \u001B[0mself\u001B[0m\u001B[0;34m.\u001B[0m\u001B[0mget_current_zipcode\u001B[0m\u001B[0;34m(\u001B[0m\u001B[0;34m)\u001B[0m\u001B[0;34m\u001B[0m\u001B[0;34m\u001B[0m\u001B[0m\n\u001B[0m\u001B[1;32m    214\u001B[0m         \u001B[0;32massert\u001B[0m \u001B[0misinstance\u001B[0m\u001B[0;34m(\u001B[0m\u001B[0mevidence\u001B[0m\u001B[0;34m,\u001B[0m \u001B[0mself\u001B[0m\u001B[0;34m.\u001B[0m\u001B[0moutput_type\u001B[0m\u001B[0;34m)\u001B[0m\u001B[0;34m\u001B[0m\u001B[0;34m\u001B[0m\u001B[0m\n\u001B[1;32m    215\u001B[0m \u001B[0;34m\u001B[0m\u001B[0m\n",
      "\u001B[0;32m~/workspace/PWS/nodes/Worker.py\u001B[0m in \u001B[0;36mget_current_zipcode\u001B[0;34m(self)\u001B[0m\n\u001B[1;32m    206\u001B[0m         \u001B[0mlocation_data\u001B[0m \u001B[0;34m=\u001B[0m \u001B[0mself\u001B[0m\u001B[0;34m.\u001B[0m\u001B[0mget_location_data\u001B[0m\u001B[0;34m(\u001B[0m\u001B[0mip_address\u001B[0m\u001B[0;34m)\u001B[0m\u001B[0;34m\u001B[0m\u001B[0;34m\u001B[0m\u001B[0m\n\u001B[1;32m    207\u001B[0m         \u001B[0mlat\u001B[0m\u001B[0;34m,\u001B[0m \u001B[0mlong\u001B[0m \u001B[0;34m=\u001B[0m \u001B[0mlocation_data\u001B[0m\u001B[0;34m[\u001B[0m\u001B[0;34m\"loc\"\u001B[0m\u001B[0;34m]\u001B[0m\u001B[0;34m.\u001B[0m\u001B[0msplit\u001B[0m\u001B[0;34m(\u001B[0m\u001B[0;34m\",\"\u001B[0m\u001B[0;34m)\u001B[0m\u001B[0;34m\u001B[0m\u001B[0;34m\u001B[0m\u001B[0m\n\u001B[0;32m--> 208\u001B[0;31m         \u001B[0mzipcode\u001B[0m \u001B[0;34m=\u001B[0m \u001B[0mself\u001B[0m\u001B[0;34m.\u001B[0m\u001B[0mget_zipcode_from_lat_long\u001B[0m\u001B[0;34m(\u001B[0m\u001B[0mfloat\u001B[0m\u001B[0;34m(\u001B[0m\u001B[0mlat\u001B[0m\u001B[0;34m)\u001B[0m\u001B[0;34m,\u001B[0m \u001B[0mfloat\u001B[0m\u001B[0;34m(\u001B[0m\u001B[0mlong\u001B[0m\u001B[0;34m)\u001B[0m\u001B[0;34m)\u001B[0m\u001B[0;34m\u001B[0m\u001B[0;34m\u001B[0m\u001B[0m\n\u001B[0m\u001B[1;32m    209\u001B[0m         \u001B[0;32mreturn\u001B[0m \u001B[0mzipcode\u001B[0m\u001B[0;34m\u001B[0m\u001B[0;34m\u001B[0m\u001B[0m\n\u001B[1;32m    210\u001B[0m \u001B[0;34m\u001B[0m\u001B[0m\n",
      "\u001B[0;32m~/workspace/PWS/nodes/Worker.py\u001B[0m in \u001B[0;36mget_zipcode_from_lat_long\u001B[0;34m(self, lat, long)\u001B[0m\n\u001B[1;32m    199\u001B[0m     \u001B[0;32mdef\u001B[0m \u001B[0mget_zipcode_from_lat_long\u001B[0m\u001B[0;34m(\u001B[0m\u001B[0mself\u001B[0m\u001B[0;34m,\u001B[0m \u001B[0mlat\u001B[0m\u001B[0;34m,\u001B[0m \u001B[0mlong\u001B[0m\u001B[0;34m)\u001B[0m\u001B[0;34m:\u001B[0m\u001B[0;34m\u001B[0m\u001B[0;34m\u001B[0m\u001B[0m\n\u001B[1;32m    200\u001B[0m         \u001B[0mgeolocator\u001B[0m \u001B[0;34m=\u001B[0m \u001B[0mNominatim\u001B[0m\u001B[0;34m(\u001B[0m\u001B[0muser_agent\u001B[0m\u001B[0;34m=\u001B[0m\u001B[0;34m\"zipcode_locator\"\u001B[0m\u001B[0;34m)\u001B[0m\u001B[0;34m\u001B[0m\u001B[0;34m\u001B[0m\u001B[0m\n\u001B[0;32m--> 201\u001B[0;31m         \u001B[0mlocation\u001B[0m \u001B[0;34m=\u001B[0m \u001B[0mgeolocator\u001B[0m\u001B[0;34m.\u001B[0m\u001B[0mreverse\u001B[0m\u001B[0;34m(\u001B[0m\u001B[0;34m(\u001B[0m\u001B[0mlat\u001B[0m\u001B[0;34m,\u001B[0m \u001B[0mlong\u001B[0m\u001B[0;34m)\u001B[0m\u001B[0;34m)\u001B[0m\u001B[0;34m\u001B[0m\u001B[0;34m\u001B[0m\u001B[0m\n\u001B[0m\u001B[1;32m    202\u001B[0m         \u001B[0;32mreturn\u001B[0m \u001B[0mlocation\u001B[0m\u001B[0;34m.\u001B[0m\u001B[0mraw\u001B[0m\u001B[0;34m[\u001B[0m\u001B[0;34m\"address\"\u001B[0m\u001B[0;34m]\u001B[0m\u001B[0;34m[\u001B[0m\u001B[0;34m\"postcode\"\u001B[0m\u001B[0;34m]\u001B[0m\u001B[0;34m\u001B[0m\u001B[0;34m\u001B[0m\u001B[0m\n\u001B[1;32m    203\u001B[0m \u001B[0;34m\u001B[0m\u001B[0m\n",
      "\u001B[0;32m~/anaconda3/lib/python3.9/site-packages/geopy/geocoders/nominatim.py\u001B[0m in \u001B[0;36mreverse\u001B[0;34m(self, query, exactly_one, timeout, language, addressdetails, zoom, namedetails)\u001B[0m\n\u001B[1;32m    370\u001B[0m         \u001B[0mlogger\u001B[0m\u001B[0;34m.\u001B[0m\u001B[0mdebug\u001B[0m\u001B[0;34m(\u001B[0m\u001B[0;34m\"%s.reverse: %s\"\u001B[0m\u001B[0;34m,\u001B[0m \u001B[0mself\u001B[0m\u001B[0;34m.\u001B[0m\u001B[0m__class__\u001B[0m\u001B[0;34m.\u001B[0m\u001B[0m__name__\u001B[0m\u001B[0;34m,\u001B[0m \u001B[0murl\u001B[0m\u001B[0;34m)\u001B[0m\u001B[0;34m\u001B[0m\u001B[0;34m\u001B[0m\u001B[0m\n\u001B[1;32m    371\u001B[0m         \u001B[0mcallback\u001B[0m \u001B[0;34m=\u001B[0m \u001B[0mpartial\u001B[0m\u001B[0;34m(\u001B[0m\u001B[0mself\u001B[0m\u001B[0;34m.\u001B[0m\u001B[0m_parse_json\u001B[0m\u001B[0;34m,\u001B[0m \u001B[0mexactly_one\u001B[0m\u001B[0;34m=\u001B[0m\u001B[0mexactly_one\u001B[0m\u001B[0;34m)\u001B[0m\u001B[0;34m\u001B[0m\u001B[0;34m\u001B[0m\u001B[0m\n\u001B[0;32m--> 372\u001B[0;31m         \u001B[0;32mreturn\u001B[0m \u001B[0mself\u001B[0m\u001B[0;34m.\u001B[0m\u001B[0m_call_geocoder\u001B[0m\u001B[0;34m(\u001B[0m\u001B[0murl\u001B[0m\u001B[0;34m,\u001B[0m \u001B[0mcallback\u001B[0m\u001B[0;34m,\u001B[0m \u001B[0mtimeout\u001B[0m\u001B[0;34m=\u001B[0m\u001B[0mtimeout\u001B[0m\u001B[0;34m)\u001B[0m\u001B[0;34m\u001B[0m\u001B[0;34m\u001B[0m\u001B[0m\n\u001B[0m\u001B[1;32m    373\u001B[0m \u001B[0;34m\u001B[0m\u001B[0m\n\u001B[1;32m    374\u001B[0m     \u001B[0;32mdef\u001B[0m \u001B[0m_parse_code\u001B[0m\u001B[0;34m(\u001B[0m\u001B[0mself\u001B[0m\u001B[0;34m,\u001B[0m \u001B[0mplace\u001B[0m\u001B[0;34m)\u001B[0m\u001B[0;34m:\u001B[0m\u001B[0;34m\u001B[0m\u001B[0;34m\u001B[0m\u001B[0m\n",
      "\u001B[0;32m~/anaconda3/lib/python3.9/site-packages/geopy/geocoders/base.py\u001B[0m in \u001B[0;36m_call_geocoder\u001B[0;34m(self, url, callback, timeout, is_json, headers)\u001B[0m\n\u001B[1;32m    366\u001B[0m         \u001B[0;32mtry\u001B[0m\u001B[0;34m:\u001B[0m\u001B[0;34m\u001B[0m\u001B[0;34m\u001B[0m\u001B[0m\n\u001B[1;32m    367\u001B[0m             \u001B[0;32mif\u001B[0m \u001B[0mis_json\u001B[0m\u001B[0;34m:\u001B[0m\u001B[0;34m\u001B[0m\u001B[0;34m\u001B[0m\u001B[0m\n\u001B[0;32m--> 368\u001B[0;31m                 \u001B[0mresult\u001B[0m \u001B[0;34m=\u001B[0m \u001B[0mself\u001B[0m\u001B[0;34m.\u001B[0m\u001B[0madapter\u001B[0m\u001B[0;34m.\u001B[0m\u001B[0mget_json\u001B[0m\u001B[0;34m(\u001B[0m\u001B[0murl\u001B[0m\u001B[0;34m,\u001B[0m \u001B[0mtimeout\u001B[0m\u001B[0;34m=\u001B[0m\u001B[0mtimeout\u001B[0m\u001B[0;34m,\u001B[0m \u001B[0mheaders\u001B[0m\u001B[0;34m=\u001B[0m\u001B[0mreq_headers\u001B[0m\u001B[0;34m)\u001B[0m\u001B[0;34m\u001B[0m\u001B[0;34m\u001B[0m\u001B[0m\n\u001B[0m\u001B[1;32m    369\u001B[0m             \u001B[0;32melse\u001B[0m\u001B[0;34m:\u001B[0m\u001B[0;34m\u001B[0m\u001B[0;34m\u001B[0m\u001B[0m\n\u001B[1;32m    370\u001B[0m                 \u001B[0mresult\u001B[0m \u001B[0;34m=\u001B[0m \u001B[0mself\u001B[0m\u001B[0;34m.\u001B[0m\u001B[0madapter\u001B[0m\u001B[0;34m.\u001B[0m\u001B[0mget_text\u001B[0m\u001B[0;34m(\u001B[0m\u001B[0murl\u001B[0m\u001B[0;34m,\u001B[0m \u001B[0mtimeout\u001B[0m\u001B[0;34m=\u001B[0m\u001B[0mtimeout\u001B[0m\u001B[0;34m,\u001B[0m \u001B[0mheaders\u001B[0m\u001B[0;34m=\u001B[0m\u001B[0mreq_headers\u001B[0m\u001B[0;34m)\u001B[0m\u001B[0;34m\u001B[0m\u001B[0;34m\u001B[0m\u001B[0m\n",
      "\u001B[0;32m~/anaconda3/lib/python3.9/site-packages/geopy/adapters.py\u001B[0m in \u001B[0;36mget_json\u001B[0;34m(self, url, timeout, headers)\u001B[0m\n\u001B[1;32m    445\u001B[0m \u001B[0;34m\u001B[0m\u001B[0m\n\u001B[1;32m    446\u001B[0m     \u001B[0;32mdef\u001B[0m \u001B[0mget_json\u001B[0m\u001B[0;34m(\u001B[0m\u001B[0mself\u001B[0m\u001B[0;34m,\u001B[0m \u001B[0murl\u001B[0m\u001B[0;34m,\u001B[0m \u001B[0;34m*\u001B[0m\u001B[0;34m,\u001B[0m \u001B[0mtimeout\u001B[0m\u001B[0;34m,\u001B[0m \u001B[0mheaders\u001B[0m\u001B[0;34m)\u001B[0m\u001B[0;34m:\u001B[0m\u001B[0;34m\u001B[0m\u001B[0;34m\u001B[0m\u001B[0m\n\u001B[0;32m--> 447\u001B[0;31m         \u001B[0mresp\u001B[0m \u001B[0;34m=\u001B[0m \u001B[0mself\u001B[0m\u001B[0;34m.\u001B[0m\u001B[0m_request\u001B[0m\u001B[0;34m(\u001B[0m\u001B[0murl\u001B[0m\u001B[0;34m,\u001B[0m \u001B[0mtimeout\u001B[0m\u001B[0;34m=\u001B[0m\u001B[0mtimeout\u001B[0m\u001B[0;34m,\u001B[0m \u001B[0mheaders\u001B[0m\u001B[0;34m=\u001B[0m\u001B[0mheaders\u001B[0m\u001B[0;34m)\u001B[0m\u001B[0;34m\u001B[0m\u001B[0;34m\u001B[0m\u001B[0m\n\u001B[0m\u001B[1;32m    448\u001B[0m         \u001B[0;32mtry\u001B[0m\u001B[0;34m:\u001B[0m\u001B[0;34m\u001B[0m\u001B[0;34m\u001B[0m\u001B[0m\n\u001B[1;32m    449\u001B[0m             \u001B[0;32mreturn\u001B[0m \u001B[0mresp\u001B[0m\u001B[0;34m.\u001B[0m\u001B[0mjson\u001B[0m\u001B[0;34m(\u001B[0m\u001B[0;34m)\u001B[0m\u001B[0;34m\u001B[0m\u001B[0;34m\u001B[0m\u001B[0m\n",
      "\u001B[0;32m~/anaconda3/lib/python3.9/site-packages/geopy/adapters.py\u001B[0m in \u001B[0;36m_request\u001B[0;34m(self, url, timeout, headers)\u001B[0m\n\u001B[1;32m    467\u001B[0m                     \u001B[0;32mraise\u001B[0m \u001B[0mGeocoderServiceError\u001B[0m\u001B[0;34m(\u001B[0m\u001B[0mmessage\u001B[0m\u001B[0;34m)\u001B[0m\u001B[0;34m\u001B[0m\u001B[0;34m\u001B[0m\u001B[0m\n\u001B[1;32m    468\u001B[0m                 \u001B[0;32melse\u001B[0m\u001B[0;34m:\u001B[0m\u001B[0;34m\u001B[0m\u001B[0;34m\u001B[0m\u001B[0m\n\u001B[0;32m--> 469\u001B[0;31m                     \u001B[0;32mraise\u001B[0m \u001B[0mGeocoderUnavailable\u001B[0m\u001B[0;34m(\u001B[0m\u001B[0mmessage\u001B[0m\u001B[0;34m)\u001B[0m\u001B[0;34m\u001B[0m\u001B[0;34m\u001B[0m\u001B[0m\n\u001B[0m\u001B[1;32m    470\u001B[0m             \u001B[0;32melif\u001B[0m \u001B[0misinstance\u001B[0m\u001B[0;34m(\u001B[0m\u001B[0merror\u001B[0m\u001B[0;34m,\u001B[0m \u001B[0mrequests\u001B[0m\u001B[0;34m.\u001B[0m\u001B[0mTimeout\u001B[0m\u001B[0;34m)\u001B[0m\u001B[0;34m:\u001B[0m\u001B[0;34m\u001B[0m\u001B[0;34m\u001B[0m\u001B[0m\n\u001B[1;32m    471\u001B[0m                 \u001B[0;32mraise\u001B[0m \u001B[0mGeocoderTimedOut\u001B[0m\u001B[0;34m(\u001B[0m\u001B[0;34m\"Service timed out\"\u001B[0m\u001B[0;34m)\u001B[0m\u001B[0;34m\u001B[0m\u001B[0;34m\u001B[0m\u001B[0m\n",
      "\u001B[0;31mGeocoderUnavailable\u001B[0m: HTTPSConnectionPool(host='nominatim.openstreetmap.org', port=443): Max retries exceeded with url: /reverse?lat=40.6687&lon=-74.1143&format=json&addressdetails=1 (Caused by ReadTimeoutError(\"HTTPSConnectionPool(host='nominatim.openstreetmap.org', port=443): Read timed out. (read timeout=1)\"))"
     ]
    }
   ],
   "source": [
    "from nodes.Worker import ZipCodeRetriever\n",
    "ZipCodeRetriever().run(\"New York, NY, USA\")"
   ],
   "metadata": {
    "collapsed": false,
    "ExecuteTime": {
     "start_time": "2023-04-25T20:49:49.491287Z",
     "end_time": "2023-04-25T20:49:49.495928Z"
    }
   }
  },
  {
   "cell_type": "code",
   "execution_count": 2,
   "outputs": [
    {
     "name": "stderr",
     "output_type": "stream",
     "text": [
      "Found cached dataset json (/home/billxbf/.cache/huggingface/datasets/LangChainDatasets___json/LangChainDatasets--sql-qa-chinook-7528565d2d992b47/0.0.0/fe5dd6ea2639a6df622901539cb550cf8797e5a6b2dd7af1cf934bed8e233e6e)\n"
     ]
    },
    {
     "data": {
      "text/plain": "  0%|          | 0/1 [00:00<?, ?it/s]",
      "application/vnd.jupyter.widget-view+json": {
       "version_major": 2,
       "version_minor": 0,
       "model_id": "2cb63f28e6c244e1b3c20d2b385c7aa6"
      }
     },
     "metadata": {},
     "output_type": "display_data"
    }
   ],
   "source": [
    "from langchain.evaluation.loading import load_dataset\n",
    "dataset = load_dataset(\"sql-qa-chinook\")"
   ],
   "metadata": {
    "collapsed": false,
    "ExecuteTime": {
     "start_time": "2023-04-25T21:50:20.732225Z",
     "end_time": "2023-04-25T21:50:21.538712Z"
    }
   }
  },
  {
   "cell_type": "code",
   "execution_count": 6,
   "outputs": [],
   "source": [
    "import datasets"
   ],
   "metadata": {
    "collapsed": false,
    "ExecuteTime": {
     "start_time": "2023-04-27T21:20:59.544957Z",
     "end_time": "2023-04-27T21:20:59.550449Z"
    }
   }
  },
  {
   "cell_type": "code",
   "execution_count": 8,
   "outputs": [
    {
     "name": "stdout",
     "output_type": "stream",
     "text": [
      "Downloading and preparing dataset gsm8k/main to /home/billxbf/workspace/PWS/data/gsm8k/gsm8k/main/1.1.0/37bfb08b1d4fcbb01f06b03d9e1ef5f1fcbd4d3af3d08842c50d7305091285ba...\n"
     ]
    },
    {
     "data": {
      "text/plain": "Downloading data files:   0%|          | 0/2 [00:00<?, ?it/s]",
      "application/vnd.jupyter.widget-view+json": {
       "version_major": 2,
       "version_minor": 0,
       "model_id": "b6e7d8914b5f46f4ab0e37db4c9794d0"
      }
     },
     "metadata": {},
     "output_type": "display_data"
    },
    {
     "data": {
      "text/plain": "Downloading data:   0%|          | 0.00/1.34M [00:00<?, ?B/s]",
      "application/vnd.jupyter.widget-view+json": {
       "version_major": 2,
       "version_minor": 0,
       "model_id": "e478e84675e44e8db325f06b9a9926b4"
      }
     },
     "metadata": {},
     "output_type": "display_data"
    },
    {
     "data": {
      "text/plain": "Downloading data:   0%|          | 0.00/242k [00:00<?, ?B/s]",
      "application/vnd.jupyter.widget-view+json": {
       "version_major": 2,
       "version_minor": 0,
       "model_id": "9b4b640bd638430dbd07aee0e09d04f8"
      }
     },
     "metadata": {},
     "output_type": "display_data"
    },
    {
     "data": {
      "text/plain": "Extracting data files:   0%|          | 0/2 [00:00<?, ?it/s]",
      "application/vnd.jupyter.widget-view+json": {
       "version_major": 2,
       "version_minor": 0,
       "model_id": "ed5c898c321844ffa933453e05ca07af"
      }
     },
     "metadata": {},
     "output_type": "display_data"
    },
    {
     "data": {
      "text/plain": "Generating train split:   0%|          | 0/7473 [00:00<?, ? examples/s]",
      "application/vnd.jupyter.widget-view+json": {
       "version_major": 2,
       "version_minor": 0,
       "model_id": "afea90338b8540f398b44944779c7b66"
      }
     },
     "metadata": {},
     "output_type": "display_data"
    },
    {
     "data": {
      "text/plain": "Generating test split:   0%|          | 0/1319 [00:00<?, ? examples/s]",
      "application/vnd.jupyter.widget-view+json": {
       "version_major": 2,
       "version_minor": 0,
       "model_id": "9a213772122046d2831ee22eaec8b1e6"
      }
     },
     "metadata": {},
     "output_type": "display_data"
    },
    {
     "name": "stdout",
     "output_type": "stream",
     "text": [
      "Dataset gsm8k downloaded and prepared to /home/billxbf/workspace/PWS/data/gsm8k/gsm8k/main/1.1.0/37bfb08b1d4fcbb01f06b03d9e1ef5f1fcbd4d3af3d08842c50d7305091285ba. Subsequent calls will reuse this data.\n"
     ]
    },
    {
     "data": {
      "text/plain": "  0%|          | 0/2 [00:00<?, ?it/s]",
      "application/vnd.jupyter.widget-view+json": {
       "version_major": 2,
       "version_minor": 0,
       "model_id": "0f5ba8c37971426a992b1fd968355216"
      }
     },
     "metadata": {},
     "output_type": "display_data"
    }
   ],
   "source": [
    "data = datasets.load_dataset(\"gsm8k\", name=\"main\", cache_dir=\"data/gsm8k\")"
   ],
   "metadata": {
    "collapsed": false,
    "ExecuteTime": {
     "start_time": "2023-04-27T21:22:07.393400Z",
     "end_time": "2023-04-27T21:22:09.037516Z"
    }
   }
  },
  {
   "cell_type": "code",
   "execution_count": 10,
   "outputs": [
    {
     "data": {
      "text/plain": "                                               question  \\\n0     Janet’s ducks lay 16 eggs per day. She eats th...   \n1     A robe takes 2 bolts of blue fiber and half th...   \n2     Josh decides to try flipping a house.  He buys...   \n3     James decides to run 3 sprints 3 times a week....   \n4     Every day, Wendi feeds each of her chickens th...   \n...                                                 ...   \n1314  John had a son James when he was 19.  James is...   \n1315  There are some oranges in a basket. Ana spends...   \n1316  Mark's car breaks down and he needs to get a n...   \n1317  Farmer Brown has 20 animals on his farm, all e...   \n1318  Henry and 3 of his friends order 7 pizzas for ...   \n\n                                                 answer  \n0     Janet sells 16 - 3 - 4 = <<16-3-4=9>>9 duck eg...  \n1     It takes 2/2=<<2/2=1>>1 bolt of white fiber\\nS...  \n2     The cost of the house and repairs came out to ...  \n3     He sprints 3*3=<<3*3=9>>9 times\\nSo he runs 9*...  \n4     If each chicken eats 3 cups of feed per day, t...  \n...                                                 ...  \n1314  Dora is 12-3=<<12-3=9>>9\\nSo James is 9*2=<<9*...  \n1315  There are 60 minutes in an hour. Ana peels an ...  \n1316  The discount on the radiator was 400*.8=$<<400...  \n1317  Let C be the number of chickens.\\nThere are 20...  \n1318  There are 7*8=<<7*8=56>>56 slices in total.\\nT...  \n\n[1319 rows x 2 columns]",
      "text/html": "<div>\n<style scoped>\n    .dataframe tbody tr th:only-of-type {\n        vertical-align: middle;\n    }\n\n    .dataframe tbody tr th {\n        vertical-align: top;\n    }\n\n    .dataframe thead th {\n        text-align: right;\n    }\n</style>\n<table border=\"1\" class=\"dataframe\">\n  <thead>\n    <tr style=\"text-align: right;\">\n      <th></th>\n      <th>question</th>\n      <th>answer</th>\n    </tr>\n  </thead>\n  <tbody>\n    <tr>\n      <th>0</th>\n      <td>Janet’s ducks lay 16 eggs per day. She eats th...</td>\n      <td>Janet sells 16 - 3 - 4 = &lt;&lt;16-3-4=9&gt;&gt;9 duck eg...</td>\n    </tr>\n    <tr>\n      <th>1</th>\n      <td>A robe takes 2 bolts of blue fiber and half th...</td>\n      <td>It takes 2/2=&lt;&lt;2/2=1&gt;&gt;1 bolt of white fiber\\nS...</td>\n    </tr>\n    <tr>\n      <th>2</th>\n      <td>Josh decides to try flipping a house.  He buys...</td>\n      <td>The cost of the house and repairs came out to ...</td>\n    </tr>\n    <tr>\n      <th>3</th>\n      <td>James decides to run 3 sprints 3 times a week....</td>\n      <td>He sprints 3*3=&lt;&lt;3*3=9&gt;&gt;9 times\\nSo he runs 9*...</td>\n    </tr>\n    <tr>\n      <th>4</th>\n      <td>Every day, Wendi feeds each of her chickens th...</td>\n      <td>If each chicken eats 3 cups of feed per day, t...</td>\n    </tr>\n    <tr>\n      <th>...</th>\n      <td>...</td>\n      <td>...</td>\n    </tr>\n    <tr>\n      <th>1314</th>\n      <td>John had a son James when he was 19.  James is...</td>\n      <td>Dora is 12-3=&lt;&lt;12-3=9&gt;&gt;9\\nSo James is 9*2=&lt;&lt;9*...</td>\n    </tr>\n    <tr>\n      <th>1315</th>\n      <td>There are some oranges in a basket. Ana spends...</td>\n      <td>There are 60 minutes in an hour. Ana peels an ...</td>\n    </tr>\n    <tr>\n      <th>1316</th>\n      <td>Mark's car breaks down and he needs to get a n...</td>\n      <td>The discount on the radiator was 400*.8=$&lt;&lt;400...</td>\n    </tr>\n    <tr>\n      <th>1317</th>\n      <td>Farmer Brown has 20 animals on his farm, all e...</td>\n      <td>Let C be the number of chickens.\\nThere are 20...</td>\n    </tr>\n    <tr>\n      <th>1318</th>\n      <td>Henry and 3 of his friends order 7 pizzas for ...</td>\n      <td>There are 7*8=&lt;&lt;7*8=56&gt;&gt;56 slices in total.\\nT...</td>\n    </tr>\n  </tbody>\n</table>\n<p>1319 rows × 2 columns</p>\n</div>"
     },
     "execution_count": 10,
     "metadata": {},
     "output_type": "execute_result"
    }
   ],
   "source": [
    "data[\"test\"].to_pandas()"
   ],
   "metadata": {
    "collapsed": false,
    "ExecuteTime": {
     "start_time": "2023-04-27T21:22:31.648386Z",
     "end_time": "2023-04-27T21:22:31.654175Z"
    }
   }
  },
  {
   "cell_type": "code",
   "execution_count": 4,
   "outputs": [
    {
     "data": {
      "text/plain": "'Answer: x = 120'"
     },
     "execution_count": 4,
     "metadata": {},
     "output_type": "execute_result"
    }
   ],
   "source": [
    "from nodes.Worker import WolframAlphaWorker\n",
    "WolframAlphaWorker().run(\"solve x + (x + 60) = 300\")"
   ],
   "metadata": {
    "collapsed": false,
    "ExecuteTime": {
     "start_time": "2023-04-28T21:18:53.427416Z",
     "end_time": "2023-04-28T21:18:54.246919Z"
    }
   }
  },
  {
   "cell_type": "markdown",
   "source": [],
   "metadata": {
    "collapsed": false
   }
  }
 ],
 "metadata": {
  "kernelspec": {
   "display_name": "Python 3",
   "language": "python",
   "name": "python3"
  },
  "language_info": {
   "codemirror_mode": {
    "name": "ipython",
    "version": 2
   },
   "file_extension": ".py",
   "mimetype": "text/x-python",
   "name": "python",
   "nbconvert_exporter": "python",
   "pygments_lexer": "ipython2",
   "version": "2.7.6"
  }
 },
 "nbformat": 4,
 "nbformat_minor": 0
}
