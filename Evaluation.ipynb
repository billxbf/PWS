{
 "cells": [
  {
   "cell_type": "markdown",
   "source": [
    "# Evaluation of HotpotQA"
   ],
   "metadata": {
    "collapsed": false
   }
  },
  {
   "cell_type": "code",
   "execution_count": 1,
   "outputs": [],
   "source": [
    "import os\n",
    "with open(\"/home/billxbf/Documents/myks/openai.key\", \"r\") as f:\n",
    "    keys = f.readlines()\n",
    "    os.environ[\"OPENAI_API_KEY\"] = keys[0].strip()\n",
    "with open(\"/home/billxbf/Documents/myks/serpapi.key\", \"r\") as f:\n",
    "    keys = f.readlines()\n",
    "    os.environ[\"SERPAPI_API_KEY\"] = keys[0].strip()"
   ],
   "metadata": {
    "collapsed": false,
    "ExecuteTime": {
     "start_time": "2023-04-24T00:16:51.063352Z",
     "end_time": "2023-04-24T00:16:51.063518Z"
    }
   }
  },
  {
   "cell_type": "code",
   "execution_count": 2,
   "outputs": [],
   "source": [
    "from utils.DataLoader import DataLoader\n",
    "from utils.Evaluator import Evaluator\n",
    "from algos.PWS import *\n",
    "from algos.react import ReactBase\n",
    "from algos.notool import IO, CoT\n",
    "from prompts import fewshots"
   ],
   "metadata": {
    "collapsed": false,
    "ExecuteTime": {
     "start_time": "2023-04-24T00:16:51.279695Z",
     "end_time": "2023-04-24T00:16:51.935231Z"
    }
   }
  },
  {
   "cell_type": "code",
   "execution_count": 3,
   "outputs": [],
   "source": [
    "def save_data(dataset, data, save_path):\n",
    "    dataset[\"preds\"] = data[\"preds\"]\n",
    "    dataset[\"em\"]  = data[\"em\"]\n",
    "    dataset[\"f1\"] = data[\"f1\"]\n",
    "    dataset[\"acc\"] = data[\"acc\"]\n",
    "    dataset[\"wall_time\"] = data[\"wall_time\"]\n",
    "    dataset[\"total_tokens\"] = data[\"total_tokens\"]\n",
    "    dataset[\"steps\"] = data[\"steps\"]\n",
    "    dataset[\"tool_cost\"] = data[\"tool_cost\"]\n",
    "    dataset[\"token_cost\"] = data[\"token_cost\"]\n",
    "    dataset[\"total_cost\"] = data[\"total_cost\"]\n",
    "    dataset.to_csv(save_path, index=False)\n",
    "    return dataset"
   ],
   "metadata": {
    "collapsed": false,
    "ExecuteTime": {
     "start_time": "2023-04-24T00:16:52.278796Z",
     "end_time": "2023-04-24T00:16:52.282316Z"
    }
   }
  },
  {
   "cell_type": "markdown",
   "source": [
    "## Standard IO"
   ],
   "metadata": {
    "collapsed": false
   }
  },
  {
   "cell_type": "code",
   "execution_count": 7,
   "outputs": [
    {
     "name": "stderr",
     "output_type": "stream",
     "text": [
      "Found cached dataset hotpot_qa (/home/billxbf/workspace/PWS/data/hotpot_qa/hotpot_qa/fullwiki/1.0.0/133b9501f892e5193babbad937bee3b4899deb4691ef4d791e6ac0111c875bb5)\n"
     ]
    },
    {
     "data": {
      "text/plain": "  0%|          | 0/3 [00:00<?, ?it/s]",
      "application/vnd.jupyter.widget-view+json": {
       "version_major": 2,
       "version_minor": 0,
       "model_id": "7d33ea614f22406c9d64305b4551c120"
      }
     },
     "metadata": {},
     "output_type": "display_data"
    }
   ],
   "source": [
    "dataset = DataLoader(\"hotpot_qa\", seed=2024).load(200)\n",
    "io = IO(model_name=\"gpt-3.5-turbo\")\n",
    "eval = Evaluator(task=\"hotpot_qa\", dataset=dataset, algo=io)"
   ],
   "metadata": {
    "collapsed": false,
    "ExecuteTime": {
     "start_time": "2023-04-23T21:18:55.765019Z",
     "end_time": "2023-04-23T21:18:57.157172Z"
    }
   }
  },
  {
   "cell_type": "code",
   "execution_count": 8,
   "outputs": [
    {
     "name": "stdout",
     "output_type": "stream",
     "text": [
      "\n",
      "******************* Start Evaluation *******************\n",
      "\n"
     ]
    },
    {
     "name": "stderr",
     "output_type": "stream",
     "text": [
      "100%|██████████| 200/200 [09:53<00:00,  2.97s/it]\n"
     ]
    },
    {
     "data": {
      "text/plain": "{'avg_em': 0.255,\n 'avg_f1': 0.33699405644085945,\n 'avg_acc': 0.385,\n 'avg_wall_time': 1.4000224912166594,\n 'avg_total_tokens': 55.24,\n 'avg_total_cost': 0.00011047999999999999,\n 'avg_steps': 1.0,\n 'avg_token_cost': 0.00011047999999999999,\n 'avg_tool_cost': 0.0}"
     },
     "execution_count": 8,
     "metadata": {},
     "output_type": "execute_result"
    }
   ],
   "source": [
    "response, data = eval.run()\n",
    "df = save_data(dataset, data, \"results/hotpot_qa_io_chat.csv\")\n",
    "response"
   ],
   "metadata": {
    "collapsed": false,
    "ExecuteTime": {
     "start_time": "2023-04-23T21:18:59.414181Z",
     "end_time": "2023-04-23T21:28:53.117381Z"
    }
   }
  },
  {
   "cell_type": "code",
   "execution_count": 7,
   "outputs": [
    {
     "data": {
      "text/plain": "                                            question  \\\n0  Noble is a 2014 film written and directed by S...   \n1  Who was the English clergyman and Archbishop o...   \n2  Which fictional character in the Harry Potter ...   \n3  What Classification is the album by UK band Se...   \n4  What actor from The Imitation Game also starre...   \n\n                     answer  \\\n0  The Cripple of Inishmaan   \n1            Henry Beaufort   \n2             Rubeus Hagrid   \n3                  Trip hop   \n4               Mark Strong   \n\n                                               preds     em        f1  \\\n0                          Billy Elliot the Musical.  False  0.000000   \n1  Otto von Ziegenhain was not the English clergy...  False  0.000000   \n2                                            Hagrid.  False  0.666667   \n3                                          Trip hop.   True  1.000000   \n4                                  Robert Downey Jr.  False  0.000000   \n\n   wall_time  total_tokens  steps  tool_cost  token_cost  total_cost  \n0   0.729125            87      1          0    0.000174    0.000174  \n1   2.456970            74      1          0    0.000148    0.000148  \n2   0.714470            39      1          0    0.000078    0.000078  \n3   0.603935            55      1          0    0.000110    0.000110  \n4   0.630275            52      1          0    0.000104    0.000104  ",
      "text/html": "<div>\n<style scoped>\n    .dataframe tbody tr th:only-of-type {\n        vertical-align: middle;\n    }\n\n    .dataframe tbody tr th {\n        vertical-align: top;\n    }\n\n    .dataframe thead th {\n        text-align: right;\n    }\n</style>\n<table border=\"1\" class=\"dataframe\">\n  <thead>\n    <tr style=\"text-align: right;\">\n      <th></th>\n      <th>question</th>\n      <th>answer</th>\n      <th>preds</th>\n      <th>em</th>\n      <th>f1</th>\n      <th>wall_time</th>\n      <th>total_tokens</th>\n      <th>steps</th>\n      <th>tool_cost</th>\n      <th>token_cost</th>\n      <th>total_cost</th>\n    </tr>\n  </thead>\n  <tbody>\n    <tr>\n      <th>0</th>\n      <td>Noble is a 2014 film written and directed by S...</td>\n      <td>The Cripple of Inishmaan</td>\n      <td>Billy Elliot the Musical.</td>\n      <td>False</td>\n      <td>0.000000</td>\n      <td>0.729125</td>\n      <td>87</td>\n      <td>1</td>\n      <td>0</td>\n      <td>0.000174</td>\n      <td>0.000174</td>\n    </tr>\n    <tr>\n      <th>1</th>\n      <td>Who was the English clergyman and Archbishop o...</td>\n      <td>Henry Beaufort</td>\n      <td>Otto von Ziegenhain was not the English clergy...</td>\n      <td>False</td>\n      <td>0.000000</td>\n      <td>2.456970</td>\n      <td>74</td>\n      <td>1</td>\n      <td>0</td>\n      <td>0.000148</td>\n      <td>0.000148</td>\n    </tr>\n    <tr>\n      <th>2</th>\n      <td>Which fictional character in the Harry Potter ...</td>\n      <td>Rubeus Hagrid</td>\n      <td>Hagrid.</td>\n      <td>False</td>\n      <td>0.666667</td>\n      <td>0.714470</td>\n      <td>39</td>\n      <td>1</td>\n      <td>0</td>\n      <td>0.000078</td>\n      <td>0.000078</td>\n    </tr>\n    <tr>\n      <th>3</th>\n      <td>What Classification is the album by UK band Se...</td>\n      <td>Trip hop</td>\n      <td>Trip hop.</td>\n      <td>True</td>\n      <td>1.000000</td>\n      <td>0.603935</td>\n      <td>55</td>\n      <td>1</td>\n      <td>0</td>\n      <td>0.000110</td>\n      <td>0.000110</td>\n    </tr>\n    <tr>\n      <th>4</th>\n      <td>What actor from The Imitation Game also starre...</td>\n      <td>Mark Strong</td>\n      <td>Robert Downey Jr.</td>\n      <td>False</td>\n      <td>0.000000</td>\n      <td>0.630275</td>\n      <td>52</td>\n      <td>1</td>\n      <td>0</td>\n      <td>0.000104</td>\n      <td>0.000104</td>\n    </tr>\n  </tbody>\n</table>\n</div>"
     },
     "execution_count": 7,
     "metadata": {},
     "output_type": "execute_result"
    }
   ],
   "source": [
    "df.head()"
   ],
   "metadata": {
    "collapsed": false,
    "ExecuteTime": {
     "start_time": "2023-04-23T18:23:59.495816Z",
     "end_time": "2023-04-23T18:23:59.539597Z"
    }
   }
  },
  {
   "cell_type": "markdown",
   "source": [
    "## CoT"
   ],
   "metadata": {
    "collapsed": false
   }
  },
  {
   "cell_type": "code",
   "execution_count": 9,
   "outputs": [
    {
     "name": "stderr",
     "output_type": "stream",
     "text": [
      "Found cached dataset hotpot_qa (/home/billxbf/workspace/PWS/data/hotpot_qa/hotpot_qa/fullwiki/1.0.0/133b9501f892e5193babbad937bee3b4899deb4691ef4d791e6ac0111c875bb5)\n"
     ]
    },
    {
     "data": {
      "text/plain": "  0%|          | 0/3 [00:00<?, ?it/s]",
      "application/vnd.jupyter.widget-view+json": {
       "version_major": 2,
       "version_minor": 0,
       "model_id": "744aee86c8564dc4913b4ccd6f800d63"
      }
     },
     "metadata": {},
     "output_type": "display_data"
    }
   ],
   "source": [
    "dataset = DataLoader(\"hotpot_qa\", seed=2024).load(200)\n",
    "cot = CoT(fewshot=fewshots.HOTPOTQA_COT, model_name=\"gpt-3.5-turbo\")\n",
    "eval = Evaluator(task=\"hotpot_qa\", dataset=dataset, algo=cot)"
   ],
   "metadata": {
    "collapsed": false,
    "ExecuteTime": {
     "start_time": "2023-04-23T21:34:44.392241Z",
     "end_time": "2023-04-23T21:34:46.105948Z"
    }
   }
  },
  {
   "cell_type": "code",
   "execution_count": 10,
   "outputs": [
    {
     "name": "stdout",
     "output_type": "stream",
     "text": [
      "\n",
      "******************* Start Evaluation *******************\n",
      "\n"
     ]
    },
    {
     "name": "stderr",
     "output_type": "stream",
     "text": [
      "100%|██████████| 200/200 [30:26<00:00,  9.13s/it]\n"
     ]
    },
    {
     "data": {
      "text/plain": "{'avg_em': 0.155,\n 'avg_f1': 0.25337150066973424,\n 'avg_acc': 0.35,\n 'avg_wall_time': 7.419274190664291,\n 'avg_total_tokens': 481.98,\n 'avg_total_cost': 0.0009639599999999998,\n 'avg_steps': 1.79,\n 'avg_token_cost': 0.0009639599999999998,\n 'avg_tool_cost': 0.0}"
     },
     "execution_count": 10,
     "metadata": {},
     "output_type": "execute_result"
    }
   ],
   "source": [
    "response, data = eval.run()\n",
    "df = save_data(dataset, data, \"results/hotpot_qa_cot_chat.csv\")\n",
    "response"
   ],
   "metadata": {
    "collapsed": false,
    "ExecuteTime": {
     "start_time": "2023-04-23T21:34:52.578731Z",
     "end_time": "2023-04-23T22:05:19.461069Z"
    }
   }
  },
  {
   "cell_type": "code",
   "execution_count": 9,
   "outputs": [
    {
     "data": {
      "text/plain": "                                            question  \\\n0  In what city and state was the vocalist for  E...   \n1  What was the birth date of the director of \"Th...   \n2  What is the name of the cognac house that make...   \n3  The Wisconsin Badgers football team has had a ...   \n4  Which film director is older, Jan Troell or Ag...   \n5  Foshan Lingnan Mingzhu Gymnasium, where Boxing...   \n6  In between Parenting and Cook's Illustrated wh...   \n7  In the year 2016, how many passengers used the...   \n8  What was the nationality of Robert Kardashian'...   \n9  In what Ohio city does the highway which the n...   \n\n                     answer  \\\n0  Redwood City, California   \n1    December 28, 1888March   \n2        Jas Hennessy & Co.   \n3            The Iron Horse   \n4               Agnès Varda   \n5                      2006   \n6                 Parenting   \n7             11.04 million   \n8                  American   \n9                Cincinnati   \n\n                                               preds     em        f1  \\\n0                               Bayamón, Puerto Rico  False  0.000000   \n1  I am sorry, I cannot answer this question with...  False  0.000000   \n2                                           Hennessy  False  0.500000   \n3                                        \"The Horse\"  False  0.666667   \n4                                        Agnès Varda   True  1.000000   \n5                                               2010  False  0.000000   \n6                                      1993 to 2013.  False  0.000000   \n7                   Not enough information provided.  False  0.000000   \n8                                           American   True  1.000000   \n9   Not enough information provided to answer the...  False  0.000000   \n\n   wall_time  total_tokens  steps  tool_cost  token_cost  total_cost  \n0   4.445898           447      2          0    0.000894    0.000894  \n1   1.839958           396      0          0    0.000792    0.000792  \n2   7.578993           499      3          0    0.000998    0.000998  \n3   5.424428           468      2          0    0.000936    0.000936  \n4   6.450117           472      2          0    0.000944    0.000944  \n5   7.975955           517      2          0    0.001034    0.001034  \n6   8.808713           536      3          0    0.001072    0.001072  \n7   3.693008           430      1          0    0.000860    0.000860  \n8   7.475537           484      3          0    0.000968    0.000968  \n9   9.009300           532      3          0    0.001064    0.001064  ",
      "text/html": "<div>\n<style scoped>\n    .dataframe tbody tr th:only-of-type {\n        vertical-align: middle;\n    }\n\n    .dataframe tbody tr th {\n        vertical-align: top;\n    }\n\n    .dataframe thead th {\n        text-align: right;\n    }\n</style>\n<table border=\"1\" class=\"dataframe\">\n  <thead>\n    <tr style=\"text-align: right;\">\n      <th></th>\n      <th>question</th>\n      <th>answer</th>\n      <th>preds</th>\n      <th>em</th>\n      <th>f1</th>\n      <th>wall_time</th>\n      <th>total_tokens</th>\n      <th>steps</th>\n      <th>tool_cost</th>\n      <th>token_cost</th>\n      <th>total_cost</th>\n    </tr>\n  </thead>\n  <tbody>\n    <tr>\n      <th>0</th>\n      <td>In what city and state was the vocalist for  E...</td>\n      <td>Redwood City, California</td>\n      <td>Bayamón, Puerto Rico</td>\n      <td>False</td>\n      <td>0.000000</td>\n      <td>4.445898</td>\n      <td>447</td>\n      <td>2</td>\n      <td>0</td>\n      <td>0.000894</td>\n      <td>0.000894</td>\n    </tr>\n    <tr>\n      <th>1</th>\n      <td>What was the birth date of the director of \"Th...</td>\n      <td>December 28, 1888March</td>\n      <td>I am sorry, I cannot answer this question with...</td>\n      <td>False</td>\n      <td>0.000000</td>\n      <td>1.839958</td>\n      <td>396</td>\n      <td>0</td>\n      <td>0</td>\n      <td>0.000792</td>\n      <td>0.000792</td>\n    </tr>\n    <tr>\n      <th>2</th>\n      <td>What is the name of the cognac house that make...</td>\n      <td>Jas Hennessy &amp; Co.</td>\n      <td>Hennessy</td>\n      <td>False</td>\n      <td>0.500000</td>\n      <td>7.578993</td>\n      <td>499</td>\n      <td>3</td>\n      <td>0</td>\n      <td>0.000998</td>\n      <td>0.000998</td>\n    </tr>\n    <tr>\n      <th>3</th>\n      <td>The Wisconsin Badgers football team has had a ...</td>\n      <td>The Iron Horse</td>\n      <td>\"The Horse\"</td>\n      <td>False</td>\n      <td>0.666667</td>\n      <td>5.424428</td>\n      <td>468</td>\n      <td>2</td>\n      <td>0</td>\n      <td>0.000936</td>\n      <td>0.000936</td>\n    </tr>\n    <tr>\n      <th>4</th>\n      <td>Which film director is older, Jan Troell or Ag...</td>\n      <td>Agnès Varda</td>\n      <td>Agnès Varda</td>\n      <td>True</td>\n      <td>1.000000</td>\n      <td>6.450117</td>\n      <td>472</td>\n      <td>2</td>\n      <td>0</td>\n      <td>0.000944</td>\n      <td>0.000944</td>\n    </tr>\n    <tr>\n      <th>5</th>\n      <td>Foshan Lingnan Mingzhu Gymnasium, where Boxing...</td>\n      <td>2006</td>\n      <td>2010</td>\n      <td>False</td>\n      <td>0.000000</td>\n      <td>7.975955</td>\n      <td>517</td>\n      <td>2</td>\n      <td>0</td>\n      <td>0.001034</td>\n      <td>0.001034</td>\n    </tr>\n    <tr>\n      <th>6</th>\n      <td>In between Parenting and Cook's Illustrated wh...</td>\n      <td>Parenting</td>\n      <td>1993 to 2013.</td>\n      <td>False</td>\n      <td>0.000000</td>\n      <td>8.808713</td>\n      <td>536</td>\n      <td>3</td>\n      <td>0</td>\n      <td>0.001072</td>\n      <td>0.001072</td>\n    </tr>\n    <tr>\n      <th>7</th>\n      <td>In the year 2016, how many passengers used the...</td>\n      <td>11.04 million</td>\n      <td>Not enough information provided.</td>\n      <td>False</td>\n      <td>0.000000</td>\n      <td>3.693008</td>\n      <td>430</td>\n      <td>1</td>\n      <td>0</td>\n      <td>0.000860</td>\n      <td>0.000860</td>\n    </tr>\n    <tr>\n      <th>8</th>\n      <td>What was the nationality of Robert Kardashian'...</td>\n      <td>American</td>\n      <td>American</td>\n      <td>True</td>\n      <td>1.000000</td>\n      <td>7.475537</td>\n      <td>484</td>\n      <td>3</td>\n      <td>0</td>\n      <td>0.000968</td>\n      <td>0.000968</td>\n    </tr>\n    <tr>\n      <th>9</th>\n      <td>In what Ohio city does the highway which the n...</td>\n      <td>Cincinnati</td>\n      <td>Not enough information provided to answer the...</td>\n      <td>False</td>\n      <td>0.000000</td>\n      <td>9.009300</td>\n      <td>532</td>\n      <td>3</td>\n      <td>0</td>\n      <td>0.001064</td>\n      <td>0.001064</td>\n    </tr>\n  </tbody>\n</table>\n</div>"
     },
     "execution_count": 9,
     "metadata": {},
     "output_type": "execute_result"
    }
   ],
   "source": [
    "df.head(10)"
   ],
   "metadata": {
    "collapsed": false,
    "ExecuteTime": {
     "start_time": "2023-04-21T00:01:02.618556Z",
     "end_time": "2023-04-21T00:01:02.620559Z"
    }
   }
  },
  {
   "cell_type": "markdown",
   "source": [
    "## REACT"
   ],
   "metadata": {
    "collapsed": false
   }
  },
  {
   "cell_type": "code",
   "execution_count": 4,
   "outputs": [
    {
     "name": "stderr",
     "output_type": "stream",
     "text": [
      "Found cached dataset hotpot_qa (/home/billxbf/workspace/PWS/data/hotpot_qa/hotpot_qa/fullwiki/1.0.0/133b9501f892e5193babbad937bee3b4899deb4691ef4d791e6ac0111c875bb5)\n"
     ]
    },
    {
     "data": {
      "text/plain": "  0%|          | 0/3 [00:00<?, ?it/s]",
      "application/vnd.jupyter.widget-view+json": {
       "version_major": 2,
       "version_minor": 0,
       "model_id": "834895e4f56244ca983abf7441cce665"
      }
     },
     "metadata": {},
     "output_type": "display_data"
    }
   ],
   "source": [
    "dataset = DataLoader(\"hotpot_qa\", seed=2024).load(200)\n",
    "react = ReactBase(fewshot=fewshots.HOTPOTQA_REACT, model_name=\"gpt-3.5-turbo\", max_iter=8, verbose=False)\n",
    "eval = Evaluator(task=\"hotpot_qa\", dataset=dataset, algo=react)"
   ],
   "metadata": {
    "collapsed": false,
    "ExecuteTime": {
     "start_time": "2023-04-23T22:24:00.583271Z",
     "end_time": "2023-04-23T22:24:02.020682Z"
    }
   }
  },
  {
   "cell_type": "code",
   "execution_count": 5,
   "outputs": [
    {
     "name": "stdout",
     "output_type": "stream",
     "text": [
      "\n",
      "******************* Start Evaluation *******************\n",
      "\n"
     ]
    },
    {
     "name": "stderr",
     "output_type": "stream",
     "text": [
      "  2%|▏         | 3/200 [00:41<48:23, 14.74s/it]/home/billxbf/anaconda3/lib/python3.9/site-packages/wikipedia/wikipedia.py:389: GuessedAtParserWarning: No parser was explicitly specified, so I'm using the best available HTML parser for this system (\"lxml\"). This usually isn't a problem, but if you run this code on another system, or in a different virtual environment, it may use a different parser and behave differently.\n",
      "\n",
      "The code that caused this warning is on line 389 of the file /home/billxbf/anaconda3/lib/python3.9/site-packages/wikipedia/wikipedia.py. To get rid of this warning, pass the additional argument 'features=\"lxml\"' to the BeautifulSoup constructor.\n",
      "\n",
      "  lis = BeautifulSoup(html).find_all('li')\n",
      "Retrying langchain.chat_models.openai.ChatOpenAI.completion_with_retry.<locals>._completion_with_retry in 4.0 seconds as it raised RateLimitError: That model is currently overloaded with other requests. You can retry your request, or contact us through our help center at help.openai.com if the error persists. (Please include the request ID 17d8481022fdf86023bc85f6eed2aa9d in your message.).\n",
      "  2%|▎         | 5/200 [02:26<1:57:14, 36.07s/it]Retrying langchain.chat_models.openai.ChatOpenAI.completion_with_retry.<locals>._completion_with_retry in 4.0 seconds as it raised RateLimitError: That model is currently overloaded with other requests. You can retry your request, or contact us through our help center at help.openai.com if the error persists. (Please include the request ID 68cd1aa87987ff2b7a3ca1847e9b7c52 in your message.).\n",
      "  4%|▍         | 8/200 [04:37<1:59:21, 37.30s/it]Retrying langchain.chat_models.openai.ChatOpenAI.completion_with_retry.<locals>._completion_with_retry in 4.0 seconds as it raised RateLimitError: That model is currently overloaded with other requests. You can retry your request, or contact us through our help center at help.openai.com if the error persists. (Please include the request ID f611c9a2d40082f6d60b24692ca328c7 in your message.).\n",
      "  9%|▉         | 18/200 [08:59<1:14:16, 24.49s/it]Retrying langchain.chat_models.openai.ChatOpenAI.completion_with_retry.<locals>._completion_with_retry in 4.0 seconds as it raised RateLimitError: That model is currently overloaded with other requests. You can retry your request, or contact us through our help center at help.openai.com if the error persists. (Please include the request ID 82485bed9617d59ff6a921732a507fed in your message.).\n",
      "Retrying langchain.chat_models.openai.ChatOpenAI.completion_with_retry.<locals>._completion_with_retry in 4.0 seconds as it raised RateLimitError: The server had an error while processing your request. Sorry about that!.\n",
      " 18%|█▊        | 36/200 [19:39<1:52:52, 41.30s/it]Retrying langchain.chat_models.openai.ChatOpenAI.completion_with_retry.<locals>._completion_with_retry in 4.0 seconds as it raised RateLimitError: That model is currently overloaded with other requests. You can retry your request, or contact us through our help center at help.openai.com if the error persists. (Please include the request ID cbba26f7ab2465f27ba0e2ea4e978012 in your message.).\n",
      " 42%|████▎     | 85/200 [40:36<46:20, 24.18s/it]  Retrying langchain.chat_models.openai.ChatOpenAI.completion_with_retry.<locals>._completion_with_retry in 4.0 seconds as it raised RateLimitError: The server had an error while processing your request. Sorry about that!.\n",
      " 75%|███████▌  | 150/200 [1:07:24<18:13, 21.86s/it]Retrying langchain.chat_models.openai.ChatOpenAI.completion_with_retry.<locals>._completion_with_retry in 4.0 seconds as it raised RateLimitError: The server had an error while processing your request. Sorry about that!.\n",
      " 76%|███████▌  | 151/200 [1:07:51<19:08, 23.44s/it]Retrying langchain.chat_models.openai.ChatOpenAI.completion_with_retry.<locals>._completion_with_retry in 4.0 seconds as it raised APIError: Bad gateway. {\"error\":{\"code\":502,\"message\":\"Bad gateway.\",\"param\":null,\"type\":\"cf_bad_gateway\"}} 502 {'error': {'code': 502, 'message': 'Bad gateway.', 'param': None, 'type': 'cf_bad_gateway'}} {'Date': 'Mon, 24 Apr 2023 03:32:26 GMT', 'Content-Type': 'application/json', 'Content-Length': '84', 'Connection': 'keep-alive', 'X-Frame-Options': 'SAMEORIGIN', 'Referrer-Policy': 'same-origin', 'Cache-Control': 'private, max-age=0, no-store, no-cache, must-revalidate, post-check=0, pre-check=0', 'Expires': 'Thu, 01 Jan 1970 00:00:01 GMT', 'Server': 'cloudflare', 'CF-RAY': '7bcb475159af32f4-EWR'}.\n",
      " 90%|█████████ | 181/200 [1:25:25<13:45, 43.43s/it]Retrying langchain.chat_models.openai.ChatOpenAI.completion_with_retry.<locals>._completion_with_retry in 4.0 seconds as it raised RateLimitError: The server had an error while processing your request. Sorry about that!.\n",
      "100%|██████████| 200/200 [1:35:27<00:00, 28.64s/it]\n"
     ]
    },
    {
     "data": {
      "text/plain": "{'avg_em': 0.32,\n 'avg_f1': 0.39618506493506495,\n 'avg_acc': 0.385,\n 'avg_wall_time': 23.950300869616594,\n 'avg_total_tokens': 9795.136363636364,\n 'avg_total_cost': 0.01959027272727273,\n 'avg_steps': 4.971590909090909,\n 'avg_token_cost': 0.01959027272727273,\n 'avg_tool_cost': 0.0}"
     },
     "execution_count": 5,
     "metadata": {},
     "output_type": "execute_result"
    }
   ],
   "source": [
    "response, data = eval.run()\n",
    "df = save_data(dataset, data, \"results/hotpot_qa_react_chat.csv\")\n",
    "response"
   ],
   "metadata": {
    "collapsed": false,
    "ExecuteTime": {
     "start_time": "2023-04-23T22:24:03.900671Z",
     "end_time": "2023-04-23T23:59:31.908188Z"
    }
   }
  },
  {
   "cell_type": "code",
   "execution_count": 9,
   "outputs": [
    {
     "data": {
      "text/plain": "                                            question  \\\n0  In what city and state was the vocalist for  E...   \n1  What was the birth date of the director of \"Th...   \n2  What is the name of the cognac house that make...   \n3  The Wisconsin Badgers football team has had a ...   \n4  Which film director is older, Jan Troell or Ag...   \n5  Foshan Lingnan Mingzhu Gymnasium, where Boxing...   \n6  In between Parenting and Cook's Illustrated wh...   \n7  In the year 2016, how many passengers used the...   \n8  What was the nationality of Robert Kardashian'...   \n9  In what Ohio city does the highway which the n...   \n\n                     answer  \\\n0  Redwood City, California   \n1    December 28, 1888March   \n2        Jas Hennessy & Co.   \n3            The Iron Horse   \n4               Agnès Varda   \n5                      2006   \n6                 Parenting   \n7             11.04 million   \n8                  American   \n9                Cincinnati   \n\n                                               preds     em        f1  acc  \\\n0                                                nan  False  0.000000    0   \n1                                                nan  False  0.000000    0   \n2                                           Hennessy  False  0.500000    1   \n3                        the Iron Horse or the Horse  False  0.666667    0   \n4                                         Jan Troell  False  0.000000    0   \n5                                               2006   True  1.000000    1   \n6                                          Parenting   True  1.000000    1   \n7  Agent stopped due to iteration limit or time l...  False  0.000000    0   \n8  Agent stopped due to iteration limit or time l...  False  0.000000    0   \n9  Agent stopped due to iteration limit or time l...  False  0.000000    0   \n\n   wall_time  total_tokens  steps  tool_cost  token_cost  total_cost  \n0        NaN           NaN    NaN        NaN         NaN         NaN  \n1        NaN           NaN    NaN        NaN         NaN         NaN  \n2   8.891754        5092.0    3.0        0.0    0.010184    0.010184  \n3  12.183595        7105.0    4.0        0.0    0.014210    0.014210  \n4   9.318587        5263.0    3.0        0.0    0.010526    0.010526  \n5   7.464730        3284.0    2.0        0.0    0.006568    0.006568  \n6  10.895709        7210.0    4.0        0.0    0.014420    0.014420  \n7  33.010987       21835.0    9.0        0.0    0.043670    0.043670  \n8  21.680504       14876.0    9.0        0.0    0.029752    0.029752  \n9  30.278475       17950.0    9.0        0.0    0.035900    0.035900  ",
      "text/html": "<div>\n<style scoped>\n    .dataframe tbody tr th:only-of-type {\n        vertical-align: middle;\n    }\n\n    .dataframe tbody tr th {\n        vertical-align: top;\n    }\n\n    .dataframe thead th {\n        text-align: right;\n    }\n</style>\n<table border=\"1\" class=\"dataframe\">\n  <thead>\n    <tr style=\"text-align: right;\">\n      <th></th>\n      <th>question</th>\n      <th>answer</th>\n      <th>preds</th>\n      <th>em</th>\n      <th>f1</th>\n      <th>acc</th>\n      <th>wall_time</th>\n      <th>total_tokens</th>\n      <th>steps</th>\n      <th>tool_cost</th>\n      <th>token_cost</th>\n      <th>total_cost</th>\n    </tr>\n  </thead>\n  <tbody>\n    <tr>\n      <th>0</th>\n      <td>In what city and state was the vocalist for  E...</td>\n      <td>Redwood City, California</td>\n      <td>nan</td>\n      <td>False</td>\n      <td>0.000000</td>\n      <td>0</td>\n      <td>NaN</td>\n      <td>NaN</td>\n      <td>NaN</td>\n      <td>NaN</td>\n      <td>NaN</td>\n      <td>NaN</td>\n    </tr>\n    <tr>\n      <th>1</th>\n      <td>What was the birth date of the director of \"Th...</td>\n      <td>December 28, 1888March</td>\n      <td>nan</td>\n      <td>False</td>\n      <td>0.000000</td>\n      <td>0</td>\n      <td>NaN</td>\n      <td>NaN</td>\n      <td>NaN</td>\n      <td>NaN</td>\n      <td>NaN</td>\n      <td>NaN</td>\n    </tr>\n    <tr>\n      <th>2</th>\n      <td>What is the name of the cognac house that make...</td>\n      <td>Jas Hennessy &amp; Co.</td>\n      <td>Hennessy</td>\n      <td>False</td>\n      <td>0.500000</td>\n      <td>1</td>\n      <td>8.891754</td>\n      <td>5092.0</td>\n      <td>3.0</td>\n      <td>0.0</td>\n      <td>0.010184</td>\n      <td>0.010184</td>\n    </tr>\n    <tr>\n      <th>3</th>\n      <td>The Wisconsin Badgers football team has had a ...</td>\n      <td>The Iron Horse</td>\n      <td>the Iron Horse or the Horse</td>\n      <td>False</td>\n      <td>0.666667</td>\n      <td>0</td>\n      <td>12.183595</td>\n      <td>7105.0</td>\n      <td>4.0</td>\n      <td>0.0</td>\n      <td>0.014210</td>\n      <td>0.014210</td>\n    </tr>\n    <tr>\n      <th>4</th>\n      <td>Which film director is older, Jan Troell or Ag...</td>\n      <td>Agnès Varda</td>\n      <td>Jan Troell</td>\n      <td>False</td>\n      <td>0.000000</td>\n      <td>0</td>\n      <td>9.318587</td>\n      <td>5263.0</td>\n      <td>3.0</td>\n      <td>0.0</td>\n      <td>0.010526</td>\n      <td>0.010526</td>\n    </tr>\n    <tr>\n      <th>5</th>\n      <td>Foshan Lingnan Mingzhu Gymnasium, where Boxing...</td>\n      <td>2006</td>\n      <td>2006</td>\n      <td>True</td>\n      <td>1.000000</td>\n      <td>1</td>\n      <td>7.464730</td>\n      <td>3284.0</td>\n      <td>2.0</td>\n      <td>0.0</td>\n      <td>0.006568</td>\n      <td>0.006568</td>\n    </tr>\n    <tr>\n      <th>6</th>\n      <td>In between Parenting and Cook's Illustrated wh...</td>\n      <td>Parenting</td>\n      <td>Parenting</td>\n      <td>True</td>\n      <td>1.000000</td>\n      <td>1</td>\n      <td>10.895709</td>\n      <td>7210.0</td>\n      <td>4.0</td>\n      <td>0.0</td>\n      <td>0.014420</td>\n      <td>0.014420</td>\n    </tr>\n    <tr>\n      <th>7</th>\n      <td>In the year 2016, how many passengers used the...</td>\n      <td>11.04 million</td>\n      <td>Agent stopped due to iteration limit or time l...</td>\n      <td>False</td>\n      <td>0.000000</td>\n      <td>0</td>\n      <td>33.010987</td>\n      <td>21835.0</td>\n      <td>9.0</td>\n      <td>0.0</td>\n      <td>0.043670</td>\n      <td>0.043670</td>\n    </tr>\n    <tr>\n      <th>8</th>\n      <td>What was the nationality of Robert Kardashian'...</td>\n      <td>American</td>\n      <td>Agent stopped due to iteration limit or time l...</td>\n      <td>False</td>\n      <td>0.000000</td>\n      <td>0</td>\n      <td>21.680504</td>\n      <td>14876.0</td>\n      <td>9.0</td>\n      <td>0.0</td>\n      <td>0.029752</td>\n      <td>0.029752</td>\n    </tr>\n    <tr>\n      <th>9</th>\n      <td>In what Ohio city does the highway which the n...</td>\n      <td>Cincinnati</td>\n      <td>Agent stopped due to iteration limit or time l...</td>\n      <td>False</td>\n      <td>0.000000</td>\n      <td>0</td>\n      <td>30.278475</td>\n      <td>17950.0</td>\n      <td>9.0</td>\n      <td>0.0</td>\n      <td>0.035900</td>\n      <td>0.035900</td>\n    </tr>\n  </tbody>\n</table>\n</div>"
     },
     "execution_count": 9,
     "metadata": {},
     "output_type": "execute_result"
    }
   ],
   "source": [
    "df.head(10)"
   ],
   "metadata": {
    "collapsed": false,
    "ExecuteTime": {
     "start_time": "2023-04-23T19:13:33.905387Z",
     "end_time": "2023-04-23T19:13:33.910506Z"
    }
   }
  },
  {
   "cell_type": "markdown",
   "source": [
    "## PWSBase"
   ],
   "metadata": {
    "collapsed": false
   }
  },
  {
   "cell_type": "code",
   "execution_count": null,
   "outputs": [],
   "source": [],
   "metadata": {
    "collapsed": false
   }
  },
  {
   "cell_type": "code",
   "execution_count": 4,
   "outputs": [
    {
     "name": "stderr",
     "output_type": "stream",
     "text": [
      "Found cached dataset hotpot_qa (/home/billxbf/workspace/PWS/data/hotpot_qa/hotpot_qa/fullwiki/1.0.0/133b9501f892e5193babbad937bee3b4899deb4691ef4d791e6ac0111c875bb5)\n"
     ]
    },
    {
     "data": {
      "text/plain": "  0%|          | 0/3 [00:00<?, ?it/s]",
      "application/vnd.jupyter.widget-view+json": {
       "version_major": 2,
       "version_minor": 0,
       "model_id": "796526a13bb947f790e6f1e67bd96baa"
      }
     },
     "metadata": {},
     "output_type": "display_data"
    }
   ],
   "source": [
    "dataset = DataLoader(\"hotpot_qa\", seed=2024).load(200)\n",
    "pwsbase = PWS_Base(fewshot=fewshots.HOTPOTQA_PWS_BASE, planner_model=\"gpt-3.5-turbo\", solver_model=\"gpt-3.5-turbo\")\n",
    "eval = Evaluator(task=\"hotpot_qa\", dataset=dataset, algo=pwsbase)"
   ],
   "metadata": {
    "collapsed": false,
    "ExecuteTime": {
     "start_time": "2023-04-23T20:16:20.109490Z",
     "end_time": "2023-04-23T20:16:21.512789Z"
    }
   }
  },
  {
   "cell_type": "code",
   "execution_count": 5,
   "outputs": [
    {
     "name": "stdout",
     "output_type": "stream",
     "text": [
      "\n",
      "******************* Start Evaluation *******************\n",
      "\n"
     ]
    },
    {
     "name": "stderr",
     "output_type": "stream",
     "text": [
      "  2%|▏         | 3/200 [00:39<41:37, 12.68s/it]/home/billxbf/anaconda3/lib/python3.9/site-packages/wikipedia/wikipedia.py:389: GuessedAtParserWarning: No parser was explicitly specified, so I'm using the best available HTML parser for this system (\"lxml\"). This usually isn't a problem, but if you run this code on another system, or in a different virtual environment, it may use a different parser and behave differently.\n",
      "\n",
      "The code that caused this warning is on line 389 of the file /home/billxbf/anaconda3/lib/python3.9/site-packages/wikipedia/wikipedia.py. To get rid of this warning, pass the additional argument 'features=\"lxml\"' to the BeautifulSoup constructor.\n",
      "\n",
      "  lis = BeautifulSoup(html).find_all('li')\n",
      " 11%|█         | 22/200 [05:19<44:01, 14.84s/it]  Retrying langchain.llms.openai.completion_with_retry.<locals>._completion_with_retry in 4.0 seconds as it raised APIError: Bad gateway. {\"error\":{\"code\":502,\"message\":\"Bad gateway.\",\"param\":null,\"type\":\"cf_bad_gateway\"}} 502 {'error': {'code': 502, 'message': 'Bad gateway.', 'param': None, 'type': 'cf_bad_gateway'}} {'Date': 'Mon, 24 Apr 2023 00:27:26 GMT', 'Content-Type': 'application/json', 'Content-Length': '84', 'Connection': 'keep-alive', 'X-Frame-Options': 'SAMEORIGIN', 'Referrer-Policy': 'same-origin', 'Cache-Control': 'private, max-age=0, no-store, no-cache, must-revalidate, post-check=0, pre-check=0', 'Expires': 'Thu, 01 Jan 1970 00:00:01 GMT', 'Server': 'cloudflare', 'CF-RAY': '7bca30486e2f8c39-EWR'}.\n",
      "100%|██████████| 200/200 [57:06<00:00, 17.13s/it]  \n"
     ]
    },
    {
     "data": {
      "text/plain": "{'avg_em': 0.295,\n 'avg_f1': 0.4010214496240711,\n 'avg_acc': 0.435,\n 'avg_wall_time': 12.874436107873917,\n 'avg_total_tokens': 1586.195,\n 'avg_total_cost': 0.011135319999999999,\n 'avg_steps': 4.445,\n 'avg_token_cost': 0.011135319999999999,\n 'avg_tool_cost': 0.0}"
     },
     "execution_count": 5,
     "metadata": {},
     "output_type": "execute_result"
    }
   ],
   "source": [
    "response, data = eval.run()\n",
    "df = save_data(dataset, data, \"results/hotpot_qa_pwsbase_chat.csv\")\n",
    "response"
   ],
   "metadata": {
    "collapsed": false,
    "ExecuteTime": {
     "start_time": "2023-04-23T20:16:23.899135Z",
     "end_time": "2023-04-23T21:13:30.119850Z"
    }
   }
  },
  {
   "cell_type": "code",
   "execution_count": 6,
   "outputs": [
    {
     "data": {
      "text/plain": "                                            question  \\\n0  Noble is a 2014 film written and directed by S...   \n1  Who was the English clergyman and Archbishop o...   \n2  Which fictional character in the Harry Potter ...   \n3  What Classification is the album by UK band Se...   \n4  What actor from The Imitation Game also starre...   \n\n                     answer  \\\n0  The Cripple of Inishmaan   \n1            Henry Beaufort   \n2             Rubeus Hagrid   \n3                  Trip hop   \n4               Mark Strong   \n\n                                               preds     em        f1  acc  \\\n0  Helen McCormick in the West End and Broadway p...  False  0.125000    0   \n1  There is no evidence that Otto von Ziegenhain ...  False  0.102564    0   \n2                                     Rubeus Hagrid.   True  1.000000    1   \n3  Unable to determine the classification of the ...  False  0.102564    0   \n4                              Benedict Cumberbatch.  False  0.000000    0   \n\n   wall_time  total_tokens  steps  tool_cost  token_cost  total_cost  \n0  11.602516          1144      5        0.0    0.004916    0.004916  \n1  13.858009          1257      5        0.0    0.004260    0.004260  \n2   9.113426          2342      4        0.0    0.020218    0.020218  \n3  14.438414          1185      4        0.0    0.005106    0.005106  \n4   7.714972           937      3        0.0    0.004034    0.004034  ",
      "text/html": "<div>\n<style scoped>\n    .dataframe tbody tr th:only-of-type {\n        vertical-align: middle;\n    }\n\n    .dataframe tbody tr th {\n        vertical-align: top;\n    }\n\n    .dataframe thead th {\n        text-align: right;\n    }\n</style>\n<table border=\"1\" class=\"dataframe\">\n  <thead>\n    <tr style=\"text-align: right;\">\n      <th></th>\n      <th>question</th>\n      <th>answer</th>\n      <th>preds</th>\n      <th>em</th>\n      <th>f1</th>\n      <th>acc</th>\n      <th>wall_time</th>\n      <th>total_tokens</th>\n      <th>steps</th>\n      <th>tool_cost</th>\n      <th>token_cost</th>\n      <th>total_cost</th>\n    </tr>\n  </thead>\n  <tbody>\n    <tr>\n      <th>0</th>\n      <td>Noble is a 2014 film written and directed by S...</td>\n      <td>The Cripple of Inishmaan</td>\n      <td>Helen McCormick in the West End and Broadway p...</td>\n      <td>False</td>\n      <td>0.125000</td>\n      <td>0</td>\n      <td>11.602516</td>\n      <td>1144</td>\n      <td>5</td>\n      <td>0.0</td>\n      <td>0.004916</td>\n      <td>0.004916</td>\n    </tr>\n    <tr>\n      <th>1</th>\n      <td>Who was the English clergyman and Archbishop o...</td>\n      <td>Henry Beaufort</td>\n      <td>There is no evidence that Otto von Ziegenhain ...</td>\n      <td>False</td>\n      <td>0.102564</td>\n      <td>0</td>\n      <td>13.858009</td>\n      <td>1257</td>\n      <td>5</td>\n      <td>0.0</td>\n      <td>0.004260</td>\n      <td>0.004260</td>\n    </tr>\n    <tr>\n      <th>2</th>\n      <td>Which fictional character in the Harry Potter ...</td>\n      <td>Rubeus Hagrid</td>\n      <td>Rubeus Hagrid.</td>\n      <td>True</td>\n      <td>1.000000</td>\n      <td>1</td>\n      <td>9.113426</td>\n      <td>2342</td>\n      <td>4</td>\n      <td>0.0</td>\n      <td>0.020218</td>\n      <td>0.020218</td>\n    </tr>\n    <tr>\n      <th>3</th>\n      <td>What Classification is the album by UK band Se...</td>\n      <td>Trip hop</td>\n      <td>Unable to determine the classification of the ...</td>\n      <td>False</td>\n      <td>0.102564</td>\n      <td>0</td>\n      <td>14.438414</td>\n      <td>1185</td>\n      <td>4</td>\n      <td>0.0</td>\n      <td>0.005106</td>\n      <td>0.005106</td>\n    </tr>\n    <tr>\n      <th>4</th>\n      <td>What actor from The Imitation Game also starre...</td>\n      <td>Mark Strong</td>\n      <td>Benedict Cumberbatch.</td>\n      <td>False</td>\n      <td>0.000000</td>\n      <td>0</td>\n      <td>7.714972</td>\n      <td>937</td>\n      <td>3</td>\n      <td>0.0</td>\n      <td>0.004034</td>\n      <td>0.004034</td>\n    </tr>\n  </tbody>\n</table>\n</div>"
     },
     "execution_count": 6,
     "metadata": {},
     "output_type": "execute_result"
    }
   ],
   "source": [
    "df.head()"
   ],
   "metadata": {
    "collapsed": false,
    "ExecuteTime": {
     "start_time": "2023-04-23T21:15:30.311184Z",
     "end_time": "2023-04-23T21:15:30.313868Z"
    }
   }
  },
  {
   "cell_type": "markdown",
   "source": [
    "## PWSExtra"
   ],
   "metadata": {
    "collapsed": false
   }
  },
  {
   "cell_type": "code",
   "execution_count": 4,
   "outputs": [
    {
     "name": "stderr",
     "output_type": "stream",
     "text": [
      "Found cached dataset hotpot_qa (/home/billxbf/workspace/PWS/data/hotpot_qa/hotpot_qa/fullwiki/1.0.0/133b9501f892e5193babbad937bee3b4899deb4691ef4d791e6ac0111c875bb5)\n"
     ]
    },
    {
     "data": {
      "text/plain": "  0%|          | 0/3 [00:00<?, ?it/s]",
      "application/vnd.jupyter.widget-view+json": {
       "version_major": 2,
       "version_minor": 0,
       "model_id": "e4201b5ee2824722857e665dc568e561"
      }
     },
     "metadata": {},
     "output_type": "display_data"
    }
   ],
   "source": [
    "dataset = DataLoader(\"hotpot_qa\", seed=2024).load(10)\n",
    "pwsextra = PWS_Extra(fewshot=fewshots.HOTPOTQA_PWS_EXTRA, planner_model=\"gpt-3.5-turbo\", solver_model=\"gpt-3.5-turbo\")\n",
    "eval = Evaluator(task=\"hotpot_qa\", dataset=dataset, algo=pwsextra)"
   ],
   "metadata": {
    "collapsed": false,
    "ExecuteTime": {
     "start_time": "2023-04-24T00:16:55.739689Z",
     "end_time": "2023-04-24T00:16:57.216060Z"
    }
   }
  },
  {
   "cell_type": "code",
   "execution_count": 5,
   "outputs": [
    {
     "name": "stdout",
     "output_type": "stream",
     "text": [
      "\n",
      "******************* Start Evaluation *******************\n",
      "\n"
     ]
    },
    {
     "name": "stderr",
     "output_type": "stream",
     "text": [
      "100%|██████████| 10/10 [02:34<00:00, 15.45s/it]\n"
     ]
    },
    {
     "data": {
      "text/plain": "{'avg_em': 0.0,\n 'avg_f1': 0.06666666666666667,\n 'avg_acc': 0.1,\n 'avg_wall_time': 13.793950587511063,\n 'avg_total_tokens': 973.75,\n 'avg_total_cost': 0.012277,\n 'avg_steps': 4.0,\n 'avg_token_cost': 0.003527,\n 'avg_tool_cost': 0.008749999999999999}"
     },
     "execution_count": 5,
     "metadata": {},
     "output_type": "execute_result"
    }
   ],
   "source": [
    "response, data = eval.run()\n",
    "df = save_data(dataset, data, \"results/hotpot_qa_pwsextra_chat.csv\")\n",
    "response"
   ],
   "metadata": {
    "collapsed": false,
    "ExecuteTime": {
     "start_time": "2023-04-24T00:17:05.977895Z",
     "end_time": "2023-04-24T00:19:40.559622Z"
    }
   }
  },
  {
   "cell_type": "code",
   "execution_count": 6,
   "outputs": [
    {
     "data": {
      "text/plain": "                                            question  \\\n0  Noble is a 2014 film written and directed by S...   \n1  Who was the English clergyman and Archbishop o...   \n2  Which fictional character in the Harry Potter ...   \n3  What Classification is the album by UK band Se...   \n4  What actor from The Imitation Game also starre...   \n5  This 2006 Iowa Hawkeyes football coach played ...   \n6  Ikivo Animator integrates with a software appl...   \n7  What American actress born in 1912 did the vio...   \n8  Which plant has more species, Teucrium or Atal...   \n9  When was the British-American journalist and e...   \n\n                     answer  \\\n0  The Cripple of Inishmaan   \n1            Henry Beaufort   \n2             Rubeus Hagrid   \n3                  Trip hop   \n4               Mark Strong   \n5              Kirk Ferentz   \n6             Adobe Systems   \n7             Marta Eggerth   \n8                  Teucrium   \n9           3 November 1949   \n\n                                               preds     em        f1  acc  \\\n0                                   Helen McCormick.  False  0.000000    0   \n1                                                nan  False  0.000000    0   \n2                                            Hagrid.  False  0.666667    1   \n3  The album Classification by UK band Seccond Pe...  False  0.000000    0   \n4                              Benedict Cumberbatch.  False  0.000000    0   \n5                                             False.  False  0.000000    0   \n6                                             Ikivo.  False  0.000000    0   \n7                                 Katharine Hepburn.  False  0.000000    0   \n8                                                nan  False  0.000000    0   \n9  The British-American journalist and editor was...  False  0.000000    0   \n\n   wall_time  total_tokens  steps  tool_cost  token_cost  total_cost  \n0  10.750393        1079.0    4.0       0.01    0.004048    0.014048  \n1        NaN           NaN    NaN        NaN         NaN         NaN  \n2  11.317540         893.0    4.0       0.00    0.003136    0.003136  \n3  17.508473        1046.0    4.0       0.01    0.003928    0.013928  \n4  13.698198         977.0    4.0       0.01    0.003412    0.013412  \n5  24.061866        1123.0    4.0       0.01    0.005432    0.015432  \n6   8.823584         858.0    4.0       0.02    0.002832    0.022832  \n7  11.060501         932.0    4.0       0.00    0.002854    0.002854  \n8        NaN           NaN    NaN        NaN         NaN         NaN  \n9  13.131051         882.0    4.0       0.01    0.002574    0.012574  ",
      "text/html": "<div>\n<style scoped>\n    .dataframe tbody tr th:only-of-type {\n        vertical-align: middle;\n    }\n\n    .dataframe tbody tr th {\n        vertical-align: top;\n    }\n\n    .dataframe thead th {\n        text-align: right;\n    }\n</style>\n<table border=\"1\" class=\"dataframe\">\n  <thead>\n    <tr style=\"text-align: right;\">\n      <th></th>\n      <th>question</th>\n      <th>answer</th>\n      <th>preds</th>\n      <th>em</th>\n      <th>f1</th>\n      <th>acc</th>\n      <th>wall_time</th>\n      <th>total_tokens</th>\n      <th>steps</th>\n      <th>tool_cost</th>\n      <th>token_cost</th>\n      <th>total_cost</th>\n    </tr>\n  </thead>\n  <tbody>\n    <tr>\n      <th>0</th>\n      <td>Noble is a 2014 film written and directed by S...</td>\n      <td>The Cripple of Inishmaan</td>\n      <td>Helen McCormick.</td>\n      <td>False</td>\n      <td>0.000000</td>\n      <td>0</td>\n      <td>10.750393</td>\n      <td>1079.0</td>\n      <td>4.0</td>\n      <td>0.01</td>\n      <td>0.004048</td>\n      <td>0.014048</td>\n    </tr>\n    <tr>\n      <th>1</th>\n      <td>Who was the English clergyman and Archbishop o...</td>\n      <td>Henry Beaufort</td>\n      <td>nan</td>\n      <td>False</td>\n      <td>0.000000</td>\n      <td>0</td>\n      <td>NaN</td>\n      <td>NaN</td>\n      <td>NaN</td>\n      <td>NaN</td>\n      <td>NaN</td>\n      <td>NaN</td>\n    </tr>\n    <tr>\n      <th>2</th>\n      <td>Which fictional character in the Harry Potter ...</td>\n      <td>Rubeus Hagrid</td>\n      <td>Hagrid.</td>\n      <td>False</td>\n      <td>0.666667</td>\n      <td>1</td>\n      <td>11.317540</td>\n      <td>893.0</td>\n      <td>4.0</td>\n      <td>0.00</td>\n      <td>0.003136</td>\n      <td>0.003136</td>\n    </tr>\n    <tr>\n      <th>3</th>\n      <td>What Classification is the album by UK band Se...</td>\n      <td>Trip hop</td>\n      <td>The album Classification by UK band Seccond Pe...</td>\n      <td>False</td>\n      <td>0.000000</td>\n      <td>0</td>\n      <td>17.508473</td>\n      <td>1046.0</td>\n      <td>4.0</td>\n      <td>0.01</td>\n      <td>0.003928</td>\n      <td>0.013928</td>\n    </tr>\n    <tr>\n      <th>4</th>\n      <td>What actor from The Imitation Game also starre...</td>\n      <td>Mark Strong</td>\n      <td>Benedict Cumberbatch.</td>\n      <td>False</td>\n      <td>0.000000</td>\n      <td>0</td>\n      <td>13.698198</td>\n      <td>977.0</td>\n      <td>4.0</td>\n      <td>0.01</td>\n      <td>0.003412</td>\n      <td>0.013412</td>\n    </tr>\n    <tr>\n      <th>5</th>\n      <td>This 2006 Iowa Hawkeyes football coach played ...</td>\n      <td>Kirk Ferentz</td>\n      <td>False.</td>\n      <td>False</td>\n      <td>0.000000</td>\n      <td>0</td>\n      <td>24.061866</td>\n      <td>1123.0</td>\n      <td>4.0</td>\n      <td>0.01</td>\n      <td>0.005432</td>\n      <td>0.015432</td>\n    </tr>\n    <tr>\n      <th>6</th>\n      <td>Ikivo Animator integrates with a software appl...</td>\n      <td>Adobe Systems</td>\n      <td>Ikivo.</td>\n      <td>False</td>\n      <td>0.000000</td>\n      <td>0</td>\n      <td>8.823584</td>\n      <td>858.0</td>\n      <td>4.0</td>\n      <td>0.02</td>\n      <td>0.002832</td>\n      <td>0.022832</td>\n    </tr>\n    <tr>\n      <th>7</th>\n      <td>What American actress born in 1912 did the vio...</td>\n      <td>Marta Eggerth</td>\n      <td>Katharine Hepburn.</td>\n      <td>False</td>\n      <td>0.000000</td>\n      <td>0</td>\n      <td>11.060501</td>\n      <td>932.0</td>\n      <td>4.0</td>\n      <td>0.00</td>\n      <td>0.002854</td>\n      <td>0.002854</td>\n    </tr>\n    <tr>\n      <th>8</th>\n      <td>Which plant has more species, Teucrium or Atal...</td>\n      <td>Teucrium</td>\n      <td>nan</td>\n      <td>False</td>\n      <td>0.000000</td>\n      <td>0</td>\n      <td>NaN</td>\n      <td>NaN</td>\n      <td>NaN</td>\n      <td>NaN</td>\n      <td>NaN</td>\n      <td>NaN</td>\n    </tr>\n    <tr>\n      <th>9</th>\n      <td>When was the British-American journalist and e...</td>\n      <td>3 November 1949</td>\n      <td>The British-American journalist and editor was...</td>\n      <td>False</td>\n      <td>0.000000</td>\n      <td>0</td>\n      <td>13.131051</td>\n      <td>882.0</td>\n      <td>4.0</td>\n      <td>0.01</td>\n      <td>0.002574</td>\n      <td>0.012574</td>\n    </tr>\n  </tbody>\n</table>\n</div>"
     },
     "execution_count": 6,
     "metadata": {},
     "output_type": "execute_result"
    }
   ],
   "source": [
    "df.head(10)"
   ],
   "metadata": {
    "collapsed": false,
    "ExecuteTime": {
     "start_time": "2023-04-24T00:20:24.852167Z",
     "end_time": "2023-04-24T00:20:24.902896Z"
    }
   }
  },
  {
   "cell_type": "code",
   "execution_count": null,
   "outputs": [],
   "source": [],
   "metadata": {
    "collapsed": false
   }
  }
 ],
 "metadata": {
  "kernelspec": {
   "display_name": "Python 3",
   "language": "python",
   "name": "python3"
  },
  "language_info": {
   "codemirror_mode": {
    "name": "ipython",
    "version": 2
   },
   "file_extension": ".py",
   "mimetype": "text/x-python",
   "name": "python",
   "nbconvert_exporter": "python",
   "pygments_lexer": "ipython2",
   "version": "2.7.6"
  }
 },
 "nbformat": 4,
 "nbformat_minor": 0
}
