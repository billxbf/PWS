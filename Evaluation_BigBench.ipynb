{
 "cells": [
  {
   "cell_type": "markdown",
   "source": [
    "# Evaluation of BigBench"
   ],
   "metadata": {
    "collapsed": false
   }
  },
  {
   "cell_type": "code",
   "execution_count": 2,
   "outputs": [],
   "source": [
    "import os\n",
    "with open(\"/home/billxbf/Documents/myks/openai.key\", \"r\") as f:\n",
    "    keys = f.readlines()\n",
    "    os.environ[\"OPENAI_API_KEY\"] = keys[0].strip()\n",
    "with open(\"/home/billxbf/Documents/myks/serpapi.key\", \"r\") as f:\n",
    "    keys = f.readlines()\n",
    "    os.environ[\"SERPAPI_API_KEY\"] = keys[0].strip()"
   ],
   "metadata": {
    "collapsed": false,
    "ExecuteTime": {
     "start_time": "2023-04-28T20:29:09.603862Z",
     "end_time": "2023-04-28T20:29:09.606162Z"
    }
   }
  },
  {
   "cell_type": "code",
   "execution_count": 3,
   "outputs": [],
   "source": [
    "from utils.DataLoader import DataLoader\n",
    "from utils.Evaluator import Evaluator\n",
    "from algos.PWS import *\n",
    "from algos.react import ReactBase\n",
    "from algos.notool import IO, CoT\n",
    "from prompts import fewshots"
   ],
   "metadata": {
    "collapsed": false,
    "ExecuteTime": {
     "start_time": "2023-04-28T20:29:09.789655Z",
     "end_time": "2023-04-28T20:29:10.449627Z"
    }
   }
  },
  {
   "cell_type": "code",
   "execution_count": 4,
   "outputs": [],
   "source": [
    "def save_data(dataset, data, save_path):\n",
    "    dataset[\"label\"] = data[\"label\"]\n",
    "    dataset[\"preds\"] = data[\"preds\"]\n",
    "    dataset[\"em\"]  = data[\"em\"]\n",
    "    dataset[\"f1\"] = data[\"f1\"]\n",
    "    dataset[\"acc\"] = data[\"acc\"]\n",
    "    dataset[\"wall_time\"] = data[\"wall_time\"]\n",
    "    dataset[\"total_tokens\"] = data[\"total_tokens\"]\n",
    "    dataset[\"steps\"] = data[\"steps\"]\n",
    "    dataset[\"tool_cost\"] = data[\"tool_cost\"]\n",
    "    dataset[\"token_cost\"] = data[\"token_cost\"]\n",
    "    dataset[\"total_cost\"] = data[\"total_cost\"]\n",
    "    dataset.to_csv(save_path, index=False)\n",
    "    return dataset"
   ],
   "metadata": {
    "collapsed": false,
    "ExecuteTime": {
     "start_time": "2023-04-28T20:29:10.450842Z",
     "end_time": "2023-04-28T20:29:10.451705Z"
    }
   }
  },
  {
   "cell_type": "code",
   "execution_count": 5,
   "outputs": [],
   "source": [
    "EVAL_LLM = \"gpt-3.5-turbo\"\n",
    "EVAL_DATASET = \"gsm8k\"\n",
    "SEED = 2024"
   ],
   "metadata": {
    "collapsed": false,
    "ExecuteTime": {
     "start_time": "2023-04-28T20:29:10.981185Z",
     "end_time": "2023-04-28T20:29:10.988433Z"
    }
   }
  },
  {
   "cell_type": "markdown",
   "source": [
    "## Standard IO"
   ],
   "metadata": {
    "collapsed": false
   }
  },
  {
   "cell_type": "code",
   "execution_count": 8,
   "outputs": [
    {
     "name": "stderr",
     "output_type": "stream",
     "text": [
      "Found cached dataset gsm8k (/home/billxbf/workspace/PWS/data/gsm8k/gsm8k/main/1.1.0/37bfb08b1d4fcbb01f06b03d9e1ef5f1fcbd4d3af3d08842c50d7305091285ba)\n"
     ]
    },
    {
     "data": {
      "text/plain": "  0%|          | 0/2 [00:00<?, ?it/s]",
      "application/vnd.jupyter.widget-view+json": {
       "version_major": 2,
       "version_minor": 0,
       "model_id": "642e595568e14fbdb44de4ec54f0fa41"
      }
     },
     "metadata": {},
     "output_type": "display_data"
    }
   ],
   "source": [
    "dataset = DataLoader(EVAL_DATASET, seed=SEED).load(500)\n",
    "io = IO(model_name=EVAL_LLM)\n",
    "eval = Evaluator(task=EVAL_DATASET, dataset=dataset, algo=io)"
   ],
   "metadata": {
    "collapsed": false,
    "ExecuteTime": {
     "start_time": "2023-04-27T22:18:37.984710Z",
     "end_time": "2023-04-27T22:18:38.390607Z"
    }
   }
  },
  {
   "cell_type": "code",
   "execution_count": 9,
   "outputs": [
    {
     "name": "stdout",
     "output_type": "stream",
     "text": [
      "\n",
      "******************* Start Evaluation *******************\n",
      "\n"
     ]
    },
    {
     "name": "stderr",
     "output_type": "stream",
     "text": [
      "100%|██████████| 500/500 [34:40<00:00,  4.16s/it]\n"
     ]
    },
    {
     "data": {
      "text/plain": "{'avg_em': 0.046,\n 'avg_f1': 0.14472137064256022,\n 'avg_acc': 0.268,\n 'avg_wall_time': 2.2963828892707823,\n 'avg_total_tokens': 101.136,\n 'avg_total_cost': 0.000202272,\n 'avg_steps': 1.0,\n 'avg_token_cost': 0.000202272,\n 'avg_tool_cost': 0.0}"
     },
     "execution_count": 9,
     "metadata": {},
     "output_type": "execute_result"
    }
   ],
   "source": [
    "response, data = eval.run()\n",
    "df = save_data(dataset, data, \"results/gsm8k_io_chat.csv\")\n",
    "response"
   ],
   "metadata": {
    "collapsed": false,
    "ExecuteTime": {
     "start_time": "2023-04-27T22:18:41.548336Z",
     "end_time": "2023-04-27T22:53:22.015221Z"
    }
   }
  },
  {
   "cell_type": "code",
   "execution_count": 10,
   "outputs": [
    {
     "data": {
      "text/plain": "                                            question  \\\n0  Gary manages two Amazon distribution centers. ...   \n1  The square footage of the two bedrooms in the ...   \n2  Thomas, Toby, and Rebecca worked a total of 15...   \n3  Two-thirds of the class have brown eyes. Half ...   \n4  Jackie spends 8 hours working, 3 hours of exer...   \n\n                                              answer  label  \\\n0  First find how many packages the second center...  14000   \n1  Let M be the number of square feet in Matha's ...    120   \n2  Toby: 2x-10\\nRebecca: (2x-10)-8=2x-18\\nTotal:2...     56   \n3  There are 6 * 2 = <<6*2=12>>12 students with b...     18   \n4  Jackie spends a total of 8 + 8 + 3 = <<8+8+3=1...      5   \n\n                                               preds     em        f1  acc  \\\n0  The second center processes 30000 packages per...  False  0.040816    0   \n1               Martha's bedroom is 120 square feet.  False  0.285714    1   \n2  What is the value of x? \\n\\nWe don't know. \\n\\...  False  0.000000    0   \n3                    There are 18 students in total.  False  0.285714    1   \n4                                           5 hours.  False  0.666667    1   \n\n   wall_time  total_tokens  steps  tool_cost  token_cost  total_cost  \n0   6.025388           155      1          0    0.000310    0.000310  \n1   1.436168            76      1          0    0.000152    0.000152  \n2   4.695388           130      1          0    0.000260    0.000260  \n3   0.658440            71      1          0    0.000142    0.000142  \n4   0.821176            53      1          0    0.000106    0.000106  ",
      "text/html": "<div>\n<style scoped>\n    .dataframe tbody tr th:only-of-type {\n        vertical-align: middle;\n    }\n\n    .dataframe tbody tr th {\n        vertical-align: top;\n    }\n\n    .dataframe thead th {\n        text-align: right;\n    }\n</style>\n<table border=\"1\" class=\"dataframe\">\n  <thead>\n    <tr style=\"text-align: right;\">\n      <th></th>\n      <th>question</th>\n      <th>answer</th>\n      <th>label</th>\n      <th>preds</th>\n      <th>em</th>\n      <th>f1</th>\n      <th>acc</th>\n      <th>wall_time</th>\n      <th>total_tokens</th>\n      <th>steps</th>\n      <th>tool_cost</th>\n      <th>token_cost</th>\n      <th>total_cost</th>\n    </tr>\n  </thead>\n  <tbody>\n    <tr>\n      <th>0</th>\n      <td>Gary manages two Amazon distribution centers. ...</td>\n      <td>First find how many packages the second center...</td>\n      <td>14000</td>\n      <td>The second center processes 30000 packages per...</td>\n      <td>False</td>\n      <td>0.040816</td>\n      <td>0</td>\n      <td>6.025388</td>\n      <td>155</td>\n      <td>1</td>\n      <td>0</td>\n      <td>0.000310</td>\n      <td>0.000310</td>\n    </tr>\n    <tr>\n      <th>1</th>\n      <td>The square footage of the two bedrooms in the ...</td>\n      <td>Let M be the number of square feet in Matha's ...</td>\n      <td>120</td>\n      <td>Martha's bedroom is 120 square feet.</td>\n      <td>False</td>\n      <td>0.285714</td>\n      <td>1</td>\n      <td>1.436168</td>\n      <td>76</td>\n      <td>1</td>\n      <td>0</td>\n      <td>0.000152</td>\n      <td>0.000152</td>\n    </tr>\n    <tr>\n      <th>2</th>\n      <td>Thomas, Toby, and Rebecca worked a total of 15...</td>\n      <td>Toby: 2x-10\\nRebecca: (2x-10)-8=2x-18\\nTotal:2...</td>\n      <td>56</td>\n      <td>What is the value of x? \\n\\nWe don't know. \\n\\...</td>\n      <td>False</td>\n      <td>0.000000</td>\n      <td>0</td>\n      <td>4.695388</td>\n      <td>130</td>\n      <td>1</td>\n      <td>0</td>\n      <td>0.000260</td>\n      <td>0.000260</td>\n    </tr>\n    <tr>\n      <th>3</th>\n      <td>Two-thirds of the class have brown eyes. Half ...</td>\n      <td>There are 6 * 2 = &lt;&lt;6*2=12&gt;&gt;12 students with b...</td>\n      <td>18</td>\n      <td>There are 18 students in total.</td>\n      <td>False</td>\n      <td>0.285714</td>\n      <td>1</td>\n      <td>0.658440</td>\n      <td>71</td>\n      <td>1</td>\n      <td>0</td>\n      <td>0.000142</td>\n      <td>0.000142</td>\n    </tr>\n    <tr>\n      <th>4</th>\n      <td>Jackie spends 8 hours working, 3 hours of exer...</td>\n      <td>Jackie spends a total of 8 + 8 + 3 = &lt;&lt;8+8+3=1...</td>\n      <td>5</td>\n      <td>5 hours.</td>\n      <td>False</td>\n      <td>0.666667</td>\n      <td>1</td>\n      <td>0.821176</td>\n      <td>53</td>\n      <td>1</td>\n      <td>0</td>\n      <td>0.000106</td>\n      <td>0.000106</td>\n    </tr>\n  </tbody>\n</table>\n</div>"
     },
     "execution_count": 10,
     "metadata": {},
     "output_type": "execute_result"
    }
   ],
   "source": [
    "df.head()"
   ],
   "metadata": {
    "collapsed": false,
    "ExecuteTime": {
     "start_time": "2023-04-27T22:53:22.019001Z",
     "end_time": "2023-04-27T22:53:22.020469Z"
    }
   }
  },
  {
   "cell_type": "markdown",
   "source": [
    "## CoT"
   ],
   "metadata": {
    "collapsed": false
   }
  },
  {
   "cell_type": "code",
   "execution_count": null,
   "outputs": [],
   "source": [],
   "metadata": {
    "collapsed": false
   }
  },
  {
   "cell_type": "code",
   "execution_count": 8,
   "outputs": [
    {
     "name": "stderr",
     "output_type": "stream",
     "text": [
      "Found cached dataset gsm8k (/home/billxbf/workspace/PWS/data/gsm8k/gsm8k/main/1.1.0/37bfb08b1d4fcbb01f06b03d9e1ef5f1fcbd4d3af3d08842c50d7305091285ba)\n"
     ]
    },
    {
     "data": {
      "text/plain": "  0%|          | 0/2 [00:00<?, ?it/s]",
      "application/vnd.jupyter.widget-view+json": {
       "version_major": 2,
       "version_minor": 0,
       "model_id": "0a3fdd386a9e40fa924e048a9fb535ed"
      }
     },
     "metadata": {},
     "output_type": "display_data"
    }
   ],
   "source": [
    "dataset = DataLoader(EVAL_DATASET, seed=SEED).load(500)\n",
    "cot = CoT(fewshot=fewshots.GSM8K_COT, model_name=EVAL_LLM)\n",
    "eval = Evaluator(task=EVAL_DATASET, dataset=dataset, algo=cot)"
   ],
   "metadata": {
    "collapsed": false,
    "ExecuteTime": {
     "start_time": "2023-04-28T02:07:08.330330Z",
     "end_time": "2023-04-28T02:07:08.765744Z"
    }
   }
  },
  {
   "cell_type": "code",
   "execution_count": null,
   "outputs": [
    {
     "name": "stdout",
     "output_type": "stream",
     "text": [
      "\n",
      "******************* Start Evaluation *******************\n",
      "\n"
     ]
    },
    {
     "name": "stderr",
     "output_type": "stream",
     "text": [
      " 61%|██████    | 306/500 [58:25<45:11, 13.98s/it]  "
     ]
    }
   ],
   "source": [
    "response, data = eval.run()\n",
    "df = save_data(dataset, data, \"results/gsm8k_cot_chat.csv\")\n",
    "response"
   ],
   "metadata": {
    "collapsed": false,
    "ExecuteTime": {
     "start_time": "2023-04-28T01:57:29.638338Z",
     "end_time": "2023-04-28T01:57:50.579463Z"
    },
    "pycharm": {
     "is_executing": true
    }
   }
  },
  {
   "cell_type": "code",
   "execution_count": null,
   "outputs": [],
   "source": [
    "df.head()"
   ],
   "metadata": {
    "collapsed": false,
    "ExecuteTime": {
     "start_time": "2023-04-28T01:57:50.579410Z",
     "end_time": "2023-04-28T01:57:50.579586Z"
    },
    "pycharm": {
     "is_executing": true
    }
   }
  },
  {
   "cell_type": "markdown",
   "source": [
    "                                                                                                                                                                                                                                                                                                                                                                                                                                                                                                                                                                                                                                                                                                                                                                                                                                                                                                                                                                                                                                                                                                                                                                                                                                                                                                                                                                                                                                                                                                                                                                                                                                                                                                                                                                 ## REACT"
   ],
   "metadata": {
    "collapsed": false
   }
  },
  {
   "cell_type": "code",
   "execution_count": 4,
   "outputs": [
    {
     "name": "stderr",
     "output_type": "stream",
     "text": [
      "Found cached dataset hotpot_qa (/home/billxbf/workspace/PWS/data/hotpot_qa/hotpot_qa/fullwiki/1.0.0/133b9501f892e5193babbad937bee3b4899deb4691ef4d791e6ac0111c875bb5)\n"
     ]
    },
    {
     "data": {
      "text/plain": "  0%|          | 0/3 [00:00<?, ?it/s]",
      "application/vnd.jupyter.widget-view+json": {
       "version_major": 2,
       "version_minor": 0,
       "model_id": "834895e4f56244ca983abf7441cce665"
      }
     },
     "metadata": {},
     "output_type": "display_data"
    }
   ],
   "source": [
    "dataset = DataLoader(\"hotpot_qa\", seed=2024).load(200)\n",
    "react = ReactBase(fewshot=fewshots.HOTPOTQA_REACT, model_name=\"gpt-3.5-turbo\", max_iter=8, verbose=False)\n",
    "eval = Evaluator(task=\"hotpot_qa\", dataset=dataset, algo=react)"
   ],
   "metadata": {
    "collapsed": false,
    "ExecuteTime": {
     "start_time": "2023-04-23T22:24:00.583271Z",
     "end_time": "2023-04-23T22:24:02.020682Z"
    }
   }
  },
  {
   "cell_type": "code",
   "execution_count": 5,
   "outputs": [
    {
     "name": "stdout",
     "output_type": "stream",
     "text": [
      "\n",
      "******************* Start Evaluation *******************\n",
      "\n"
     ]
    },
    {
     "name": "stderr",
     "output_type": "stream",
     "text": [
      "  2%|▏         | 3/200 [00:41<48:23, 14.74s/it]/home/billxbf/anaconda3/lib/python3.9/site-packages/wikipedia/wikipedia.py:389: GuessedAtParserWarning: No parser was explicitly specified, so I'm using the best available HTML parser for this system (\"lxml\"). This usually isn't a problem, but if you run this code on another system, or in a different virtual environment, it may use a different parser and behave differently.\n",
      "\n",
      "The code that caused this warning is on line 389 of the file /home/billxbf/anaconda3/lib/python3.9/site-packages/wikipedia/wikipedia.py. To get rid of this warning, pass the additional argument 'features=\"lxml\"' to the BeautifulSoup constructor.\n",
      "\n",
      "  lis = BeautifulSoup(html).find_all('li')\n",
      "Retrying langchain.chat_models.openai.ChatOpenAI.completion_with_retry.<locals>._completion_with_retry in 4.0 seconds as it raised RateLimitError: That model is currently overloaded with other requests. You can retry your request, or contact us through our help center at help.openai.com if the error persists. (Please include the request ID 17d8481022fdf86023bc85f6eed2aa9d in your message.).\n",
      "  2%|▎         | 5/200 [02:26<1:57:14, 36.07s/it]Retrying langchain.chat_models.openai.ChatOpenAI.completion_with_retry.<locals>._completion_with_retry in 4.0 seconds as it raised RateLimitError: That model is currently overloaded with other requests. You can retry your request, or contact us through our help center at help.openai.com if the error persists. (Please include the request ID 68cd1aa87987ff2b7a3ca1847e9b7c52 in your message.).\n",
      "  4%|▍         | 8/200 [04:37<1:59:21, 37.30s/it]Retrying langchain.chat_models.openai.ChatOpenAI.completion_with_retry.<locals>._completion_with_retry in 4.0 seconds as it raised RateLimitError: That model is currently overloaded with other requests. You can retry your request, or contact us through our help center at help.openai.com if the error persists. (Please include the request ID f611c9a2d40082f6d60b24692ca328c7 in your message.).\n",
      "  9%|▉         | 18/200 [08:59<1:14:16, 24.49s/it]Retrying langchain.chat_models.openai.ChatOpenAI.completion_with_retry.<locals>._completion_with_retry in 4.0 seconds as it raised RateLimitError: That model is currently overloaded with other requests. You can retry your request, or contact us through our help center at help.openai.com if the error persists. (Please include the request ID 82485bed9617d59ff6a921732a507fed in your message.).\n",
      "Retrying langchain.chat_models.openai.ChatOpenAI.completion_with_retry.<locals>._completion_with_retry in 4.0 seconds as it raised RateLimitError: The server had an error while processing your request. Sorry about that!.\n",
      " 18%|█▊        | 36/200 [19:39<1:52:52, 41.30s/it]Retrying langchain.chat_models.openai.ChatOpenAI.completion_with_retry.<locals>._completion_with_retry in 4.0 seconds as it raised RateLimitError: That model is currently overloaded with other requests. You can retry your request, or contact us through our help center at help.openai.com if the error persists. (Please include the request ID cbba26f7ab2465f27ba0e2ea4e978012 in your message.).\n",
      " 42%|████▎     | 85/200 [40:36<46:20, 24.18s/it]  Retrying langchain.chat_models.openai.ChatOpenAI.completion_with_retry.<locals>._completion_with_retry in 4.0 seconds as it raised RateLimitError: The server had an error while processing your request. Sorry about that!.\n",
      " 75%|███████▌  | 150/200 [1:07:24<18:13, 21.86s/it]Retrying langchain.chat_models.openai.ChatOpenAI.completion_with_retry.<locals>._completion_with_retry in 4.0 seconds as it raised RateLimitError: The server had an error while processing your request. Sorry about that!.\n",
      " 76%|███████▌  | 151/200 [1:07:51<19:08, 23.44s/it]Retrying langchain.chat_models.openai.ChatOpenAI.completion_with_retry.<locals>._completion_with_retry in 4.0 seconds as it raised APIError: Bad gateway. {\"error\":{\"code\":502,\"message\":\"Bad gateway.\",\"param\":null,\"type\":\"cf_bad_gateway\"}} 502 {'error': {'code': 502, 'message': 'Bad gateway.', 'param': None, 'type': 'cf_bad_gateway'}} {'Date': 'Mon, 24 Apr 2023 03:32:26 GMT', 'Content-Type': 'application/json', 'Content-Length': '84', 'Connection': 'keep-alive', 'X-Frame-Options': 'SAMEORIGIN', 'Referrer-Policy': 'same-origin', 'Cache-Control': 'private, max-age=0, no-store, no-cache, must-revalidate, post-check=0, pre-check=0', 'Expires': 'Thu, 01 Jan 1970 00:00:01 GMT', 'Server': 'cloudflare', 'CF-RAY': '7bcb475159af32f4-EWR'}.\n",
      " 90%|█████████ | 181/200 [1:25:25<13:45, 43.43s/it]Retrying langchain.chat_models.openai.ChatOpenAI.completion_with_retry.<locals>._completion_with_retry in 4.0 seconds as it raised RateLimitError: The server had an error while processing your request. Sorry about that!.\n",
      "100%|██████████| 200/200 [1:35:27<00:00, 28.64s/it]\n"
     ]
    },
    {
     "data": {
      "text/plain": "{'avg_em': 0.32,\n 'avg_f1': 0.39618506493506495,\n 'avg_acc': 0.385,\n 'avg_wall_time': 23.950300869616594,\n 'avg_total_tokens': 9795.136363636364,\n 'avg_total_cost': 0.01959027272727273,\n 'avg_steps': 4.971590909090909,\n 'avg_token_cost': 0.01959027272727273,\n 'avg_tool_cost': 0.0}"
     },
     "execution_count": 5,
     "metadata": {},
     "output_type": "execute_result"
    }
   ],
   "source": [
    "response, data = eval.run()\n",
    "df = save_data(dataset, data, \"results/hotpot_qa_react_chat.csv\")\n",
    "response"
   ],
   "metadata": {
    "collapsed": false,
    "ExecuteTime": {
     "start_time": "2023-04-23T22:24:03.900671Z",
     "end_time": "2023-04-23T23:59:31.908188Z"
    }
   }
  },
  {
   "cell_type": "code",
   "execution_count": 9,
   "outputs": [
    {
     "data": {
      "text/plain": "                                            question  \\\n0  In what city and state was the vocalist for  E...   \n1  What was the birth date of the director of \"Th...   \n2  What is the name of the cognac house that make...   \n3  The Wisconsin Badgers football team has had a ...   \n4  Which film director is older, Jan Troell or Ag...   \n5  Foshan Lingnan Mingzhu Gymnasium, where Boxing...   \n6  In between Parenting and Cook's Illustrated wh...   \n7  In the year 2016, how many passengers used the...   \n8  What was the nationality of Robert Kardashian'...   \n9  In what Ohio city does the highway which the n...   \n\n                     answer  \\\n0  Redwood City, California   \n1    December 28, 1888March   \n2        Jas Hennessy & Co.   \n3            The Iron Horse   \n4               Agnès Varda   \n5                      2006   \n6                 Parenting   \n7             11.04 million   \n8                  American   \n9                Cincinnati   \n\n                                               preds     em        f1  acc  \\\n0                                                nan  False  0.000000    0   \n1                                                nan  False  0.000000    0   \n2                                           Hennessy  False  0.500000    1   \n3                        the Iron Horse or the Horse  False  0.666667    0   \n4                                         Jan Troell  False  0.000000    0   \n5                                               2006   True  1.000000    1   \n6                                          Parenting   True  1.000000    1   \n7  Agent stopped due to iteration limit or time l...  False  0.000000    0   \n8  Agent stopped due to iteration limit or time l...  False  0.000000    0   \n9  Agent stopped due to iteration limit or time l...  False  0.000000    0   \n\n   wall_time  total_tokens  steps  tool_cost  token_cost  total_cost  \n0        NaN           NaN    NaN        NaN         NaN         NaN  \n1        NaN           NaN    NaN        NaN         NaN         NaN  \n2   8.891754        5092.0    3.0        0.0    0.010184    0.010184  \n3  12.183595        7105.0    4.0        0.0    0.014210    0.014210  \n4   9.318587        5263.0    3.0        0.0    0.010526    0.010526  \n5   7.464730        3284.0    2.0        0.0    0.006568    0.006568  \n6  10.895709        7210.0    4.0        0.0    0.014420    0.014420  \n7  33.010987       21835.0    9.0        0.0    0.043670    0.043670  \n8  21.680504       14876.0    9.0        0.0    0.029752    0.029752  \n9  30.278475       17950.0    9.0        0.0    0.035900    0.035900  ",
      "text/html": "<div>\n<style scoped>\n    .dataframe tbody tr th:only-of-type {\n        vertical-align: middle;\n    }\n\n    .dataframe tbody tr th {\n        vertical-align: top;\n    }\n\n    .dataframe thead th {\n        text-align: right;\n    }\n</style>\n<table border=\"1\" class=\"dataframe\">\n  <thead>\n    <tr style=\"text-align: right;\">\n      <th></th>\n      <th>question</th>\n      <th>answer</th>\n      <th>preds</th>\n      <th>em</th>\n      <th>f1</th>\n      <th>acc</th>\n      <th>wall_time</th>\n      <th>total_tokens</th>\n      <th>steps</th>\n      <th>tool_cost</th>\n      <th>token_cost</th>\n      <th>total_cost</th>\n    </tr>\n  </thead>\n  <tbody>\n    <tr>\n      <th>0</th>\n      <td>In what city and state was the vocalist for  E...</td>\n      <td>Redwood City, California</td>\n      <td>nan</td>\n      <td>False</td>\n      <td>0.000000</td>\n      <td>0</td>\n      <td>NaN</td>\n      <td>NaN</td>\n      <td>NaN</td>\n      <td>NaN</td>\n      <td>NaN</td>\n      <td>NaN</td>\n    </tr>\n    <tr>\n      <th>1</th>\n      <td>What was the birth date of the director of \"Th...</td>\n      <td>December 28, 1888March</td>\n      <td>nan</td>\n      <td>False</td>\n      <td>0.000000</td>\n      <td>0</td>\n      <td>NaN</td>\n      <td>NaN</td>\n      <td>NaN</td>\n      <td>NaN</td>\n      <td>NaN</td>\n      <td>NaN</td>\n    </tr>\n    <tr>\n      <th>2</th>\n      <td>What is the name of the cognac house that make...</td>\n      <td>Jas Hennessy &amp; Co.</td>\n      <td>Hennessy</td>\n      <td>False</td>\n      <td>0.500000</td>\n      <td>1</td>\n      <td>8.891754</td>\n      <td>5092.0</td>\n      <td>3.0</td>\n      <td>0.0</td>\n      <td>0.010184</td>\n      <td>0.010184</td>\n    </tr>\n    <tr>\n      <th>3</th>\n      <td>The Wisconsin Badgers football team has had a ...</td>\n      <td>The Iron Horse</td>\n      <td>the Iron Horse or the Horse</td>\n      <td>False</td>\n      <td>0.666667</td>\n      <td>0</td>\n      <td>12.183595</td>\n      <td>7105.0</td>\n      <td>4.0</td>\n      <td>0.0</td>\n      <td>0.014210</td>\n      <td>0.014210</td>\n    </tr>\n    <tr>\n      <th>4</th>\n      <td>Which film director is older, Jan Troell or Ag...</td>\n      <td>Agnès Varda</td>\n      <td>Jan Troell</td>\n      <td>False</td>\n      <td>0.000000</td>\n      <td>0</td>\n      <td>9.318587</td>\n      <td>5263.0</td>\n      <td>3.0</td>\n      <td>0.0</td>\n      <td>0.010526</td>\n      <td>0.010526</td>\n    </tr>\n    <tr>\n      <th>5</th>\n      <td>Foshan Lingnan Mingzhu Gymnasium, where Boxing...</td>\n      <td>2006</td>\n      <td>2006</td>\n      <td>True</td>\n      <td>1.000000</td>\n      <td>1</td>\n      <td>7.464730</td>\n      <td>3284.0</td>\n      <td>2.0</td>\n      <td>0.0</td>\n      <td>0.006568</td>\n      <td>0.006568</td>\n    </tr>\n    <tr>\n      <th>6</th>\n      <td>In between Parenting and Cook's Illustrated wh...</td>\n      <td>Parenting</td>\n      <td>Parenting</td>\n      <td>True</td>\n      <td>1.000000</td>\n      <td>1</td>\n      <td>10.895709</td>\n      <td>7210.0</td>\n      <td>4.0</td>\n      <td>0.0</td>\n      <td>0.014420</td>\n      <td>0.014420</td>\n    </tr>\n    <tr>\n      <th>7</th>\n      <td>In the year 2016, how many passengers used the...</td>\n      <td>11.04 million</td>\n      <td>Agent stopped due to iteration limit or time l...</td>\n      <td>False</td>\n      <td>0.000000</td>\n      <td>0</td>\n      <td>33.010987</td>\n      <td>21835.0</td>\n      <td>9.0</td>\n      <td>0.0</td>\n      <td>0.043670</td>\n      <td>0.043670</td>\n    </tr>\n    <tr>\n      <th>8</th>\n      <td>What was the nationality of Robert Kardashian'...</td>\n      <td>American</td>\n      <td>Agent stopped due to iteration limit or time l...</td>\n      <td>False</td>\n      <td>0.000000</td>\n      <td>0</td>\n      <td>21.680504</td>\n      <td>14876.0</td>\n      <td>9.0</td>\n      <td>0.0</td>\n      <td>0.029752</td>\n      <td>0.029752</td>\n    </tr>\n    <tr>\n      <th>9</th>\n      <td>In what Ohio city does the highway which the n...</td>\n      <td>Cincinnati</td>\n      <td>Agent stopped due to iteration limit or time l...</td>\n      <td>False</td>\n      <td>0.000000</td>\n      <td>0</td>\n      <td>30.278475</td>\n      <td>17950.0</td>\n      <td>9.0</td>\n      <td>0.0</td>\n      <td>0.035900</td>\n      <td>0.035900</td>\n    </tr>\n  </tbody>\n</table>\n</div>"
     },
     "execution_count": 9,
     "metadata": {},
     "output_type": "execute_result"
    }
   ],
   "source": [
    "df.head(10)"
   ],
   "metadata": {
    "collapsed": false,
    "ExecuteTime": {
     "start_time": "2023-04-23T19:13:33.905387Z",
     "end_time": "2023-04-23T19:13:33.910506Z"
    }
   }
  },
  {
   "cell_type": "markdown",
   "source": [
    "## PWSBase"
   ],
   "metadata": {
    "collapsed": false
   }
  },
  {
   "cell_type": "code",
   "execution_count": 15,
   "outputs": [
    {
     "name": "stderr",
     "output_type": "stream",
     "text": [
      "Found cached dataset trivia_qa (/home/billxbf/workspace/PWS/data/trivia_qa/trivia_qa/rc.nocontext/1.2.0/e73c5e47a8704744fa9ded33504b35a6c098661813d1c2a09892eb9b9e9d59ae)\n"
     ]
    },
    {
     "data": {
      "text/plain": "  0%|          | 0/3 [00:00<?, ?it/s]",
      "application/vnd.jupyter.widget-view+json": {
       "version_major": 2,
       "version_minor": 0,
       "model_id": "4de3cfed06194f31835a4be5ad385ba4"
      }
     },
     "metadata": {},
     "output_type": "display_data"
    }
   ],
   "source": [
    "dataset = DataLoader(EVAL_DATASET, seed=SEED).load(200)\n",
    "pwsbase = PWS_Base(fewshot=fewshots.HOTPOTQA_PWS_BASE, planner_model=EVAL_LLM, solver_model=EVAL_LLM)\n",
    "eval = Evaluator(task=EVAL_DATASET, dataset=dataset, algo=pwsbase)"
   ],
   "metadata": {
    "collapsed": false,
    "ExecuteTime": {
     "start_time": "2023-04-27T07:35:44.008560Z",
     "end_time": "2023-04-27T07:35:45.112451Z"
    }
   }
  },
  {
   "cell_type": "code",
   "execution_count": 16,
   "outputs": [
    {
     "name": "stdout",
     "output_type": "stream",
     "text": [
      "\n",
      "******************* Start Evaluation *******************\n",
      "\n"
     ]
    },
    {
     "name": "stderr",
     "output_type": "stream",
     "text": [
      "  2%|▏         | 4/200 [01:59<1:26:46, 26.57s/it]/home/billxbf/anaconda3/lib/python3.9/site-packages/wikipedia/wikipedia.py:389: GuessedAtParserWarning: No parser was explicitly specified, so I'm using the best available HTML parser for this system (\"lxml\"). This usually isn't a problem, but if you run this code on another system, or in a different virtual environment, it may use a different parser and behave differently.\n",
      "\n",
      "The code that caused this warning is on line 389 of the file /home/billxbf/anaconda3/lib/python3.9/site-packages/wikipedia/wikipedia.py. To get rid of this warning, pass the additional argument 'features=\"lxml\"' to the BeautifulSoup constructor.\n",
      "\n",
      "  lis = BeautifulSoup(html).find_all('li')\n",
      "100%|██████████| 200/200 [1:26:11<00:00, 25.86s/it]   \n"
     ]
    },
    {
     "data": {
      "text/plain": "{'avg_em': 0.55,\n 'avg_f1': 0.6333119970396185,\n 'avg_acc': 0.735,\n 'avg_wall_time': 18.554993919651917,\n 'avg_total_tokens': 1387.1919191919192,\n 'avg_total_cost': 0.009328020202020204,\n 'avg_steps': 3.6666666666666665,\n 'avg_token_cost': 0.009328020202020204,\n 'avg_tool_cost': 0.0}"
     },
     "execution_count": 16,
     "metadata": {},
     "output_type": "execute_result"
    }
   ],
   "source": [
    "response, data = eval.run()\n",
    "df = save_data(dataset, data, \"results/trivia_qa_pwsbase_chat.csv\")\n",
    "response"
   ],
   "metadata": {
    "collapsed": false,
    "ExecuteTime": {
     "start_time": "2023-04-27T07:36:09.716787Z",
     "end_time": "2023-04-27T09:02:20.851824Z"
    }
   }
  },
  {
   "cell_type": "code",
   "execution_count": 13,
   "outputs": [
    {
     "data": {
      "text/plain": "                                            question  \\\n0  Noble is a 2014 film written and directed by S...   \n1  Who was the English clergyman and Archbishop o...   \n2  Which fictional character in the Harry Potter ...   \n3  What Classification is the album by UK band Se...   \n4  What actor from The Imitation Game also starre...   \n\n                     answer                                          preds  \\\n0  The Cripple of Inishmaan                    Normal People (miniseries).   \n1            Henry Beaufort  Otto von Ziegenhain led the Battle of Tachov.   \n2             Rubeus Hagrid                                 Rubeus Hagrid.   \n3                  Trip hop                                       Britpop.   \n4               Mark Strong                           Benedict Cumberbatch   \n\n      em   f1  acc  wall_time  total_tokens  steps  tool_cost  token_cost  \\\n0  False  0.0    0   7.235505          1206      4        0.0     0.02412   \n1  False  0.0    0   9.427552          1235      5        0.0     0.02470   \n2   True  1.0    1   5.455595          1460      3        0.0     0.02920   \n3  False  0.0    0   6.557354          1226      4        0.0     0.02452   \n4  False  0.0    0  16.167417          2319      6        0.0     0.04638   \n\n   total_cost  \n0     0.02412  \n1     0.02470  \n2     0.02920  \n3     0.02452  \n4     0.04638  ",
      "text/html": "<div>\n<style scoped>\n    .dataframe tbody tr th:only-of-type {\n        vertical-align: middle;\n    }\n\n    .dataframe tbody tr th {\n        vertical-align: top;\n    }\n\n    .dataframe thead th {\n        text-align: right;\n    }\n</style>\n<table border=\"1\" class=\"dataframe\">\n  <thead>\n    <tr style=\"text-align: right;\">\n      <th></th>\n      <th>question</th>\n      <th>answer</th>\n      <th>preds</th>\n      <th>em</th>\n      <th>f1</th>\n      <th>acc</th>\n      <th>wall_time</th>\n      <th>total_tokens</th>\n      <th>steps</th>\n      <th>tool_cost</th>\n      <th>token_cost</th>\n      <th>total_cost</th>\n    </tr>\n  </thead>\n  <tbody>\n    <tr>\n      <th>0</th>\n      <td>Noble is a 2014 film written and directed by S...</td>\n      <td>The Cripple of Inishmaan</td>\n      <td>Normal People (miniseries).</td>\n      <td>False</td>\n      <td>0.0</td>\n      <td>0</td>\n      <td>7.235505</td>\n      <td>1206</td>\n      <td>4</td>\n      <td>0.0</td>\n      <td>0.02412</td>\n      <td>0.02412</td>\n    </tr>\n    <tr>\n      <th>1</th>\n      <td>Who was the English clergyman and Archbishop o...</td>\n      <td>Henry Beaufort</td>\n      <td>Otto von Ziegenhain led the Battle of Tachov.</td>\n      <td>False</td>\n      <td>0.0</td>\n      <td>0</td>\n      <td>9.427552</td>\n      <td>1235</td>\n      <td>5</td>\n      <td>0.0</td>\n      <td>0.02470</td>\n      <td>0.02470</td>\n    </tr>\n    <tr>\n      <th>2</th>\n      <td>Which fictional character in the Harry Potter ...</td>\n      <td>Rubeus Hagrid</td>\n      <td>Rubeus Hagrid.</td>\n      <td>True</td>\n      <td>1.0</td>\n      <td>1</td>\n      <td>5.455595</td>\n      <td>1460</td>\n      <td>3</td>\n      <td>0.0</td>\n      <td>0.02920</td>\n      <td>0.02920</td>\n    </tr>\n    <tr>\n      <th>3</th>\n      <td>What Classification is the album by UK band Se...</td>\n      <td>Trip hop</td>\n      <td>Britpop.</td>\n      <td>False</td>\n      <td>0.0</td>\n      <td>0</td>\n      <td>6.557354</td>\n      <td>1226</td>\n      <td>4</td>\n      <td>0.0</td>\n      <td>0.02452</td>\n      <td>0.02452</td>\n    </tr>\n    <tr>\n      <th>4</th>\n      <td>What actor from The Imitation Game also starre...</td>\n      <td>Mark Strong</td>\n      <td>Benedict Cumberbatch</td>\n      <td>False</td>\n      <td>0.0</td>\n      <td>0</td>\n      <td>16.167417</td>\n      <td>2319</td>\n      <td>6</td>\n      <td>0.0</td>\n      <td>0.04638</td>\n      <td>0.04638</td>\n    </tr>\n  </tbody>\n</table>\n</div>"
     },
     "execution_count": 12,
     "metadata": {},
     "output_type": "execute_result"
    },
    {
     "data": {
      "text/plain": "                                            question  \\\n0  Noble is a 2014 film written and directed by S...   \n1  Who was the English clergyman and Archbishop o...   \n2  Which fictional character in the Harry Potter ...   \n3  What Classification is the album by UK band Se...   \n4  What actor from The Imitation Game also starre...   \n5  This 2006 Iowa Hawkeyes football coach played ...   \n6  Ikivo Animator integrates with a software appl...   \n7  What American actress born in 1912 did the vio...   \n8  Which plant has more species, Teucrium or Atal...   \n9  When was the British-American journalist and e...   \n\n                     answer  \\\n0  The Cripple of Inishmaan   \n1            Henry Beaufort   \n2             Rubeus Hagrid   \n3                  Trip hop   \n4               Mark Strong   \n5              Kirk Ferentz   \n6             Adobe Systems   \n7             Marta Eggerth   \n8                  Teucrium   \n9           3 November 1949   \n\n                                               preds     em        f1  acc  \\\n0                        Normal People (miniseries).  False  0.000000    0   \n1      Otto von Ziegenhain led the Battle of Tachov.  False  0.000000    0   \n2                                     Rubeus Hagrid.   True  1.000000    1   \n3                                           Britpop.  False  0.000000    0   \n4                               Benedict Cumberbatch  False  0.000000    0   \n5  Yes, Kirk Ferentz played linebacker for the Un...  False  0.307692    1   \n6                                        Hypermedia.  False  0.000000    0   \n7                                     Mary Pickford.  False  0.000000    0   \n8                         Teucrium has more species.  False  0.400000    1   \n9                                           Unknown.  False  0.000000    0   \n\n   wall_time  total_tokens  steps  tool_cost  token_cost  total_cost  \n0   7.235505          1206      4        0.0     0.02412     0.02412  \n1   9.427552          1235      5        0.0     0.02470     0.02470  \n2   5.455595          1460      3        0.0     0.02920     0.02920  \n3   6.557354          1226      4        0.0     0.02452     0.02452  \n4  16.167417          2319      6        0.0     0.04638     0.04638  \n5   9.570546          1998      5        0.0     0.03996     0.03996  \n6   4.108220           723      3        0.0     0.01446     0.01446  \n7  11.671225          2403      5        0.0     0.04806     0.04806  \n8   6.937577          1497      4        0.0     0.02994     0.02994  \n9   8.877709          1484      5        0.0     0.02968     0.02968  ",
      "text/html": "<div>\n<style scoped>\n    .dataframe tbody tr th:only-of-type {\n        vertical-align: middle;\n    }\n\n    .dataframe tbody tr th {\n        vertical-align: top;\n    }\n\n    .dataframe thead th {\n        text-align: right;\n    }\n</style>\n<table border=\"1\" class=\"dataframe\">\n  <thead>\n    <tr style=\"text-align: right;\">\n      <th></th>\n      <th>question</th>\n      <th>answer</th>\n      <th>preds</th>\n      <th>em</th>\n      <th>f1</th>\n      <th>acc</th>\n      <th>wall_time</th>\n      <th>total_tokens</th>\n      <th>steps</th>\n      <th>tool_cost</th>\n      <th>token_cost</th>\n      <th>total_cost</th>\n    </tr>\n  </thead>\n  <tbody>\n    <tr>\n      <th>0</th>\n      <td>Noble is a 2014 film written and directed by S...</td>\n      <td>The Cripple of Inishmaan</td>\n      <td>Normal People (miniseries).</td>\n      <td>False</td>\n      <td>0.000000</td>\n      <td>0</td>\n      <td>7.235505</td>\n      <td>1206</td>\n      <td>4</td>\n      <td>0.0</td>\n      <td>0.02412</td>\n      <td>0.02412</td>\n    </tr>\n    <tr>\n      <th>1</th>\n      <td>Who was the English clergyman and Archbishop o...</td>\n      <td>Henry Beaufort</td>\n      <td>Otto von Ziegenhain led the Battle of Tachov.</td>\n      <td>False</td>\n      <td>0.000000</td>\n      <td>0</td>\n      <td>9.427552</td>\n      <td>1235</td>\n      <td>5</td>\n      <td>0.0</td>\n      <td>0.02470</td>\n      <td>0.02470</td>\n    </tr>\n    <tr>\n      <th>2</th>\n      <td>Which fictional character in the Harry Potter ...</td>\n      <td>Rubeus Hagrid</td>\n      <td>Rubeus Hagrid.</td>\n      <td>True</td>\n      <td>1.000000</td>\n      <td>1</td>\n      <td>5.455595</td>\n      <td>1460</td>\n      <td>3</td>\n      <td>0.0</td>\n      <td>0.02920</td>\n      <td>0.02920</td>\n    </tr>\n    <tr>\n      <th>3</th>\n      <td>What Classification is the album by UK band Se...</td>\n      <td>Trip hop</td>\n      <td>Britpop.</td>\n      <td>False</td>\n      <td>0.000000</td>\n      <td>0</td>\n      <td>6.557354</td>\n      <td>1226</td>\n      <td>4</td>\n      <td>0.0</td>\n      <td>0.02452</td>\n      <td>0.02452</td>\n    </tr>\n    <tr>\n      <th>4</th>\n      <td>What actor from The Imitation Game also starre...</td>\n      <td>Mark Strong</td>\n      <td>Benedict Cumberbatch</td>\n      <td>False</td>\n      <td>0.000000</td>\n      <td>0</td>\n      <td>16.167417</td>\n      <td>2319</td>\n      <td>6</td>\n      <td>0.0</td>\n      <td>0.04638</td>\n      <td>0.04638</td>\n    </tr>\n    <tr>\n      <th>5</th>\n      <td>This 2006 Iowa Hawkeyes football coach played ...</td>\n      <td>Kirk Ferentz</td>\n      <td>Yes, Kirk Ferentz played linebacker for the Un...</td>\n      <td>False</td>\n      <td>0.307692</td>\n      <td>1</td>\n      <td>9.570546</td>\n      <td>1998</td>\n      <td>5</td>\n      <td>0.0</td>\n      <td>0.03996</td>\n      <td>0.03996</td>\n    </tr>\n    <tr>\n      <th>6</th>\n      <td>Ikivo Animator integrates with a software appl...</td>\n      <td>Adobe Systems</td>\n      <td>Hypermedia.</td>\n      <td>False</td>\n      <td>0.000000</td>\n      <td>0</td>\n      <td>4.108220</td>\n      <td>723</td>\n      <td>3</td>\n      <td>0.0</td>\n      <td>0.01446</td>\n      <td>0.01446</td>\n    </tr>\n    <tr>\n      <th>7</th>\n      <td>What American actress born in 1912 did the vio...</td>\n      <td>Marta Eggerth</td>\n      <td>Mary Pickford.</td>\n      <td>False</td>\n      <td>0.000000</td>\n      <td>0</td>\n      <td>11.671225</td>\n      <td>2403</td>\n      <td>5</td>\n      <td>0.0</td>\n      <td>0.04806</td>\n      <td>0.04806</td>\n    </tr>\n    <tr>\n      <th>8</th>\n      <td>Which plant has more species, Teucrium or Atal...</td>\n      <td>Teucrium</td>\n      <td>Teucrium has more species.</td>\n      <td>False</td>\n      <td>0.400000</td>\n      <td>1</td>\n      <td>6.937577</td>\n      <td>1497</td>\n      <td>4</td>\n      <td>0.0</td>\n      <td>0.02994</td>\n      <td>0.02994</td>\n    </tr>\n    <tr>\n      <th>9</th>\n      <td>When was the British-American journalist and e...</td>\n      <td>3 November 1949</td>\n      <td>Unknown.</td>\n      <td>False</td>\n      <td>0.000000</td>\n      <td>0</td>\n      <td>8.877709</td>\n      <td>1484</td>\n      <td>5</td>\n      <td>0.0</td>\n      <td>0.02968</td>\n      <td>0.02968</td>\n    </tr>\n  </tbody>\n</table>\n</div>"
     },
     "execution_count": 13,
     "metadata": {},
     "output_type": "execute_result"
    }
   ],
   "source": [
    "df.head(10)"
   ],
   "metadata": {
    "collapsed": false,
    "ExecuteTime": {
     "start_time": "2023-04-24T19:48:14.455989Z",
     "end_time": "2023-04-24T19:48:14.487495Z"
    }
   }
  },
  {
   "cell_type": "code",
   "execution_count": null,
   "outputs": [],
   "source": [],
   "metadata": {
    "collapsed": false
   }
  }
 ],
 "metadata": {
  "kernelspec": {
   "display_name": "Python 3",
   "language": "python",
   "name": "python3"
  },
  "language_info": {
   "codemirror_mode": {
    "name": "ipython",
    "version": 2
   },
   "file_extension": ".py",
   "mimetype": "text/x-python",
   "name": "python",
   "nbconvert_exporter": "python",
   "pygments_lexer": "ipython2",
   "version": "2.7.6"
  }
 },
 "nbformat": 4,
 "nbformat_minor": 0
}
