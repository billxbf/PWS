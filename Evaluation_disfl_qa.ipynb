{
 "cells": [
  {
   "cell_type": "code",
   "execution_count": 2,
   "outputs": [],
   "source": [
    "import os\n",
    "\n",
    "import pandas as pd\n",
    "\n",
    "with open(\"/home/billxbf/Documents/myks/openai.key\", \"r\") as f:\n",
    "    keys = f.readlines()\n",
    "    os.environ[\"OPENAI_API_KEY\"] = keys[0].strip()\n",
    "with open(\"/home/billxbf/Documents/myks/serpapi.key\", \"r\") as f:\n",
    "    keys = f.readlines()\n",
    "    os.environ[\"SERPAPI_API_KEY\"] = keys[0].strip()\n",
    "with open(\"/home/billxbf/Documents/myks/wolfram.key\", \"r\") as f:\n",
    "    keys = f.readlines()\n",
    "    os.environ[\"WOLFRAM_ALPHA_APPID\"] = keys[0].strip()"
   ],
   "metadata": {
    "collapsed": false,
    "ExecuteTime": {
     "start_time": "2023-04-30T13:00:14.261971Z",
     "end_time": "2023-04-30T13:00:14.265215Z"
    }
   }
  },
  {
   "cell_type": "code",
   "execution_count": 3,
   "outputs": [],
   "source": [
    "from utils.DataLoader import DataLoader\n",
    "from utils.Evaluator import Evaluator\n",
    "from algos.PWS import *\n",
    "from algos.react import ReactBase, ReactExtraTool\n",
    "from algos.notool import IO, CoT\n",
    "from prompts import fewshots, solver, planner"
   ],
   "metadata": {
    "collapsed": false,
    "ExecuteTime": {
     "start_time": "2023-04-30T13:00:14.462346Z",
     "end_time": "2023-04-30T13:00:15.031603Z"
    }
   }
  },
  {
   "cell_type": "code",
   "execution_count": 4,
   "outputs": [],
   "source": [
    "def save_data(dataset, data, save_path):\n",
    "    dataset[\"label\"] = data[\"label\"]\n",
    "    dataset[\"preds\"] = data[\"preds\"]\n",
    "    dataset[\"em\"]  = data[\"em\"]\n",
    "    dataset[\"f1\"] = data[\"f1\"]\n",
    "    dataset[\"acc\"] = data[\"acc\"]\n",
    "    dataset[\"wall_time\"] = data[\"wall_time\"]\n",
    "    dataset[\"total_tokens\"] = data[\"total_tokens\"]\n",
    "    dataset[\"steps\"] = data[\"steps\"]\n",
    "    dataset[\"tool_cost\"] = data[\"tool_cost\"]\n",
    "    dataset[\"token_cost\"] = data[\"token_cost\"]\n",
    "    dataset[\"total_cost\"] = data[\"total_cost\"]\n",
    "    dataset.to_csv(save_path, index=False)\n",
    "    return dataset"
   ],
   "metadata": {
    "collapsed": false,
    "ExecuteTime": {
     "start_time": "2023-04-30T13:00:15.032656Z",
     "end_time": "2023-04-30T13:00:15.075400Z"
    }
   }
  },
  {
   "cell_type": "code",
   "execution_count": 5,
   "outputs": [],
   "source": [
    "EVAL_LLM = \"gpt-3.5-turbo\"\n",
    "EVAL_DATASET = \"disfl_qa\"\n",
    "SEED = 2024\n",
    "SAVE_DIR = \"results/disfl_qa_{}_{}.csv\""
   ],
   "metadata": {
    "collapsed": false,
    "ExecuteTime": {
     "start_time": "2023-04-30T13:00:15.075351Z",
     "end_time": "2023-04-30T13:00:15.075483Z"
    }
   }
  },
  {
   "cell_type": "markdown",
   "source": [
    "## Standard IO"
   ],
   "metadata": {
    "collapsed": false
   }
  },
  {
   "cell_type": "code",
   "execution_count": 6,
   "outputs": [],
   "source": [
    "dataset = DataLoader(EVAL_DATASET, seed=SEED).load(sample_size=150)\n",
    "io = IO(model_name=EVAL_LLM)\n",
    "eval = Evaluator(task=EVAL_DATASET, dataset=dataset, algo=io)"
   ],
   "metadata": {
    "collapsed": false,
    "ExecuteTime": {
     "start_time": "2023-04-30T02:14:34.812025Z",
     "end_time": "2023-04-30T02:14:34.862493Z"
    }
   }
  },
  {
   "cell_type": "code",
   "execution_count": 7,
   "outputs": [
    {
     "name": "stdout",
     "output_type": "stream",
     "text": [
      "\n",
      "******************* Start Evaluation *******************\n",
      "\n"
     ]
    },
    {
     "name": "stderr",
     "output_type": "stream",
     "text": [
      "100%|██████████| 150/150 [08:52<00:00,  3.55s/it]\n"
     ]
    },
    {
     "data": {
      "text/plain": "{'avg_em': 0.12666666666666668,\n 'avg_f1': 0.283701574048705,\n 'avg_acc': 0.4066666666666667,\n 'avg_wall_time': 1.5868335469563801,\n 'avg_total_tokens': 234.5,\n 'avg_total_cost': 0.00046899999999999996,\n 'avg_steps': 1.0,\n 'avg_token_cost': 0.00046899999999999996,\n 'avg_tool_cost': 0.0}"
     },
     "execution_count": 7,
     "metadata": {},
     "output_type": "execute_result"
    }
   ],
   "source": [
    "response, data = eval.run()\n",
    "df = save_data(dataset, data, SAVE_DIR.format(\"io\", EVAL_LLM))\n",
    "response"
   ],
   "metadata": {
    "collapsed": false,
    "ExecuteTime": {
     "start_time": "2023-04-27T22:18:41.548336Z",
     "end_time": "2023-04-27T22:53:22.015221Z"
    }
   }
  },
  {
   "cell_type": "code",
   "execution_count": 8,
   "outputs": [
    {
     "data": {
      "text/plain": "                                               input  \\\n0  By which year did Dodge ugh dammit Chrysler en...   \n1  What did France offer that was rare by imperia...   \n2  What did Iraq wait no actually Saudi Arabia tr...   \n3  In which county does Duval I mean Jacksonville...   \n4  What allows the adaptive immune system to reta...   \n\n                            target                            label  \\\n0                             1981                             1981   \n1  Christianity and French culture  Christianity and French culture   \n2               domestic Islamists               domestic Islamists   \n3                            Duval                            Duval   \n4             immunological memory             immunological memory   \n\n                                               preds     em        f1  acc  \\\n0  Chrysler ended production of their full-sized ...  False  0.133333    1   \n1  France offered the upliftment of other regions...  False  0.533333    0   \n2  Saudi Arabia tried to repress domestic Islamis...  False  0.333333    0   \n3                                      Duval County.  False  0.666667    1   \n4                              Immunological memory.   True  1.000000    1   \n\n   wall_time  total_tokens  steps  tool_cost  token_cost  total_cost  \n0   1.533049           214      1          0    0.000428    0.000428  \n1   1.009747           185      1          0    0.000370    0.000370  \n2   1.024090           216      1          0    0.000432    0.000432  \n3   0.869765           175      1          0    0.000350    0.000350  \n4   0.873788           212      1          0    0.000424    0.000424  ",
      "text/html": "<div>\n<style scoped>\n    .dataframe tbody tr th:only-of-type {\n        vertical-align: middle;\n    }\n\n    .dataframe tbody tr th {\n        vertical-align: top;\n    }\n\n    .dataframe thead th {\n        text-align: right;\n    }\n</style>\n<table border=\"1\" class=\"dataframe\">\n  <thead>\n    <tr style=\"text-align: right;\">\n      <th></th>\n      <th>input</th>\n      <th>target</th>\n      <th>label</th>\n      <th>preds</th>\n      <th>em</th>\n      <th>f1</th>\n      <th>acc</th>\n      <th>wall_time</th>\n      <th>total_tokens</th>\n      <th>steps</th>\n      <th>tool_cost</th>\n      <th>token_cost</th>\n      <th>total_cost</th>\n    </tr>\n  </thead>\n  <tbody>\n    <tr>\n      <th>0</th>\n      <td>By which year did Dodge ugh dammit Chrysler en...</td>\n      <td>1981</td>\n      <td>1981</td>\n      <td>Chrysler ended production of their full-sized ...</td>\n      <td>False</td>\n      <td>0.133333</td>\n      <td>1</td>\n      <td>1.533049</td>\n      <td>214</td>\n      <td>1</td>\n      <td>0</td>\n      <td>0.000428</td>\n      <td>0.000428</td>\n    </tr>\n    <tr>\n      <th>1</th>\n      <td>What did France offer that was rare by imperia...</td>\n      <td>Christianity and French culture</td>\n      <td>Christianity and French culture</td>\n      <td>France offered the upliftment of other regions...</td>\n      <td>False</td>\n      <td>0.533333</td>\n      <td>0</td>\n      <td>1.009747</td>\n      <td>185</td>\n      <td>1</td>\n      <td>0</td>\n      <td>0.000370</td>\n      <td>0.000370</td>\n    </tr>\n    <tr>\n      <th>2</th>\n      <td>What did Iraq wait no actually Saudi Arabia tr...</td>\n      <td>domestic Islamists</td>\n      <td>domestic Islamists</td>\n      <td>Saudi Arabia tried to repress domestic Islamis...</td>\n      <td>False</td>\n      <td>0.333333</td>\n      <td>0</td>\n      <td>1.024090</td>\n      <td>216</td>\n      <td>1</td>\n      <td>0</td>\n      <td>0.000432</td>\n      <td>0.000432</td>\n    </tr>\n    <tr>\n      <th>3</th>\n      <td>In which county does Duval I mean Jacksonville...</td>\n      <td>Duval</td>\n      <td>Duval</td>\n      <td>Duval County.</td>\n      <td>False</td>\n      <td>0.666667</td>\n      <td>1</td>\n      <td>0.869765</td>\n      <td>175</td>\n      <td>1</td>\n      <td>0</td>\n      <td>0.000350</td>\n      <td>0.000350</td>\n    </tr>\n    <tr>\n      <th>4</th>\n      <td>What allows the adaptive immune system to reta...</td>\n      <td>immunological memory</td>\n      <td>immunological memory</td>\n      <td>Immunological memory.</td>\n      <td>True</td>\n      <td>1.000000</td>\n      <td>1</td>\n      <td>0.873788</td>\n      <td>212</td>\n      <td>1</td>\n      <td>0</td>\n      <td>0.000424</td>\n      <td>0.000424</td>\n    </tr>\n  </tbody>\n</table>\n</div>"
     },
     "execution_count": 8,
     "metadata": {},
     "output_type": "execute_result"
    }
   ],
   "source": [
    "df.head()"
   ],
   "metadata": {
    "collapsed": false,
    "ExecuteTime": {
     "start_time": "2023-04-30T02:56:46.195317Z",
     "end_time": "2023-04-30T02:56:46.248864Z"
    }
   }
  },
  {
   "cell_type": "markdown",
   "source": [
    "## CoT"
   ],
   "metadata": {
    "collapsed": false
   }
  },
  {
   "cell_type": "code",
   "execution_count": 18,
   "outputs": [],
   "source": [
    "dataset = DataLoader(EVAL_DATASET, seed=SEED).load(150)\n",
    "cot = CoT(fewshot=fewshots.TRIVIAQA_COT, model_name=EVAL_LLM)\n",
    "eval = Evaluator(task=EVAL_DATASET, dataset=dataset, algo=cot)"
   ],
   "metadata": {
    "collapsed": false,
    "ExecuteTime": {
     "start_time": "2023-04-30T03:32:15.822234Z",
     "end_time": "2023-04-30T03:32:15.869832Z"
    }
   }
  },
  {
   "cell_type": "code",
   "execution_count": 12,
   "outputs": [
    {
     "name": "stdout",
     "output_type": "stream",
     "text": [
      "\n",
      "******************* Start Evaluation *******************\n",
      "\n"
     ]
    },
    {
     "name": "stderr",
     "output_type": "stream",
     "text": [
      "100%|██████████| 150/150 [11:53<00:00,  4.76s/it]\n"
     ]
    },
    {
     "data": {
      "text/plain": "{'avg_em': 0.06666666666666667,\n 'avg_f1': 0.21819442183956578,\n 'avg_acc': 0.38666666666666666,\n 'avg_wall_time': 2.8440882126490274,\n 'avg_total_tokens': 347.64,\n 'avg_total_cost': 0.0006952799999999999,\n 'avg_steps': 0.3333333333333333,\n 'avg_token_cost': 0.0006952799999999999,\n 'avg_tool_cost': 0.0}"
     },
     "execution_count": 12,
     "metadata": {},
     "output_type": "execute_result"
    }
   ],
   "source": [
    "response, data = eval.run()\n",
    "df = save_data(dataset, data, SAVE_DIR.format(\"cot\", EVAL_LLM))\n",
    "response"
   ],
   "metadata": {
    "collapsed": false,
    "ExecuteTime": {
     "start_time": "2023-04-30T03:05:13.490066Z",
     "end_time": "2023-04-30T03:17:07.120932Z"
    }
   }
  },
  {
   "cell_type": "code",
   "execution_count": 16,
   "outputs": [
    {
     "data": {
      "text/plain": "                                               input  \\\n0  By which year did Dodge ugh dammit Chrysler en...   \n1  What did France offer that was rare by imperia...   \n2  What did Iraq wait no actually Saudi Arabia tr...   \n3  In which county does Duval I mean Jacksonville...   \n4  What allows the adaptive immune system to reta...   \n\n                            target                            label  \\\n0                             1981                             1981   \n1  Christianity and French culture  Christianity and French culture   \n2               domestic Islamists               domestic Islamists   \n3                            Duval                            Duval   \n4             immunological memory             immunological memory   \n\n                                               preds     em        f1  acc  \\\n0                    The end of the 1981 model year.  False  0.333333    1   \n1  France offered full citizenship rights, or \"as...  False  0.145455    0   \n2  Saudi Arabia tried to repress domestic Islamis...  False  0.210526    0   \n3                                       Duval County  False  0.666667    1   \n4  The immunological memory allows the adaptive i...  False  0.166667    0   \n\n   wall_time  total_tokens  steps  tool_cost  token_cost  total_cost  \n0   1.295294           294      0          0    0.000588    0.000588  \n1   2.947282           327      0          0    0.000654    0.000654  \n2   1.635472           313      0          0    0.000626    0.000626  \n3   0.737179           264      0          0    0.000528    0.000528  \n4   1.836538           325      0          0    0.000650    0.000650  ",
      "text/html": "<div>\n<style scoped>\n    .dataframe tbody tr th:only-of-type {\n        vertical-align: middle;\n    }\n\n    .dataframe tbody tr th {\n        vertical-align: top;\n    }\n\n    .dataframe thead th {\n        text-align: right;\n    }\n</style>\n<table border=\"1\" class=\"dataframe\">\n  <thead>\n    <tr style=\"text-align: right;\">\n      <th></th>\n      <th>input</th>\n      <th>target</th>\n      <th>label</th>\n      <th>preds</th>\n      <th>em</th>\n      <th>f1</th>\n      <th>acc</th>\n      <th>wall_time</th>\n      <th>total_tokens</th>\n      <th>steps</th>\n      <th>tool_cost</th>\n      <th>token_cost</th>\n      <th>total_cost</th>\n    </tr>\n  </thead>\n  <tbody>\n    <tr>\n      <th>0</th>\n      <td>By which year did Dodge ugh dammit Chrysler en...</td>\n      <td>1981</td>\n      <td>1981</td>\n      <td>The end of the 1981 model year.</td>\n      <td>False</td>\n      <td>0.333333</td>\n      <td>1</td>\n      <td>1.295294</td>\n      <td>294</td>\n      <td>0</td>\n      <td>0</td>\n      <td>0.000588</td>\n      <td>0.000588</td>\n    </tr>\n    <tr>\n      <th>1</th>\n      <td>What did France offer that was rare by imperia...</td>\n      <td>Christianity and French culture</td>\n      <td>Christianity and French culture</td>\n      <td>France offered full citizenship rights, or \"as...</td>\n      <td>False</td>\n      <td>0.145455</td>\n      <td>0</td>\n      <td>2.947282</td>\n      <td>327</td>\n      <td>0</td>\n      <td>0</td>\n      <td>0.000654</td>\n      <td>0.000654</td>\n    </tr>\n    <tr>\n      <th>2</th>\n      <td>What did Iraq wait no actually Saudi Arabia tr...</td>\n      <td>domestic Islamists</td>\n      <td>domestic Islamists</td>\n      <td>Saudi Arabia tried to repress domestic Islamis...</td>\n      <td>False</td>\n      <td>0.210526</td>\n      <td>0</td>\n      <td>1.635472</td>\n      <td>313</td>\n      <td>0</td>\n      <td>0</td>\n      <td>0.000626</td>\n      <td>0.000626</td>\n    </tr>\n    <tr>\n      <th>3</th>\n      <td>In which county does Duval I mean Jacksonville...</td>\n      <td>Duval</td>\n      <td>Duval</td>\n      <td>Duval County</td>\n      <td>False</td>\n      <td>0.666667</td>\n      <td>1</td>\n      <td>0.737179</td>\n      <td>264</td>\n      <td>0</td>\n      <td>0</td>\n      <td>0.000528</td>\n      <td>0.000528</td>\n    </tr>\n    <tr>\n      <th>4</th>\n      <td>What allows the adaptive immune system to reta...</td>\n      <td>immunological memory</td>\n      <td>immunological memory</td>\n      <td>The immunological memory allows the adaptive i...</td>\n      <td>False</td>\n      <td>0.166667</td>\n      <td>0</td>\n      <td>1.836538</td>\n      <td>325</td>\n      <td>0</td>\n      <td>0</td>\n      <td>0.000650</td>\n      <td>0.000650</td>\n    </tr>\n  </tbody>\n</table>\n</div>"
     },
     "execution_count": 16,
     "metadata": {},
     "output_type": "execute_result"
    }
   ],
   "source": [
    "df.head()"
   ],
   "metadata": {
    "collapsed": false,
    "ExecuteTime": {
     "start_time": "2023-04-30T03:21:13.084973Z",
     "end_time": "2023-04-30T03:21:13.090269Z"
    }
   }
  },
  {
   "cell_type": "code",
   "execution_count": null,
   "outputs": [],
   "source": [],
   "metadata": {
    "collapsed": false
   }
  },
  {
   "cell_type": "markdown",
   "source": [
    "## REACT"
   ],
   "metadata": {
    "collapsed": false
   }
  },
  {
   "cell_type": "markdown",
   "source": [],
   "metadata": {
    "collapsed": false
   }
  },
  {
   "cell_type": "code",
   "execution_count": 31,
   "outputs": [
    {
     "name": "stderr",
     "output_type": "stream",
     "text": [
      "/home/billxbf/anaconda3/lib/python3.9/site-packages/langchain/llms/openai.py:170: UserWarning: You are trying to use a chat model. This way of initializing it is no longer supported. Instead, please use: `from langchain.chat_models import ChatOpenAI`\n",
      "  warnings.warn(\n",
      "/home/billxbf/anaconda3/lib/python3.9/site-packages/langchain/llms/openai.py:624: UserWarning: You are trying to use a chat model. This way of initializing it is no longer supported. Instead, please use: `from langchain.chat_models import ChatOpenAI`\n",
      "  warnings.warn(\n"
     ]
    }
   ],
   "source": [
    "dataset = DataLoader(EVAL_DATASET, seed=SEED).load(75)\n",
    "react = ReactExtraTool(model_name=\"text-davinci-003\", available_tools=[\"Google\", \"Wikipedia\", \"WolframAlpha\", \"Calculator\", \"LLM\"], fewshot=fewshots.DEFAULT_REACT, verbose=False)\n",
    "eval = Evaluator(task=EVAL_DATASET, dataset=dataset, algo=react)"
   ],
   "metadata": {
    "collapsed": false,
    "ExecuteTime": {
     "start_time": "2023-04-30T13:24:07.987942Z",
     "end_time": "2023-04-30T13:24:08.029387Z"
    }
   }
  },
  {
   "cell_type": "code",
   "execution_count": 32,
   "outputs": [
    {
     "name": "stdout",
     "output_type": "stream",
     "text": [
      "\n",
      "******************* Start Evaluation *******************\n",
      "\n"
     ]
    },
    {
     "name": "stderr",
     "output_type": "stream",
     "text": [
      "  0%|          | 0/75 [00:00<?, ?it/s]/home/billxbf/anaconda3/lib/python3.9/site-packages/langchain/llms/openai.py:170: UserWarning: You are trying to use a chat model. This way of initializing it is no longer supported. Instead, please use: `from langchain.chat_models import ChatOpenAI`\n",
      "  warnings.warn(\n",
      "/home/billxbf/anaconda3/lib/python3.9/site-packages/langchain/llms/openai.py:624: UserWarning: You are trying to use a chat model. This way of initializing it is no longer supported. Instead, please use: `from langchain.chat_models import ChatOpenAI`\n",
      "  warnings.warn(\n",
      "100%|██████████| 75/75 [28:00<00:00, 22.41s/it]\n"
     ]
    },
    {
     "data": {
      "text/plain": "{'avg_em': 0.05333333333333334,\n 'avg_f1': 0.1385626986739189,\n 'avg_acc': 0.18666666666666668,\n 'avg_wall_time': 16.147707431212716,\n 'avg_total_tokens': 4162.608695652174,\n 'avg_total_cost': 0.009105739130434783,\n 'avg_steps': 4.318840579710145,\n 'avg_token_cost': 0.009105739130434783,\n 'avg_tool_cost': 0.0}"
     },
     "execution_count": 32,
     "metadata": {},
     "output_type": "execute_result"
    }
   ],
   "source": [
    "response, data = eval.run()\n",
    "df = save_data(dataset, data, SAVE_DIR.format(\"react\", EVAL_LLM))\n",
    "response"
   ],
   "metadata": {
    "collapsed": false,
    "ExecuteTime": {
     "start_time": "2023-04-30T13:24:08.240983Z",
     "end_time": "2023-04-30T13:52:08.686120Z"
    }
   }
  },
  {
   "cell_type": "code",
   "execution_count": 33,
   "outputs": [
    {
     "data": {
      "text/plain": "                                               input  \\\n0  By which year did Dodge ugh dammit Chrysler en...   \n1  What did France offer that was rare by imperia...   \n2  What did Iraq wait no actually Saudi Arabia tr...   \n3  In which county does Duval I mean Jacksonville...   \n4  What allows the adaptive immune system to reta...   \n\n                            target                            label  \\\n0                             1981                             1981   \n1  Christianity and French culture  Christianity and French culture   \n2               domestic Islamists               domestic Islamists   \n3                            Duval                            Duval   \n4             immunological memory             immunological memory   \n\n                                               preds     em        f1  acc  \\\n0  Dodge Chrysler ended production of their full-...  False  0.125000    0   \n1  France offered education as part of their civi...  False  0.050000    0   \n2  Saudi Arabia tried to repress Shiites to compe...  False  0.000000    0   \n3                                      Duval County.  False  0.666667    1   \n4  Memory allows the adaptive immune system to re...  False  0.095238    0   \n\n   wall_time  total_tokens  steps  tool_cost  token_cost  total_cost  \n0  16.729712        3711.0    5.0        0.0    0.007962    0.007962  \n1  38.310331       15930.0    8.0        0.0    0.032976    0.032976  \n2  18.123836        5866.0    5.0        0.0    0.012416    0.012416  \n3   3.916350        1080.0    2.0        0.0    0.002592    0.002592  \n4  13.834762        2855.0    4.0        0.0    0.006430    0.006430  ",
      "text/html": "<div>\n<style scoped>\n    .dataframe tbody tr th:only-of-type {\n        vertical-align: middle;\n    }\n\n    .dataframe tbody tr th {\n        vertical-align: top;\n    }\n\n    .dataframe thead th {\n        text-align: right;\n    }\n</style>\n<table border=\"1\" class=\"dataframe\">\n  <thead>\n    <tr style=\"text-align: right;\">\n      <th></th>\n      <th>input</th>\n      <th>target</th>\n      <th>label</th>\n      <th>preds</th>\n      <th>em</th>\n      <th>f1</th>\n      <th>acc</th>\n      <th>wall_time</th>\n      <th>total_tokens</th>\n      <th>steps</th>\n      <th>tool_cost</th>\n      <th>token_cost</th>\n      <th>total_cost</th>\n    </tr>\n  </thead>\n  <tbody>\n    <tr>\n      <th>0</th>\n      <td>By which year did Dodge ugh dammit Chrysler en...</td>\n      <td>1981</td>\n      <td>1981</td>\n      <td>Dodge Chrysler ended production of their full-...</td>\n      <td>False</td>\n      <td>0.125000</td>\n      <td>0</td>\n      <td>16.729712</td>\n      <td>3711.0</td>\n      <td>5.0</td>\n      <td>0.0</td>\n      <td>0.007962</td>\n      <td>0.007962</td>\n    </tr>\n    <tr>\n      <th>1</th>\n      <td>What did France offer that was rare by imperia...</td>\n      <td>Christianity and French culture</td>\n      <td>Christianity and French culture</td>\n      <td>France offered education as part of their civi...</td>\n      <td>False</td>\n      <td>0.050000</td>\n      <td>0</td>\n      <td>38.310331</td>\n      <td>15930.0</td>\n      <td>8.0</td>\n      <td>0.0</td>\n      <td>0.032976</td>\n      <td>0.032976</td>\n    </tr>\n    <tr>\n      <th>2</th>\n      <td>What did Iraq wait no actually Saudi Arabia tr...</td>\n      <td>domestic Islamists</td>\n      <td>domestic Islamists</td>\n      <td>Saudi Arabia tried to repress Shiites to compe...</td>\n      <td>False</td>\n      <td>0.000000</td>\n      <td>0</td>\n      <td>18.123836</td>\n      <td>5866.0</td>\n      <td>5.0</td>\n      <td>0.0</td>\n      <td>0.012416</td>\n      <td>0.012416</td>\n    </tr>\n    <tr>\n      <th>3</th>\n      <td>In which county does Duval I mean Jacksonville...</td>\n      <td>Duval</td>\n      <td>Duval</td>\n      <td>Duval County.</td>\n      <td>False</td>\n      <td>0.666667</td>\n      <td>1</td>\n      <td>3.916350</td>\n      <td>1080.0</td>\n      <td>2.0</td>\n      <td>0.0</td>\n      <td>0.002592</td>\n      <td>0.002592</td>\n    </tr>\n    <tr>\n      <th>4</th>\n      <td>What allows the adaptive immune system to reta...</td>\n      <td>immunological memory</td>\n      <td>immunological memory</td>\n      <td>Memory allows the adaptive immune system to re...</td>\n      <td>False</td>\n      <td>0.095238</td>\n      <td>0</td>\n      <td>13.834762</td>\n      <td>2855.0</td>\n      <td>4.0</td>\n      <td>0.0</td>\n      <td>0.006430</td>\n      <td>0.006430</td>\n    </tr>\n  </tbody>\n</table>\n</div>"
     },
     "execution_count": 33,
     "metadata": {},
     "output_type": "execute_result"
    }
   ],
   "source": [
    "df.head()"
   ],
   "metadata": {
    "collapsed": false,
    "ExecuteTime": {
     "start_time": "2023-04-30T15:22:41.912795Z",
     "end_time": "2023-04-30T15:22:41.964283Z"
    }
   }
  },
  {
   "cell_type": "code",
   "execution_count": 30,
   "outputs": [],
   "source": [
    "# save dict to json\n",
    "import json\n",
    "with open(\"results/gsm8k_react_chat.json\", \"w\") as f:\n",
    "    json.dump(data, f)"
   ],
   "metadata": {
    "collapsed": false,
    "ExecuteTime": {
     "start_time": "2023-04-30T00:05:31.322422Z",
     "end_time": "2023-04-30T00:05:31.330302Z"
    }
   }
  },
  {
   "cell_type": "code",
   "execution_count": null,
   "outputs": [],
   "source": [],
   "metadata": {
    "collapsed": false
   }
  },
  {
   "cell_type": "markdown",
   "source": [
    " ## PWSBase"
   ],
   "metadata": {
    "collapsed": false
   }
  },
  {
   "cell_type": "code",
   "execution_count": 8,
   "outputs": [
    {
     "name": "stderr",
     "output_type": "stream",
     "text": [
      "Found cached dataset gsm8k (/home/billxbf/workspace/PWS/data/gsm8k/gsm8k/main/1.1.0/37bfb08b1d4fcbb01f06b03d9e1ef5f1fcbd4d3af3d08842c50d7305091285ba)\n"
     ]
    },
    {
     "data": {
      "text/plain": "  0%|          | 0/2 [00:00<?, ?it/s]",
      "application/vnd.jupyter.widget-view+json": {
       "version_major": 2,
       "version_minor": 0,
       "model_id": "f16ea6c526794b7ab59c78b190b03a67"
      }
     },
     "metadata": {},
     "output_type": "display_data"
    }
   ],
   "source": [
    "dataset = DataLoader(EVAL_DATASET, seed=SEED).load(10)\n",
    "pwsbase = PWS_Base(fewshot=fewshots.GSM8K_PWS, available_tools=[\"WolframAlpha\", \"Calculator\", \"LLM\"], planner_model=EVAL_LLM, solver_model=EVAL_LLM)\n",
    "pwsbase.planner.suffix = planner.RESOURCE_RELUCTANT_SUFFIX\n",
    "eval = Evaluator(task=EVAL_DATASET, dataset=dataset, algo=pwsbase)"
   ],
   "metadata": {
    "collapsed": false,
    "ExecuteTime": {
     "start_time": "2023-04-29T19:42:51.954901Z",
     "end_time": "2023-04-29T19:42:52.582434Z"
    }
   }
  },
  {
   "cell_type": "code",
   "execution_count": null,
   "outputs": [],
   "source": [],
   "metadata": {
    "collapsed": false
   }
  },
  {
   "cell_type": "code",
   "execution_count": 16,
   "outputs": [
    {
     "name": "stdout",
     "output_type": "stream",
     "text": [
      "\n",
      "******************* Start Evaluation *******************\n",
      "\n"
     ]
    },
    {
     "name": "stderr",
     "output_type": "stream",
     "text": [
      "100%|██████████| 10/10 [01:44<00:00, 10.45s/it]\n"
     ]
    },
    {
     "data": {
      "text/plain": "{'avg_em': 0.1,\n 'avg_f1': 0.24380952380952384,\n 'avg_acc': 0.5,\n 'avg_wall_time': 7.375077843666077,\n 'avg_total_tokens': 1019.1,\n 'avg_total_cost': 0.005775000000000001,\n 'avg_steps': 2.8,\n 'avg_token_cost': 0.005775000000000001,\n 'avg_tool_cost': 0.0}"
     },
     "execution_count": 16,
     "metadata": {},
     "output_type": "execute_result"
    }
   ],
   "source": [
    "response, data = eval.run()\n",
    "df = save_data(dataset, data, \"results/gsm8k_pwsbase_chat.csv\")\n",
    "response"
   ],
   "metadata": {
    "collapsed": false,
    "ExecuteTime": {
     "start_time": "2023-04-29T19:36:42.334979Z",
     "end_time": "2023-04-29T19:38:26.907519Z"
    }
   }
  },
  {
   "cell_type": "code",
   "execution_count": 17,
   "outputs": [
    {
     "data": {
      "text/plain": "                                            question  \\\n0  Gary manages two Amazon distribution centers. ...   \n1  The square footage of the two bedrooms in the ...   \n2  Thomas, Toby, and Rebecca worked a total of 15...   \n3  Two-thirds of the class have brown eyes. Half ...   \n4  Jackie spends 8 hours working, 3 hours of exer...   \n5  If Layla scored 104 goals in four hockey games...   \n6  Bugs are thriving in a garden of 30 plants. Th...   \n7  A family is going to the amusement park. The a...   \n8  A retailer sells any shirt for the same price ...   \n9  Half of Taylor's house guests like weak coffee...   \n\n                                              answer  label  \\\n0  First find how many packages the second center...  14000   \n1  Let M be the number of square feet in Matha's ...    120   \n2  Toby: 2x-10\\nRebecca: (2x-10)-8=2x-18\\nTotal:2...     56   \n3  There are 6 * 2 = <<6*2=12>>12 students with b...     18   \n4  Jackie spends a total of 8 + 8 + 3 = <<8+8+3=1...      5   \n5  If Layla scored 104 goals in four hockey games...     92   \n6  The bugs ate enough plants for there to be 30-...      4   \n7  To solve this problem you can set up an equati...     58   \n8  If I paid $120 and I was refunded 25% for all ...     45   \n9  He uses 1 tablespoon for weak coffee and doubl...     36   \n\n                                               preds     em        f1  acc  \\\n0                                            14000.0  False  0.000000    0   \n1               Martha's bedroom is 120 square feet.  False  0.285714    1   \n2                                           9 hours.  False  0.000000    0   \n3                    There are 18 students in total.  False  0.285714    1   \n4                                           5 hours.  False  0.666667    1   \n5                                              212.0  False  0.000000    0   \n6                                  10 plants remain.  False  0.000000    0   \n7                                                $58   True  1.000000    1   \n8         The price of 1 shirt at this place is $45.  False  0.200000    1   \n9  [60.0, 120.0] (total number of tablespoons of ...  False  0.000000    0   \n\n   wall_time  total_tokens  steps  tool_cost  token_cost  total_cost  \n0   5.534352           884      2        0.0    0.004018    0.004018  \n1   5.540370           803      3        0.0    0.001768    0.001768  \n2   6.390907           842      3        0.0    0.001882    0.001882  \n3   7.168095          1030      3        0.0    0.006488    0.006488  \n4   7.389826           954      3        0.0    0.006084    0.006084  \n5   6.634716           992      3        0.0    0.006250    0.006250  \n6   7.885642          1194      2        0.0    0.009264    0.009264  \n7   8.923775          1124      2        0.0    0.008512    0.008512  \n8   6.289263          1069      3        0.0    0.004316    0.004316  \n9  11.993834          1299      4        0.0    0.009168    0.009168  ",
      "text/html": "<div>\n<style scoped>\n    .dataframe tbody tr th:only-of-type {\n        vertical-align: middle;\n    }\n\n    .dataframe tbody tr th {\n        vertical-align: top;\n    }\n\n    .dataframe thead th {\n        text-align: right;\n    }\n</style>\n<table border=\"1\" class=\"dataframe\">\n  <thead>\n    <tr style=\"text-align: right;\">\n      <th></th>\n      <th>question</th>\n      <th>answer</th>\n      <th>label</th>\n      <th>preds</th>\n      <th>em</th>\n      <th>f1</th>\n      <th>acc</th>\n      <th>wall_time</th>\n      <th>total_tokens</th>\n      <th>steps</th>\n      <th>tool_cost</th>\n      <th>token_cost</th>\n      <th>total_cost</th>\n    </tr>\n  </thead>\n  <tbody>\n    <tr>\n      <th>0</th>\n      <td>Gary manages two Amazon distribution centers. ...</td>\n      <td>First find how many packages the second center...</td>\n      <td>14000</td>\n      <td>14000.0</td>\n      <td>False</td>\n      <td>0.000000</td>\n      <td>0</td>\n      <td>5.534352</td>\n      <td>884</td>\n      <td>2</td>\n      <td>0.0</td>\n      <td>0.004018</td>\n      <td>0.004018</td>\n    </tr>\n    <tr>\n      <th>1</th>\n      <td>The square footage of the two bedrooms in the ...</td>\n      <td>Let M be the number of square feet in Matha's ...</td>\n      <td>120</td>\n      <td>Martha's bedroom is 120 square feet.</td>\n      <td>False</td>\n      <td>0.285714</td>\n      <td>1</td>\n      <td>5.540370</td>\n      <td>803</td>\n      <td>3</td>\n      <td>0.0</td>\n      <td>0.001768</td>\n      <td>0.001768</td>\n    </tr>\n    <tr>\n      <th>2</th>\n      <td>Thomas, Toby, and Rebecca worked a total of 15...</td>\n      <td>Toby: 2x-10\\nRebecca: (2x-10)-8=2x-18\\nTotal:2...</td>\n      <td>56</td>\n      <td>9 hours.</td>\n      <td>False</td>\n      <td>0.000000</td>\n      <td>0</td>\n      <td>6.390907</td>\n      <td>842</td>\n      <td>3</td>\n      <td>0.0</td>\n      <td>0.001882</td>\n      <td>0.001882</td>\n    </tr>\n    <tr>\n      <th>3</th>\n      <td>Two-thirds of the class have brown eyes. Half ...</td>\n      <td>There are 6 * 2 = &lt;&lt;6*2=12&gt;&gt;12 students with b...</td>\n      <td>18</td>\n      <td>There are 18 students in total.</td>\n      <td>False</td>\n      <td>0.285714</td>\n      <td>1</td>\n      <td>7.168095</td>\n      <td>1030</td>\n      <td>3</td>\n      <td>0.0</td>\n      <td>0.006488</td>\n      <td>0.006488</td>\n    </tr>\n    <tr>\n      <th>4</th>\n      <td>Jackie spends 8 hours working, 3 hours of exer...</td>\n      <td>Jackie spends a total of 8 + 8 + 3 = &lt;&lt;8+8+3=1...</td>\n      <td>5</td>\n      <td>5 hours.</td>\n      <td>False</td>\n      <td>0.666667</td>\n      <td>1</td>\n      <td>7.389826</td>\n      <td>954</td>\n      <td>3</td>\n      <td>0.0</td>\n      <td>0.006084</td>\n      <td>0.006084</td>\n    </tr>\n    <tr>\n      <th>5</th>\n      <td>If Layla scored 104 goals in four hockey games...</td>\n      <td>If Layla scored 104 goals in four hockey games...</td>\n      <td>92</td>\n      <td>212.0</td>\n      <td>False</td>\n      <td>0.000000</td>\n      <td>0</td>\n      <td>6.634716</td>\n      <td>992</td>\n      <td>3</td>\n      <td>0.0</td>\n      <td>0.006250</td>\n      <td>0.006250</td>\n    </tr>\n    <tr>\n      <th>6</th>\n      <td>Bugs are thriving in a garden of 30 plants. Th...</td>\n      <td>The bugs ate enough plants for there to be 30-...</td>\n      <td>4</td>\n      <td>10 plants remain.</td>\n      <td>False</td>\n      <td>0.000000</td>\n      <td>0</td>\n      <td>7.885642</td>\n      <td>1194</td>\n      <td>2</td>\n      <td>0.0</td>\n      <td>0.009264</td>\n      <td>0.009264</td>\n    </tr>\n    <tr>\n      <th>7</th>\n      <td>A family is going to the amusement park. The a...</td>\n      <td>To solve this problem you can set up an equati...</td>\n      <td>58</td>\n      <td>$58</td>\n      <td>True</td>\n      <td>1.000000</td>\n      <td>1</td>\n      <td>8.923775</td>\n      <td>1124</td>\n      <td>2</td>\n      <td>0.0</td>\n      <td>0.008512</td>\n      <td>0.008512</td>\n    </tr>\n    <tr>\n      <th>8</th>\n      <td>A retailer sells any shirt for the same price ...</td>\n      <td>If I paid $120 and I was refunded 25% for all ...</td>\n      <td>45</td>\n      <td>The price of 1 shirt at this place is $45.</td>\n      <td>False</td>\n      <td>0.200000</td>\n      <td>1</td>\n      <td>6.289263</td>\n      <td>1069</td>\n      <td>3</td>\n      <td>0.0</td>\n      <td>0.004316</td>\n      <td>0.004316</td>\n    </tr>\n    <tr>\n      <th>9</th>\n      <td>Half of Taylor's house guests like weak coffee...</td>\n      <td>He uses 1 tablespoon for weak coffee and doubl...</td>\n      <td>36</td>\n      <td>[60.0, 120.0] (total number of tablespoons of ...</td>\n      <td>False</td>\n      <td>0.000000</td>\n      <td>0</td>\n      <td>11.993834</td>\n      <td>1299</td>\n      <td>4</td>\n      <td>0.0</td>\n      <td>0.009168</td>\n      <td>0.009168</td>\n    </tr>\n  </tbody>\n</table>\n</div>"
     },
     "execution_count": 17,
     "metadata": {},
     "output_type": "execute_result"
    }
   ],
   "source": [
    "df.head(10)"
   ],
   "metadata": {
    "collapsed": false,
    "ExecuteTime": {
     "start_time": "2023-04-29T19:39:40.471599Z",
     "end_time": "2023-04-29T19:39:40.516137Z"
    }
   }
  },
  {
   "cell_type": "code",
   "execution_count": 5,
   "outputs": [
    {
     "ename": "NameError",
     "evalue": "name 'dataset' is not defined",
     "output_type": "error",
     "traceback": [
      "\u001B[0;31m---------------------------------------------------------------------------\u001B[0m",
      "\u001B[0;31mNameError\u001B[0m                                 Traceback (most recent call last)",
      "\u001B[0;32m/tmp/ipykernel_769373/637805885.py\u001B[0m in \u001B[0;36m<module>\u001B[0;34m\u001B[0m\n\u001B[0;32m----> 1\u001B[0;31m \u001B[0mdataset\u001B[0m\u001B[0;34m[\u001B[0m\u001B[0;34m\"question\"\u001B[0m\u001B[0;34m]\u001B[0m\u001B[0;34m[\u001B[0m\u001B[0;36m6\u001B[0m\u001B[0;34m]\u001B[0m\u001B[0;34m\u001B[0m\u001B[0;34m\u001B[0m\u001B[0m\n\u001B[0m",
      "\u001B[0;31mNameError\u001B[0m: name 'dataset' is not defined"
     ]
    }
   ],
   "source": [
    "dataset[\"question\"][6]"
   ],
   "metadata": {
    "collapsed": false,
    "ExecuteTime": {
     "start_time": "2023-04-29T19:40:11.110998Z",
     "end_time": "2023-04-29T19:40:11.120919Z"
    }
   }
  },
  {
   "cell_type": "code",
   "execution_count": 9,
   "outputs": [],
   "source": [
    "response = pwsbase.run(dataset[\"question\"][6])"
   ],
   "metadata": {
    "collapsed": false,
    "ExecuteTime": {
     "start_time": "2023-04-29T19:42:55.531670Z",
     "end_time": "2023-04-29T19:43:00.666416Z"
    }
   }
  },
  {
   "cell_type": "code",
   "execution_count": 10,
   "outputs": [
    {
     "name": "stdout",
     "output_type": "stream",
     "text": [
      "For the following tasks, make plans that can solve the problem step-by-step. For each plan, indicate which external tool together with tool input to retrieve evidence. You can store the evidence into a variable #E (#E1, #E2, ...) that can be called by later tools.\n",
      "\n",
      "Tools can be one of the following:\n",
      "WolframAlpha[input]: A WolframAlpha search engine. Useful when you need to solve a complicated Mathematical or Algebraic equation. Input should be an equation or function.\n",
      "Calculator[input]: A calculator that can compute arithmetic expressions. Useful when you need to perform math calculations. Input should be a mathematical expression\n",
      "LLM[input]: A pretrained LLM like yourself. Useful when you need to act with general world knowledge and common sense. Prioritize it when you are confident in solving the problem yourself. Input can be any instruction.\n",
      "\n",
      "For Example:\n",
      "Thomas, Toby, and Rebecca worked a total of 157 hours in one week.  Thomas worked x hours.  Toby worked 10 hours less than twice what Thomas worked, and Rebecca worked 8 hours less than Toby.  How many hours did Rebecca work?\n",
      "Plan: Given Thomas worked x hours, translate the problem into algebraic expressions and solve with Wolfram Alpha.\n",
      "#E1 = WolframAlpha[Solve x + (2x - 10) + ((2x - 10) - 8) = 157]\n",
      "Plan: Find out the number of hours Rebecca worked.\n",
      "#E3 = LLM[What is (2x - 10) - 8, given #E2]\n",
      "\n",
      "Gary manages two Amazon distribution centers. The first center processes 10000 packages per day, and the second center processes three times that volume. If Amazon makes 5 cents of profit per package, how much profit per week do the two centers make combined?\n",
      "Plan: Calculate the total number of packages processed per week by both centers.\n",
      "#E1 = Calculator[(10000 * 7) + (3 * 10000 * 7)]\n",
      "Plan: Calculate the total profit per week made by both centers.\n",
      "#E2 = Calculator[#E1 * 0.05]\n",
      "\n",
      "Begin! Make as few plans as possible if it can solve the problem. Give one Plan and one #E in an interleaved way.\n",
      "\n",
      "Bugs are thriving in a garden of 30 plants. The bugs are very hungry today and completely ate 20 plants. The next day, they were still full and only ate half of the remaining plants. After that, they ate only 1 of the plants that were left. How many plants remain?\n",
      "Plan: Calculate the number of plants left after each day and subtract the number of plants eaten.\n",
      "#E1 = Calculator[30 - 20] #E2 = Calculator[#E1 / 2] #E3 = Calculator[#E2 - 1] #E4 = Calculator[#E3]\n"
     ]
    }
   ],
   "source": [
    "print(response[\"planner_log\"])"
   ],
   "metadata": {
    "collapsed": false,
    "ExecuteTime": {
     "start_time": "2023-04-29T19:43:00.662934Z",
     "end_time": "2023-04-29T19:43:00.666549Z"
    }
   }
  },
  {
   "cell_type": "code",
   "execution_count": 12,
   "outputs": [
    {
     "name": "stdout",
     "output_type": "stream",
     "text": [
      "Solve the following task or problem. To assist you, we provide some plans and corresponding evidences that might be helpful. Notice that some of these information contain noise so you should trust them with caution.\n",
      "\n",
      "Bugs are thriving in a garden of 30 plants. The bugs are very hungry today and completely ate 20 plants. The next day, they were still full and only ate half of the remaining plants. After that, they ate only 1 of the plants that were left. How many plants remain?\n",
      "Plan: Calculate the number of plants left after each day and subtract the number of plants eaten.\n",
      "Evidence:\n",
      "19\n",
      "\n",
      "Now begin to solve the task or problem. Respond with the answer directly with no extra words.\n",
      "\n",
      "Bugs are thriving in a garden of 30 plants. The bugs are very hungry today and completely ate 20 plants. The next day, they were still full and only ate half of the remaining plants. After that, they ate only 1 of the plants that were left. How many plants remain?\n",
      "8 plants remain.\n"
     ]
    }
   ],
   "source": [
    "print(response[\"solver_log\"])"
   ],
   "metadata": {
    "collapsed": false,
    "ExecuteTime": {
     "start_time": "2023-04-29T19:43:56.543484Z",
     "end_time": "2023-04-29T19:43:56.546670Z"
    }
   }
  },
  {
   "cell_type": "code",
   "execution_count": null,
   "outputs": [],
   "source": [],
   "metadata": {
    "collapsed": false
   }
  }
 ],
 "metadata": {
  "kernelspec": {
   "display_name": "Python 3",
   "language": "python",
   "name": "python3"
  },
  "language_info": {
   "codemirror_mode": {
    "name": "ipython",
    "version": 2
   },
   "file_extension": ".py",
   "mimetype": "text/x-python",
   "name": "python",
   "nbconvert_exporter": "python",
   "pygments_lexer": "ipython2",
   "version": "2.7.6"
  }
 },
 "nbformat": 4,
 "nbformat_minor": 0
}
